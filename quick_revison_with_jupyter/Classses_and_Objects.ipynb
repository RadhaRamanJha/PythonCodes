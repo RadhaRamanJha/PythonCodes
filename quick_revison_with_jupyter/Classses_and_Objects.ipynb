{
 "cells": [
  {
   "cell_type": "code",
   "execution_count": null,
   "id": "1f3d722f",
   "metadata": {},
   "outputs": [],
   "source": [
    "class Person:\n",
    "    # Define the constructor\n",
    "    def __init__(self,name,gender,age):\n",
    "        self.name = name\n",
    "        self.age = age\n",
    "        self.gender = gender\n",
    "        \n",
    "    # Define the methods\n",
    "    def say_hello(self):\n",
    "        print(f\"{self.name} says hello\")\n",
    "        \n",
    "    def say_bye(self):\n",
    "        print(f\"{self.name} says goodbye\")"
   ]
  },
  {
   "cell_type": "markdown",
   "id": "c720a793",
   "metadata": {},
   "source": [
    "## Internally calls the __init__() of the class"
   ]
  },
  {
   "cell_type": "code",
   "execution_count": 2,
   "id": "35bb7f73",
   "metadata": {},
   "outputs": [],
   "source": [
    "p1= Person('Tom','M',34)"
   ]
  },
  {
   "cell_type": "code",
   "execution_count": 3,
   "id": "1516f7ec",
   "metadata": {},
   "outputs": [
    {
     "data": {
      "text/plain": [
       "__main__.Person"
      ]
     },
     "execution_count": 3,
     "metadata": {},
     "output_type": "execute_result"
    }
   ],
   "source": [
    "type(p1)"
   ]
  },
  {
   "cell_type": "code",
   "execution_count": 4,
   "id": "d1c6676b",
   "metadata": {},
   "outputs": [],
   "source": [
    "p2= Person('Mary','F',24)"
   ]
  },
  {
   "cell_type": "code",
   "execution_count": 5,
   "id": "2a5bfa01",
   "metadata": {},
   "outputs": [
    {
     "data": {
      "text/plain": [
       "__main__.Person"
      ]
     },
     "execution_count": 5,
     "metadata": {},
     "output_type": "execute_result"
    }
   ],
   "source": [
    "type(p2)"
   ]
  },
  {
   "cell_type": "code",
   "execution_count": 6,
   "id": "fde358b5",
   "metadata": {},
   "outputs": [
    {
     "name": "stdout",
     "output_type": "stream",
     "text": [
      "Tom says hello\n"
     ]
    }
   ],
   "source": [
    "p1.say_hello()"
   ]
  },
  {
   "cell_type": "code",
   "execution_count": 7,
   "id": "c0f2fc2b",
   "metadata": {},
   "outputs": [
    {
     "name": "stdout",
     "output_type": "stream",
     "text": [
      "Mary says hello\n"
     ]
    }
   ],
   "source": [
    "p2.say_hello()"
   ]
  },
  {
   "cell_type": "code",
   "execution_count": 8,
   "id": "ebf0b230",
   "metadata": {},
   "outputs": [
    {
     "name": "stdout",
     "output_type": "stream",
     "text": [
      "Mary says goodbye\n"
     ]
    }
   ],
   "source": [
    "p2.say_bye()"
   ]
  },
  {
   "cell_type": "code",
   "execution_count": 9,
   "id": "72c49b11",
   "metadata": {},
   "outputs": [
    {
     "name": "stdout",
     "output_type": "stream",
     "text": [
      "Tom says goodbye\n"
     ]
    }
   ],
   "source": [
    "p1.say_bye()"
   ]
  },
  {
   "cell_type": "code",
   "execution_count": 10,
   "id": "fcc7a109",
   "metadata": {},
   "outputs": [
    {
     "data": {
      "text/plain": [
       "('Tom', 34, 'M')"
      ]
     },
     "execution_count": 10,
     "metadata": {},
     "output_type": "execute_result"
    }
   ],
   "source": [
    "p1.name,p1.age,p1.gender"
   ]
  },
  {
   "cell_type": "code",
   "execution_count": 11,
   "id": "e86f6080",
   "metadata": {},
   "outputs": [
    {
     "data": {
      "text/plain": [
       "('Mary', 24, 'F')"
      ]
     },
     "execution_count": 11,
     "metadata": {},
     "output_type": "execute_result"
    }
   ],
   "source": [
    "p2.name,p2.age,p2.gender"
   ]
  },
  {
   "cell_type": "code",
   "execution_count": 12,
   "id": "f8b18c4a",
   "metadata": {},
   "outputs": [],
   "source": [
    "class Employee:\n",
    "    \n",
    "    # Define constructor\n",
    "    def __init__(self,eid,ename,job = \"Sales\"):\n",
    "        self.eid = eid\n",
    "        self.ename = ename\n",
    "        self.job = job\n",
    "        \n",
    "    # Define methods\n",
    "    def manage(self):\n",
    "        print(f\"{self.ename} is managing a project !\")\n",
    "    \n",
    "    def present(self):\n",
    "        print(f\"{self.ename} is making a presentation\")"
   ]
  },
  {
   "cell_type": "code",
   "execution_count": 13,
   "id": "1cb209f7",
   "metadata": {},
   "outputs": [],
   "source": [
    "e1 = Employee(100,'Harry','Manager')"
   ]
  },
  {
   "cell_type": "code",
   "execution_count": 14,
   "id": "ae351015",
   "metadata": {},
   "outputs": [
    {
     "name": "stdout",
     "output_type": "stream",
     "text": [
      "Harry is making a presentation\n"
     ]
    }
   ],
   "source": [
    "e1.present()"
   ]
  },
  {
   "cell_type": "code",
   "execution_count": 15,
   "id": "910cfc8d",
   "metadata": {},
   "outputs": [],
   "source": [
    "e2 = Employee(200,'Potter')"
   ]
  },
  {
   "cell_type": "code",
   "execution_count": 16,
   "id": "b630d9a7",
   "metadata": {},
   "outputs": [
    {
     "name": "stdout",
     "output_type": "stream",
     "text": [
      "Potter is managing a project !\n"
     ]
    }
   ],
   "source": [
    "e2.manage()"
   ]
  },
  {
   "cell_type": "code",
   "execution_count": 17,
   "id": "370a079f",
   "metadata": {},
   "outputs": [
    {
     "name": "stdout",
     "output_type": "stream",
     "text": [
      "Sales\n"
     ]
    }
   ],
   "source": [
    "print(e2.job)"
   ]
  },
  {
   "cell_type": "markdown",
   "id": "f1b00445",
   "metadata": {},
   "source": [
    "### Inheritance - creating derrived classes from class already created"
   ]
  },
  {
   "cell_type": "code",
   "execution_count": 18,
   "id": "1bb82b2b",
   "metadata": {},
   "outputs": [],
   "source": [
    "class Astronaut(Person):\n",
    "    # Constructor for derrived class\n",
    "    def __init__(self,name,gender,age,type):\n",
    "        ## Call the base class Constructor\n",
    "        super().__init__(name,gender,age)\n",
    "        self.type = type\n",
    "    ## Methods\n",
    "    def launch_satellite(self):\n",
    "        print(f\"{self.name} is launching a Satellite\")"
   ]
  },
  {
   "cell_type": "code",
   "execution_count": 27,
   "id": "6d55e08b",
   "metadata": {},
   "outputs": [],
   "source": [
    "class Dancer(Person):\n",
    "    # Constructor for derrived class\n",
    "    def __init__(self,name,gender,age,genre):\n",
    "        ## Call the base class Constructor\n",
    "        super().__init__(name,gender,age)\n",
    "        self.genre = genre\n",
    "    ## Methods\n",
    "    def dance(self):\n",
    "        print(f\"{self.name} is performing {self.genre}\")"
   ]
  },
  {
   "cell_type": "code",
   "execution_count": 20,
   "id": "fedf3ea7",
   "metadata": {},
   "outputs": [],
   "source": [
    "a1 = Astronaut('George','M',46,'Pilot')"
   ]
  },
  {
   "cell_type": "code",
   "execution_count": 21,
   "id": "bf50364b",
   "metadata": {},
   "outputs": [
    {
     "data": {
      "text/plain": [
       "('George', 46, 'M')"
      ]
     },
     "execution_count": 21,
     "metadata": {},
     "output_type": "execute_result"
    }
   ],
   "source": [
    "a1.name,a1.age,a1.gender"
   ]
  },
  {
   "cell_type": "code",
   "execution_count": 22,
   "id": "74578bb1",
   "metadata": {},
   "outputs": [
    {
     "name": "stdout",
     "output_type": "stream",
     "text": [
      "George is launching a Satellite\n"
     ]
    }
   ],
   "source": [
    "a1.launch_satellite()"
   ]
  },
  {
   "cell_type": "code",
   "execution_count": 23,
   "id": "b44ef445",
   "metadata": {},
   "outputs": [],
   "source": [
    "d1 = Dancer('Madhuri','F',35,'Classical')"
   ]
  },
  {
   "cell_type": "code",
   "execution_count": 24,
   "id": "08215041",
   "metadata": {},
   "outputs": [],
   "source": [
    "d2 = Dancer('Teena','F',24,'Bollywood')"
   ]
  },
  {
   "cell_type": "code",
   "execution_count": 25,
   "id": "02e09600",
   "metadata": {},
   "outputs": [
    {
     "name": "stdout",
     "output_type": "stream",
     "text": [
      "Madhuri is performing Classical\n"
     ]
    }
   ],
   "source": [
    "d1.dance()"
   ]
  },
  {
   "cell_type": "code",
   "execution_count": 26,
   "id": "d10726e5",
   "metadata": {},
   "outputs": [
    {
     "name": "stdout",
     "output_type": "stream",
     "text": [
      "Teena is performing Bollywood\n"
     ]
    }
   ],
   "source": [
    "d2.dance()"
   ]
  },
  {
   "cell_type": "markdown",
   "id": "2fd25d46",
   "metadata": {},
   "source": [
    "## Polymorphism -- Same method will take different forms "
   ]
  },
  {
   "cell_type": "code",
   "execution_count": 29,
   "id": "c35b501c",
   "metadata": {},
   "outputs": [],
   "source": [
    "class Person:\n",
    "    # Define the constructor\n",
    "    def __init__(self,name,gender,age):\n",
    "        self.name = name\n",
    "        self.age = age\n",
    "        self.gender = gender\n",
    "        \n",
    "    # Define the methods\n",
    "    def say_hello(self):\n",
    "        print(f\"{self.name} says hello\")\n",
    "        \n",
    "    def say_bye(self):\n",
    "        print(f\"{self.name} says goodbye\")"
   ]
  },
  {
   "cell_type": "code",
   "execution_count": 31,
   "id": "225f0401",
   "metadata": {},
   "outputs": [],
   "source": [
    "class Dancer(Person):\n",
    "    # Constructor for derrived class\n",
    "    def __init__(self,name,gender,age,genre):\n",
    "        ## Call the base class Constructor\n",
    "        super().__init__(name,gender,age)\n",
    "        self.genre = genre\n",
    "    ## Methods\n",
    "    # Define the methods\n",
    "    def say_hello(self):\n",
    "        print(f\"{self.genre} Dancer {self.name} says hello !\")\n",
    "        \n",
    "    def say_bye(self):\n",
    "        print(f\"{self.genre} Dancer {self.name} says goodbye !\")\n",
    "    def dance(self):\n",
    "        print(f\"{self.name} is performing {self.genre}\")"
   ]
  },
  {
   "cell_type": "code",
   "execution_count": 32,
   "id": "465d0dd3",
   "metadata": {},
   "outputs": [],
   "source": [
    "p1 = Person('Tom','M',22)\n",
    "d1 = Dancer('Teena','F',25,'Bollywood')"
   ]
  },
  {
   "cell_type": "code",
   "execution_count": 33,
   "id": "87567036",
   "metadata": {},
   "outputs": [
    {
     "name": "stdout",
     "output_type": "stream",
     "text": [
      "Tom says hello\n"
     ]
    }
   ],
   "source": [
    "p1.say_hello()"
   ]
  },
  {
   "cell_type": "code",
   "execution_count": 34,
   "id": "cb4b02b3",
   "metadata": {},
   "outputs": [
    {
     "name": "stdout",
     "output_type": "stream",
     "text": [
      "Bollywood Dancer Teena says hello !\n"
     ]
    }
   ],
   "source": [
    "d1.say_hello()"
   ]
  },
  {
   "cell_type": "markdown",
   "id": "9d029757",
   "metadata": {},
   "source": [
    "### Private and Public attributes"
   ]
  },
  {
   "cell_type": "markdown",
   "id": "7bb6c435",
   "metadata": {},
   "source": [
    "### By prefixing an attribute with '__' it can be made private it can be accessed only inside the class and cannot be accessed from outside the class -- and it is called encaptulation "
   ]
  },
  {
   "cell_type": "code",
   "execution_count": 35,
   "id": "7306aac3",
   "metadata": {},
   "outputs": [],
   "source": [
    "class Person:\n",
    "    # Define the constructor\n",
    "    def __init__(self,name,age):\n",
    "        self.name = name\n",
    "        self.__age = age\n",
    "        \n",
    "    # Define the methods\n",
    "    def is_eligible(self):\n",
    "        if self.__age >= 18:\n",
    "            return 'Eligible'\n",
    "        else:\n",
    "            return 'Underage'"
   ]
  },
  {
   "cell_type": "code",
   "execution_count": 36,
   "id": "cbf824e3",
   "metadata": {},
   "outputs": [],
   "source": [
    "p1 = Person('Jim',17)"
   ]
  },
  {
   "cell_type": "code",
   "execution_count": 37,
   "id": "3ceb168f",
   "metadata": {},
   "outputs": [
    {
     "data": {
      "text/plain": [
       "'Jim'"
      ]
     },
     "execution_count": 37,
     "metadata": {},
     "output_type": "execute_result"
    }
   ],
   "source": [
    "p1.name"
   ]
  },
  {
   "cell_type": "code",
   "execution_count": 39,
   "id": "ab249f74",
   "metadata": {},
   "outputs": [
    {
     "ename": "AttributeError",
     "evalue": "'Person' object has no attribute '__age'",
     "output_type": "error",
     "traceback": [
      "\u001b[1;31m---------------------------------------------------------------------------\u001b[0m",
      "\u001b[1;31mAttributeError\u001b[0m                            Traceback (most recent call last)",
      "Cell \u001b[1;32mIn[39], line 1\u001b[0m\n\u001b[1;32m----> 1\u001b[0m p1\u001b[38;5;241m.\u001b[39m__age\n",
      "\u001b[1;31mAttributeError\u001b[0m: 'Person' object has no attribute '__age'"
     ]
    }
   ],
   "source": [
    "p1.__age"
   ]
  },
  {
   "cell_type": "code",
   "execution_count": 40,
   "id": "a1fb7cf8",
   "metadata": {},
   "outputs": [
    {
     "data": {
      "text/plain": [
       "'Underage'"
      ]
     },
     "execution_count": 40,
     "metadata": {},
     "output_type": "execute_result"
    }
   ],
   "source": [
    "p1.is_eligible()"
   ]
  },
  {
   "cell_type": "markdown",
   "id": "57e3b188",
   "metadata": {},
   "source": [
    "## Class \n",
    "e.g. DataFrame and Series\n",
    "## Module :- \n",
    "A collection of Variables, functions and Classes e.g. frame\n",
    "## Package :- \n",
    "A collection of Modules e.g. core\n",
    "## Libraries :- \n",
    "A collection of Packages e.g. Pandas"
   ]
  },
  {
   "cell_type": "code",
   "execution_count": null,
   "id": "ee9ceaf2",
   "metadata": {},
   "outputs": [],
   "source": []
  }
 ],
 "metadata": {
  "kernelspec": {
   "display_name": "Python 3 (ipykernel)",
   "language": "python",
   "name": "python3"
  },
  "language_info": {
   "codemirror_mode": {
    "name": "ipython",
    "version": 3
   },
   "file_extension": ".py",
   "mimetype": "text/x-python",
   "name": "python",
   "nbconvert_exporter": "python",
   "pygments_lexer": "ipython3",
   "version": "3.11.3"
  }
 },
 "nbformat": 4,
 "nbformat_minor": 5
}
