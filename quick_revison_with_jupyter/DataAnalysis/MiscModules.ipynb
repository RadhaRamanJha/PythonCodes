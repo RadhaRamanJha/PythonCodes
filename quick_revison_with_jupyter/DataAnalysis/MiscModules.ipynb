{
 "cells": [
  {
   "cell_type": "markdown",
   "id": "d23fc2a9",
   "metadata": {},
   "source": [
    "### 1. Regular Expressions\n",
    "### <font color ='brown'> Notes </font>\n",
    "\n",
    "#### Format: match = re.search(pat, str) \n",
    "\n",
    "+ a, X, 9, < -- ordinary characters just match themselves exactly. \n",
    "+ The meta-characters which do not match themselves because they have special meanings are: . ^ $ * + ? { [ ] \\ | ( ) \n",
    "+ . (a period) -- matches any single character except newline '\\n'\n",
    "+ . (a period) -- matches any\n",
    "+ \\w -- (lowercase w) matches a \"word\" character: a letter or digit or underbar [a-zA-Z0-9_]. \n",
    "+ \\b -- boundary between word and non-word\n",
    "+ \\s -- (lowercase s) matches a single whitespace character -- space, newline, return, tab, form [ \\n\\r\\t\\f]. \n",
    "+ \\S (upper case S) matches any non-whitespace character.\n",
    "+ \\t, \\n, \\r -- tab, newline, return\n",
    "+ \\d -- decimal digit [0-9] \n",
    "\n",
    "+ ^ = start, $ = end -- match the start or end of the string\n",
    "+ \\ -- inhibit the \"specialness\" of a character. "
   ]
  },
  {
   "cell_type": "code",
   "execution_count": 1,
   "id": "708b8dc6",
   "metadata": {},
   "outputs": [],
   "source": [
    "import re"
   ]
  },
  {
   "cell_type": "code",
   "execution_count": 9,
   "id": "c3bd082c",
   "metadata": {},
   "outputs": [
    {
     "name": "stdout",
     "output_type": "stream",
     "text": [
      "ix\n"
     ]
    }
   ],
   "source": [
    "match = re.search('ix','six') \n",
    "# print(match) # returns :- <re.Match object; span=(1, 3), match='ix'>\n",
    "print(match.group())"
   ]
  },
  {
   "cell_type": "code",
   "execution_count": 12,
   "id": "df2cc044",
   "metadata": {},
   "outputs": [
    {
     "name": "stdout",
     "output_type": "stream",
     "text": [
      "No match\n"
     ]
    }
   ],
   "source": [
    "match = re.search('jx','six')\n",
    "if match :\n",
    "    print('Match Found: ', match.group())\n",
    "else :\n",
    "    print('No match')"
   ]
  },
  {
   "cell_type": "code",
   "execution_count": 13,
   "id": "b7757468",
   "metadata": {},
   "outputs": [
    {
     "name": "stdout",
     "output_type": "stream",
     "text": [
      "Match Found:  Pat\n"
     ]
    }
   ],
   "source": [
    "search_str = 'Patronizing'\n",
    "match = re.search('^Pat',search_str)\n",
    "if match :\n",
    "    print('Match Found: ', match.group())\n",
    "else :\n",
    "    print('No match')"
   ]
  },
  {
   "cell_type": "code",
   "execution_count": 15,
   "id": "aa5519f3",
   "metadata": {},
   "outputs": [
    {
     "name": "stdout",
     "output_type": "stream",
     "text": [
      "Match Found:  zing\n"
     ]
    }
   ],
   "source": [
    "# ends with\n",
    "match = re.search('zing$',search_str)\n",
    "if match :\n",
    "    print('Match Found: ', match.group())\n",
    "else :\n",
    "    print('No match')"
   ]
  },
  {
   "cell_type": "code",
   "execution_count": 19,
   "id": "9f14504a",
   "metadata": {},
   "outputs": [
    {
     "name": "stdout",
     "output_type": "stream",
     "text": [
      "No match\n"
     ]
    }
   ],
   "source": [
    "# starts with\n",
    "search_str = 'PPatronizing'\n",
    "match = re.search('^Pat',search_str)\n",
    "if match :\n",
    "    print('Match Found: ', match.group())\n",
    "else :\n",
    "    print('No match')"
   ]
  },
  {
   "cell_type": "code",
   "execution_count": 18,
   "id": "58894f43",
   "metadata": {},
   "outputs": [
    {
     "name": "stdout",
     "output_type": "stream",
     "text": [
      "Match Found:  aA1\n"
     ]
    }
   ],
   "source": [
    "# . :- Any Character but '\\n'\n",
    "match = re.search('...$','saA1')\n",
    "if match :\n",
    "    print('Match Found: ', match.group())\n",
    "else :\n",
    "    print('No match')"
   ]
  },
  {
   "cell_type": "markdown",
   "id": "efff5ddd",
   "metadata": {},
   "source": [
    "+ \\w - (lower case w) matches a word character: a letter(a-z / A-Z), a number(0-9) or _\n",
    "+ \\d - (lower case d) matches a decimal digit (0-9)"
   ]
  },
  {
   "cell_type": "code",
   "execution_count": 20,
   "id": "4f217af4",
   "metadata": {},
   "outputs": [
    {
     "name": "stdout",
     "output_type": "stream",
     "text": [
      "Match Found:  123\n"
     ]
    }
   ],
   "source": [
    "match = re.search('\\d\\d\\d$','aA123')\n",
    "if match :\n",
    "    print('Match Found: ', match.group())\n",
    "else :\n",
    "    print('No match')"
   ]
  },
  {
   "cell_type": "code",
   "execution_count": 24,
   "id": "286fb1a6",
   "metadata": {},
   "outputs": [
    {
     "name": "stdout",
     "output_type": "stream",
     "text": [
      "Match Found:  ***ddy@gmail.com\n"
     ]
    }
   ],
   "source": [
    "match = re.search('\\w\\w\\w@gmail.com$','rangareddy@gmail.com')\n",
    "if match :\n",
    "    print('Match Found: ', f\"{'***'+ match.group()}\")\n",
    "else :\n",
    "    print('No match')"
   ]
  },
  {
   "cell_type": "markdown",
   "id": "1b47244a",
   "metadata": {},
   "source": [
    "+ \\s :- Match space"
   ]
  },
  {
   "cell_type": "code",
   "execution_count": 25,
   "id": "1cccd034",
   "metadata": {},
   "outputs": [
    {
     "name": "stdout",
     "output_type": "stream",
     "text": [
      "Match Found:  *** 878 ***\n"
     ]
    }
   ],
   "source": [
    "match = re.search('\\s\\d\\d\\d\\s','FYD Ab9 878 nk')\n",
    "if match :\n",
    "    print('Match Found: ', f\"{'***'+ match.group()+'***'}\")\n",
    "else :\n",
    "    print('No match')"
   ]
  },
  {
   "cell_type": "markdown",
   "id": "7b085013",
   "metadata": {},
   "source": [
    "### Repetitions \n",
    "+ '+' :- 1 or more occurance of character to the left e.g. 'i+' :- one or more i's \n",
    "+ '*' :- 0 or more occurance of character to the left \n",
    "+ '?' :- 0 or 1 occurance of character to the left"
   ]
  },
  {
   "cell_type": "code",
   "execution_count": 26,
   "id": "3db566d1",
   "metadata": {},
   "outputs": [
    {
     "name": "stdout",
     "output_type": "stream",
     "text": [
      "Match Found:  hell\n"
     ]
    }
   ],
   "source": [
    "match = re.search('hel+','hellooooo')\n",
    "if match :\n",
    "    print('Match Found: ', f\"{match.group()}\")\n",
    "else :\n",
    "    print('No match')"
   ]
  },
  {
   "cell_type": "code",
   "execution_count": 27,
   "id": "24e1f0b5",
   "metadata": {},
   "outputs": [
    {
     "name": "stdout",
     "output_type": "stream",
     "text": [
      "Match Found:  hellooooo\n"
     ]
    }
   ],
   "source": [
    "match = re.search('hello+','hellooooo')\n",
    "if match :\n",
    "    print('Match Found: ', f\"{match.group()}\")\n",
    "else :\n",
    "    print('No match')"
   ]
  },
  {
   "cell_type": "code",
   "execution_count": 29,
   "id": "2b918276",
   "metadata": {},
   "outputs": [
    {
     "name": "stdout",
     "output_type": "stream",
     "text": [
      "Match Found:  12  3\n"
     ]
    }
   ],
   "source": [
    "# /s* :- zero or more whitespaces\n",
    "# look for 3 digits possibly seprated by spaces\n",
    "match = re.search('\\d\\s*\\d\\s*\\d','A12  3bc')\n",
    "if match :\n",
    "    print('Match Found: ', f\"{match.group()}\")\n",
    "else :\n",
    "    print('No match')"
   ]
  },
  {
   "cell_type": "markdown",
   "id": "34b18922",
   "metadata": {},
   "source": [
    "+ Matching emails"
   ]
  },
  {
   "cell_type": "code",
   "execution_count": 32,
   "id": "09637a83",
   "metadata": {},
   "outputs": [
    {
     "name": "stdout",
     "output_type": "stream",
     "text": [
      "Match Found:  tough-guy@twitter\n"
     ]
    }
   ],
   "source": [
    "in_str = \"Hello, my website tough-guy@twitter.com\"\n",
    "match = re.search('\\w+-\\w+@\\w+',in_str)\n",
    "if match :\n",
    "    print('Match Found: ', match.group())\n",
    "else :\n",
    "    print('No match')"
   ]
  },
  {
   "cell_type": "markdown",
   "id": "220ab15e",
   "metadata": {},
   "source": [
    "## More than one match will return only the first match"
   ]
  },
  {
   "cell_type": "code",
   "execution_count": 33,
   "id": "f2409144",
   "metadata": {},
   "outputs": [
    {
     "name": "stdout",
     "output_type": "stream",
     "text": [
      "Match Found:  tough-guy@twitter\n"
     ]
    }
   ],
   "source": [
    "in_str = \"Hello, my website tough-guy@twitter.com, you can also find me at ziddi-guy@gmail.com\"\n",
    "match = re.search('\\w+-\\w+@\\w+',in_str)\n",
    "if match :\n",
    "    print('Match Found: ', match.group())\n",
    "else :\n",
    "    print('No match')"
   ]
  },
  {
   "cell_type": "markdown",
   "id": "80e56202",
   "metadata": {},
   "source": [
    "+ To return all substrings matching the pattern"
   ]
  },
  {
   "cell_type": "code",
   "execution_count": 40,
   "id": "a165ea71",
   "metadata": {},
   "outputs": [
    {
     "name": "stdout",
     "output_type": "stream",
     "text": [
      "tough-guy@twitter\n",
      "ziddi-guy@gmail\n"
     ]
    }
   ],
   "source": [
    "# re.findall() returns all the matching cases\n",
    "emails = re.findall('\\w+-\\w+@\\w+',in_str)\n",
    "# print(emails) :- This when runs gives list all sub-strings matching the pattern\n",
    "for email in emails:\n",
    "    print(email)"
   ]
  },
  {
   "cell_type": "markdown",
   "id": "7c2a7cc0",
   "metadata": {},
   "source": [
    "+ To match any one character\n",
    "+ Using '\\\\' to skip metcharacter's actual meaning"
   ]
  },
  {
   "cell_type": "code",
   "execution_count": 60,
   "id": "e915df4a",
   "metadata": {},
   "outputs": [
    {
     "name": "stdout",
     "output_type": "stream",
     "text": [
      "tough-gu-y@twitter.com\n"
     ]
    }
   ],
   "source": [
    "in_str = \"Hello, my website tough-gu-y@twitter.com, you can also find me at ziddi-guy@gmail.com\"\n",
    "match = re.search('[\\w-]+@\\w+\\.\\w+',in_str)\n",
    "if match:\n",
    "    print(match.group())"
   ]
  },
  {
   "cell_type": "markdown",
   "id": "2a0c1765",
   "metadata": {},
   "source": [
    "+ Effect of not using the [ ] "
   ]
  },
  {
   "cell_type": "code",
   "execution_count": 61,
   "id": "15eb7263",
   "metadata": {},
   "outputs": [
    {
     "name": "stdout",
     "output_type": "stream",
     "text": [
      "gu-y@twitter.com\n"
     ]
    }
   ],
   "source": [
    "match = re.search('\\w+-\\w+@\\w+.\\w+', in_str)\n",
    "if match:\n",
    "    print(match.group())"
   ]
  },
  {
   "cell_type": "markdown",
   "id": "ef3ac964",
   "metadata": {},
   "source": [
    "+ Group Extraction "
   ]
  },
  {
   "cell_type": "code",
   "execution_count": 62,
   "id": "ce31b701",
   "metadata": {},
   "outputs": [
    {
     "name": "stdout",
     "output_type": "stream",
     "text": [
      "user name:  support\n",
      "email provider:  gmail.com\n"
     ]
    }
   ],
   "source": [
    "#my_str = 'My email is pink-elephant@gmail.com. Thank you'\n",
    "my_str = 'Please contact support@gmail.com for any queries. You can also reach me at pink-elephant@gmail.com. Thank you'\n",
    "\n",
    "\n",
    "## Remove specialness of a character\n",
    "match = re.search('([\\w-]+)@([\\w-]+\\.com)', my_str)\n",
    "if match:\n",
    "    print('user name: ', match.group(1) )\n",
    "    print('email provider: ', match.group(2) )"
   ]
  },
  {
   "cell_type": "code",
   "execution_count": 79,
   "id": "555131e0",
   "metadata": {},
   "outputs": [
    {
     "name": "stdout",
     "output_type": "stream",
     "text": [
      "support@gmail.com\n",
      "pink.elephant@gmail.com.\n"
     ]
    }
   ],
   "source": [
    "## Suppose we have a text with many email addresses\n",
    "my_str = 'Please contact support@gmail.com for any queries. You can also reach me at pink.elephant@gmail.com. Thank you'\n",
    "\n",
    "  ## re.findall() returns a list of all the found email strings\n",
    "emails = re.findall('[\\w\\.]+@[\\w\\.]+', my_str) \n",
    "# print(emails)\n",
    "for x in emails:\n",
    "    print (x)\n",
    "# #print(emails)"
   ]
  },
  {
   "cell_type": "markdown",
   "id": "0882b046",
   "metadata": {},
   "source": [
    "+ String Substitution"
   ]
  },
  {
   "cell_type": "code",
   "execution_count": 80,
   "id": "6a21660b",
   "metadata": {},
   "outputs": [
    {
     "name": "stdout",
     "output_type": "stream",
     "text": [
      "Her name is champakali\n"
     ]
    }
   ],
   "source": [
    "my_str = \"Her name is anarkali\"\n",
    "print(re.sub('anar','champa',my_str))"
   ]
  },
  {
   "cell_type": "markdown",
   "id": "d58b2d07",
   "metadata": {},
   "source": [
    "+ Math module"
   ]
  },
  {
   "cell_type": "code",
   "execution_count": 81,
   "id": "2be2f18a",
   "metadata": {},
   "outputs": [],
   "source": [
    "import math"
   ]
  },
  {
   "cell_type": "code",
   "execution_count": 93,
   "id": "8538aae9",
   "metadata": {},
   "outputs": [],
   "source": [
    "# dir(math)"
   ]
  },
  {
   "cell_type": "code",
   "execution_count": 84,
   "id": "7e117c8c",
   "metadata": {},
   "outputs": [
    {
     "data": {
      "text/plain": [
       "1024.0"
      ]
     },
     "execution_count": 84,
     "metadata": {},
     "output_type": "execute_result"
    }
   ],
   "source": [
    "math.pow(2,10)"
   ]
  },
  {
   "cell_type": "code",
   "execution_count": 85,
   "id": "2f5c34e0",
   "metadata": {},
   "outputs": [
    {
     "data": {
      "text/plain": [
       "4"
      ]
     },
     "execution_count": 85,
     "metadata": {},
     "output_type": "execute_result"
    }
   ],
   "source": [
    "math.ceil(3.2)"
   ]
  },
  {
   "cell_type": "code",
   "execution_count": 86,
   "id": "a511a999",
   "metadata": {},
   "outputs": [
    {
     "data": {
      "text/plain": [
       "3"
      ]
     },
     "execution_count": 86,
     "metadata": {},
     "output_type": "execute_result"
    }
   ],
   "source": [
    "math.floor(3.2)"
   ]
  },
  {
   "cell_type": "code",
   "execution_count": 92,
   "id": "b6595a29",
   "metadata": {},
   "outputs": [
    {
     "data": {
      "text/plain": [
       "(4, -6)"
      ]
     },
     "execution_count": 92,
     "metadata": {},
     "output_type": "execute_result"
    }
   ],
   "source": [
    "math.trunc(4.567)"
   ]
  },
  {
   "cell_type": "markdown",
   "id": "0ed33b3e",
   "metadata": {},
   "source": [
    "+ round() is the default python method"
   ]
  },
  {
   "cell_type": "code",
   "execution_count": 88,
   "id": "f65981e1",
   "metadata": {},
   "outputs": [
    {
     "data": {
      "text/plain": [
       "4.28"
      ]
     },
     "execution_count": 88,
     "metadata": {},
     "output_type": "execute_result"
    }
   ],
   "source": [
    "round(4.27785,2)"
   ]
  },
  {
   "cell_type": "markdown",
   "id": "412feb82",
   "metadata": {},
   "source": [
    "+ log of 3 to the base 2"
   ]
  },
  {
   "cell_type": "code",
   "execution_count": 90,
   "id": "33edb48d",
   "metadata": {},
   "outputs": [
    {
     "data": {
      "text/plain": [
       "1.58"
      ]
     },
     "execution_count": 90,
     "metadata": {},
     "output_type": "execute_result"
    }
   ],
   "source": [
    "round(math.log(3,2),2)"
   ]
  },
  {
   "cell_type": "markdown",
   "id": "c0a03f0f",
   "metadata": {},
   "source": [
    "+ If power of log is not mentioned the base is considered to be e"
   ]
  },
  {
   "cell_type": "code",
   "execution_count": 94,
   "id": "5519d3fd",
   "metadata": {},
   "outputs": [
    {
     "data": {
      "text/plain": [
       "1.0986122886681098"
      ]
     },
     "execution_count": 94,
     "metadata": {},
     "output_type": "execute_result"
    }
   ],
   "source": [
    "math.log(3)"
   ]
  },
  {
   "cell_type": "code",
   "execution_count": 95,
   "id": "47f233e2",
   "metadata": {},
   "outputs": [
    {
     "data": {
      "text/plain": [
       "3.0"
      ]
     },
     "execution_count": 95,
     "metadata": {},
     "output_type": "execute_result"
    }
   ],
   "source": [
    "math.sqrt(9)"
   ]
  },
  {
   "cell_type": "code",
   "execution_count": 96,
   "id": "ec977aa6",
   "metadata": {},
   "outputs": [
    {
     "data": {
      "text/plain": [
       "1.0"
      ]
     },
     "execution_count": 96,
     "metadata": {},
     "output_type": "execute_result"
    }
   ],
   "source": [
    "math.cos(0)"
   ]
  },
  {
   "cell_type": "code",
   "execution_count": 98,
   "id": "ccf8a35b",
   "metadata": {},
   "outputs": [
    {
     "data": {
      "text/plain": [
       "120"
      ]
     },
     "execution_count": 98,
     "metadata": {},
     "output_type": "execute_result"
    }
   ],
   "source": [
    "math.factorial(5)"
   ]
  },
  {
   "cell_type": "markdown",
   "id": "f1581ea7",
   "metadata": {},
   "source": [
    "+ 3. Calender"
   ]
  },
  {
   "cell_type": "code",
   "execution_count": 106,
   "id": "cfd03ce9",
   "metadata": {},
   "outputs": [],
   "source": [
    "import calendar\n",
    "# dir(calendar)"
   ]
  },
  {
   "cell_type": "code",
   "execution_count": 110,
   "id": "07854d5b",
   "metadata": {},
   "outputs": [
    {
     "name": "stdout",
     "output_type": "stream",
     "text": [
      "The calendar of year 2023 is:\n",
      "                                 2023\n",
      "\n",
      "      January                  February                  March\n",
      "Mo Tu We Th Fr Sa Su     Mo Tu We Th Fr Sa Su     Mo Tu We Th Fr Sa Su\n",
      "                   1            1  2  3  4  5            1  2  3  4  5\n",
      " 2  3  4  5  6  7  8      6  7  8  9 10 11 12      6  7  8  9 10 11 12\n",
      " 9 10 11 12 13 14 15     13 14 15 16 17 18 19     13 14 15 16 17 18 19\n",
      "16 17 18 19 20 21 22     20 21 22 23 24 25 26     20 21 22 23 24 25 26\n",
      "23 24 25 26 27 28 29     27 28                    27 28 29 30 31\n",
      "30 31\n",
      "\n",
      "       April                     May                      June\n",
      "Mo Tu We Th Fr Sa Su     Mo Tu We Th Fr Sa Su     Mo Tu We Th Fr Sa Su\n",
      "                1  2      1  2  3  4  5  6  7               1  2  3  4\n",
      " 3  4  5  6  7  8  9      8  9 10 11 12 13 14      5  6  7  8  9 10 11\n",
      "10 11 12 13 14 15 16     15 16 17 18 19 20 21     12 13 14 15 16 17 18\n",
      "17 18 19 20 21 22 23     22 23 24 25 26 27 28     19 20 21 22 23 24 25\n",
      "24 25 26 27 28 29 30     29 30 31                 26 27 28 29 30\n",
      "\n",
      "        July                    August                 September\n",
      "Mo Tu We Th Fr Sa Su     Mo Tu We Th Fr Sa Su     Mo Tu We Th Fr Sa Su\n",
      "                1  2         1  2  3  4  5  6                  1  2  3\n",
      " 3  4  5  6  7  8  9      7  8  9 10 11 12 13      4  5  6  7  8  9 10\n",
      "10 11 12 13 14 15 16     14 15 16 17 18 19 20     11 12 13 14 15 16 17\n",
      "17 18 19 20 21 22 23     21 22 23 24 25 26 27     18 19 20 21 22 23 24\n",
      "24 25 26 27 28 29 30     28 29 30 31              25 26 27 28 29 30\n",
      "31\n",
      "\n",
      "      October                  November                 December\n",
      "Mo Tu We Th Fr Sa Su     Mo Tu We Th Fr Sa Su     Mo Tu We Th Fr Sa Su\n",
      "                   1            1  2  3  4  5                  1  2  3\n",
      " 2  3  4  5  6  7  8      6  7  8  9 10 11 12      4  5  6  7  8  9 10\n",
      " 9 10 11 12 13 14 15     13 14 15 16 17 18 19     11 12 13 14 15 16 17\n",
      "16 17 18 19 20 21 22     20 21 22 23 24 25 26     18 19 20 21 22 23 24\n",
      "23 24 25 26 27 28 29     27 28 29 30              25 26 27 28 29 30 31\n",
      "30 31\n",
      "\n"
     ]
    }
   ],
   "source": [
    "print(\"The calendar of year 2023 is:\")\n",
    "print(calendar.calendar(2023,1,1,5))"
   ]
  },
  {
   "cell_type": "code",
   "execution_count": 114,
   "id": "6c5a9de4",
   "metadata": {},
   "outputs": [
    {
     "name": "stdout",
     "output_type": "stream",
     "text": [
      "The October month of 2023 is \n",
      " \n",
      "\n",
      "    October 2023\n",
      "Mo Tu We Th Fr Sa Su\n",
      "                   1\n",
      " 2  3  4  5  6  7  8\n",
      " 9 10 11 12 13 14 15\n",
      "16 17 18 19 20 21 22\n",
      "23 24 25 26 27 28 29\n",
      "30 31\n",
      "\n"
     ]
    }
   ],
   "source": [
    "print(\"The October month of 2023 is \\n \\n\")\n",
    "print(calendar.month(2023,10,2,1))"
   ]
  },
  {
   "cell_type": "code",
   "execution_count": 117,
   "id": "aca71e70",
   "metadata": {},
   "outputs": [
    {
     "data": {
      "text/plain": [
       "False"
      ]
     },
     "execution_count": 117,
     "metadata": {},
     "output_type": "execute_result"
    }
   ],
   "source": [
    "calendar.isleap(2023)"
   ]
  },
  {
   "cell_type": "code",
   "execution_count": 118,
   "id": "efad9cab",
   "metadata": {},
   "outputs": [],
   "source": [
    "## incomplete"
   ]
  },
  {
   "cell_type": "code",
   "execution_count": null,
   "id": "8622a57d",
   "metadata": {},
   "outputs": [],
   "source": []
  }
 ],
 "metadata": {
  "kernelspec": {
   "display_name": "Python 3 (ipykernel)",
   "language": "python",
   "name": "python3"
  },
  "language_info": {
   "codemirror_mode": {
    "name": "ipython",
    "version": 3
   },
   "file_extension": ".py",
   "mimetype": "text/x-python",
   "name": "python",
   "nbconvert_exporter": "python",
   "pygments_lexer": "ipython3",
   "version": "3.11.3"
  }
 },
 "nbformat": 4,
 "nbformat_minor": 5
}
