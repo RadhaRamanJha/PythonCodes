{
 "cells": [
  {
   "cell_type": "markdown",
   "id": "21e01da0",
   "metadata": {},
   "source": [
    "## Open file in read mode"
   ]
  },
  {
   "cell_type": "code",
   "execution_count": 1,
   "id": "a6ab0a7d",
   "metadata": {},
   "outputs": [],
   "source": [
    "reader = open('datasets/dog_breeds.txt','r')"
   ]
  },
  {
   "cell_type": "code",
   "execution_count": 2,
   "id": "7be396d4",
   "metadata": {},
   "outputs": [
    {
     "data": {
      "text/plain": [
       "'datasets/dog_breeds.txt'"
      ]
     },
     "execution_count": 2,
     "metadata": {},
     "output_type": "execute_result"
    }
   ],
   "source": [
    "reader.name"
   ]
  },
  {
   "cell_type": "code",
   "execution_count": 3,
   "id": "3ebbfad9",
   "metadata": {},
   "outputs": [
    {
     "data": {
      "text/plain": [
       "'r'"
      ]
     },
     "execution_count": 3,
     "metadata": {},
     "output_type": "execute_result"
    }
   ],
   "source": [
    "reader.mode"
   ]
  },
  {
   "cell_type": "code",
   "execution_count": 4,
   "id": "6263e906",
   "metadata": {},
   "outputs": [],
   "source": [
    "# print(reader.read())"
   ]
  },
  {
   "cell_type": "code",
   "execution_count": 5,
   "id": "b7c0b098",
   "metadata": {},
   "outputs": [
    {
     "name": "stdout",
     "output_type": "stream",
     "text": [
      "Pug\n",
      "Jack Russell Ter\n"
     ]
    }
   ],
   "source": [
    "print(reader.read(20))"
   ]
  },
  {
   "cell_type": "code",
   "execution_count": 6,
   "id": "04cca4d0",
   "metadata": {},
   "outputs": [
    {
     "data": {
      "text/plain": [
       "False"
      ]
     },
     "execution_count": 6,
     "metadata": {},
     "output_type": "execute_result"
    }
   ],
   "source": [
    "reader.closed"
   ]
  },
  {
   "cell_type": "code",
   "execution_count": 7,
   "id": "e56adf0d",
   "metadata": {},
   "outputs": [],
   "source": [
    "reader.close()"
   ]
  },
  {
   "cell_type": "code",
   "execution_count": 8,
   "id": "febaa676",
   "metadata": {},
   "outputs": [
    {
     "data": {
      "text/plain": [
       "True"
      ]
     },
     "execution_count": 8,
     "metadata": {},
     "output_type": "execute_result"
    }
   ],
   "source": [
    "reader.closed"
   ]
  },
  {
   "cell_type": "markdown",
   "id": "ed611ce5",
   "metadata": {},
   "source": [
    "## with open ...."
   ]
  },
  {
   "cell_type": "code",
   "execution_count": 9,
   "id": "da5f4c39",
   "metadata": {},
   "outputs": [
    {
     "name": "stdout",
     "output_type": "stream",
     "text": [
      "Pug\n",
      "Jack Russell Terrier\n",
      "English Springer Spaniel\n",
      "German Shepherd\n",
      "Staffordshire Bull Terrier\n",
      "Cavalier King Charles Spaniel\n",
      "Golden Retriever\n",
      "West Highland White Terrier\n",
      "Boxer\n",
      "Border Terrier\n",
      "\n"
     ]
    }
   ],
   "source": [
    "with open('datasets/dog_breeds.txt','r') as reader :\n",
    "    print(reader.read())"
   ]
  },
  {
   "cell_type": "code",
   "execution_count": 10,
   "id": "4bd45ddf",
   "metadata": {},
   "outputs": [
    {
     "data": {
      "text/plain": [
       "True"
      ]
     },
     "execution_count": 10,
     "metadata": {},
     "output_type": "execute_result"
    }
   ],
   "source": [
    "reader.closed"
   ]
  },
  {
   "cell_type": "code",
   "execution_count": 11,
   "id": "b07d6669",
   "metadata": {},
   "outputs": [
    {
     "name": "stdout",
     "output_type": "stream",
     "text": [
      "Pug\n",
      "Jack Russell Ter\n"
     ]
    }
   ],
   "source": [
    "with open('datasets/dog_breeds.txt','r') as reader :\n",
    "    print(reader.read(20))"
   ]
  },
  {
   "cell_type": "code",
   "execution_count": 12,
   "id": "0b19a629",
   "metadata": {},
   "outputs": [
    {
     "data": {
      "text/plain": [
       "True"
      ]
     },
     "execution_count": 12,
     "metadata": {},
     "output_type": "execute_result"
    }
   ],
   "source": [
    "reader.closed"
   ]
  },
  {
   "cell_type": "markdown",
   "id": "38c3bf85",
   "metadata": {},
   "source": [
    "## Read one line at a time"
   ]
  },
  {
   "cell_type": "code",
   "execution_count": 13,
   "id": "e2933423",
   "metadata": {},
   "outputs": [
    {
     "name": "stdout",
     "output_type": "stream",
     "text": [
      "Pug\n",
      " Jack Russell Terrier\n",
      " English Springer Spaniel\n",
      " German Shepherd\n",
      " Staffordshire Bull Terrier\n",
      " Cavalier King Charles Spaniel\n",
      " Golden Retriever\n",
      " West Highland White Terrier\n",
      " Boxer\n",
      " Border Terrier\n",
      " "
     ]
    }
   ],
   "source": [
    "with open('datasets/dog_breeds.txt','r') as reader :\n",
    "    for line in reader:\n",
    "        print(line,end = \" \")"
   ]
  },
  {
   "cell_type": "markdown",
   "id": "f4d78f2c",
   "metadata": {},
   "source": [
    "## Copy a file"
   ]
  },
  {
   "cell_type": "code",
   "execution_count": 14,
   "id": "c17c8e4f",
   "metadata": {},
   "outputs": [],
   "source": [
    "with open('datasets/dog_breeds.txt','r') as reader :\n",
    "    with open('dog_copy.txt','w') as writer:\n",
    "        for line in reader:\n",
    "            writer.write(line)"
   ]
  },
  {
   "cell_type": "markdown",
   "id": "5553e92b",
   "metadata": {},
   "source": [
    "## Error -- happen during comple time\n",
    "## Exception -- errors which happen during runtime \n",
    "## Exception Handeler -- Write code what to do to when an expception occurs"
   ]
  },
  {
   "cell_type": "markdown",
   "id": "4d9276e0",
   "metadata": {},
   "source": [
    "### Exception Handling - it is genreral idea can happen anywhere"
   ]
  },
  {
   "cell_type": "code",
   "execution_count": 17,
   "id": "65ce772d",
   "metadata": {},
   "outputs": [
    {
     "ename": "FileNotFoundError",
     "evalue": "[Errno 2] No such file or directory: 'log.txt'",
     "output_type": "error",
     "traceback": [
      "\u001b[1;31m---------------------------------------------------------------------------\u001b[0m",
      "\u001b[1;31mFileNotFoundError\u001b[0m                         Traceback (most recent call last)",
      "Cell \u001b[1;32mIn[17], line 1\u001b[0m\n\u001b[1;32m----> 1\u001b[0m \u001b[38;5;28;01mwith\u001b[39;00m \u001b[38;5;28mopen\u001b[39m(\u001b[38;5;124m'\u001b[39m\u001b[38;5;124mlog.txt\u001b[39m\u001b[38;5;124m'\u001b[39m,\u001b[38;5;124m'\u001b[39m\u001b[38;5;124mr\u001b[39m\u001b[38;5;124m'\u001b[39m) \u001b[38;5;28;01mas\u001b[39;00m reader :\n\u001b[0;32m      2\u001b[0m     \u001b[38;5;28;01mfor\u001b[39;00m line \u001b[38;5;129;01min\u001b[39;00m reader:\n\u001b[0;32m      3\u001b[0m         \u001b[38;5;28mprint\u001b[39m(line , end \u001b[38;5;241m=\u001b[39m \u001b[38;5;124m\"\u001b[39m\u001b[38;5;124m \u001b[39m\u001b[38;5;124m\"\u001b[39m)\n",
      "File \u001b[1;32m~\\anaconda3\\Lib\\site-packages\\IPython\\core\\interactiveshell.py:284\u001b[0m, in \u001b[0;36m_modified_open\u001b[1;34m(file, *args, **kwargs)\u001b[0m\n\u001b[0;32m    277\u001b[0m \u001b[38;5;28;01mif\u001b[39;00m file \u001b[38;5;129;01min\u001b[39;00m {\u001b[38;5;241m0\u001b[39m, \u001b[38;5;241m1\u001b[39m, \u001b[38;5;241m2\u001b[39m}:\n\u001b[0;32m    278\u001b[0m     \u001b[38;5;28;01mraise\u001b[39;00m \u001b[38;5;167;01mValueError\u001b[39;00m(\n\u001b[0;32m    279\u001b[0m         \u001b[38;5;124mf\u001b[39m\u001b[38;5;124m\"\u001b[39m\u001b[38;5;124mIPython won\u001b[39m\u001b[38;5;124m'\u001b[39m\u001b[38;5;124mt let you open fd=\u001b[39m\u001b[38;5;132;01m{\u001b[39;00mfile\u001b[38;5;132;01m}\u001b[39;00m\u001b[38;5;124m by default \u001b[39m\u001b[38;5;124m\"\u001b[39m\n\u001b[0;32m    280\u001b[0m         \u001b[38;5;124m\"\u001b[39m\u001b[38;5;124mas it is likely to crash IPython. If you know what you are doing, \u001b[39m\u001b[38;5;124m\"\u001b[39m\n\u001b[0;32m    281\u001b[0m         \u001b[38;5;124m\"\u001b[39m\u001b[38;5;124myou can use builtins\u001b[39m\u001b[38;5;124m'\u001b[39m\u001b[38;5;124m open.\u001b[39m\u001b[38;5;124m\"\u001b[39m\n\u001b[0;32m    282\u001b[0m     )\n\u001b[1;32m--> 284\u001b[0m \u001b[38;5;28;01mreturn\u001b[39;00m io_open(file, \u001b[38;5;241m*\u001b[39margs, \u001b[38;5;241m*\u001b[39m\u001b[38;5;241m*\u001b[39mkwargs)\n",
      "\u001b[1;31mFileNotFoundError\u001b[0m: [Errno 2] No such file or directory: 'log.txt'"
     ]
    }
   ],
   "source": [
    "with open('log.txt','r') as reader :\n",
    "    for line in reader:\n",
    "        print(line , end = \" \")\n",
    "print(\"completed\")"
   ]
  },
  {
   "cell_type": "code",
   "execution_count": 18,
   "id": "6c1783e7",
   "metadata": {},
   "outputs": [
    {
     "name": "stdout",
     "output_type": "stream",
     "text": [
      "No such File In Directory\n",
      "completed\n"
     ]
    }
   ],
   "source": [
    "try: \n",
    "    with open('log.txt',r) as reader :\n",
    "        for line in reader:\n",
    "            print(line , end = \" \")\n",
    "except:\n",
    "    print(\"No such File In Directory\")\n",
    "print(\"completed\")"
   ]
  },
  {
   "cell_type": "code",
   "execution_count": 20,
   "id": "40d7866c",
   "metadata": {},
   "outputs": [
    {
     "name": "stdout",
     "output_type": "stream",
     "text": [
      "[Errno 2] No such file or directory: 'log.txt'\n",
      "completed\n"
     ]
    }
   ],
   "source": [
    "try: \n",
    "    with open('log.txt','r') as reader :\n",
    "        for line in reader:\n",
    "            print(line , end = \" \")\n",
    "except FileNotFoundError as fnerror:\n",
    "    print(fnerror)\n",
    "print(\"completed\")"
   ]
  },
  {
   "cell_type": "markdown",
   "id": "84c5621e",
   "metadata": {},
   "source": [
    "## assert()"
   ]
  },
  {
   "cell_type": "code",
   "execution_count": 33,
   "id": "262906cf",
   "metadata": {},
   "outputs": [],
   "source": [
    "age = 10"
   ]
  },
  {
   "cell_type": "code",
   "execution_count": 35,
   "id": "1350255d",
   "metadata": {},
   "outputs": [
    {
     "name": "stdout",
     "output_type": "stream",
     "text": [
      "Assert failed Age should be greater than 18\n"
     ]
    }
   ],
   "source": [
    "try:\n",
    "    assert(age > 18), \"Age should be greater than 18\"\n",
    "    print(\"After assertion\")\n",
    "## Exception Handler follows\n",
    "except AssertionError as aserror:\n",
    "    print(\"Assert failed\", aserror)"
   ]
  },
  {
   "cell_type": "code",
   "execution_count": 31,
   "id": "3dddd52f",
   "metadata": {},
   "outputs": [
    {
     "name": "stdout",
     "output_type": "stream",
     "text": [
      "After assertion\n",
      "assert was sucesssful\n"
     ]
    }
   ],
   "source": [
    "try:\n",
    "    assert(age > 18), \"Age should be greater than 18\"\n",
    "    print(\"After assertion\")\n",
    "except AssertionError as aserror:\n",
    "    print(\"Assert failed\", aserror)\n",
    "else :\n",
    "    print(\"assert was sucesssful\")"
   ]
  },
  {
   "cell_type": "code",
   "execution_count": 34,
   "id": "fc868151",
   "metadata": {},
   "outputs": [
    {
     "name": "stdout",
     "output_type": "stream",
     "text": [
      "Assert failed Age should be greater than 18\n",
      "This will always printed\n"
     ]
    }
   ],
   "source": [
    "try:\n",
    "    assert(age > 18), \"Age should be greater than 18\"\n",
    "    print(\"After assertion\")\n",
    "except AssertionError as aserror:\n",
    "    print(\"Assert failed\", aserror)\n",
    "else :\n",
    "    print(\"assert was sucesssful\")\n",
    "finally:\n",
    "    print(\"This will always printed\")"
   ]
  },
  {
   "cell_type": "markdown",
   "id": "1a807950",
   "metadata": {},
   "source": [
    "## Try:-  excecuted if exception doesnt occur \n",
    "## Except :-  excecuted if exception occur \n",
    "## else :- excecuted if exception doesnt occur\n",
    "## Finally :- occurs always wheter exception occurs or not "
   ]
  },
  {
   "cell_type": "code",
   "execution_count": null,
   "id": "895032ad",
   "metadata": {},
   "outputs": [],
   "source": []
  }
 ],
 "metadata": {
  "kernelspec": {
   "display_name": "Python 3 (ipykernel)",
   "language": "python",
   "name": "python3"
  },
  "language_info": {
   "codemirror_mode": {
    "name": "ipython",
    "version": 3
   },
   "file_extension": ".py",
   "mimetype": "text/x-python",
   "name": "python",
   "nbconvert_exporter": "python",
   "pygments_lexer": "ipython3",
   "version": "3.11.3"
  }
 },
 "nbformat": 4,
 "nbformat_minor": 5
}
