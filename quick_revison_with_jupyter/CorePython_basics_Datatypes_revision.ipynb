{
 "cells": [
  {
   "cell_type": "markdown",
   "id": "4914a48a",
   "metadata": {},
   "source": [
    "# Summary\n",
    "1. Data Types \n",
    "2. Arithematic Operations\n",
    "3. Logical Operations\n",
    "4. Sequence Types\n",
    "5. Common operations in Sequences \n",
    "a) Positional Indexing\n",
    "b) Slicing\n",
    "c) Length calculation\n",
    "d) Membership verfication\n",
    "e) Repetation and Concatination of sequence \n",
    "6. Max and Min calculation\n",
    "7. List Specific Methods\n",
    "8. tuple operations :- count, index\n",
    "9. list and its operations like list comprehension\n",
    "10. string and its methods\n",
    "11. Dictionary and Its methods\n",
    "12. Making Dictionary from list\n",
    "13. Sets its use and methods\n",
    "14. Set Theory"
   ]
  },
  {
   "cell_type": "markdown",
   "id": "0ecc867d",
   "metadata": {},
   "source": [
    "### Data Types In Python"
   ]
  },
  {
   "cell_type": "code",
   "execution_count": 1,
   "id": "0295b8f8",
   "metadata": {},
   "outputs": [
    {
     "data": {
      "text/plain": [
       "int"
      ]
     },
     "execution_count": 1,
     "metadata": {},
     "output_type": "execute_result"
    }
   ],
   "source": [
    "type(10)"
   ]
  },
  {
   "cell_type": "code",
   "execution_count": 2,
   "id": "67c091a0",
   "metadata": {},
   "outputs": [
    {
     "data": {
      "text/plain": [
       "float"
      ]
     },
     "execution_count": 2,
     "metadata": {},
     "output_type": "execute_result"
    },
    {
     "data": {
      "text/plain": [
       "float"
      ]
     },
     "execution_count": 2,
     "metadata": {},
     "output_type": "execute_result"
    }
   ],
   "source": [
    "type(12.23)"
   ]
  },
  {
   "cell_type": "code",
   "execution_count": 3,
   "id": "aae94f95",
   "metadata": {},
   "outputs": [
    {
     "data": {
      "text/plain": [
       "bool"
      ]
     },
     "execution_count": 3,
     "metadata": {},
     "output_type": "execute_result"
    }
   ],
   "source": [
    "type(True)"
   ]
  },
  {
   "cell_type": "code",
   "execution_count": 4,
   "id": "28d5a3ea",
   "metadata": {},
   "outputs": [
    {
     "data": {
      "text/plain": [
       "str"
      ]
     },
     "execution_count": 4,
     "metadata": {},
     "output_type": "execute_result"
    }
   ],
   "source": [
    "type('abc')"
   ]
  },
  {
   "cell_type": "code",
   "execution_count": 5,
   "id": "75cf30fc",
   "metadata": {},
   "outputs": [
    {
     "data": {
      "text/plain": [
       "list"
      ]
     },
     "execution_count": 5,
     "metadata": {},
     "output_type": "execute_result"
    }
   ],
   "source": [
    "type([1,2,3])"
   ]
  },
  {
   "cell_type": "code",
   "execution_count": 6,
   "id": "42f99b57",
   "metadata": {},
   "outputs": [
    {
     "data": {
      "text/plain": [
       "tuple"
      ]
     },
     "execution_count": 6,
     "metadata": {},
     "output_type": "execute_result"
    }
   ],
   "source": [
    "type((1,2,3))"
   ]
  },
  {
   "cell_type": "code",
   "execution_count": 7,
   "id": "f3ae4681",
   "metadata": {},
   "outputs": [
    {
     "data": {
      "text/plain": [
       "dict"
      ]
     },
     "execution_count": 7,
     "metadata": {},
     "output_type": "execute_result"
    }
   ],
   "source": [
    "type({1:'Hello'})"
   ]
  },
  {
   "cell_type": "markdown",
   "id": "b5a3faa9",
   "metadata": {},
   "source": [
    "# Arithematic Operations"
   ]
  },
  {
   "cell_type": "code",
   "execution_count": 8,
   "id": "3ea803e9",
   "metadata": {},
   "outputs": [],
   "source": [
    "x = 10\n",
    "y = 3"
   ]
  },
  {
   "cell_type": "code",
   "execution_count": 9,
   "id": "e5118268",
   "metadata": {},
   "outputs": [
    {
     "data": {
      "text/plain": [
       "13"
      ]
     },
     "execution_count": 9,
     "metadata": {},
     "output_type": "execute_result"
    }
   ],
   "source": [
    "# Addtion \n",
    "x+y"
   ]
  },
  {
   "cell_type": "code",
   "execution_count": 10,
   "id": "75b5598a",
   "metadata": {},
   "outputs": [
    {
     "data": {
      "text/plain": [
       "7"
      ]
     },
     "execution_count": 10,
     "metadata": {},
     "output_type": "execute_result"
    }
   ],
   "source": [
    "# Subsration\n",
    "x-y"
   ]
  },
  {
   "cell_type": "code",
   "execution_count": 11,
   "id": "f38e210d",
   "metadata": {},
   "outputs": [
    {
     "data": {
      "text/plain": [
       "30"
      ]
     },
     "execution_count": 11,
     "metadata": {},
     "output_type": "execute_result"
    }
   ],
   "source": [
    "# Multiplication \n",
    "x*y"
   ]
  },
  {
   "cell_type": "code",
   "execution_count": 12,
   "id": "e82345f0",
   "metadata": {},
   "outputs": [
    {
     "data": {
      "text/plain": [
       "3.3333333333333335"
      ]
     },
     "execution_count": 12,
     "metadata": {},
     "output_type": "execute_result"
    }
   ],
   "source": [
    "# Division\n",
    "x/y"
   ]
  },
  {
   "cell_type": "code",
   "execution_count": 13,
   "id": "8343778c",
   "metadata": {},
   "outputs": [
    {
     "data": {
      "text/plain": [
       "1"
      ]
     },
     "execution_count": 13,
     "metadata": {},
     "output_type": "execute_result"
    }
   ],
   "source": [
    "# Modulo Division \n",
    "x%y"
   ]
  },
  {
   "cell_type": "code",
   "execution_count": 14,
   "id": "4161615c",
   "metadata": {},
   "outputs": [
    {
     "data": {
      "text/plain": [
       "3"
      ]
     },
     "execution_count": 14,
     "metadata": {},
     "output_type": "execute_result"
    }
   ],
   "source": [
    "# Floor Division\n",
    "x//y"
   ]
  },
  {
   "cell_type": "code",
   "execution_count": 15,
   "id": "e0f89942",
   "metadata": {},
   "outputs": [
    {
     "data": {
      "text/plain": [
       "-4"
      ]
     },
     "execution_count": 15,
     "metadata": {},
     "output_type": "execute_result"
    }
   ],
   "source": [
    "# Floor Division\n",
    "-x//y"
   ]
  },
  {
   "cell_type": "markdown",
   "id": "00290856",
   "metadata": {},
   "source": [
    "## Logical Operation"
   ]
  },
  {
   "cell_type": "code",
   "execution_count": 16,
   "id": "5080f7d6",
   "metadata": {},
   "outputs": [],
   "source": [
    "x = True\n",
    "y = False"
   ]
  },
  {
   "cell_type": "code",
   "execution_count": 17,
   "id": "4775767c",
   "metadata": {},
   "outputs": [
    {
     "data": {
      "text/plain": [
       "True"
      ]
     },
     "execution_count": 17,
     "metadata": {},
     "output_type": "execute_result"
    }
   ],
   "source": [
    "x or y"
   ]
  },
  {
   "cell_type": "code",
   "execution_count": 18,
   "id": "78437768",
   "metadata": {},
   "outputs": [
    {
     "data": {
      "text/plain": [
       "False"
      ]
     },
     "execution_count": 18,
     "metadata": {},
     "output_type": "execute_result"
    }
   ],
   "source": [
    "x and y"
   ]
  },
  {
   "cell_type": "code",
   "execution_count": 19,
   "id": "0686c183",
   "metadata": {},
   "outputs": [
    {
     "data": {
      "text/plain": [
       "False"
      ]
     },
     "execution_count": 19,
     "metadata": {},
     "output_type": "execute_result"
    }
   ],
   "source": [
    "not x"
   ]
  },
  {
   "cell_type": "code",
   "execution_count": 20,
   "id": "bfa2f7ee",
   "metadata": {},
   "outputs": [
    {
     "data": {
      "text/plain": [
       "True"
      ]
     },
     "execution_count": 20,
     "metadata": {},
     "output_type": "execute_result"
    }
   ],
   "source": [
    "not y"
   ]
  },
  {
   "cell_type": "code",
   "execution_count": 21,
   "id": "25ba95dc",
   "metadata": {},
   "outputs": [],
   "source": [
    "x = 13\n",
    "y = 12"
   ]
  },
  {
   "cell_type": "code",
   "execution_count": 22,
   "id": "68cd2349",
   "metadata": {},
   "outputs": [
    {
     "data": {
      "text/plain": [
       "True"
      ]
     },
     "execution_count": 22,
     "metadata": {},
     "output_type": "execute_result"
    }
   ],
   "source": [
    "x > y"
   ]
  },
  {
   "cell_type": "code",
   "execution_count": 23,
   "id": "c7321236",
   "metadata": {},
   "outputs": [
    {
     "data": {
      "text/plain": [
       "False"
      ]
     },
     "execution_count": 23,
     "metadata": {},
     "output_type": "execute_result"
    }
   ],
   "source": [
    "x == y"
   ]
  },
  {
   "cell_type": "code",
   "execution_count": 24,
   "id": "93846a80",
   "metadata": {},
   "outputs": [
    {
     "data": {
      "text/plain": [
       "False"
      ]
     },
     "execution_count": 24,
     "metadata": {},
     "output_type": "execute_result"
    }
   ],
   "source": [
    "x > y and x == y"
   ]
  },
  {
   "cell_type": "markdown",
   "id": "9d064b6c",
   "metadata": {},
   "source": [
    "### Sequence Types"
   ]
  },
  {
   "cell_type": "code",
   "execution_count": 25,
   "id": "b88f1c6e",
   "metadata": {},
   "outputs": [
    {
     "data": {
      "text/plain": [
       "[52, 74, 343, 213]"
      ]
     },
     "execution_count": 25,
     "metadata": {},
     "output_type": "execute_result"
    }
   ],
   "source": [
    "# list \n",
    "lst = [52,74,343,213]\n",
    "lst"
   ]
  },
  {
   "cell_type": "code",
   "execution_count": 26,
   "id": "b65c3e72",
   "metadata": {},
   "outputs": [
    {
     "data": {
      "text/plain": [
       "list"
      ]
     },
     "execution_count": 26,
     "metadata": {},
     "output_type": "execute_result"
    }
   ],
   "source": [
    "type(lst)"
   ]
  },
  {
   "cell_type": "code",
   "execution_count": 27,
   "id": "f35e53c2",
   "metadata": {},
   "outputs": [
    {
     "data": {
      "text/plain": [
       "(1, 2, 3, 4, 5, 6, 7, 8)"
      ]
     },
     "execution_count": 27,
     "metadata": {},
     "output_type": "execute_result"
    }
   ],
   "source": [
    "# tuple\n",
    "my_tup = (1,2,3,4,5,6,7,8)\n",
    "my_tup"
   ]
  },
  {
   "cell_type": "code",
   "execution_count": 28,
   "id": "a855bb2d",
   "metadata": {},
   "outputs": [
    {
     "data": {
      "text/plain": [
       "tuple"
      ]
     },
     "execution_count": 28,
     "metadata": {},
     "output_type": "execute_result"
    }
   ],
   "source": [
    "type(my_tup)"
   ]
  },
  {
   "cell_type": "code",
   "execution_count": 29,
   "id": "bb651f2b",
   "metadata": {},
   "outputs": [
    {
     "data": {
      "text/plain": [
       "'This is having a diffrent flavor !'"
      ]
     },
     "execution_count": 29,
     "metadata": {},
     "output_type": "execute_result"
    }
   ],
   "source": [
    "# String\n",
    "str = 'This is having a diffrent flavor !'\n",
    "str"
   ]
  },
  {
   "cell_type": "code",
   "execution_count": 30,
   "id": "2b371222",
   "metadata": {},
   "outputs": [
    {
     "data": {
      "text/plain": [
       "str"
      ]
     },
     "execution_count": 30,
     "metadata": {},
     "output_type": "execute_result"
    }
   ],
   "source": [
    "type(str)"
   ]
  },
  {
   "cell_type": "markdown",
   "id": "986b1723",
   "metadata": {},
   "source": [
    "### Common Operations in Sequences"
   ]
  },
  {
   "cell_type": "markdown",
   "id": "fd8a6328",
   "metadata": {},
   "source": [
    "### 1.Positional Indexing"
   ]
  },
  {
   "cell_type": "code",
   "execution_count": 31,
   "id": "29d09f33",
   "metadata": {},
   "outputs": [
    {
     "data": {
      "text/plain": [
       "79"
      ]
     },
     "execution_count": 31,
     "metadata": {},
     "output_type": "execute_result"
    }
   ],
   "source": [
    "# List indexing\n",
    "marks_lst = [45,56,79,80,52]\n",
    "marks_lst[2]"
   ]
  },
  {
   "cell_type": "code",
   "execution_count": 32,
   "id": "f683c5e2",
   "metadata": {},
   "outputs": [
    {
     "data": {
      "text/plain": [
       "52"
      ]
     },
     "execution_count": 32,
     "metadata": {},
     "output_type": "execute_result"
    }
   ],
   "source": [
    "marks_lst[-1]"
   ]
  },
  {
   "cell_type": "code",
   "execution_count": 33,
   "id": "d3911434",
   "metadata": {},
   "outputs": [
    {
     "data": {
      "text/plain": [
       "[52, 80]"
      ]
     },
     "execution_count": 33,
     "metadata": {},
     "output_type": "execute_result"
    }
   ],
   "source": [
    "marks_lst[-1:-3:-1]"
   ]
  },
  {
   "cell_type": "code",
   "execution_count": 34,
   "id": "df640a46",
   "metadata": {},
   "outputs": [
    {
     "data": {
      "text/plain": [
       "'l'"
      ]
     },
     "execution_count": 34,
     "metadata": {},
     "output_type": "execute_result"
    }
   ],
   "source": [
    "# String Indexing\n",
    "s2 = \"Apple\"\n",
    "s2[3]"
   ]
  },
  {
   "cell_type": "code",
   "execution_count": 35,
   "id": "6725bea8",
   "metadata": {},
   "outputs": [
    {
     "data": {
      "text/plain": [
       "'hee'"
      ]
     },
     "execution_count": 35,
     "metadata": {},
     "output_type": "execute_result"
    }
   ],
   "source": [
    "mixed_lst = [12,32.5,True,\"hee\",[90,70,60],(1,2,3,4)]\n",
    "mixed_lst[3]"
   ]
  },
  {
   "cell_type": "code",
   "execution_count": 36,
   "id": "6d6e6648",
   "metadata": {},
   "outputs": [
    {
     "data": {
      "text/plain": [
       "60"
      ]
     },
     "execution_count": 36,
     "metadata": {},
     "output_type": "execute_result"
    }
   ],
   "source": [
    "# access the element out of list within a list\n",
    "mixed_lst[4][2]"
   ]
  },
  {
   "cell_type": "code",
   "execution_count": 37,
   "id": "29ce10c1",
   "metadata": {},
   "outputs": [
    {
     "data": {
      "text/plain": [
       "3"
      ]
     },
     "execution_count": 37,
     "metadata": {},
     "output_type": "execute_result"
    }
   ],
   "source": [
    "# access the element out of tuple within a list\n",
    "mixed_lst[5][2]"
   ]
  },
  {
   "cell_type": "markdown",
   "id": "d4cf26c2",
   "metadata": {},
   "source": [
    "### 2.Slicing is common for all the sequences"
   ]
  },
  {
   "cell_type": "code",
   "execution_count": 38,
   "id": "8e1610f7",
   "metadata": {},
   "outputs": [],
   "source": [
    "mrs_list = [45,66,79,80,30,48,88,30,32,56,76,54,44,100,68,33]"
   ]
  },
  {
   "cell_type": "code",
   "execution_count": 39,
   "id": "84bcb341",
   "metadata": {},
   "outputs": [
    {
     "data": {
      "text/plain": [
       "[80, 30, 48, 88, 30, 32]"
      ]
     },
     "execution_count": 39,
     "metadata": {},
     "output_type": "execute_result"
    }
   ],
   "source": [
    "mrs_list[3:9]"
   ]
  },
  {
   "cell_type": "code",
   "execution_count": 40,
   "id": "8d76c40f",
   "metadata": {},
   "outputs": [
    {
     "data": {
      "text/plain": [
       "[45, 66, 79, 80, 30, 48, 88, 30, 32]"
      ]
     },
     "execution_count": 40,
     "metadata": {},
     "output_type": "execute_result"
    }
   ],
   "source": [
    "mrs_list[:9]"
   ]
  },
  {
   "cell_type": "code",
   "execution_count": 41,
   "id": "7f6d6e75",
   "metadata": {},
   "outputs": [
    {
     "data": {
      "text/plain": [
       "[30, 32, 56, 76, 54, 44, 100, 68, 33]"
      ]
     },
     "execution_count": 41,
     "metadata": {},
     "output_type": "execute_result"
    }
   ],
   "source": [
    "mrs_list[7:]"
   ]
  },
  {
   "cell_type": "code",
   "execution_count": 42,
   "id": "b890486f",
   "metadata": {},
   "outputs": [
    {
     "data": {
      "text/plain": [
       "[45, 66, 79, 80, 30, 48, 88, 30, 32, 56, 76, 54, 44, 100, 68, 33]"
      ]
     },
     "execution_count": 42,
     "metadata": {},
     "output_type": "execute_result"
    }
   ],
   "source": [
    "mrs_list[:]"
   ]
  },
  {
   "cell_type": "code",
   "execution_count": 43,
   "id": "727602ff",
   "metadata": {},
   "outputs": [
    {
     "data": {
      "text/plain": [
       "'love'"
      ]
     },
     "execution_count": 43,
     "metadata": {},
     "output_type": "execute_result"
    }
   ],
   "source": [
    "s1 = \"I love Python\"\n",
    "s1[2:6]"
   ]
  },
  {
   "cell_type": "code",
   "execution_count": 44,
   "id": "b2bdae1a",
   "metadata": {},
   "outputs": [
    {
     "data": {
      "text/plain": [
       "'Python'"
      ]
     },
     "execution_count": 44,
     "metadata": {},
     "output_type": "execute_result"
    }
   ],
   "source": [
    "s1[7:]"
   ]
  },
  {
   "cell_type": "markdown",
   "id": "54094c67",
   "metadata": {},
   "source": [
    "### 3.Calculation of Length of Sequence is similar for all sequence"
   ]
  },
  {
   "cell_type": "code",
   "execution_count": 45,
   "id": "8fdfbd1a",
   "metadata": {},
   "outputs": [
    {
     "data": {
      "text/plain": [
       "16"
      ]
     },
     "execution_count": 45,
     "metadata": {},
     "output_type": "execute_result"
    }
   ],
   "source": [
    "# Length of sequence\n",
    "len(mrs_list)"
   ]
  },
  {
   "cell_type": "code",
   "execution_count": 46,
   "id": "fde27dea",
   "metadata": {},
   "outputs": [
    {
     "data": {
      "text/plain": [
       "13"
      ]
     },
     "execution_count": 46,
     "metadata": {},
     "output_type": "execute_result"
    }
   ],
   "source": [
    "len(s1)"
   ]
  },
  {
   "cell_type": "code",
   "execution_count": 47,
   "id": "8d294f2c",
   "metadata": {},
   "outputs": [
    {
     "data": {
      "text/plain": [
       "8"
      ]
     },
     "execution_count": 47,
     "metadata": {},
     "output_type": "execute_result"
    }
   ],
   "source": [
    "len(my_tup)"
   ]
  },
  {
   "cell_type": "markdown",
   "id": "645ffc97",
   "metadata": {},
   "source": [
    "### 4.Membership of sequence can be checked in same way for each sequence"
   ]
  },
  {
   "cell_type": "code",
   "execution_count": 48,
   "id": "14883e6c",
   "metadata": {},
   "outputs": [
    {
     "data": {
      "text/plain": [
       "[45, 66, 79, 80, 30, 48, 88, 30, 32, 56, 76, 54, 44, 100, 68, 33]"
      ]
     },
     "execution_count": 48,
     "metadata": {},
     "output_type": "execute_result"
    }
   ],
   "source": [
    "mrs_list"
   ]
  },
  {
   "cell_type": "code",
   "execution_count": 49,
   "id": "1e45a79e",
   "metadata": {},
   "outputs": [
    {
     "data": {
      "text/plain": [
       "True"
      ]
     },
     "execution_count": 49,
     "metadata": {},
     "output_type": "execute_result"
    }
   ],
   "source": [
    "111 not in mrs_list"
   ]
  },
  {
   "cell_type": "code",
   "execution_count": 50,
   "id": "d76bf4b5",
   "metadata": {},
   "outputs": [
    {
     "data": {
      "text/plain": [
       "True"
      ]
     },
     "execution_count": 50,
     "metadata": {},
     "output_type": "execute_result"
    }
   ],
   "source": [
    "88 in mrs_list"
   ]
  },
  {
   "cell_type": "code",
   "execution_count": 51,
   "id": "5109b3f6",
   "metadata": {},
   "outputs": [
    {
     "data": {
      "text/plain": [
       "True"
      ]
     },
     "execution_count": 51,
     "metadata": {},
     "output_type": "execute_result"
    }
   ],
   "source": [
    "'t' in s1"
   ]
  },
  {
   "cell_type": "code",
   "execution_count": 52,
   "id": "42ce4080",
   "metadata": {},
   "outputs": [
    {
     "data": {
      "text/plain": [
       "False"
      ]
     },
     "execution_count": 52,
     "metadata": {},
     "output_type": "execute_result"
    }
   ],
   "source": [
    "'c' in s1"
   ]
  },
  {
   "cell_type": "code",
   "execution_count": 53,
   "id": "32efcbc1",
   "metadata": {},
   "outputs": [
    {
     "data": {
      "text/plain": [
       "True"
      ]
     },
     "execution_count": 53,
     "metadata": {},
     "output_type": "execute_result"
    }
   ],
   "source": [
    "1 in my_tup"
   ]
  },
  {
   "cell_type": "code",
   "execution_count": 54,
   "id": "1472f058",
   "metadata": {},
   "outputs": [
    {
     "data": {
      "text/plain": [
       "False"
      ]
     },
     "execution_count": 54,
     "metadata": {},
     "output_type": "execute_result"
    }
   ],
   "source": [
    "111 in my_tup"
   ]
  },
  {
   "cell_type": "markdown",
   "id": "16daf013",
   "metadata": {},
   "source": [
    "### 5.Repetation of Sequence"
   ]
  },
  {
   "cell_type": "code",
   "execution_count": 55,
   "id": "a086f10a",
   "metadata": {},
   "outputs": [
    {
     "data": {
      "text/plain": [
       "[1, 2, 3, 1, 2, 3, 1, 2, 3]"
      ]
     },
     "execution_count": 55,
     "metadata": {},
     "output_type": "execute_result"
    }
   ],
   "source": [
    "my_lst = [1,2,3]\n",
    "my_lst * 3"
   ]
  },
  {
   "cell_type": "code",
   "execution_count": 56,
   "id": "acf413f8",
   "metadata": {},
   "outputs": [
    {
     "data": {
      "text/plain": [
       "'I love PythonI love PythonI love Python'"
      ]
     },
     "execution_count": 56,
     "metadata": {},
     "output_type": "execute_result"
    }
   ],
   "source": [
    "s1*3"
   ]
  },
  {
   "cell_type": "code",
   "execution_count": 57,
   "id": "db04c031",
   "metadata": {},
   "outputs": [
    {
     "data": {
      "text/plain": [
       "(1, 2, 3, 4, 5, 6, 7, 8, 1, 2, 3, 4, 5, 6, 7, 8, 1, 2, 3, 4, 5, 6, 7, 8)"
      ]
     },
     "execution_count": 57,
     "metadata": {},
     "output_type": "execute_result"
    }
   ],
   "source": [
    "my_tup * 3"
   ]
  },
  {
   "cell_type": "markdown",
   "id": "6ef5c8d2",
   "metadata": {},
   "source": [
    "### 5.b)  + stands for concatination of sequence type"
   ]
  },
  {
   "cell_type": "code",
   "execution_count": 58,
   "id": "68357718",
   "metadata": {},
   "outputs": [
    {
     "data": {
      "text/plain": [
       "[1, 2, 3, 4, 5, 6]"
      ]
     },
     "execution_count": 58,
     "metadata": {},
     "output_type": "execute_result"
    }
   ],
   "source": [
    "ls1 = [1,2,3]\n",
    "ls2 = [4,5,6]\n",
    "ls1+ls2"
   ]
  },
  {
   "cell_type": "code",
   "execution_count": 59,
   "id": "566ede50",
   "metadata": {},
   "outputs": [],
   "source": [
    "s1 = \"Hello\"\n",
    "s2 = \"World\""
   ]
  },
  {
   "cell_type": "code",
   "execution_count": 60,
   "id": "b56291ab",
   "metadata": {},
   "outputs": [
    {
     "data": {
      "text/plain": [
       "'HelloWorld'"
      ]
     },
     "execution_count": 60,
     "metadata": {},
     "output_type": "execute_result"
    }
   ],
   "source": [
    "s1+s2"
   ]
  },
  {
   "cell_type": "markdown",
   "id": "3216ffe7",
   "metadata": {},
   "source": [
    "### 6.max and min can be calculated for every sequence in similar way"
   ]
  },
  {
   "cell_type": "code",
   "execution_count": 61,
   "id": "a9026999",
   "metadata": {},
   "outputs": [
    {
     "data": {
      "text/plain": [
       "[52, 74, 343, 213]"
      ]
     },
     "execution_count": 61,
     "metadata": {},
     "output_type": "execute_result"
    }
   ],
   "source": [
    "lst"
   ]
  },
  {
   "cell_type": "code",
   "execution_count": 62,
   "id": "fb86d117",
   "metadata": {},
   "outputs": [
    {
     "data": {
      "text/plain": [
       "343"
      ]
     },
     "execution_count": 62,
     "metadata": {},
     "output_type": "execute_result"
    }
   ],
   "source": [
    "max(lst)"
   ]
  },
  {
   "cell_type": "code",
   "execution_count": 63,
   "id": "1922731b",
   "metadata": {},
   "outputs": [
    {
     "data": {
      "text/plain": [
       "52"
      ]
     },
     "execution_count": 63,
     "metadata": {},
     "output_type": "execute_result"
    }
   ],
   "source": [
    "min(lst)"
   ]
  },
  {
   "cell_type": "markdown",
   "id": "64627c83",
   "metadata": {},
   "source": [
    "##### Uses the ASCII value for comparision in case of string"
   ]
  },
  {
   "cell_type": "code",
   "execution_count": 64,
   "id": "56242f65",
   "metadata": {},
   "outputs": [
    {
     "data": {
      "text/plain": [
       "'o'"
      ]
     },
     "execution_count": 64,
     "metadata": {},
     "output_type": "execute_result"
    }
   ],
   "source": [
    "max(s1)"
   ]
  },
  {
   "cell_type": "code",
   "execution_count": 65,
   "id": "a708484a",
   "metadata": {},
   "outputs": [
    {
     "data": {
      "text/plain": [
       "'H'"
      ]
     },
     "execution_count": 65,
     "metadata": {},
     "output_type": "execute_result"
    }
   ],
   "source": [
    "min(s1)"
   ]
  },
  {
   "cell_type": "code",
   "execution_count": 66,
   "id": "456e0e80",
   "metadata": {},
   "outputs": [
    {
     "data": {
      "text/plain": [
       "'r'"
      ]
     },
     "execution_count": 66,
     "metadata": {},
     "output_type": "execute_result"
    }
   ],
   "source": [
    "max(s2)"
   ]
  },
  {
   "cell_type": "code",
   "execution_count": 67,
   "id": "52683e6d",
   "metadata": {},
   "outputs": [
    {
     "data": {
      "text/plain": [
       "'W'"
      ]
     },
     "execution_count": 67,
     "metadata": {},
     "output_type": "execute_result"
    }
   ],
   "source": [
    "min(s2)"
   ]
  },
  {
   "cell_type": "markdown",
   "id": "832aa210",
   "metadata": {},
   "source": [
    "#### list and tuple will behave the same way for max  and min"
   ]
  },
  {
   "cell_type": "markdown",
   "id": "6974e29f",
   "metadata": {},
   "source": [
    "## Methods Specific to list"
   ]
  },
  {
   "cell_type": "markdown",
   "id": "222210d5",
   "metadata": {},
   "source": [
    "#### Adding element to list can be done in two different ways"
   ]
  },
  {
   "cell_type": "code",
   "execution_count": 68,
   "id": "279c7092",
   "metadata": {},
   "outputs": [],
   "source": [
    "shop_list = ['Apple','Banana','Coffe','Avacado']"
   ]
  },
  {
   "cell_type": "markdown",
   "id": "3586faa0",
   "metadata": {},
   "source": [
    "#### 1) Using .append() -- will cause in place modification of list"
   ]
  },
  {
   "cell_type": "code",
   "execution_count": 69,
   "id": "b87771ec",
   "metadata": {},
   "outputs": [
    {
     "data": {
      "text/plain": [
       "['Apple', 'Banana', 'Coffe', 'Avacado', 'Butter']"
      ]
     },
     "execution_count": 69,
     "metadata": {},
     "output_type": "execute_result"
    }
   ],
   "source": [
    "shop_list.append('Butter')\n",
    "shop_list"
   ]
  },
  {
   "cell_type": "markdown",
   "id": "3c797c5c",
   "metadata": {},
   "source": [
    "#### 2)  Using .insert() -- will cause in place modification of list"
   ]
  },
  {
   "cell_type": "code",
   "execution_count": 70,
   "id": "aa7ec693",
   "metadata": {},
   "outputs": [],
   "source": [
    "shop_list.insert(2,'Jam')"
   ]
  },
  {
   "cell_type": "code",
   "execution_count": 71,
   "id": "22aa6038",
   "metadata": {},
   "outputs": [
    {
     "data": {
      "text/plain": [
       "['Apple', 'Banana', 'Jam', 'Coffe', 'Avacado', 'Butter']"
      ]
     },
     "execution_count": 71,
     "metadata": {},
     "output_type": "execute_result"
    }
   ],
   "source": [
    "shop_list"
   ]
  },
  {
   "cell_type": "markdown",
   "id": "3aa9ecc5",
   "metadata": {},
   "source": [
    "#### Note :- If a sequence is append to another list then the sequence is added as a single element"
   ]
  },
  {
   "cell_type": "code",
   "execution_count": 72,
   "id": "504f5957",
   "metadata": {},
   "outputs": [],
   "source": [
    "shop_list.append(['Pen','Pencil','NoteBook'])"
   ]
  },
  {
   "cell_type": "code",
   "execution_count": 73,
   "id": "a73f45bb",
   "metadata": {},
   "outputs": [
    {
     "data": {
      "text/plain": [
       "7"
      ]
     },
     "execution_count": 73,
     "metadata": {},
     "output_type": "execute_result"
    }
   ],
   "source": [
    "len(shop_list)"
   ]
  },
  {
   "cell_type": "code",
   "execution_count": 74,
   "id": "46828bff",
   "metadata": {},
   "outputs": [
    {
     "data": {
      "text/plain": [
       "['Apple',\n",
       " 'Banana',\n",
       " 'Jam',\n",
       " 'Coffe',\n",
       " 'Avacado',\n",
       " 'Butter',\n",
       " ['Pen', 'Pencil', 'NoteBook']]"
      ]
     },
     "execution_count": 74,
     "metadata": {},
     "output_type": "execute_result"
    }
   ],
   "source": [
    "shop_list"
   ]
  },
  {
   "cell_type": "markdown",
   "id": "10823801",
   "metadata": {},
   "source": [
    "### Extend adds Multiple elements in a sequence"
   ]
  },
  {
   "cell_type": "code",
   "execution_count": 75,
   "id": "2d96ff7e",
   "metadata": {},
   "outputs": [
    {
     "data": {
      "text/plain": [
       "10"
      ]
     },
     "execution_count": 75,
     "metadata": {},
     "output_type": "execute_result"
    }
   ],
   "source": [
    "shop_list.extend(['Milk','Flour','ToothPate'])\n",
    "len(shop_list)"
   ]
  },
  {
   "cell_type": "code",
   "execution_count": 76,
   "id": "2b57e45f",
   "metadata": {},
   "outputs": [
    {
     "data": {
      "text/plain": [
       "['Apple',\n",
       " 'Banana',\n",
       " 'Jam',\n",
       " 'Coffe',\n",
       " 'Avacado',\n",
       " 'Butter',\n",
       " ['Pen', 'Pencil', 'NoteBook'],\n",
       " 'Milk',\n",
       " 'Flour',\n",
       " 'ToothPate']"
      ]
     },
     "execution_count": 76,
     "metadata": {},
     "output_type": "execute_result"
    }
   ],
   "source": [
    "shop_list"
   ]
  },
  {
   "cell_type": "markdown",
   "id": "0a753891",
   "metadata": {},
   "source": [
    "### Replace an element :- Element can be replaced by using assignment operator"
   ]
  },
  {
   "cell_type": "code",
   "execution_count": 77,
   "id": "0d79b437",
   "metadata": {},
   "outputs": [],
   "source": [
    "shop_list[1] = \"Water\""
   ]
  },
  {
   "cell_type": "code",
   "execution_count": 78,
   "id": "7bbbb57f",
   "metadata": {},
   "outputs": [
    {
     "data": {
      "text/plain": [
       "['Apple',\n",
       " 'Water',\n",
       " 'Jam',\n",
       " 'Coffe',\n",
       " 'Avacado',\n",
       " 'Butter',\n",
       " ['Pen', 'Pencil', 'NoteBook'],\n",
       " 'Milk',\n",
       " 'Flour',\n",
       " 'ToothPate']"
      ]
     },
     "execution_count": 78,
     "metadata": {},
     "output_type": "execute_result"
    }
   ],
   "source": [
    "shop_list"
   ]
  },
  {
   "cell_type": "code",
   "execution_count": 79,
   "id": "df641608",
   "metadata": {},
   "outputs": [],
   "source": [
    "shop_list[-4][-2] = \"Rubber\""
   ]
  },
  {
   "cell_type": "code",
   "execution_count": 80,
   "id": "e3b90db1",
   "metadata": {},
   "outputs": [
    {
     "data": {
      "text/plain": [
       "['Apple',\n",
       " 'Water',\n",
       " 'Jam',\n",
       " 'Coffe',\n",
       " 'Avacado',\n",
       " 'Butter',\n",
       " ['Pen', 'Rubber', 'NoteBook'],\n",
       " 'Milk',\n",
       " 'Flour',\n",
       " 'ToothPate']"
      ]
     },
     "execution_count": 80,
     "metadata": {},
     "output_type": "execute_result"
    }
   ],
   "source": [
    "shop_list"
   ]
  },
  {
   "cell_type": "markdown",
   "id": "18409a0b",
   "metadata": {},
   "source": [
    "### Extend simply adds elements to end of list"
   ]
  },
  {
   "cell_type": "code",
   "execution_count": 81,
   "id": "47cf9df2",
   "metadata": {},
   "outputs": [
    {
     "data": {
      "text/plain": [
       "['Apple',\n",
       " 'Water',\n",
       " 'Jam',\n",
       " 'Coffe',\n",
       " 'Avacado',\n",
       " 'Butter',\n",
       " ['Pen', 'Rubber', 'NoteBook'],\n",
       " 'Milk',\n",
       " 'Flour',\n",
       " 'ToothPate',\n",
       " 'towel',\n",
       " 'Hanki']"
      ]
     },
     "execution_count": 81,
     "metadata": {},
     "output_type": "execute_result"
    }
   ],
   "source": [
    "shop_list.extend(('towel','Hanki'))\n",
    "shop_list"
   ]
  },
  {
   "cell_type": "code",
   "execution_count": 82,
   "id": "5cb8c354",
   "metadata": {},
   "outputs": [
    {
     "data": {
      "text/plain": [
       "['Apple',\n",
       " 'Water',\n",
       " 'Jam',\n",
       " 'Coffe',\n",
       " 'Avacado',\n",
       " 'Butter',\n",
       " ['Pen', 'Rubber', 'NoteBook'],\n",
       " 'Milk',\n",
       " 'Flour',\n",
       " 'ToothPate',\n",
       " 'towel',\n",
       " 'Hanki',\n",
       " 'B',\n",
       " 'u',\n",
       " 't',\n",
       " 't',\n",
       " 'e',\n",
       " 'r']"
      ]
     },
     "execution_count": 82,
     "metadata": {},
     "output_type": "execute_result"
    }
   ],
   "source": [
    "shop_list.extend('Butter')\n",
    "shop_list"
   ]
  },
  {
   "cell_type": "markdown",
   "id": "8a252073",
   "metadata": {},
   "source": [
    "### Remove the elements from sequence"
   ]
  },
  {
   "cell_type": "markdown",
   "id": "93508f08",
   "metadata": {},
   "source": [
    "### 1) Using .pop()"
   ]
  },
  {
   "cell_type": "code",
   "execution_count": 83,
   "id": "ab571838",
   "metadata": {},
   "outputs": [
    {
     "data": {
      "text/plain": [
       "['Apple',\n",
       " 'Water',\n",
       " 'Jam',\n",
       " 'Coffe',\n",
       " 'Avacado',\n",
       " 'Butter',\n",
       " ['Pen', 'Rubber', 'NoteBook'],\n",
       " 'Milk',\n",
       " 'Flour',\n",
       " 'ToothPate',\n",
       " 'towel',\n",
       " 'Hanki',\n",
       " 'B',\n",
       " 'u',\n",
       " 't',\n",
       " 't',\n",
       " 'e']"
      ]
     },
     "execution_count": 83,
     "metadata": {},
     "output_type": "execute_result"
    }
   ],
   "source": [
    "shop_list.pop()\n",
    "shop_list"
   ]
  },
  {
   "cell_type": "code",
   "execution_count": 84,
   "id": "882c7e13",
   "metadata": {},
   "outputs": [
    {
     "data": {
      "text/plain": [
       "'Jam'"
      ]
     },
     "execution_count": 84,
     "metadata": {},
     "output_type": "execute_result"
    }
   ],
   "source": [
    "shop_list.pop(2)"
   ]
  },
  {
   "cell_type": "code",
   "execution_count": 85,
   "id": "0a24b711",
   "metadata": {},
   "outputs": [
    {
     "data": {
      "text/plain": [
       "['Apple',\n",
       " 'Water',\n",
       " 'Coffe',\n",
       " 'Avacado',\n",
       " 'Butter',\n",
       " ['Pen', 'Rubber', 'NoteBook'],\n",
       " 'Milk',\n",
       " 'Flour',\n",
       " 'ToothPate',\n",
       " 'towel',\n",
       " 'Hanki',\n",
       " 'B',\n",
       " 'u',\n",
       " 't',\n",
       " 't',\n",
       " 'e']"
      ]
     },
     "execution_count": 85,
     "metadata": {},
     "output_type": "execute_result"
    }
   ],
   "source": [
    "shop_list"
   ]
  },
  {
   "cell_type": "code",
   "execution_count": 86,
   "id": "a4f334ef",
   "metadata": {},
   "outputs": [],
   "source": [
    "shop_list.remove('ToothPate')"
   ]
  },
  {
   "cell_type": "code",
   "execution_count": 87,
   "id": "54394484",
   "metadata": {},
   "outputs": [
    {
     "data": {
      "text/plain": [
       "['Apple',\n",
       " 'Water',\n",
       " 'Coffe',\n",
       " 'Avacado',\n",
       " 'Butter',\n",
       " ['Pen', 'Rubber', 'NoteBook'],\n",
       " 'Milk',\n",
       " 'Flour',\n",
       " 'towel',\n",
       " 'Hanki',\n",
       " 'B',\n",
       " 'u',\n",
       " 't',\n",
       " 't',\n",
       " 'e']"
      ]
     },
     "execution_count": 87,
     "metadata": {},
     "output_type": "execute_result"
    }
   ],
   "source": [
    "shop_list"
   ]
  },
  {
   "cell_type": "code",
   "execution_count": 89,
   "id": "f420d579",
   "metadata": {},
   "outputs": [
    {
     "ename": "ValueError",
     "evalue": "list.remove(x): x not in list",
     "output_type": "error",
     "traceback": [
      "\u001b[1;31m---------------------------------------------------------------------------\u001b[0m",
      "\u001b[1;31mValueError\u001b[0m                                Traceback (most recent call last)",
      "Cell \u001b[1;32mIn[89], line 1\u001b[0m\n\u001b[1;32m----> 1\u001b[0m shop_list\u001b[38;5;241m.\u001b[39mremove(\u001b[38;5;124m'\u001b[39m\u001b[38;5;124mPen\u001b[39m\u001b[38;5;124m'\u001b[39m)\n",
      "\u001b[1;31mValueError\u001b[0m: list.remove(x): x not in list"
     ]
    }
   ],
   "source": [
    "shop_list.remove('Pen')"
   ]
  },
  {
   "cell_type": "code",
   "execution_count": 90,
   "id": "6751395f",
   "metadata": {},
   "outputs": [
    {
     "data": {
      "text/plain": [
       "['Apple',\n",
       " 'Water',\n",
       " 'Coffe',\n",
       " 'Avacado',\n",
       " 'Butter',\n",
       " ['Pen', 'Rubber', 'NoteBook'],\n",
       " 'Milk',\n",
       " 'Flour',\n",
       " 'towel',\n",
       " 'Hanki',\n",
       " 'B',\n",
       " 'u',\n",
       " 't',\n",
       " 't',\n",
       " 'e']"
      ]
     },
     "execution_count": 90,
     "metadata": {},
     "output_type": "execute_result"
    }
   ],
   "source": [
    "shop_list"
   ]
  },
  {
   "cell_type": "markdown",
   "id": "623fab5a",
   "metadata": {},
   "source": [
    "### clear entitre list"
   ]
  },
  {
   "cell_type": "code",
   "execution_count": 91,
   "id": "c89aaca8",
   "metadata": {},
   "outputs": [
    {
     "data": {
      "text/plain": [
       "[]"
      ]
     },
     "execution_count": 91,
     "metadata": {},
     "output_type": "execute_result"
    }
   ],
   "source": [
    "shop_list.clear()\n",
    "shop_list"
   ]
  },
  {
   "cell_type": "markdown",
   "id": "8a372c79",
   "metadata": {},
   "source": [
    "### Index and Count"
   ]
  },
  {
   "cell_type": "code",
   "execution_count": 92,
   "id": "d6973e7f",
   "metadata": {},
   "outputs": [
    {
     "data": {
      "text/plain": [
       "3"
      ]
     },
     "execution_count": 92,
     "metadata": {},
     "output_type": "execute_result"
    }
   ],
   "source": [
    "shop_list = ['Apple','Bread','Banana','Coffe','Avacado']\n",
    "shop_list.index('Coffe')"
   ]
  },
  {
   "cell_type": "code",
   "execution_count": 93,
   "id": "f0623d8a",
   "metadata": {},
   "outputs": [],
   "source": [
    "shop_list.append('Bread')"
   ]
  },
  {
   "cell_type": "code",
   "execution_count": 94,
   "id": "dfd856f7",
   "metadata": {},
   "outputs": [
    {
     "data": {
      "text/plain": [
       "2"
      ]
     },
     "execution_count": 94,
     "metadata": {},
     "output_type": "execute_result"
    }
   ],
   "source": [
    "shop_list.count('Bread')"
   ]
  },
  {
   "cell_type": "markdown",
   "id": "276bb1f3",
   "metadata": {},
   "source": [
    "### sort()"
   ]
  },
  {
   "cell_type": "code",
   "execution_count": 95,
   "id": "254b891d",
   "metadata": {},
   "outputs": [],
   "source": [
    "marks = [32,24,56,78,89,100,12]\n",
    "marks.sort() "
   ]
  },
  {
   "cell_type": "code",
   "execution_count": 96,
   "id": "cbf7ef7f",
   "metadata": {},
   "outputs": [
    {
     "data": {
      "text/plain": [
       "[12, 24, 32, 56, 78, 89, 100]"
      ]
     },
     "execution_count": 96,
     "metadata": {},
     "output_type": "execute_result"
    }
   ],
   "source": [
    "marks"
   ]
  },
  {
   "cell_type": "code",
   "execution_count": 97,
   "id": "932e22f0",
   "metadata": {},
   "outputs": [
    {
     "data": {
      "text/plain": [
       "[100, 89, 78, 56, 32, 24, 12]"
      ]
     },
     "execution_count": 97,
     "metadata": {},
     "output_type": "execute_result"
    }
   ],
   "source": [
    "marks.sort(reverse=True)\n",
    "marks"
   ]
  },
  {
   "cell_type": "markdown",
   "id": "ce14a7a3",
   "metadata": {},
   "source": [
    "##### Reverse"
   ]
  },
  {
   "cell_type": "code",
   "execution_count": 98,
   "id": "1d0befa4",
   "metadata": {},
   "outputs": [],
   "source": [
    "marks.reverse()"
   ]
  },
  {
   "cell_type": "code",
   "execution_count": 99,
   "id": "aa5fecc7",
   "metadata": {},
   "outputs": [
    {
     "data": {
      "text/plain": [
       "[12, 24, 32, 56, 78, 89, 100]"
      ]
     },
     "execution_count": 99,
     "metadata": {},
     "output_type": "execute_result"
    }
   ],
   "source": [
    "marks"
   ]
  },
  {
   "cell_type": "code",
   "execution_count": 100,
   "id": "d3f469fb",
   "metadata": {},
   "outputs": [],
   "source": [
    "shop_list = ['aaple','bread','avacado']"
   ]
  },
  {
   "cell_type": "code",
   "execution_count": 101,
   "id": "a414d45f",
   "metadata": {},
   "outputs": [
    {
     "data": {
      "text/plain": [
       "['aaple', 'avacado', 'bread']"
      ]
     },
     "execution_count": 101,
     "metadata": {},
     "output_type": "execute_result"
    }
   ],
   "source": [
    "shop_list.sort()\n",
    "shop_list"
   ]
  },
  {
   "cell_type": "markdown",
   "id": "104814e6",
   "metadata": {},
   "source": [
    "#### Copy()"
   ]
  },
  {
   "cell_type": "code",
   "execution_count": 102,
   "id": "796b3186",
   "metadata": {},
   "outputs": [],
   "source": [
    "ls1 = [1,2,3]\n",
    "ls3 = ls1.copy()"
   ]
  },
  {
   "cell_type": "code",
   "execution_count": 103,
   "id": "265b5dfc",
   "metadata": {},
   "outputs": [
    {
     "data": {
      "text/plain": [
       "[1, 100, 3]"
      ]
     },
     "execution_count": 103,
     "metadata": {},
     "output_type": "execute_result"
    }
   ],
   "source": [
    "ls3[1] = 100\n",
    "ls3"
   ]
  },
  {
   "cell_type": "code",
   "execution_count": 104,
   "id": "62f368a9",
   "metadata": {},
   "outputs": [
    {
     "data": {
      "text/plain": [
       "[1, 2, 3]"
      ]
     },
     "execution_count": 104,
     "metadata": {},
     "output_type": "execute_result"
    }
   ],
   "source": [
    "ls1"
   ]
  },
  {
   "cell_type": "markdown",
   "id": "0fec8a77",
   "metadata": {},
   "source": [
    "### Identity Operation"
   ]
  },
  {
   "cell_type": "code",
   "execution_count": 105,
   "id": "67a7223a",
   "metadata": {},
   "outputs": [],
   "source": [
    "ls1 = [1,2,3]\n",
    "ls2 = ls1\n",
    "ls3 = ls1.copy()"
   ]
  },
  {
   "cell_type": "code",
   "execution_count": 106,
   "id": "c34b5a9d",
   "metadata": {},
   "outputs": [
    {
     "data": {
      "text/plain": [
       "(True, True)"
      ]
     },
     "execution_count": 106,
     "metadata": {},
     "output_type": "execute_result"
    }
   ],
   "source": [
    "ls1 == ls2, ls2 is ls1"
   ]
  },
  {
   "cell_type": "code",
   "execution_count": 107,
   "id": "992a0023",
   "metadata": {},
   "outputs": [
    {
     "data": {
      "text/plain": [
       "(True, False)"
      ]
     },
     "execution_count": 107,
     "metadata": {},
     "output_type": "execute_result"
    }
   ],
   "source": [
    "ls1 == ls3, ls3 is ls1"
   ]
  },
  {
   "cell_type": "markdown",
   "id": "e2f3323f",
   "metadata": {},
   "source": [
    "### Operations of list -  \n",
    "'append',\n",
    " 'clear',\n",
    " 'copy',\n",
    " 'count',\n",
    " 'extend',\n",
    " 'index',\n",
    " 'insert',\n",
    " 'pop',\n",
    " 'remove',\n",
    " 'reverse',\n",
    " 'sort'"
   ]
  },
  {
   "cell_type": "code",
   "execution_count": 108,
   "id": "639189f9",
   "metadata": {},
   "outputs": [],
   "source": [
    "# dir(list)"
   ]
  },
  {
   "cell_type": "markdown",
   "id": "f3518351",
   "metadata": {},
   "source": [
    "### Operations in tuple -- \n",
    "'count',\n",
    " 'index'"
   ]
  },
  {
   "cell_type": "code",
   "execution_count": 109,
   "id": "631af44f",
   "metadata": {},
   "outputs": [],
   "source": [
    "# dir(tuple)"
   ]
  },
  {
   "cell_type": "markdown",
   "id": "6ee2de91",
   "metadata": {},
   "source": [
    "### String Methods"
   ]
  },
  {
   "cell_type": "code",
   "execution_count": 120,
   "id": "3033a7ab",
   "metadata": {},
   "outputs": [
    {
     "data": {
      "text/plain": [
       "['__add__',\n",
       " '__class__',\n",
       " '__contains__',\n",
       " '__delattr__',\n",
       " '__dir__',\n",
       " '__doc__',\n",
       " '__eq__',\n",
       " '__format__',\n",
       " '__ge__',\n",
       " '__getattribute__',\n",
       " '__getitem__',\n",
       " '__getnewargs__',\n",
       " '__getstate__',\n",
       " '__gt__',\n",
       " '__hash__',\n",
       " '__init__',\n",
       " '__init_subclass__',\n",
       " '__iter__',\n",
       " '__le__',\n",
       " '__len__',\n",
       " '__lt__',\n",
       " '__mod__',\n",
       " '__mul__',\n",
       " '__ne__',\n",
       " '__new__',\n",
       " '__reduce__',\n",
       " '__reduce_ex__',\n",
       " '__repr__',\n",
       " '__rmod__',\n",
       " '__rmul__',\n",
       " '__setattr__',\n",
       " '__sizeof__',\n",
       " '__str__',\n",
       " '__subclasshook__',\n",
       " 'capitalize',\n",
       " 'casefold',\n",
       " 'center',\n",
       " 'count',\n",
       " 'encode',\n",
       " 'endswith',\n",
       " 'expandtabs',\n",
       " 'find',\n",
       " 'format',\n",
       " 'format_map',\n",
       " 'index',\n",
       " 'isalnum',\n",
       " 'isalpha',\n",
       " 'isascii',\n",
       " 'isdecimal',\n",
       " 'isdigit',\n",
       " 'isidentifier',\n",
       " 'islower',\n",
       " 'isnumeric',\n",
       " 'isprintable',\n",
       " 'isspace',\n",
       " 'istitle',\n",
       " 'isupper',\n",
       " 'join',\n",
       " 'ljust',\n",
       " 'lower',\n",
       " 'lstrip',\n",
       " 'maketrans',\n",
       " 'partition',\n",
       " 'removeprefix',\n",
       " 'removesuffix',\n",
       " 'replace',\n",
       " 'rfind',\n",
       " 'rindex',\n",
       " 'rjust',\n",
       " 'rpartition',\n",
       " 'rsplit',\n",
       " 'rstrip',\n",
       " 'split',\n",
       " 'splitlines',\n",
       " 'startswith',\n",
       " 'strip',\n",
       " 'swapcase',\n",
       " 'title',\n",
       " 'translate',\n",
       " 'upper',\n",
       " 'zfill']"
      ]
     },
     "execution_count": 120,
     "metadata": {},
     "output_type": "execute_result"
    }
   ],
   "source": [
    "dir(str)"
   ]
  },
  {
   "cell_type": "code",
   "execution_count": 111,
   "id": "5ff9eecb",
   "metadata": {},
   "outputs": [],
   "source": [
    "s1 = \"i love python\""
   ]
  },
  {
   "cell_type": "code",
   "execution_count": 112,
   "id": "594a0d19",
   "metadata": {},
   "outputs": [
    {
     "data": {
      "text/plain": [
       "'I love python'"
      ]
     },
     "execution_count": 112,
     "metadata": {},
     "output_type": "execute_result"
    }
   ],
   "source": [
    "s1.capitalize()"
   ]
  },
  {
   "cell_type": "code",
   "execution_count": 113,
   "id": "76d67446",
   "metadata": {},
   "outputs": [
    {
     "data": {
      "text/plain": [
       "'I Love Python'"
      ]
     },
     "execution_count": 113,
     "metadata": {},
     "output_type": "execute_result"
    }
   ],
   "source": [
    "s1.title()"
   ]
  },
  {
   "cell_type": "markdown",
   "id": "2d3fc444",
   "metadata": {},
   "source": [
    "#### A new object is being created and returned s1 will still contain same string "
   ]
  },
  {
   "cell_type": "code",
   "execution_count": 114,
   "id": "3f862d30",
   "metadata": {},
   "outputs": [
    {
     "data": {
      "text/plain": [
       "'I LOVE PYTHON'"
      ]
     },
     "execution_count": 114,
     "metadata": {},
     "output_type": "execute_result"
    }
   ],
   "source": [
    "s1.upper()"
   ]
  },
  {
   "cell_type": "code",
   "execution_count": 115,
   "id": "97f4810d",
   "metadata": {},
   "outputs": [
    {
     "data": {
      "text/plain": [
       "'i love python'"
      ]
     },
     "execution_count": 115,
     "metadata": {},
     "output_type": "execute_result"
    }
   ],
   "source": [
    "s1"
   ]
  },
  {
   "cell_type": "code",
   "execution_count": 116,
   "id": "780253d6",
   "metadata": {},
   "outputs": [],
   "source": [
    "s2 = \"Happy Birthday\""
   ]
  },
  {
   "cell_type": "code",
   "execution_count": 117,
   "id": "8e208c55",
   "metadata": {},
   "outputs": [
    {
     "data": {
      "text/plain": [
       "'happy birthday'"
      ]
     },
     "execution_count": 117,
     "metadata": {},
     "output_type": "execute_result"
    }
   ],
   "source": [
    "s2.lower()"
   ]
  },
  {
   "cell_type": "code",
   "execution_count": 118,
   "id": "55a560d3",
   "metadata": {},
   "outputs": [
    {
     "data": {
      "text/plain": [
       "'hAPPY bIRTHDAY'"
      ]
     },
     "execution_count": 118,
     "metadata": {},
     "output_type": "execute_result"
    }
   ],
   "source": [
    "s2.swapcase()"
   ]
  },
  {
   "cell_type": "code",
   "execution_count": 122,
   "id": "34160e92",
   "metadata": {},
   "outputs": [
    {
     "data": {
      "text/plain": [
       "(True, False, 'python')"
      ]
     },
     "execution_count": 122,
     "metadata": {},
     "output_type": "execute_result"
    }
   ],
   "source": [
    "'python'.islower(),'Python'.isupper(),'Python'.casefold()"
   ]
  },
  {
   "cell_type": "code",
   "execution_count": 123,
   "id": "7548cdcb",
   "metadata": {},
   "outputs": [
    {
     "data": {
      "text/plain": [
       "(True, False)"
      ]
     },
     "execution_count": 123,
     "metadata": {},
     "output_type": "execute_result"
    }
   ],
   "source": [
    "'python'.startswith('py'), 'python'.startswith('on')"
   ]
  },
  {
   "cell_type": "code",
   "execution_count": 124,
   "id": "5aed3b06",
   "metadata": {},
   "outputs": [
    {
     "data": {
      "text/plain": [
       "(False, True)"
      ]
     },
     "execution_count": 124,
     "metadata": {},
     "output_type": "execute_result"
    }
   ],
   "source": [
    "'python'.endswith('py'), 'python'.endswith('on')"
   ]
  },
  {
   "cell_type": "code",
   "execution_count": 125,
   "id": "f50a7dce",
   "metadata": {},
   "outputs": [
    {
     "data": {
      "text/plain": [
       "'python'"
      ]
     },
     "execution_count": 125,
     "metadata": {},
     "output_type": "execute_result"
    }
   ],
   "source": [
    "s1 = ' python '\n",
    "s1.strip()"
   ]
  },
  {
   "cell_type": "code",
   "execution_count": 126,
   "id": "bbaef0e5",
   "metadata": {},
   "outputs": [
    {
     "data": {
      "text/plain": [
       "('python ', ' python')"
      ]
     },
     "execution_count": 126,
     "metadata": {},
     "output_type": "execute_result"
    }
   ],
   "source": [
    "s1.lstrip(),s1.rstrip()"
   ]
  },
  {
   "cell_type": "code",
   "execution_count": 127,
   "id": "1dc1a81f",
   "metadata": {},
   "outputs": [],
   "source": [
    "s2 = 'Python'"
   ]
  },
  {
   "cell_type": "code",
   "execution_count": 128,
   "id": "8c6f64a1",
   "metadata": {},
   "outputs": [
    {
     "data": {
      "text/plain": [
       "(True, True, False)"
      ]
     },
     "execution_count": 128,
     "metadata": {},
     "output_type": "execute_result"
    }
   ],
   "source": [
    "s2.isalpha(),s2.isalnum(),s2.isnumeric()"
   ]
  },
  {
   "cell_type": "markdown",
   "id": "681f800e",
   "metadata": {},
   "source": [
    "#### Since string is a series of character hence it didnot recognize float as numeric, as it looks at every character individually and finds special character '.' "
   ]
  },
  {
   "cell_type": "code",
   "execution_count": 129,
   "id": "43b57b9c",
   "metadata": {},
   "outputs": [
    {
     "data": {
      "text/plain": [
       "(False, False, False)"
      ]
     },
     "execution_count": 129,
     "metadata": {},
     "output_type": "execute_result"
    }
   ],
   "source": [
    "s3 = 'Python3.0'\n",
    "s3.isalpha(),s3.isalnum(),s3.isnumeric()"
   ]
  },
  {
   "cell_type": "markdown",
   "id": "95cb6cbd",
   "metadata": {},
   "source": [
    "### Split string"
   ]
  },
  {
   "cell_type": "code",
   "execution_count": 130,
   "id": "e49bd6a4",
   "metadata": {},
   "outputs": [
    {
     "data": {
      "text/plain": [
       "['Apple', 'Orange', 'Grape', 'Mango']"
      ]
     },
     "execution_count": 130,
     "metadata": {},
     "output_type": "execute_result"
    }
   ],
   "source": [
    "str1 = 'Apple,Orange,Grape,Mango'\n",
    "str1.split(',')"
   ]
  },
  {
   "cell_type": "code",
   "execution_count": 131,
   "id": "5faadd73",
   "metadata": {},
   "outputs": [
    {
     "data": {
      "text/plain": [
       "['Apple', 'Orange', 'Grape', 'Mango']"
      ]
     },
     "execution_count": 131,
     "metadata": {},
     "output_type": "execute_result"
    }
   ],
   "source": [
    "str2 = 'Apple;Orange;Grape;Mango'\n",
    "str2.split(';')"
   ]
  },
  {
   "cell_type": "code",
   "execution_count": 134,
   "id": "8dbe8210",
   "metadata": {},
   "outputs": [
    {
     "data": {
      "text/plain": [
       "['This',\n",
       " 'is',\n",
       " 'an',\n",
       " 'example',\n",
       " 'of',\n",
       " 'long',\n",
       " 'text',\n",
       " 'which',\n",
       " 'i',\n",
       " 'will',\n",
       " 'use',\n",
       " 'to',\n",
       " 'demonstate',\n",
       " 'split']"
      ]
     },
     "execution_count": 134,
     "metadata": {},
     "output_type": "execute_result"
    }
   ],
   "source": [
    "txt = 'This is an example of long text which i will use to demonstate split'\n",
    "txt.split(' ')"
   ]
  },
  {
   "cell_type": "markdown",
   "id": "3f1d2450",
   "metadata": {},
   "source": [
    "### Whenever an output of sequence is shown as soon as a method is called on it; no inplace modification takes place and a copy is being shown as output. Further while calling a method if there is no modified sequence is returned to the method call; in place modification of the sequence takes place "
   ]
  },
  {
   "cell_type": "markdown",
   "id": "4fec7643",
   "metadata": {},
   "source": [
    "### For loop - to iterate over a sequence "
   ]
  },
  {
   "cell_type": "code",
   "execution_count": 135,
   "id": "e700975a",
   "metadata": {},
   "outputs": [],
   "source": [
    "lst = [19,87,65,45,80]"
   ]
  },
  {
   "cell_type": "markdown",
   "id": "e9357a82",
   "metadata": {},
   "source": [
    "#### Indented line are block of codes to repeated"
   ]
  },
  {
   "cell_type": "code",
   "execution_count": 136,
   "id": "e8db309e",
   "metadata": {},
   "outputs": [
    {
     "name": "stdout",
     "output_type": "stream",
     "text": [
      "19\n",
      "Hi\n",
      "87\n",
      "Hi\n",
      "65\n",
      "Hi\n",
      "45\n",
      "Hi\n",
      "80\n",
      "Hi\n",
      "Hello\n"
     ]
    }
   ],
   "source": [
    "for x in lst:\n",
    "    print(x)\n",
    "    print('Hi')\n",
    "print('Hello')"
   ]
  },
  {
   "cell_type": "code",
   "execution_count": 137,
   "id": "c009c225",
   "metadata": {},
   "outputs": [
    {
     "name": "stdout",
     "output_type": "stream",
     "text": [
      "22\n",
      "90\n",
      "68\n",
      "48\n",
      "83\n"
     ]
    }
   ],
   "source": [
    "for x in lst:\n",
    "    print(x+3)"
   ]
  },
  {
   "cell_type": "code",
   "execution_count": 138,
   "id": "8df6d1ff",
   "metadata": {},
   "outputs": [
    {
     "name": "stdout",
     "output_type": "stream",
     "text": [
      "P\n",
      "y\n",
      "t\n",
      "h\n",
      "o\n",
      "n\n"
     ]
    }
   ],
   "source": [
    "str1 = 'Python'\n",
    "for x in str1:\n",
    "    print(x)"
   ]
  },
  {
   "cell_type": "code",
   "execution_count": 139,
   "id": "fb5461bd",
   "metadata": {},
   "outputs": [
    {
     "name": "stdout",
     "output_type": "stream",
     "text": [
      "*\n",
      "*\n",
      "*\n",
      "*\n",
      "*\n"
     ]
    }
   ],
   "source": [
    "lst = [1,2,3,4,5]\n",
    "for x in lst:\n",
    "    print('*')"
   ]
  },
  {
   "cell_type": "markdown",
   "id": "3013978c",
   "metadata": {},
   "source": [
    "### List comprehension "
   ]
  },
  {
   "cell_type": "code",
   "execution_count": 140,
   "id": "85b7a408",
   "metadata": {},
   "outputs": [],
   "source": [
    "lst = [1,2,3,4,5,6,7]"
   ]
  },
  {
   "cell_type": "markdown",
   "id": "ca13372a",
   "metadata": {},
   "source": [
    "### Traditional way"
   ]
  },
  {
   "cell_type": "code",
   "execution_count": 141,
   "id": "4c847584",
   "metadata": {},
   "outputs": [],
   "source": [
    "new_list = []\n",
    "for x in lst:\n",
    "    new_list.append(x**2)"
   ]
  },
  {
   "cell_type": "code",
   "execution_count": 142,
   "id": "6f7c0691",
   "metadata": {},
   "outputs": [
    {
     "name": "stdout",
     "output_type": "stream",
     "text": [
      "[1, 4, 9, 16, 25, 36, 49]\n"
     ]
    }
   ],
   "source": [
    "print(new_list)"
   ]
  },
  {
   "cell_type": "markdown",
   "id": "8755ee36",
   "metadata": {},
   "source": [
    "### List comprehension"
   ]
  },
  {
   "cell_type": "code",
   "execution_count": 143,
   "id": "b265c4e4",
   "metadata": {},
   "outputs": [],
   "source": [
    "sqr_lst = [x**2 for x in lst]"
   ]
  },
  {
   "cell_type": "code",
   "execution_count": 144,
   "id": "b92b872c",
   "metadata": {},
   "outputs": [
    {
     "name": "stdout",
     "output_type": "stream",
     "text": [
      "[1, 4, 9, 16, 25, 36, 49]\n"
     ]
    }
   ],
   "source": [
    "print(sqr_lst)"
   ]
  },
  {
   "cell_type": "code",
   "execution_count": 145,
   "id": "56dcbec6",
   "metadata": {},
   "outputs": [],
   "source": [
    "pow_lst = [x**2 for x in lst if x%2 == 0]"
   ]
  },
  {
   "cell_type": "code",
   "execution_count": 146,
   "id": "8e246050",
   "metadata": {},
   "outputs": [
    {
     "name": "stdout",
     "output_type": "stream",
     "text": [
      "[4, 16, 36]\n"
     ]
    }
   ],
   "source": [
    "print(pow_lst)"
   ]
  },
  {
   "cell_type": "code",
   "execution_count": 147,
   "id": "f0774ad2",
   "metadata": {},
   "outputs": [],
   "source": [
    "new_list = [x*100 for x in lst]"
   ]
  },
  {
   "cell_type": "code",
   "execution_count": 148,
   "id": "7cdb2607",
   "metadata": {},
   "outputs": [
    {
     "name": "stdout",
     "output_type": "stream",
     "text": [
      "[100, 200, 300, 400, 500, 600, 700]\n"
     ]
    }
   ],
   "source": [
    "print(new_list)"
   ]
  },
  {
   "cell_type": "markdown",
   "id": "aeab087e",
   "metadata": {},
   "source": [
    "### Mapping type collection -- Dictionary "
   ]
  },
  {
   "cell_type": "markdown",
   "id": "4fef0113",
   "metadata": {},
   "source": [
    "### It uses '{key:value}' pair"
   ]
  },
  {
   "cell_type": "code",
   "execution_count": 149,
   "id": "836d2a59",
   "metadata": {},
   "outputs": [],
   "source": [
    "student1 = {'Name':'Tom',\n",
    "           'Age':32,\n",
    "           'Course':'Python'}"
   ]
  },
  {
   "cell_type": "code",
   "execution_count": 150,
   "id": "2877d69b",
   "metadata": {},
   "outputs": [
    {
     "data": {
      "text/plain": [
       "dict"
      ]
     },
     "execution_count": 150,
     "metadata": {},
     "output_type": "execute_result"
    }
   ],
   "source": [
    "type(student1)"
   ]
  },
  {
   "cell_type": "markdown",
   "id": "c1c1544d",
   "metadata": {},
   "source": [
    "### Keys -- Immutable types (numbers, string,tuple)\n",
    "### Values -- Any Type"
   ]
  },
  {
   "cell_type": "code",
   "execution_count": 151,
   "id": "971e22df",
   "metadata": {},
   "outputs": [],
   "source": [
    "d1 = {\n",
    "    1:'One',\n",
    "    10.30:'Time',\n",
    "    'Name':'Sam',\n",
    "    (0,0):'Origin'\n",
    "}"
   ]
  },
  {
   "cell_type": "code",
   "execution_count": 152,
   "id": "331525f0",
   "metadata": {},
   "outputs": [
    {
     "data": {
      "text/plain": [
       "{1: 'One', 10.3: 'Time', 'Name': 'Sam', (0, 0): 'Origin'}"
      ]
     },
     "execution_count": 152,
     "metadata": {},
     "output_type": "execute_result"
    }
   ],
   "source": [
    "d1"
   ]
  },
  {
   "cell_type": "markdown",
   "id": "d96ad2cc",
   "metadata": {},
   "source": [
    "## Dict keys shd be hasable types and immutable "
   ]
  },
  {
   "cell_type": "code",
   "execution_count": 153,
   "id": "656a9764",
   "metadata": {},
   "outputs": [
    {
     "ename": "TypeError",
     "evalue": "unhashable type: 'list'",
     "output_type": "error",
     "traceback": [
      "\u001b[1;31m---------------------------------------------------------------------------\u001b[0m",
      "\u001b[1;31mTypeError\u001b[0m                                 Traceback (most recent call last)",
      "Cell \u001b[1;32mIn[153], line 1\u001b[0m\n\u001b[1;32m----> 1\u001b[0m d1 \u001b[38;5;241m=\u001b[39m {\n\u001b[0;32m      2\u001b[0m     \u001b[38;5;241m1\u001b[39m:\u001b[38;5;124m'\u001b[39m\u001b[38;5;124mOne\u001b[39m\u001b[38;5;124m'\u001b[39m,\n\u001b[0;32m      3\u001b[0m     \u001b[38;5;241m10.30\u001b[39m:\u001b[38;5;124m'\u001b[39m\u001b[38;5;124mTime\u001b[39m\u001b[38;5;124m'\u001b[39m,\n\u001b[0;32m      4\u001b[0m     \u001b[38;5;124m'\u001b[39m\u001b[38;5;124mName\u001b[39m\u001b[38;5;124m'\u001b[39m:\u001b[38;5;124m'\u001b[39m\u001b[38;5;124mSam\u001b[39m\u001b[38;5;124m'\u001b[39m,\n\u001b[0;32m      5\u001b[0m     [\u001b[38;5;241m0\u001b[39m,\u001b[38;5;241m0\u001b[39m]:\u001b[38;5;124m'\u001b[39m\u001b[38;5;124mOrigin\u001b[39m\u001b[38;5;124m'\u001b[39m\n\u001b[0;32m      6\u001b[0m }\n",
      "\u001b[1;31mTypeError\u001b[0m: unhashable type: 'list'"
     ]
    }
   ],
   "source": [
    "d1 = {\n",
    "    1:'One',\n",
    "    10.30:'Time',\n",
    "    'Name':'Sam',\n",
    "    [0,0]:'Origin'\n",
    "}"
   ]
  },
  {
   "cell_type": "markdown",
   "id": "c1d4df51",
   "metadata": {},
   "source": [
    "## Combine two sequences "
   ]
  },
  {
   "cell_type": "code",
   "execution_count": 154,
   "id": "f1079f6d",
   "metadata": {},
   "outputs": [],
   "source": [
    "names = ['Tom','Tim','JOn','Jim']\n",
    "marks = [67,78,54,99]"
   ]
  },
  {
   "cell_type": "markdown",
   "id": "4dcb161b",
   "metadata": {},
   "source": [
    "### zip comines the list elements sequentially and comines it forms an object  e.g. ('Tom',67)"
   ]
  },
  {
   "cell_type": "markdown",
   "id": "7596a848",
   "metadata": {},
   "source": [
    "#### dict converts it in dictionary "
   ]
  },
  {
   "cell_type": "code",
   "execution_count": 155,
   "id": "2c6bf91e",
   "metadata": {},
   "outputs": [
    {
     "data": {
      "text/plain": [
       "{'Tom': 67, 'Tim': 78, 'JOn': 54, 'Jim': 99}"
      ]
     },
     "execution_count": 155,
     "metadata": {},
     "output_type": "execute_result"
    }
   ],
   "source": [
    "m1 = dict(zip(names,marks))\n",
    "m1"
   ]
  },
  {
   "cell_type": "code",
   "execution_count": 156,
   "id": "23caa74a",
   "metadata": {},
   "outputs": [
    {
     "data": {
      "text/plain": [
       "dict_keys(['Tom', 'Tim', 'JOn', 'Jim'])"
      ]
     },
     "execution_count": 156,
     "metadata": {},
     "output_type": "execute_result"
    }
   ],
   "source": [
    "m1.keys()"
   ]
  },
  {
   "cell_type": "code",
   "execution_count": 157,
   "id": "40279f3d",
   "metadata": {},
   "outputs": [
    {
     "data": {
      "text/plain": [
       "dict_values([67, 78, 54, 99])"
      ]
     },
     "execution_count": 157,
     "metadata": {},
     "output_type": "execute_result"
    }
   ],
   "source": [
    "m1.values()"
   ]
  },
  {
   "cell_type": "code",
   "execution_count": 158,
   "id": "5a5ad0c2",
   "metadata": {},
   "outputs": [
    {
     "data": {
      "text/plain": [
       "dict_items([('Tom', 67), ('Tim', 78), ('JOn', 54), ('Jim', 99)])"
      ]
     },
     "execution_count": 158,
     "metadata": {},
     "output_type": "execute_result"
    }
   ],
   "source": [
    "m1.items()"
   ]
  },
  {
   "cell_type": "code",
   "execution_count": 159,
   "id": "ceb6784b",
   "metadata": {},
   "outputs": [
    {
     "data": {
      "text/plain": [
       "54"
      ]
     },
     "execution_count": 159,
     "metadata": {},
     "output_type": "execute_result"
    }
   ],
   "source": [
    "m1['JOn']"
   ]
  },
  {
   "cell_type": "code",
   "execution_count": 160,
   "id": "d3ecf350",
   "metadata": {},
   "outputs": [],
   "source": [
    "# dir(dict)"
   ]
  },
  {
   "cell_type": "markdown",
   "id": "345d00f9",
   "metadata": {},
   "source": [
    "#### States Capital List"
   ]
  },
  {
   "cell_type": "code",
   "execution_count": 161,
   "id": "06e0b66d",
   "metadata": {},
   "outputs": [
    {
     "name": "stdout",
     "output_type": "stream",
     "text": [
      "{'Bihar': 'pat', 'Telangana': 'hyd', 'AP': 'chen', 'MP': 'pune', 'Hp': 'kulu'}\n"
     ]
    }
   ],
   "source": [
    "states = ['Bihar','Telangana','AP','MP','Hp']\n",
    "capital = ['pat','hyd','chen','pune','kulu']\n",
    "combo = dict(zip(states,capital))\n",
    "print(combo)"
   ]
  },
  {
   "cell_type": "markdown",
   "id": "edb55efa",
   "metadata": {},
   "source": [
    "### Accessing Values -- adavantage of using get method"
   ]
  },
  {
   "cell_type": "code",
   "execution_count": 162,
   "id": "228e2729",
   "metadata": {},
   "outputs": [
    {
     "data": {
      "text/plain": [
       "('chen', 'NA')"
      ]
     },
     "execution_count": 162,
     "metadata": {},
     "output_type": "execute_result"
    }
   ],
   "source": [
    "combo.get('AP'),combo.get('Punjab','NA')"
   ]
  },
  {
   "cell_type": "markdown",
   "id": "06808c08",
   "metadata": {},
   "source": [
    "### Copy"
   ]
  },
  {
   "cell_type": "code",
   "execution_count": 163,
   "id": "f33116f6",
   "metadata": {},
   "outputs": [
    {
     "data": {
      "text/plain": [
       "{'Bihar': 'pat', 'Telangana': 'hyd', 'AP': 'chen', 'MP': 'pune', 'Hp': 'kulu'}"
      ]
     },
     "execution_count": 163,
     "metadata": {},
     "output_type": "execute_result"
    }
   ],
   "source": [
    "combo1 = combo.copy()\n",
    "combo1"
   ]
  },
  {
   "cell_type": "markdown",
   "id": "d24fac20",
   "metadata": {},
   "source": [
    "### Remove elements"
   ]
  },
  {
   "cell_type": "code",
   "execution_count": 164,
   "id": "3a95eced",
   "metadata": {},
   "outputs": [
    {
     "data": {
      "text/plain": [
       "{'Tom': 67, 'Tim': 78, 'JOn': 54, 'Jim': 99}"
      ]
     },
     "execution_count": 164,
     "metadata": {},
     "output_type": "execute_result"
    }
   ],
   "source": [
    "m1 "
   ]
  },
  {
   "cell_type": "code",
   "execution_count": 165,
   "id": "319dac97",
   "metadata": {},
   "outputs": [
    {
     "data": {
      "text/plain": [
       "('Jim', 99)"
      ]
     },
     "execution_count": 165,
     "metadata": {},
     "output_type": "execute_result"
    }
   ],
   "source": [
    "m1.popitem()"
   ]
  },
  {
   "cell_type": "code",
   "execution_count": 166,
   "id": "7dea349c",
   "metadata": {},
   "outputs": [
    {
     "data": {
      "text/plain": [
       "{'Tom': 67, 'Tim': 78, 'JOn': 54}"
      ]
     },
     "execution_count": 166,
     "metadata": {},
     "output_type": "execute_result"
    }
   ],
   "source": [
    "m1"
   ]
  },
  {
   "cell_type": "code",
   "execution_count": 167,
   "id": "1cdd6dd2",
   "metadata": {},
   "outputs": [
    {
     "data": {
      "text/plain": [
       "67"
      ]
     },
     "execution_count": 167,
     "metadata": {},
     "output_type": "execute_result"
    }
   ],
   "source": [
    "m1.pop('Tom')"
   ]
  },
  {
   "cell_type": "code",
   "execution_count": 168,
   "id": "cc15d615",
   "metadata": {},
   "outputs": [
    {
     "data": {
      "text/plain": [
       "{'Tim': 78, 'JOn': 54}"
      ]
     },
     "execution_count": 168,
     "metadata": {},
     "output_type": "execute_result"
    }
   ],
   "source": [
    "m1"
   ]
  },
  {
   "cell_type": "code",
   "execution_count": 169,
   "id": "9bd07b4d",
   "metadata": {},
   "outputs": [],
   "source": [
    "m1.clear()"
   ]
  },
  {
   "cell_type": "code",
   "execution_count": 170,
   "id": "2862b558",
   "metadata": {},
   "outputs": [
    {
     "data": {
      "text/plain": [
       "{}"
      ]
     },
     "execution_count": 170,
     "metadata": {},
     "output_type": "execute_result"
    }
   ],
   "source": [
    "m1"
   ]
  },
  {
   "cell_type": "markdown",
   "id": "f2dd4bed",
   "metadata": {},
   "source": [
    "### Update the dict"
   ]
  },
  {
   "cell_type": "code",
   "execution_count": 171,
   "id": "f345bdc1",
   "metadata": {},
   "outputs": [],
   "source": [
    "combo['AP'] = 'VIZ'"
   ]
  },
  {
   "cell_type": "code",
   "execution_count": 172,
   "id": "4f926540",
   "metadata": {},
   "outputs": [
    {
     "data": {
      "text/plain": [
       "{'Bihar': 'pat', 'Telangana': 'hyd', 'AP': 'VIZ', 'MP': 'pune', 'Hp': 'kulu'}"
      ]
     },
     "execution_count": 172,
     "metadata": {},
     "output_type": "execute_result"
    }
   ],
   "source": [
    "combo"
   ]
  },
  {
   "cell_type": "code",
   "execution_count": 173,
   "id": "8fff695a",
   "metadata": {},
   "outputs": [],
   "source": [
    "d1 = {1:'Mango', 2:'Kiwi', 3:'Papaya'}\n",
    "d2 = {2:'Grape',3:'Orange',4:'Papaya'}\n",
    "d1.update(d2)"
   ]
  },
  {
   "cell_type": "code",
   "execution_count": 174,
   "id": "d8bfdfc0",
   "metadata": {},
   "outputs": [
    {
     "data": {
      "text/plain": [
       "{1: 'Mango', 2: 'Grape', 3: 'Orange', 4: 'Papaya'}"
      ]
     },
     "execution_count": 174,
     "metadata": {},
     "output_type": "execute_result"
    }
   ],
   "source": [
    "d1"
   ]
  },
  {
   "cell_type": "markdown",
   "id": "ec9bdf71",
   "metadata": {},
   "source": [
    "### create dict using from keys"
   ]
  },
  {
   "cell_type": "code",
   "execution_count": 175,
   "id": "b1b4d4ad",
   "metadata": {},
   "outputs": [],
   "source": [
    "names = ['Tom','Tim','Jon','Jin']"
   ]
  },
  {
   "cell_type": "code",
   "execution_count": 176,
   "id": "b80bc0e9",
   "metadata": {},
   "outputs": [
    {
     "data": {
      "text/plain": [
       "{'Tom': 0, 'Tim': 0, 'Jon': 0, 'Jin': 0}"
      ]
     },
     "execution_count": 176,
     "metadata": {},
     "output_type": "execute_result"
    }
   ],
   "source": [
    "dict.fromkeys(names,0)"
   ]
  },
  {
   "cell_type": "markdown",
   "id": "059605dc",
   "metadata": {},
   "source": [
    "### Set Default"
   ]
  },
  {
   "cell_type": "code",
   "execution_count": 177,
   "id": "2abe4a4c",
   "metadata": {},
   "outputs": [
    {
     "data": {
      "text/plain": [
       "{1: 'Mango', 2: 'Grape', 3: 'Orange', 4: 'Papaya'}"
      ]
     },
     "execution_count": 177,
     "metadata": {},
     "output_type": "execute_result"
    }
   ],
   "source": [
    "d1"
   ]
  },
  {
   "cell_type": "code",
   "execution_count": 178,
   "id": "54ccab01",
   "metadata": {},
   "outputs": [
    {
     "data": {
      "text/plain": [
       "'Papaya'"
      ]
     },
     "execution_count": 178,
     "metadata": {},
     "output_type": "execute_result"
    }
   ],
   "source": [
    "d1.setdefault(4,'Blah')\n"
   ]
  },
  {
   "cell_type": "code",
   "execution_count": 179,
   "id": "e82f64f5",
   "metadata": {},
   "outputs": [
    {
     "data": {
      "text/plain": [
       "{1: 'Mango', 2: 'Grape', 3: 'Orange', 4: 'Papaya'}"
      ]
     },
     "execution_count": 179,
     "metadata": {},
     "output_type": "execute_result"
    }
   ],
   "source": [
    "d1"
   ]
  },
  {
   "cell_type": "code",
   "execution_count": 180,
   "id": "b0a56363",
   "metadata": {},
   "outputs": [
    {
     "data": {
      "text/plain": [
       "'Blah'"
      ]
     },
     "execution_count": 180,
     "metadata": {},
     "output_type": "execute_result"
    }
   ],
   "source": [
    "d1.setdefault(5,'Blah')"
   ]
  },
  {
   "cell_type": "code",
   "execution_count": 181,
   "id": "579a9f55",
   "metadata": {},
   "outputs": [
    {
     "data": {
      "text/plain": [
       "{1: 'Mango', 2: 'Grape', 3: 'Orange', 4: 'Papaya', 5: 'Blah'}"
      ]
     },
     "execution_count": 181,
     "metadata": {},
     "output_type": "execute_result"
    }
   ],
   "source": [
    "d1"
   ]
  },
  {
   "cell_type": "markdown",
   "id": "39e905c0",
   "metadata": {},
   "source": [
    "## Set DataTypes "
   ]
  },
  {
   "cell_type": "markdown",
   "id": "270508c9",
   "metadata": {},
   "source": [
    "### Properties \n",
    "+ No positional ordering\n",
    "+ No Duplicates\n",
    "+ Only immutable\n",
    "+ Hetreogenus\n",
    "+ Iterable"
   ]
  },
  {
   "cell_type": "code",
   "execution_count": 182,
   "id": "135588d7",
   "metadata": {},
   "outputs": [],
   "source": [
    "s1 = {34,32,24,52,76,65}"
   ]
  },
  {
   "cell_type": "code",
   "execution_count": 183,
   "id": "a46402e4",
   "metadata": {},
   "outputs": [
    {
     "data": {
      "text/plain": [
       "{24, 32, 34, 52, 65, 76}"
      ]
     },
     "execution_count": 183,
     "metadata": {},
     "output_type": "execute_result"
    }
   ],
   "source": [
    "s1"
   ]
  },
  {
   "cell_type": "markdown",
   "id": "77e5edec",
   "metadata": {},
   "source": [
    "#### No positional ordering ... used to create unique values elimnates duplicate automatically"
   ]
  },
  {
   "cell_type": "code",
   "execution_count": 184,
   "id": "e3a591d3",
   "metadata": {},
   "outputs": [
    {
     "data": {
      "text/plain": [
       "{1, 2, 4, 5, 6}"
      ]
     },
     "execution_count": 184,
     "metadata": {},
     "output_type": "execute_result"
    }
   ],
   "source": [
    "s2 = {1,2,2,4,5,4,6}\n",
    "s2"
   ]
  },
  {
   "cell_type": "markdown",
   "id": "2619c8ea",
   "metadata": {},
   "source": [
    "#### Used to remove duplicates easily "
   ]
  },
  {
   "cell_type": "code",
   "execution_count": 185,
   "id": "45b7734f",
   "metadata": {},
   "outputs": [],
   "source": [
    "lst = [34,55,67,34,78,67]"
   ]
  },
  {
   "cell_type": "code",
   "execution_count": 186,
   "id": "aa2695bc",
   "metadata": {},
   "outputs": [
    {
     "data": {
      "text/plain": [
       "{34, 55, 67, 78}"
      ]
     },
     "execution_count": 186,
     "metadata": {},
     "output_type": "execute_result"
    }
   ],
   "source": [
    "s3 = set(lst)\n",
    "s3"
   ]
  },
  {
   "cell_type": "code",
   "execution_count": 187,
   "id": "83825df1",
   "metadata": {},
   "outputs": [
    {
     "data": {
      "text/plain": [
       "{(8, 9, 10), 1.0, 2, 'Apple'}"
      ]
     },
     "execution_count": 187,
     "metadata": {},
     "output_type": "execute_result"
    }
   ],
   "source": [
    "mixed_sets = {2,1.0,'Apple',(8,9,10)}\n",
    "mixed_sets"
   ]
  },
  {
   "cell_type": "code",
   "execution_count": 188,
   "id": "534eaef6",
   "metadata": {},
   "outputs": [
    {
     "ename": "TypeError",
     "evalue": "unhashable type: 'list'",
     "output_type": "error",
     "traceback": [
      "\u001b[1;31m---------------------------------------------------------------------------\u001b[0m",
      "\u001b[1;31mTypeError\u001b[0m                                 Traceback (most recent call last)",
      "Cell \u001b[1;32mIn[188], line 1\u001b[0m\n\u001b[1;32m----> 1\u001b[0m mixed_set \u001b[38;5;241m=\u001b[39m {\u001b[38;5;241m2\u001b[39m,\u001b[38;5;241m1.0\u001b[39m,\u001b[38;5;124m'\u001b[39m\u001b[38;5;124mApple\u001b[39m\u001b[38;5;124m'\u001b[39m,(\u001b[38;5;241m8\u001b[39m,\u001b[38;5;241m9\u001b[39m,\u001b[38;5;241m10\u001b[39m),[\u001b[38;5;241m1\u001b[39m,\u001b[38;5;241m2\u001b[39m,\u001b[38;5;241m3\u001b[39m]}\n\u001b[0;32m      2\u001b[0m mixed_set\n",
      "\u001b[1;31mTypeError\u001b[0m: unhashable type: 'list'"
     ]
    }
   ],
   "source": [
    "mixed_set = {2,1.0,'Apple',(8,9,10),[1,2,3]}\n",
    "mixed_set"
   ]
  },
  {
   "cell_type": "code",
   "execution_count": 189,
   "id": "e187478b",
   "metadata": {},
   "outputs": [
    {
     "name": "stdout",
     "output_type": "stream",
     "text": [
      "1.0\n",
      "2\n",
      "Apple\n",
      "(8, 9, 10)\n"
     ]
    }
   ],
   "source": [
    "for x in mixed_sets:\n",
    "    print(x)"
   ]
  },
  {
   "cell_type": "markdown",
   "id": "4b198ff5",
   "metadata": {},
   "source": [
    "### Add elements to a set"
   ]
  },
  {
   "cell_type": "code",
   "execution_count": 190,
   "id": "63013e8f",
   "metadata": {},
   "outputs": [
    {
     "data": {
      "text/plain": [
       "{(8, 9, 10), 1.0, 2, 23, 'Apple'}"
      ]
     },
     "execution_count": 190,
     "metadata": {},
     "output_type": "execute_result"
    }
   ],
   "source": [
    "mixed_sets.add(23)\n",
    "mixed_sets"
   ]
  },
  {
   "cell_type": "markdown",
   "id": "8410ea62",
   "metadata": {},
   "source": [
    "### remove an element "
   ]
  },
  {
   "cell_type": "code",
   "execution_count": 191,
   "id": "763f9ed5",
   "metadata": {},
   "outputs": [],
   "source": [
    "mixed_sets.remove(23)"
   ]
  },
  {
   "cell_type": "code",
   "execution_count": 192,
   "id": "344a960d",
   "metadata": {},
   "outputs": [
    {
     "ename": "NameError",
     "evalue": "name 'mixed_set' is not defined",
     "output_type": "error",
     "traceback": [
      "\u001b[1;31m---------------------------------------------------------------------------\u001b[0m",
      "\u001b[1;31mNameError\u001b[0m                                 Traceback (most recent call last)",
      "Cell \u001b[1;32mIn[192], line 1\u001b[0m\n\u001b[1;32m----> 1\u001b[0m mixed_set\n",
      "\u001b[1;31mNameError\u001b[0m: name 'mixed_set' is not defined"
     ]
    }
   ],
   "source": [
    "mixed_set"
   ]
  },
  {
   "cell_type": "markdown",
   "id": "ce32a8b6",
   "metadata": {},
   "source": [
    "### Removes if element availbale but not throws error "
   ]
  },
  {
   "cell_type": "code",
   "execution_count": 193,
   "id": "4eba006d",
   "metadata": {},
   "outputs": [],
   "source": [
    "mixed_sets.discard(23)"
   ]
  },
  {
   "cell_type": "markdown",
   "id": "94a42969",
   "metadata": {},
   "source": [
    "## Pop"
   ]
  },
  {
   "cell_type": "code",
   "execution_count": 194,
   "id": "68af8bfd",
   "metadata": {},
   "outputs": [
    {
     "data": {
      "text/plain": [
       "1.0"
      ]
     },
     "execution_count": 194,
     "metadata": {},
     "output_type": "execute_result"
    }
   ],
   "source": [
    "mixed_sets.pop()"
   ]
  },
  {
   "cell_type": "markdown",
   "id": "4bc329aa",
   "metadata": {},
   "source": [
    "### Clear "
   ]
  },
  {
   "cell_type": "code",
   "execution_count": 195,
   "id": "dd17ac1d",
   "metadata": {},
   "outputs": [
    {
     "data": {
      "text/plain": [
       "set()"
      ]
     },
     "execution_count": 195,
     "metadata": {},
     "output_type": "execute_result"
    }
   ],
   "source": [
    "mixed_sets.clear()\n",
    "mixed_sets"
   ]
  },
  {
   "cell_type": "markdown",
   "id": "c9c395f1",
   "metadata": {},
   "source": [
    "## set specific methods -- set theory  "
   ]
  },
  {
   "cell_type": "markdown",
   "id": "771b43d0",
   "metadata": {},
   "source": [
    "### Intersection"
   ]
  },
  {
   "cell_type": "code",
   "execution_count": 196,
   "id": "27ab4609",
   "metadata": {},
   "outputs": [],
   "source": [
    "s1 = {1,2,3}\n",
    "s2 = {2,3,4}"
   ]
  },
  {
   "cell_type": "code",
   "execution_count": 197,
   "id": "d47fbc85",
   "metadata": {},
   "outputs": [
    {
     "data": {
      "text/plain": [
       "{2, 3}"
      ]
     },
     "execution_count": 197,
     "metadata": {},
     "output_type": "execute_result"
    }
   ],
   "source": [
    "s1 & s2"
   ]
  },
  {
   "cell_type": "code",
   "execution_count": 198,
   "id": "aa803117",
   "metadata": {},
   "outputs": [
    {
     "data": {
      "text/plain": [
       "{2, 3}"
      ]
     },
     "execution_count": 198,
     "metadata": {},
     "output_type": "execute_result"
    }
   ],
   "source": [
    "s1.intersection(s2)"
   ]
  },
  {
   "cell_type": "markdown",
   "id": "9de63993",
   "metadata": {},
   "source": [
    "#### Intersection of three sets is also possible"
   ]
  },
  {
   "cell_type": "code",
   "execution_count": 199,
   "id": "934c7ba2",
   "metadata": {},
   "outputs": [],
   "source": [
    "s1 = {1,2,3}\n",
    "s2 = {2,3,4}\n",
    "s3 = {3,4,5}"
   ]
  },
  {
   "cell_type": "code",
   "execution_count": 200,
   "id": "3c0f23aa",
   "metadata": {},
   "outputs": [
    {
     "data": {
      "text/plain": [
       "{3}"
      ]
     },
     "execution_count": 200,
     "metadata": {},
     "output_type": "execute_result"
    }
   ],
   "source": [
    "s1.intersection(s2,s3)"
   ]
  },
  {
   "cell_type": "markdown",
   "id": "f953811f",
   "metadata": {},
   "source": [
    "## Union "
   ]
  },
  {
   "cell_type": "code",
   "execution_count": 201,
   "id": "8d51a090",
   "metadata": {},
   "outputs": [
    {
     "data": {
      "text/plain": [
       "{1, 2, 3, 4}"
      ]
     },
     "execution_count": 201,
     "metadata": {},
     "output_type": "execute_result"
    }
   ],
   "source": [
    "s1|s2"
   ]
  },
  {
   "cell_type": "code",
   "execution_count": 202,
   "id": "c052ed9b",
   "metadata": {},
   "outputs": [
    {
     "data": {
      "text/plain": [
       "{1, 2, 3, 4}"
      ]
     },
     "execution_count": 202,
     "metadata": {},
     "output_type": "execute_result"
    }
   ],
   "source": [
    "s1.union(s2)"
   ]
  },
  {
   "cell_type": "markdown",
   "id": "2ccbf5f6",
   "metadata": {},
   "source": [
    "### Disjointed sets"
   ]
  },
  {
   "cell_type": "code",
   "execution_count": 203,
   "id": "38b265e6",
   "metadata": {},
   "outputs": [],
   "source": [
    "s1 = {1,2,3}\n",
    "s2 = {2,3,4}\n",
    "s3 = {10,11,13}"
   ]
  },
  {
   "cell_type": "code",
   "execution_count": 204,
   "id": "9976691a",
   "metadata": {},
   "outputs": [
    {
     "data": {
      "text/plain": [
       "False"
      ]
     },
     "execution_count": 204,
     "metadata": {},
     "output_type": "execute_result"
    }
   ],
   "source": [
    "s1.isdisjoint(s2)"
   ]
  },
  {
   "cell_type": "code",
   "execution_count": 205,
   "id": "718847ee",
   "metadata": {},
   "outputs": [
    {
     "data": {
      "text/plain": [
       "True"
      ]
     },
     "execution_count": 205,
     "metadata": {},
     "output_type": "execute_result"
    }
   ],
   "source": [
    "s1.isdisjoint(s3)"
   ]
  },
  {
   "cell_type": "markdown",
   "id": "b55ee1b0",
   "metadata": {},
   "source": [
    "### Difference -- not commutative"
   ]
  },
  {
   "cell_type": "code",
   "execution_count": 206,
   "id": "9df7c867",
   "metadata": {},
   "outputs": [],
   "source": [
    "s1 = {1,2,3}\n",
    "s2 = {2,3,4}"
   ]
  },
  {
   "cell_type": "code",
   "execution_count": 207,
   "id": "8ef6f82d",
   "metadata": {},
   "outputs": [
    {
     "data": {
      "text/plain": [
       "{1}"
      ]
     },
     "execution_count": 207,
     "metadata": {},
     "output_type": "execute_result"
    }
   ],
   "source": [
    "s1-s2"
   ]
  },
  {
   "cell_type": "code",
   "execution_count": 208,
   "id": "6fde15e6",
   "metadata": {},
   "outputs": [
    {
     "data": {
      "text/plain": [
       "{4}"
      ]
     },
     "execution_count": 208,
     "metadata": {},
     "output_type": "execute_result"
    }
   ],
   "source": [
    "s2-s1"
   ]
  },
  {
   "cell_type": "code",
   "execution_count": 209,
   "id": "a5bf8ad0",
   "metadata": {},
   "outputs": [
    {
     "data": {
      "text/plain": [
       "{1}"
      ]
     },
     "execution_count": 209,
     "metadata": {},
     "output_type": "execute_result"
    }
   ],
   "source": [
    "s1.difference(s2)"
   ]
  },
  {
   "cell_type": "code",
   "execution_count": 210,
   "id": "fccf2f0a",
   "metadata": {},
   "outputs": [
    {
     "data": {
      "text/plain": [
       "{4}"
      ]
     },
     "execution_count": 210,
     "metadata": {},
     "output_type": "execute_result"
    }
   ],
   "source": [
    "s2.difference(s1)"
   ]
  },
  {
   "cell_type": "markdown",
   "id": "cb26cc59",
   "metadata": {},
   "source": [
    "## Subsets and Super Set"
   ]
  },
  {
   "cell_type": "code",
   "execution_count": 211,
   "id": "b38b855a",
   "metadata": {},
   "outputs": [],
   "source": [
    "s1 = {1,2,3,4,5}\n",
    "s2 = {2,3,4}"
   ]
  },
  {
   "cell_type": "code",
   "execution_count": 212,
   "id": "43898088",
   "metadata": {},
   "outputs": [
    {
     "data": {
      "text/plain": [
       "True"
      ]
     },
     "execution_count": 212,
     "metadata": {},
     "output_type": "execute_result"
    }
   ],
   "source": [
    "s2.issubset(s1)"
   ]
  },
  {
   "cell_type": "code",
   "execution_count": 213,
   "id": "5e4a1531",
   "metadata": {},
   "outputs": [
    {
     "data": {
      "text/plain": [
       "False"
      ]
     },
     "execution_count": 213,
     "metadata": {},
     "output_type": "execute_result"
    }
   ],
   "source": [
    "s1.issubset(s2)"
   ]
  },
  {
   "cell_type": "code",
   "execution_count": 214,
   "id": "a925b30d",
   "metadata": {},
   "outputs": [
    {
     "data": {
      "text/plain": [
       "True"
      ]
     },
     "execution_count": 214,
     "metadata": {},
     "output_type": "execute_result"
    }
   ],
   "source": [
    "s1.issuperset(s2)"
   ]
  },
  {
   "cell_type": "code",
   "execution_count": 215,
   "id": "f2ca0f0d",
   "metadata": {},
   "outputs": [
    {
     "data": {
      "text/plain": [
       "False"
      ]
     },
     "execution_count": 215,
     "metadata": {},
     "output_type": "execute_result"
    }
   ],
   "source": [
    "s2.issuperset(s1)"
   ]
  },
  {
   "cell_type": "markdown",
   "id": "23d72f3e",
   "metadata": {},
   "source": [
    "### Removes the diffrence common elements of s2 from s1 "
   ]
  },
  {
   "cell_type": "code",
   "execution_count": 216,
   "id": "7ddf7ecc",
   "metadata": {},
   "outputs": [],
   "source": [
    "s1.difference_update(s2)"
   ]
  },
  {
   "cell_type": "code",
   "execution_count": 217,
   "id": "9698fa27",
   "metadata": {},
   "outputs": [
    {
     "data": {
      "text/plain": [
       "{1, 5}"
      ]
     },
     "execution_count": 217,
     "metadata": {},
     "output_type": "execute_result"
    }
   ],
   "source": [
    "s1"
   ]
  },
  {
   "cell_type": "code",
   "execution_count": 218,
   "id": "750a1a44",
   "metadata": {},
   "outputs": [],
   "source": [
    "# dir(set)"
   ]
  }
 ],
 "metadata": {
  "kernelspec": {
   "display_name": "Python 3 (ipykernel)",
   "language": "python",
   "name": "python3"
  },
  "language_info": {
   "codemirror_mode": {
    "name": "ipython",
    "version": 3
   },
   "file_extension": ".py",
   "mimetype": "text/x-python",
   "name": "python",
   "nbconvert_exporter": "python",
   "pygments_lexer": "ipython3",
   "version": "3.11.3"
  }
 },
 "nbformat": 4,
 "nbformat_minor": 5
}
