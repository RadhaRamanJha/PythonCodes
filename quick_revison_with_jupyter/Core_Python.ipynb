{
 "cells": [
  {
   "cell_type": "markdown",
   "id": "3d131268",
   "metadata": {},
   "source": [
    "## Conditional Statements"
   ]
  },
  {
   "cell_type": "markdown",
   "id": "411b0de7",
   "metadata": {},
   "source": [
    "#### If-else Construct "
   ]
  },
  {
   "cell_type": "code",
   "execution_count": 1,
   "id": "4b6ef2ad",
   "metadata": {},
   "outputs": [],
   "source": [
    "num = 10 "
   ]
  },
  {
   "cell_type": "code",
   "execution_count": 2,
   "id": "b9af28e3",
   "metadata": {},
   "outputs": [
    {
     "name": "stdout",
     "output_type": "stream",
     "text": [
      "Possitive\n"
     ]
    }
   ],
   "source": [
    "if num > 0:\n",
    "    print('Possitive')\n",
    "else:\n",
    "    print('Negative')"
   ]
  },
  {
   "cell_type": "code",
   "execution_count": 3,
   "id": "3c0f3de2",
   "metadata": {},
   "outputs": [],
   "source": [
    "age = 20"
   ]
  },
  {
   "cell_type": "code",
   "execution_count": 4,
   "id": "dfe57236",
   "metadata": {},
   "outputs": [
    {
     "name": "stdout",
     "output_type": "stream",
     "text": [
      "You are Eligible\n",
      "Congrats!!\n"
     ]
    }
   ],
   "source": [
    "if age > 18:\n",
    "    print('You are Eligible')\n",
    "    print('Congrats!!')\n",
    "else:\n",
    "    print('Not eligible')\n",
    "    print('Try Later')"
   ]
  },
  {
   "cell_type": "markdown",
   "id": "e4001920",
   "metadata": {},
   "source": [
    "### if-elif-else construct "
   ]
  },
  {
   "cell_type": "code",
   "execution_count": 5,
   "id": "494bff84",
   "metadata": {},
   "outputs": [],
   "source": [
    "marks = 88"
   ]
  },
  {
   "cell_type": "code",
   "execution_count": 6,
   "id": "85ef8d8f",
   "metadata": {},
   "outputs": [
    {
     "name": "stdout",
     "output_type": "stream",
     "text": [
      "Distinction\n"
     ]
    }
   ],
   "source": [
    "if marks >= 80:\n",
    "    print('Distinction')\n",
    "elif marks >= 60 :\n",
    "    print(\"First Class\")\n",
    "elif marks >= 50:\n",
    "    print(\"Second Class\")\n",
    "else:\n",
    "    print('Fail')"
   ]
  },
  {
   "cell_type": "markdown",
   "id": "f77e16cc",
   "metadata": {},
   "source": [
    "## Loops - Excecute repetedly"
   ]
  },
  {
   "cell_type": "markdown",
   "id": "f599fa1b",
   "metadata": {},
   "source": [
    "## 1. for loop"
   ]
  },
  {
   "cell_type": "code",
   "execution_count": 7,
   "id": "0dac12bd",
   "metadata": {},
   "outputs": [
    {
     "name": "stdout",
     "output_type": "stream",
     "text": [
      "1\n",
      "2\n",
      "3\n",
      "4\n"
     ]
    }
   ],
   "source": [
    "for x in range(1,5):\n",
    "    print(x)"
   ]
  },
  {
   "cell_type": "code",
   "execution_count": 8,
   "id": "edb085f9",
   "metadata": {},
   "outputs": [
    {
     "name": "stdout",
     "output_type": "stream",
     "text": [
      "*\n",
      "**\n",
      "***\n",
      "****\n"
     ]
    }
   ],
   "source": [
    "for x in range(1,5):\n",
    "    print(x*'*')"
   ]
  },
  {
   "cell_type": "code",
   "execution_count": 9,
   "id": "e056ad7c",
   "metadata": {},
   "outputs": [
    {
     "name": "stdout",
     "output_type": "stream",
     "text": [
      "50\n",
      "60\n",
      "70\n",
      "80\n",
      "90\n",
      "100\n"
     ]
    }
   ],
   "source": [
    "for x in range(50,101,10):\n",
    "    print(x)"
   ]
  },
  {
   "cell_type": "code",
   "execution_count": 10,
   "id": "c1124a78",
   "metadata": {},
   "outputs": [
    {
     "name": "stdout",
     "output_type": "stream",
     "text": [
      "100\n",
      "90\n",
      "80\n",
      "70\n",
      "60\n"
     ]
    }
   ],
   "source": [
    "for x in range(100,50,-10):\n",
    "    print(x)"
   ]
  },
  {
   "cell_type": "code",
   "execution_count": 11,
   "id": "022b5c83",
   "metadata": {},
   "outputs": [
    {
     "name": "stdout",
     "output_type": "stream",
     "text": [
      "*****\n",
      "****\n",
      "***\n",
      "**\n",
      "*\n"
     ]
    }
   ],
   "source": [
    "for x in range(5,0,-1):\n",
    "    print(x*'*')"
   ]
  },
  {
   "cell_type": "code",
   "execution_count": 12,
   "id": "96cee029",
   "metadata": {},
   "outputs": [],
   "source": [
    "lst = [11,22,33,44,55]"
   ]
  },
  {
   "cell_type": "code",
   "execution_count": 13,
   "id": "3d4521d7",
   "metadata": {},
   "outputs": [
    {
     "name": "stdout",
     "output_type": "stream",
     "text": [
      "11\n",
      "22\n",
      "33\n",
      "44\n",
      "55\n"
     ]
    }
   ],
   "source": [
    "for x in lst:\n",
    "    print(x)"
   ]
  },
  {
   "cell_type": "markdown",
   "id": "9b761c18",
   "metadata": {},
   "source": [
    "### 2.While loop"
   ]
  },
  {
   "cell_type": "code",
   "execution_count": 14,
   "id": "556a6d21",
   "metadata": {},
   "outputs": [
    {
     "name": "stdout",
     "output_type": "stream",
     "text": [
      "Hello\n",
      "Hello\n",
      "Hello\n",
      "Hello\n",
      "Hello\n",
      "Completed\n"
     ]
    }
   ],
   "source": [
    "cnt = 0\n",
    "while cnt < 5:\n",
    "    print('Hello')\n",
    "    cnt += 1\n",
    "print('Completed')"
   ]
  },
  {
   "cell_type": "markdown",
   "id": "086278aa",
   "metadata": {},
   "source": [
    "## Function in Python -- should have a return statement"
   ]
  },
  {
   "cell_type": "code",
   "execution_count": 15,
   "id": "0d641773",
   "metadata": {},
   "outputs": [],
   "source": [
    "def square(x):\n",
    "    \"\"\"\n",
    "    Parameter: Pass a numeric Value\n",
    "    returns: The square of Parameter\"\"\"\n",
    "    return x**2"
   ]
  },
  {
   "cell_type": "code",
   "execution_count": 16,
   "id": "c96a3e7e",
   "metadata": {},
   "outputs": [
    {
     "data": {
      "text/plain": [
       "64"
      ]
     },
     "execution_count": 16,
     "metadata": {},
     "output_type": "execute_result"
    }
   ],
   "source": [
    "square(8)"
   ]
  },
  {
   "cell_type": "code",
   "execution_count": 17,
   "id": "5f53a4ef",
   "metadata": {},
   "outputs": [
    {
     "data": {
      "text/plain": [
       "121"
      ]
     },
     "execution_count": 17,
     "metadata": {},
     "output_type": "execute_result"
    }
   ],
   "source": [
    "square(11)"
   ]
  },
  {
   "cell_type": "markdown",
   "id": "82c90136",
   "metadata": {},
   "source": [
    "### There should only one return statement in a function definition as per convention 'Proffesionally' -- ma'am suggestion "
   ]
  },
  {
   "cell_type": "code",
   "execution_count": 18,
   "id": "5e615f22",
   "metadata": {},
   "outputs": [],
   "source": [
    "def grade(marks):\n",
    "    if marks >= 80:\n",
    "        grade = 'Distinction'\n",
    "    elif marks >= 60 :\n",
    "        grade = \"First Class\"\n",
    "    elif marks >= 50:\n",
    "        grade = \"Second Class\"\n",
    "    else:\n",
    "        grade = 'Fail'\n",
    "    return grade"
   ]
  },
  {
   "cell_type": "code",
   "execution_count": 19,
   "id": "bcb17dab",
   "metadata": {},
   "outputs": [
    {
     "data": {
      "text/plain": [
       "'Second Class'"
      ]
     },
     "execution_count": 19,
     "metadata": {},
     "output_type": "execute_result"
    }
   ],
   "source": [
    "grade(58)"
   ]
  },
  {
   "cell_type": "code",
   "execution_count": 20,
   "id": "fe1c1532",
   "metadata": {},
   "outputs": [
    {
     "data": {
      "text/plain": [
       "'Fail'"
      ]
     },
     "execution_count": 20,
     "metadata": {},
     "output_type": "execute_result"
    }
   ],
   "source": [
    "grade(46)"
   ]
  },
  {
   "cell_type": "code",
   "execution_count": 21,
   "id": "4ecdeba1",
   "metadata": {},
   "outputs": [
    {
     "data": {
      "text/plain": [
       "'First Class'"
      ]
     },
     "execution_count": 21,
     "metadata": {},
     "output_type": "execute_result"
    }
   ],
   "source": [
    "grade(78)"
   ]
  },
  {
   "cell_type": "code",
   "execution_count": 22,
   "id": "0e04474d",
   "metadata": {},
   "outputs": [
    {
     "data": {
      "text/plain": [
       "'Distinction'"
      ]
     },
     "execution_count": 22,
     "metadata": {},
     "output_type": "execute_result"
    }
   ],
   "source": [
    "grade(99)"
   ]
  },
  {
   "cell_type": "code",
   "execution_count": 23,
   "id": "5256e112",
   "metadata": {},
   "outputs": [],
   "source": [
    "def ticket_price(clas,cupon):\n",
    "    \"\"\"\n",
    "    Parameters:\n",
    "    clas - the class(a or b or c) in upper or lower case\n",
    "    cupon - 'y' or 'n' in upper or lower case \n",
    "    \n",
    "    Returns:\n",
    "    The Price of Ticket to be Paid\n",
    "    \"\"\"\n",
    "    discount = 0\n",
    "    if clas.lower() == 'a':\n",
    "        res = 50\n",
    "    elif clas.lower() == 'b':\n",
    "        res = 40\n",
    "    elif clas.lower() == 'c':\n",
    "        res = 25\n",
    "    if cupon.lower() == 'y':\n",
    "        discount = 0.1*res\n",
    "    tick_price = res-discount\n",
    "    return('$' + str(tick_price))"
   ]
  },
  {
   "cell_type": "code",
   "execution_count": 24,
   "id": "7975e514",
   "metadata": {},
   "outputs": [
    {
     "data": {
      "text/plain": [
       "'$45.0'"
      ]
     },
     "execution_count": 24,
     "metadata": {},
     "output_type": "execute_result"
    }
   ],
   "source": [
    "ticket_price('A','Y')"
   ]
  },
  {
   "cell_type": "code",
   "execution_count": 25,
   "id": "bd61b73f",
   "metadata": {},
   "outputs": [
    {
     "data": {
      "text/plain": [
       "'$40'"
      ]
     },
     "execution_count": 25,
     "metadata": {},
     "output_type": "execute_result"
    }
   ],
   "source": [
    "ticket_price('B','N')"
   ]
  },
  {
   "cell_type": "markdown",
   "id": "0300d14b",
   "metadata": {},
   "source": [
    "## Lambda Functions"
   ]
  },
  {
   "cell_type": "markdown",
   "id": "f3d7d9e8",
   "metadata": {},
   "source": [
    "#### Anonymous or nameless function"
   ]
  },
  {
   "cell_type": "code",
   "execution_count": 26,
   "id": "cf716530",
   "metadata": {},
   "outputs": [],
   "source": [
    "fn = lambda x : x**2"
   ]
  },
  {
   "cell_type": "code",
   "execution_count": 27,
   "id": "5ec17c51",
   "metadata": {},
   "outputs": [
    {
     "data": {
      "text/plain": [
       "81"
      ]
     },
     "execution_count": 27,
     "metadata": {},
     "output_type": "execute_result"
    }
   ],
   "source": [
    "fn(9)"
   ]
  },
  {
   "cell_type": "code",
   "execution_count": 28,
   "id": "e39cd816",
   "metadata": {},
   "outputs": [],
   "source": [
    "fn1 = lambda x,y:x+y"
   ]
  },
  {
   "cell_type": "code",
   "execution_count": 29,
   "id": "e7968ec3",
   "metadata": {},
   "outputs": [
    {
     "data": {
      "text/plain": [
       "19"
      ]
     },
     "execution_count": 29,
     "metadata": {},
     "output_type": "execute_result"
    }
   ],
   "source": [
    "fn1(9,10)"
   ]
  }
 ],
 "metadata": {
  "kernelspec": {
   "display_name": "Python 3 (ipykernel)",
   "language": "python",
   "name": "python3"
  },
  "language_info": {
   "codemirror_mode": {
    "name": "ipython",
    "version": 3
   },
   "file_extension": ".py",
   "mimetype": "text/x-python",
   "name": "python",
   "nbconvert_exporter": "python",
   "pygments_lexer": "ipython3",
   "version": "3.11.3"
  }
 },
 "nbformat": 4,
 "nbformat_minor": 5
}
