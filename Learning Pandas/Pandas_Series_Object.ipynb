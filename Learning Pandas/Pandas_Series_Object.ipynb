{
 "cells": [
  {
   "cell_type": "markdown",
   "id": "23b60f73",
   "metadata": {},
   "source": [
    "### Convention of importing pandas and numpy"
   ]
  },
  {
   "cell_type": "code",
   "execution_count": 1,
   "id": "9e8d3512",
   "metadata": {},
   "outputs": [],
   "source": [
    "import numpy as np\n",
    "import pandas as pd"
   ]
  },
  {
   "cell_type": "markdown",
   "id": "7710b2be",
   "metadata": {},
   "source": [
    "### Pandas series created from a list"
   ]
  },
  {
   "cell_type": "code",
   "execution_count": 2,
   "id": "ee16c98a",
   "metadata": {},
   "outputs": [
    {
     "name": "stdout",
     "output_type": "stream",
     "text": [
      "0     2\n",
      "1     4\n",
      "2     6\n",
      "3     8\n",
      "4    10\n",
      "5    12\n",
      "6    14\n",
      "7    16\n",
      "8    18\n",
      "9    20\n",
      "dtype: int64\n"
     ]
    }
   ],
   "source": [
    "s1 = pd.Series([2,4,6,8,10,12,14,16,18,20])\n",
    "print(s1)"
   ]
  },
  {
   "cell_type": "markdown",
   "id": "3465890f",
   "metadata": {},
   "source": [
    "### Assigning own labels to Series"
   ]
  },
  {
   "cell_type": "code",
   "execution_count": 3,
   "id": "8535ea52",
   "metadata": {},
   "outputs": [
    {
     "name": "stdout",
     "output_type": "stream",
     "text": [
      "x    1\n",
      "y    2\n",
      "z    3\n",
      "dtype: int64\n"
     ]
    }
   ],
   "source": [
    "a = [1,2,3]\n",
    "my_var = pd.Series(a,index = ['x','y','z'] )\n",
    "print(my_var)"
   ]
  },
  {
   "cell_type": "markdown",
   "id": "b357e980",
   "metadata": {},
   "source": [
    "### The Series elements can be accesed through assigned labels "
   ]
  },
  {
   "cell_type": "code",
   "execution_count": 4,
   "id": "a7c89ff1",
   "metadata": {},
   "outputs": [
    {
     "name": "stdout",
     "output_type": "stream",
     "text": [
      "1\n"
     ]
    }
   ],
   "source": [
    "print(my_var['x'])"
   ]
  },
  {
   "cell_type": "markdown",
   "id": "ec60cabf",
   "metadata": {},
   "source": [
    "### Key value objects as Series"
   ]
  },
  {
   "cell_type": "code",
   "execution_count": 5,
   "id": "ac2c9ace",
   "metadata": {
    "scrolled": true
   },
   "outputs": [
    {
     "name": "stdout",
     "output_type": "stream",
     "text": [
      "jan    202301\n",
      "feb    202302\n",
      "mar    202303\n",
      "apr    202304\n",
      "dtype: int64\n"
     ]
    }
   ],
   "source": [
    "mo_yr_num = pd.Series({'jan':202301,'feb': 202302,'mar':202303,'apr':202304})\n",
    "print(mo_yr_num)"
   ]
  },
  {
   "cell_type": "code",
   "execution_count": 6,
   "id": "19495230",
   "metadata": {},
   "outputs": [
    {
     "name": "stdout",
     "output_type": "stream",
     "text": [
      "jan    202301\n",
      "feb    202302\n",
      "dtype: int64\n"
     ]
    }
   ],
   "source": [
    "my_value = pd.Series(mo_yr_num,index = ['jan','feb'])\n",
    "print(my_value)"
   ]
  },
  {
   "cell_type": "markdown",
   "id": "3540ade1",
   "metadata": {},
   "source": [
    "### Formating the output"
   ]
  },
  {
   "cell_type": "code",
   "execution_count": 7,
   "id": "8e6253a1",
   "metadata": {},
   "outputs": [],
   "source": [
    "# To control the representation of the rendering\n",
    "pd.set_option('display.notebook_repr_html',False)\n",
    "# To set the maximum number of columns\n",
    "pd.set_option('display.max_columns',10)\n",
    "# To set the maximum number of rows\n",
    "pd.set_option('display.max_rows',10)"
   ]
  },
  {
   "cell_type": "markdown",
   "id": "418f633d",
   "metadata": {},
   "source": [
    "### Series can also by constructed using a scalar value"
   ]
  },
  {
   "cell_type": "code",
   "execution_count": 8,
   "id": "37476059",
   "metadata": {},
   "outputs": [],
   "source": [
    "s1 = pd.Series(2)"
   ]
  },
  {
   "cell_type": "markdown",
   "id": "aaa550dd",
   "metadata": {},
   "source": [
    "### The values inside a series can be accessed using the labels"
   ]
  },
  {
   "cell_type": "code",
   "execution_count": 9,
   "id": "fd8c4d24",
   "metadata": {},
   "outputs": [
    {
     "data": {
      "text/plain": [
       "2"
      ]
     },
     "execution_count": 9,
     "metadata": {},
     "output_type": "execute_result"
    }
   ],
   "source": [
    "s1[0]"
   ]
  },
  {
   "cell_type": "markdown",
   "id": "211fb372",
   "metadata": {},
   "source": [
    "### Creation of numpy series using a list"
   ]
  },
  {
   "cell_type": "code",
   "execution_count": 10,
   "id": "e00e44e1",
   "metadata": {},
   "outputs": [
    {
     "data": {
      "text/plain": [
       "0    1\n",
       "1    2\n",
       "2    3\n",
       "3    4\n",
       "4    5\n",
       "dtype: int64"
      ]
     },
     "execution_count": 10,
     "metadata": {},
     "output_type": "execute_result"
    }
   ],
   "source": [
    "s2 = pd.Series([1,2,3,4,5])\n",
    "s2"
   ]
  },
  {
   "cell_type": "markdown",
   "id": "380ea3df",
   "metadata": {},
   "source": [
    "### The values of series can be accessed via the values property"
   ]
  },
  {
   "cell_type": "code",
   "execution_count": 11,
   "id": "bfc71e2e",
   "metadata": {},
   "outputs": [
    {
     "data": {
      "text/plain": [
       "array([1, 2, 3, 4, 5], dtype=int64)"
      ]
     },
     "execution_count": 11,
     "metadata": {},
     "output_type": "execute_result"
    }
   ],
   "source": [
    "s2.values"
   ]
  },
  {
   "cell_type": "markdown",
   "id": "449ea4a9",
   "metadata": {},
   "source": [
    "### Use of index property of series"
   ]
  },
  {
   "cell_type": "code",
   "execution_count": 12,
   "id": "1793c910",
   "metadata": {},
   "outputs": [
    {
     "data": {
      "text/plain": [
       "RangeIndex(start=0, stop=5, step=1)"
      ]
     },
     "execution_count": 12,
     "metadata": {},
     "output_type": "execute_result"
    }
   ],
   "source": [
    "s2.index"
   ]
  },
  {
   "cell_type": "markdown",
   "id": "0b7c7eb1",
   "metadata": {},
   "source": [
    "### Using list to create series"
   ]
  },
  {
   "cell_type": "code",
   "execution_count": 13,
   "id": "ec929618",
   "metadata": {},
   "outputs": [],
   "source": [
    "s3 = pd.Series([1,2,3,4,5], index = ['a','b','c','d','e'])"
   ]
  },
  {
   "cell_type": "markdown",
   "id": "4165a4ef",
   "metadata": {},
   "source": [
    "### .value property of series"
   ]
  },
  {
   "cell_type": "code",
   "execution_count": 14,
   "id": "0c683ac2",
   "metadata": {},
   "outputs": [
    {
     "data": {
      "text/plain": [
       "array([1, 2, 3, 4, 5], dtype=int64)"
      ]
     },
     "execution_count": 14,
     "metadata": {},
     "output_type": "execute_result"
    }
   ],
   "source": [
    "s3.values"
   ]
  },
  {
   "cell_type": "markdown",
   "id": "95f42660",
   "metadata": {},
   "source": [
    "### .index property of series"
   ]
  },
  {
   "cell_type": "code",
   "execution_count": 15,
   "id": "ac4d8fcd",
   "metadata": {},
   "outputs": [
    {
     "data": {
      "text/plain": [
       "Index(['a', 'b', 'c', 'd', 'e'], dtype='object')"
      ]
     },
     "execution_count": 15,
     "metadata": {},
     "output_type": "execute_result"
    }
   ],
   "source": [
    "s3.index"
   ]
  },
  {
   "cell_type": "markdown",
   "id": "64f4a77a",
   "metadata": {},
   "source": [
    "### Series Behaviour "
   ]
  },
  {
   "cell_type": "code",
   "execution_count": 16,
   "id": "e577e11c",
   "metadata": {},
   "outputs": [
    {
     "data": {
      "text/plain": [
       "a    3\n",
       "b    4\n",
       "c    5\n",
       "d    6\n",
       "e    7\n",
       "dtype: int64"
      ]
     },
     "execution_count": 16,
     "metadata": {},
     "output_type": "execute_result"
    }
   ],
   "source": [
    "s3+2"
   ]
  },
  {
   "cell_type": "code",
   "execution_count": 17,
   "id": "14e5a2fb",
   "metadata": {},
   "outputs": [
    {
     "data": {
      "text/plain": [
       "a    1\n",
       "b    2\n",
       "c    3\n",
       "d    4\n",
       "e    5\n",
       "dtype: int64"
      ]
     },
     "execution_count": 17,
     "metadata": {},
     "output_type": "execute_result"
    }
   ],
   "source": [
    "s3"
   ]
  },
  {
   "cell_type": "code",
   "execution_count": 18,
   "id": "7cbeba79",
   "metadata": {},
   "outputs": [],
   "source": [
    "s4 = pd.Series(3,index = s3.index)"
   ]
  },
  {
   "cell_type": "code",
   "execution_count": 19,
   "id": "4238f3a8",
   "metadata": {},
   "outputs": [
    {
     "data": {
      "text/plain": [
       "a    3\n",
       "b    3\n",
       "c    3\n",
       "d    3\n",
       "e    3\n",
       "dtype: int64"
      ]
     },
     "execution_count": 19,
     "metadata": {},
     "output_type": "execute_result"
    }
   ],
   "source": [
    "s4"
   ]
  },
  {
   "cell_type": "markdown",
   "id": "a26fa2c9",
   "metadata": {},
   "source": [
    "### Create Series from an existing index; scalar value with be copied at each index label"
   ]
  },
  {
   "cell_type": "code",
   "execution_count": 20,
   "id": "1f444c37",
   "metadata": {},
   "outputs": [
    {
     "data": {
      "text/plain": [
       "0    2\n",
       "1    2\n",
       "2    2\n",
       "3    2\n",
       "4    2\n",
       "dtype: int64"
      ]
     },
     "execution_count": 20,
     "metadata": {},
     "output_type": "execute_result"
    }
   ],
   "source": [
    "s5 = pd.Series(2,index = s2.index )\n",
    "s5"
   ]
  },
  {
   "cell_type": "markdown",
   "id": "ca00bdf1",
   "metadata": {},
   "source": [
    "### Creates a Series from five normally distributed values"
   ]
  },
  {
   "cell_type": "code",
   "execution_count": 21,
   "id": "86277093",
   "metadata": {},
   "outputs": [
    {
     "data": {
      "text/plain": [
       "0    0.469112\n",
       "1   -0.282863\n",
       "2   -1.509059\n",
       "3   -1.135632\n",
       "4    1.212112\n",
       "dtype: float64"
      ]
     },
     "execution_count": 21,
     "metadata": {},
     "output_type": "execute_result"
    }
   ],
   "source": [
    "d4 = np.random.seed(123456)\n",
    "pd.Series(np.random.randn(5))"
   ]
  },
  {
   "cell_type": "markdown",
   "id": "5c5f8554",
   "metadata": {},
   "source": [
    "### Creating series from numpy linspace"
   ]
  },
  {
   "cell_type": "code",
   "execution_count": 22,
   "id": "a6789827",
   "metadata": {},
   "outputs": [
    {
     "data": {
      "text/plain": [
       "0    0.0\n",
       "1    1.0\n",
       "2    2.0\n",
       "3    3.0\n",
       "4    4.0\n",
       "5    5.0\n",
       "6    6.0\n",
       "7    7.0\n",
       "8    8.0\n",
       "9    9.0\n",
       "dtype: float64"
      ]
     },
     "execution_count": 22,
     "metadata": {},
     "output_type": "execute_result"
    }
   ],
   "source": [
    "d5 = pd.Series(np.linspace(0,9,10))\n",
    "d5"
   ]
  },
  {
   "cell_type": "markdown",
   "id": "2d7f10f7",
   "metadata": {},
   "source": [
    "### Creating Series from numpy arange"
   ]
  },
  {
   "cell_type": "code",
   "execution_count": 23,
   "id": "a33a1207",
   "metadata": {},
   "outputs": [
    {
     "data": {
      "text/plain": [
       "0    0\n",
       "1    1\n",
       "2    2\n",
       "3    3\n",
       "4    4\n",
       "5    5\n",
       "6    6\n",
       "7    7\n",
       "8    8\n",
       "dtype: int32"
      ]
     },
     "execution_count": 23,
     "metadata": {},
     "output_type": "execute_result"
    }
   ],
   "source": [
    "d6 = pd.Series(np.arange(0,9))\n",
    "d6"
   ]
  },
  {
   "cell_type": "markdown",
   "id": "edae5126",
   "metadata": {},
   "source": [
    "### Creating a series from dictionary "
   ]
  },
  {
   "cell_type": "code",
   "execution_count": 24,
   "id": "0f295276",
   "metadata": {},
   "outputs": [
    {
     "data": {
      "text/plain": [
       "a    1\n",
       "b    2\n",
       "c    3\n",
       "dtype: int64"
      ]
     },
     "execution_count": 24,
     "metadata": {},
     "output_type": "execute_result"
    }
   ],
   "source": [
    "d7 = pd.Series({'a':1,'b':2,'c':3})\n",
    "d7"
   ]
  },
  {
   "cell_type": "code",
   "execution_count": 25,
   "id": "ed12367d",
   "metadata": {},
   "outputs": [
    {
     "data": {
      "text/plain": [
       "a    1\n",
       "b    2\n",
       "dtype: int64"
      ]
     },
     "execution_count": 25,
     "metadata": {},
     "output_type": "execute_result"
    }
   ],
   "source": [
    "d7.head(n = 2)"
   ]
  },
  {
   "cell_type": "markdown",
   "id": "03277f41",
   "metadata": {},
   "source": [
    "### Example Series to determine Size, shape, uniqueness, and counts of values"
   ]
  },
  {
   "cell_type": "code",
   "execution_count": 26,
   "id": "183c5535",
   "metadata": {},
   "outputs": [
    {
     "data": {
      "text/plain": [
       "0    0.0\n",
       "1    1.0\n",
       "2    1.0\n",
       "3    2.0\n",
       "4    3.0\n",
       "5    4.0\n",
       "6    5.0\n",
       "7    6.0\n",
       "8    7.0\n",
       "9    NaN\n",
       "dtype: float64"
      ]
     },
     "execution_count": 26,
     "metadata": {},
     "output_type": "execute_result"
    }
   ],
   "source": [
    "s = pd.Series([0, 1, 1, 2, 3, 4, 5, 6, 7, np.nan])\n",
    "s"
   ]
  },
  {
   "cell_type": "markdown",
   "id": "9c83a136",
   "metadata": {},
   "source": [
    "### Length of a Series"
   ]
  },
  {
   "cell_type": "code",
   "execution_count": 27,
   "id": "86d514ff",
   "metadata": {},
   "outputs": [
    {
     "data": {
      "text/plain": [
       "10"
      ]
     },
     "execution_count": 27,
     "metadata": {},
     "output_type": "execute_result"
    }
   ],
   "source": [
    "len(s)"
   ]
  },
  {
   "cell_type": "markdown",
   "id": "7b00a707",
   "metadata": {},
   "source": [
    "#### .size property to get number of elements in series"
   ]
  },
  {
   "cell_type": "code",
   "execution_count": 28,
   "id": "c0a2294c",
   "metadata": {},
   "outputs": [
    {
     "data": {
      "text/plain": [
       "10"
      ]
     },
     "execution_count": 28,
     "metadata": {},
     "output_type": "execute_result"
    }
   ],
   "source": [
    "s.size"
   ]
  },
  {
   "cell_type": "markdown",
   "id": "dec68d40",
   "metadata": {},
   "source": [
    "#### .shape property returns a tuple with first element = number of elements in series"
   ]
  },
  {
   "cell_type": "code",
   "execution_count": 29,
   "id": "a74b7501",
   "metadata": {},
   "outputs": [
    {
     "data": {
      "text/plain": [
       "(10,)"
      ]
     },
     "execution_count": 29,
     "metadata": {},
     "output_type": "execute_result"
    }
   ],
   "source": [
    "s.shape"
   ]
  },
  {
   "cell_type": "markdown",
   "id": "7ef8cfdd",
   "metadata": {},
   "source": [
    "#### Number of values that are not NaN"
   ]
  },
  {
   "cell_type": "code",
   "execution_count": 30,
   "id": "155437d1",
   "metadata": {},
   "outputs": [
    {
     "data": {
      "text/plain": [
       "9"
      ]
     },
     "execution_count": 30,
     "metadata": {},
     "output_type": "execute_result"
    }
   ],
   "source": [
    "s.count()"
   ]
  },
  {
   "cell_type": "markdown",
   "id": "478e0ff8",
   "metadata": {},
   "source": [
    "#### All the unique value in series"
   ]
  },
  {
   "cell_type": "code",
   "execution_count": 31,
   "id": "5fdb064b",
   "metadata": {},
   "outputs": [
    {
     "data": {
      "text/plain": [
       "array([ 0.,  1.,  2.,  3.,  4.,  5.,  6.,  7., nan])"
      ]
     },
     "execution_count": 31,
     "metadata": {},
     "output_type": "execute_result"
    }
   ],
   "source": [
    "s.unique()"
   ]
  },
  {
   "cell_type": "markdown",
   "id": "6caccfb3",
   "metadata": {},
   "source": [
    "#### Count of all unique items in series"
   ]
  },
  {
   "cell_type": "code",
   "execution_count": 32,
   "id": "0c7443c7",
   "metadata": {},
   "outputs": [
    {
     "data": {
      "text/plain": [
       "1.0    2\n",
       "0.0    1\n",
       "2.0    1\n",
       "3.0    1\n",
       "4.0    1\n",
       "5.0    1\n",
       "6.0    1\n",
       "7.0    1\n",
       "dtype: int64"
      ]
     },
     "execution_count": 32,
     "metadata": {},
     "output_type": "execute_result"
    }
   ],
   "source": [
    "s.value_counts()"
   ]
  },
  {
   "cell_type": "markdown",
   "id": "4d0010df",
   "metadata": {},
   "source": [
    "### Peeking at data with heads, tails, and take"
   ]
  },
  {
   "cell_type": "markdown",
   "id": "9c22fff2",
   "metadata": {},
   "source": [
    "##### First 5 data of series"
   ]
  },
  {
   "cell_type": "code",
   "execution_count": 33,
   "id": "49e95d67",
   "metadata": {},
   "outputs": [
    {
     "data": {
      "text/plain": [
       "0    0.0\n",
       "1    1.0\n",
       "2    1.0\n",
       "3    2.0\n",
       "4    3.0\n",
       "dtype: float64"
      ]
     },
     "execution_count": 33,
     "metadata": {},
     "output_type": "execute_result"
    }
   ],
   "source": [
    "s.head()"
   ]
  },
  {
   "cell_type": "markdown",
   "id": "d97d13fd",
   "metadata": {},
   "source": [
    "##### s.head(n = 3) or s.head(3) -- first 3 items of series"
   ]
  },
  {
   "cell_type": "code",
   "execution_count": 34,
   "id": "0479e536",
   "metadata": {},
   "outputs": [
    {
     "data": {
      "text/plain": [
       "0    0.0\n",
       "1    1.0\n",
       "2    1.0\n",
       "dtype: float64"
      ]
     },
     "execution_count": 34,
     "metadata": {},
     "output_type": "execute_result"
    }
   ],
   "source": [
    "s.head(3)"
   ]
  },
  {
   "cell_type": "markdown",
   "id": "761301ed",
   "metadata": {},
   "source": [
    "##### Last 5 items of series"
   ]
  },
  {
   "cell_type": "code",
   "execution_count": 35,
   "id": "711ab338",
   "metadata": {},
   "outputs": [
    {
     "data": {
      "text/plain": [
       "5    4.0\n",
       "6    5.0\n",
       "7    6.0\n",
       "8    7.0\n",
       "9    NaN\n",
       "dtype: float64"
      ]
     },
     "execution_count": 35,
     "metadata": {},
     "output_type": "execute_result"
    }
   ],
   "source": [
    "s.tail()"
   ]
  },
  {
   "cell_type": "markdown",
   "id": "4ac221d0",
   "metadata": {},
   "source": [
    "##### s.tail(n=3) or s.tail(3) -- Last 3 items of series"
   ]
  },
  {
   "cell_type": "code",
   "execution_count": 36,
   "id": "2887031f",
   "metadata": {},
   "outputs": [
    {
     "data": {
      "text/plain": [
       "7    6.0\n",
       "8    7.0\n",
       "9    NaN\n",
       "dtype: float64"
      ]
     },
     "execution_count": 36,
     "metadata": {},
     "output_type": "execute_result"
    }
   ],
   "source": [
    "s.tail(3)"
   ]
  },
  {
   "cell_type": "markdown",
   "id": "6b12d530",
   "metadata": {},
   "source": [
    "##### Return rows in the series specified by 0-based index"
   ]
  },
  {
   "cell_type": "code",
   "execution_count": 37,
   "id": "538439c0",
   "metadata": {},
   "outputs": [
    {
     "data": {
      "text/plain": [
       "1    1.0\n",
       "3    2.0\n",
       "5    4.0\n",
       "dtype: float64"
      ]
     },
     "execution_count": 37,
     "metadata": {},
     "output_type": "execute_result"
    }
   ],
   "source": [
    "s.take([1,3,5])"
   ]
  },
  {
   "cell_type": "markdown",
   "id": "c63613b2",
   "metadata": {},
   "source": [
    "### Lookup Values in series"
   ]
  },
  {
   "cell_type": "code",
   "execution_count": 38,
   "id": "4b531c19",
   "metadata": {},
   "outputs": [],
   "source": [
    "s = pd.Series(np.arange(0,5),index= [\"a\",\"b\",\"c\",\"d\",\"e\"])"
   ]
  },
  {
   "cell_type": "markdown",
   "id": "e7e8e253",
   "metadata": {},
   "source": [
    "#### Lookup by label"
   ]
  },
  {
   "cell_type": "code",
   "execution_count": 39,
   "id": "4251bc5c",
   "metadata": {},
   "outputs": [
    {
     "data": {
      "text/plain": [
       "0"
      ]
     },
     "execution_count": 39,
     "metadata": {},
     "output_type": "execute_result"
    }
   ],
   "source": [
    "s[\"a\"]"
   ]
  },
  {
   "cell_type": "code",
   "execution_count": 40,
   "id": "9a31ee78",
   "metadata": {},
   "outputs": [
    {
     "data": {
      "text/plain": [
       "2"
      ]
     },
     "execution_count": 40,
     "metadata": {},
     "output_type": "execute_result"
    }
   ],
   "source": [
    "s[2]"
   ]
  },
  {
   "cell_type": "code",
   "execution_count": 41,
   "id": "fe4f2c6d",
   "metadata": {},
   "outputs": [
    {
     "data": {
      "text/plain": [
       "a    0\n",
       "b    1\n",
       "dtype: int32"
      ]
     },
     "execution_count": 41,
     "metadata": {},
     "output_type": "execute_result"
    }
   ],
   "source": [
    "s[[\"a\",\"b\"]]"
   ]
  },
  {
   "cell_type": "code",
   "execution_count": 42,
   "id": "cc97f692",
   "metadata": {},
   "outputs": [],
   "source": [
    "s1 = pd.Series([1,2,3,4,5], index = [10,20,30,40,50])"
   ]
  },
  {
   "cell_type": "code",
   "execution_count": 43,
   "id": "026f8c1b",
   "metadata": {},
   "outputs": [
    {
     "data": {
      "text/plain": [
       "2"
      ]
     },
     "execution_count": 43,
     "metadata": {},
     "output_type": "execute_result"
    }
   ],
   "source": [
    "s1[20]"
   ]
  },
  {
   "cell_type": "markdown",
   "id": "1c97bb22",
   "metadata": {},
   "source": [
    "#### Label based lookup"
   ]
  },
  {
   "cell_type": "code",
   "execution_count": 44,
   "id": "83411ace",
   "metadata": {},
   "outputs": [
    {
     "data": {
      "text/plain": [
       "2"
      ]
     },
     "execution_count": 44,
     "metadata": {},
     "output_type": "execute_result"
    }
   ],
   "source": [
    "s1.loc[20]"
   ]
  },
  {
   "cell_type": "code",
   "execution_count": 45,
   "id": "16b058ee",
   "metadata": {},
   "outputs": [
    {
     "data": {
      "text/plain": [
       "20    2\n",
       "30    3\n",
       "dtype: int64"
      ]
     },
     "execution_count": 45,
     "metadata": {},
     "output_type": "execute_result"
    }
   ],
   "source": [
    "s1.loc[[20,30]]"
   ]
  },
  {
   "cell_type": "markdown",
   "id": "6b4317fe",
   "metadata": {},
   "source": [
    "#### Position based Iookup"
   ]
  },
  {
   "cell_type": "code",
   "execution_count": 46,
   "id": "fc3ff0aa",
   "metadata": {},
   "outputs": [
    {
     "data": {
      "text/plain": [
       "4"
      ]
     },
     "execution_count": 46,
     "metadata": {},
     "output_type": "execute_result"
    }
   ],
   "source": [
    "s1.iloc[3]"
   ]
  },
  {
   "cell_type": "code",
   "execution_count": 47,
   "id": "f89310f5",
   "metadata": {},
   "outputs": [
    {
     "data": {
      "text/plain": [
       "30    3\n",
       "50    5\n",
       "dtype: int64"
      ]
     },
     "execution_count": 47,
     "metadata": {},
     "output_type": "execute_result"
    }
   ],
   "source": [
    "s1.iloc[[2,4]]"
   ]
  },
  {
   "cell_type": "markdown",
   "id": "0b33941b",
   "metadata": {},
   "source": [
    "### Alingment via the Index labels"
   ]
  },
  {
   "cell_type": "code",
   "execution_count": 48,
   "id": "741eb64c",
   "metadata": {},
   "outputs": [
    {
     "data": {
      "text/plain": [
       "a     2\n",
       "b    11\n",
       "c     6\n",
       "d    13\n",
       "e     9\n",
       "dtype: int64"
      ]
     },
     "execution_count": 48,
     "metadata": {},
     "output_type": "execute_result"
    }
   ],
   "source": [
    "a1 = pd.Series([1,2,3,4,5],index = [\"a\",\"b\",\"c\",\"e\",\"d\"])\n",
    "a2 = pd.Series([5,8,3,9,1], index = [\"e\",\"d\",\"c\",\"b\",\"a\"])\n",
    "a1+a2"
   ]
  },
  {
   "cell_type": "markdown",
   "id": "60865416",
   "metadata": {},
   "source": [
    "### Arithmetic operations on series"
   ]
  },
  {
   "cell_type": "markdown",
   "id": "d1fa1d9b",
   "metadata": {},
   "source": [
    "#### Vertorized muliplication"
   ]
  },
  {
   "cell_type": "code",
   "execution_count": 49,
   "id": "aa3246d7",
   "metadata": {},
   "outputs": [
    {
     "data": {
      "text/plain": [
       "a     2\n",
       "b     4\n",
       "c     6\n",
       "e     8\n",
       "d    10\n",
       "dtype: int64"
      ]
     },
     "execution_count": 49,
     "metadata": {},
     "output_type": "execute_result"
    }
   ],
   "source": [
    "a1*2"
   ]
  },
  {
   "cell_type": "markdown",
   "id": "aaa776fa",
   "metadata": {},
   "source": [
    "#### Multiplication after creating new series conidered less efficient"
   ]
  },
  {
   "cell_type": "code",
   "execution_count": 50,
   "id": "f5c640b7",
   "metadata": {},
   "outputs": [
    {
     "data": {
      "text/plain": [
       "e    10\n",
       "d    16\n",
       "c     6\n",
       "b    18\n",
       "a     2\n",
       "dtype: int64"
      ]
     },
     "execution_count": 50,
     "metadata": {},
     "output_type": "execute_result"
    }
   ],
   "source": [
    "s1 = pd.Series(2, a2.index)\n",
    "a2*s1"
   ]
  },
  {
   "cell_type": "markdown",
   "id": "b7d87383",
   "metadata": {},
   "source": [
    "### Arithematic operation between two series"
   ]
  },
  {
   "cell_type": "code",
   "execution_count": 51,
   "id": "8f6aa33f",
   "metadata": {},
   "outputs": [
    {
     "data": {
      "text/plain": [
       "0    3\n",
       "1    6\n",
       "2    9\n",
       "dtype: int64"
      ]
     },
     "execution_count": 51,
     "metadata": {},
     "output_type": "execute_result"
    }
   ],
   "source": [
    "a1 = pd.Series([1,2,3])\n",
    "a2 = pd.Series([2,4,6])\n",
    "a1+a2"
   ]
  },
  {
   "cell_type": "markdown",
   "id": "7185fbe0",
   "metadata": {},
   "source": [
    "### NaN's result for a and f demonstrates alignment"
   ]
  },
  {
   "cell_type": "code",
   "execution_count": 52,
   "id": "a050c65d",
   "metadata": {},
   "outputs": [
    {
     "data": {
      "text/plain": [
       "a     NaN\n",
       "b     7.0\n",
       "c     9.0\n",
       "d    11.0\n",
       "e    13.0\n",
       "f     NaN\n",
       "dtype: float64"
      ]
     },
     "execution_count": 52,
     "metadata": {},
     "output_type": "execute_result"
    }
   ],
   "source": [
    "b1 = pd.Series(np.arange(1,6), index = ['a','b','c','d','e'])\n",
    "b2 = pd.Series(range(5,10),index = ['b','c','d','e','f'])\n",
    "b1+b2"
   ]
  },
  {
   "cell_type": "markdown",
   "id": "94e769c2",
   "metadata": {},
   "source": [
    "### Two Series objects with duplicate index labels"
   ]
  },
  {
   "cell_type": "code",
   "execution_count": 53,
   "id": "9b7b072e",
   "metadata": {},
   "outputs": [
    {
     "data": {
      "text/plain": [
       "a    1.0\n",
       "a    2.0\n",
       "c    3.0\n",
       "d    4.0\n",
       "e    5.0\n",
       "dtype: float64"
      ]
     },
     "execution_count": 53,
     "metadata": {},
     "output_type": "execute_result"
    }
   ],
   "source": [
    "c1 = pd.Series(np.linspace(1,5,5), index = ['a','a','c','d','e'])\n",
    "c1"
   ]
  },
  {
   "cell_type": "code",
   "execution_count": 54,
   "id": "35fc419e",
   "metadata": {},
   "outputs": [
    {
     "data": {
      "text/plain": [
       "a    5\n",
       "a    6\n",
       "d    7\n",
       "e    8\n",
       "f    9\n",
       "dtype: int64"
      ]
     },
     "execution_count": 54,
     "metadata": {},
     "output_type": "execute_result"
    }
   ],
   "source": [
    "c2 = pd.Series(range(5,10),index = ['a','a','d','e','f'])\n",
    "c2"
   ]
  },
  {
   "cell_type": "markdown",
   "id": "f018f17c",
   "metadata": {},
   "source": [
    "### Operation after cartesian product of all unique index labels in both series"
   ]
  },
  {
   "cell_type": "code",
   "execution_count": 55,
   "id": "f5e24a19",
   "metadata": {},
   "outputs": [
    {
     "data": {
      "text/plain": [
       "a     6.0\n",
       "a     7.0\n",
       "a     7.0\n",
       "a     8.0\n",
       "c     NaN\n",
       "d    11.0\n",
       "e    13.0\n",
       "f     NaN\n",
       "dtype: float64"
      ]
     },
     "execution_count": 55,
     "metadata": {},
     "output_type": "execute_result"
    }
   ],
   "source": [
    "c1+c2"
   ]
  },
  {
   "cell_type": "markdown",
   "id": "253ff554",
   "metadata": {},
   "source": [
    "### NaN the special case"
   ]
  },
  {
   "cell_type": "markdown",
   "id": "96acab10",
   "metadata": {},
   "source": [
    "### Numpy response to NaN"
   ]
  },
  {
   "cell_type": "code",
   "execution_count": 56,
   "id": "d48ddfdc",
   "metadata": {},
   "outputs": [
    {
     "data": {
      "text/plain": [
       "2.5"
      ]
     },
     "execution_count": 56,
     "metadata": {},
     "output_type": "execute_result"
    }
   ],
   "source": [
    "e1 = np.array([1,2,3,4])\n",
    "e1.mean()"
   ]
  },
  {
   "cell_type": "code",
   "execution_count": 57,
   "id": "5da1fdca",
   "metadata": {},
   "outputs": [
    {
     "data": {
      "text/plain": [
       "nan"
      ]
     },
     "execution_count": 57,
     "metadata": {},
     "output_type": "execute_result"
    }
   ],
   "source": [
    "d1 = np.array([1,2,3,4,np.NaN])\n",
    "d1.mean()"
   ]
  },
  {
   "cell_type": "markdown",
   "id": "2651803d",
   "metadata": {},
   "source": [
    "#### Pandas allows aggregation even considering the missing values"
   ]
  },
  {
   "cell_type": "code",
   "execution_count": 58,
   "id": "7727ab53",
   "metadata": {},
   "outputs": [
    {
     "data": {
      "text/plain": [
       "2.5"
      ]
     },
     "execution_count": 58,
     "metadata": {},
     "output_type": "execute_result"
    }
   ],
   "source": [
    "bjp = pd.Series(d1)\n",
    "bjp.mean()"
   ]
  },
  {
   "cell_type": "markdown",
   "id": "782ef079",
   "metadata": {},
   "source": [
    "##### Forcing the pandas to behave similar to numpy by passing (skipna = False) argument"
   ]
  },
  {
   "cell_type": "code",
   "execution_count": 59,
   "id": "0c9fc7b2",
   "metadata": {},
   "outputs": [
    {
     "data": {
      "text/plain": [
       "nan"
      ]
     },
     "execution_count": 59,
     "metadata": {},
     "output_type": "execute_result"
    }
   ],
   "source": [
    "bjp.mean(skipna = False)"
   ]
  },
  {
   "cell_type": "markdown",
   "id": "833f6bec",
   "metadata": {},
   "source": [
    "### Boolean Selection "
   ]
  },
  {
   "cell_type": "code",
   "execution_count": 60,
   "id": "7235eee1",
   "metadata": {},
   "outputs": [
    {
     "data": {
      "text/plain": [
       "7     12\n",
       "8     13\n",
       "9     14\n",
       "10    15\n",
       "11    16\n",
       "12    17\n",
       "13    18\n",
       "14    19\n",
       "dtype: int32"
      ]
     },
     "execution_count": 60,
     "metadata": {},
     "output_type": "execute_result"
    }
   ],
   "source": [
    "s = pd.Series(np.arange(5,20))\n",
    "s[s>11]"
   ]
  },
  {
   "cell_type": "code",
   "execution_count": 61,
   "id": "0f159d86",
   "metadata": {},
   "outputs": [
    {
     "data": {
      "text/plain": [
       "0    5\n",
       "1    6\n",
       "2    7\n",
       "3    8\n",
       "4    9\n",
       "dtype: int32"
      ]
     },
     "execution_count": 61,
     "metadata": {},
     "output_type": "execute_result"
    }
   ],
   "source": [
    "s[s<10]"
   ]
  },
  {
   "cell_type": "markdown",
   "id": "42d9637b",
   "metadata": {},
   "source": [
    "#### Use multiple expressions in boolean selection with bitwise operators"
   ]
  },
  {
   "cell_type": "code",
   "execution_count": 62,
   "id": "e73db2c6",
   "metadata": {
    "scrolled": true
   },
   "outputs": [
    {
     "data": {
      "text/plain": [
       "7     12\n",
       "8     13\n",
       "9     14\n",
       "10    15\n",
       "11    16\n",
       "dtype: int32"
      ]
     },
     "execution_count": 62,
     "metadata": {},
     "output_type": "execute_result"
    }
   ],
   "source": [
    "s[(s>11) & (s <17)]"
   ]
  },
  {
   "cell_type": "code",
   "execution_count": 63,
   "id": "45ae8508",
   "metadata": {
    "scrolled": true
   },
   "outputs": [
    {
     "data": {
      "text/plain": [
       "0      5\n",
       "1      6\n",
       "11    16\n",
       "12    17\n",
       "13    18\n",
       "14    19\n",
       "dtype: int32"
      ]
     },
     "execution_count": 63,
     "metadata": {},
     "output_type": "execute_result"
    }
   ],
   "source": [
    "s[(s>15) | (s <7)]"
   ]
  },
  {
   "cell_type": "markdown",
   "id": "f4624e25",
   "metadata": {},
   "source": [
    "#### Determine whether all values in series satisfy a condition "
   ]
  },
  {
   "cell_type": "code",
   "execution_count": 64,
   "id": "cc7cf2ce",
   "metadata": {},
   "outputs": [
    {
     "data": {
      "text/plain": [
       "False"
      ]
     },
     "execution_count": 64,
     "metadata": {},
     "output_type": "execute_result"
    }
   ],
   "source": [
    "(s>=7).all()"
   ]
  },
  {
   "cell_type": "code",
   "execution_count": 65,
   "id": "83f114ec",
   "metadata": {},
   "outputs": [
    {
     "data": {
      "text/plain": [
       "True"
      ]
     },
     "execution_count": 65,
     "metadata": {},
     "output_type": "execute_result"
    }
   ],
   "source": [
    "(s>=5).all()"
   ]
  },
  {
   "cell_type": "markdown",
   "id": "9402a0cb",
   "metadata": {},
   "source": [
    "###### For combining multiple boolean expression we always have to use bitwise operators"
   ]
  },
  {
   "cell_type": "code",
   "execution_count": 66,
   "id": "b536ab29",
   "metadata": {},
   "outputs": [
    {
     "data": {
      "text/plain": [
       "True"
      ]
     },
     "execution_count": 66,
     "metadata": {},
     "output_type": "execute_result"
    }
   ],
   "source": [
    "((s>=5) & (s<20)).all()"
   ]
  },
  {
   "cell_type": "markdown",
   "id": "d89ef4a2",
   "metadata": {},
   "source": [
    "#### Determine whether any value in series satisfies the condition "
   ]
  },
  {
   "cell_type": "code",
   "execution_count": 67,
   "id": "dd98b83b",
   "metadata": {},
   "outputs": [
    {
     "data": {
      "text/plain": [
       "True"
      ]
     },
     "execution_count": 67,
     "metadata": {},
     "output_type": "execute_result"
    }
   ],
   "source": [
    "(s>11).any()"
   ]
  },
  {
   "cell_type": "markdown",
   "id": "7a350b31",
   "metadata": {},
   "source": [
    "##### Same selection can be done with a different syntax"
   ]
  },
  {
   "cell_type": "code",
   "execution_count": 68,
   "id": "8cab8173",
   "metadata": {},
   "outputs": [
    {
     "data": {
      "text/plain": [
       "True"
      ]
     },
     "execution_count": 68,
     "metadata": {},
     "output_type": "execute_result"
    }
   ],
   "source": [
    "s[s>11].any()"
   ]
  },
  {
   "cell_type": "markdown",
   "id": "020187bb",
   "metadata": {},
   "source": [
    "#### To determine the number of values that satisfy the condition"
   ]
  },
  {
   "cell_type": "code",
   "execution_count": 69,
   "id": "db5a89ae",
   "metadata": {},
   "outputs": [
    {
     "data": {
      "text/plain": [
       "9"
      ]
     },
     "execution_count": 69,
     "metadata": {},
     "output_type": "execute_result"
    }
   ],
   "source": [
    "(s>10).sum()"
   ]
  },
  {
   "cell_type": "markdown",
   "id": "0e0e66bc",
   "metadata": {},
   "source": [
    "### Reindexing a Series  "
   ]
  },
  {
   "cell_type": "code",
   "execution_count": 70,
   "id": "8f3b3297",
   "metadata": {},
   "outputs": [
    {
     "data": {
      "text/plain": [
       "0   -0.173215\n",
       "1    0.119209\n",
       "2   -1.044236\n",
       "dtype: float64"
      ]
     },
     "execution_count": 70,
     "metadata": {},
     "output_type": "execute_result"
    }
   ],
   "source": [
    "s = pd.Series(np.random.randn(3))\n",
    "s"
   ]
  },
  {
   "cell_type": "code",
   "execution_count": 71,
   "id": "0cb6d1e7",
   "metadata": {},
   "outputs": [
    {
     "data": {
      "text/plain": [
       "a   -0.173215\n",
       "b    0.119209\n",
       "c   -1.044236\n",
       "dtype: float64"
      ]
     },
     "execution_count": 71,
     "metadata": {},
     "output_type": "execute_result"
    }
   ],
   "source": [
    "s.index = [\"a\",\"b\",\"c\"]\n",
    "s"
   ]
  },
  {
   "cell_type": "markdown",
   "id": "848b28b7",
   "metadata": {},
   "source": [
    "#### Concatinating the s1 and s2 results in duplicate index values"
   ]
  },
  {
   "cell_type": "code",
   "execution_count": 72,
   "id": "bec99f59",
   "metadata": {},
   "outputs": [
    {
     "data": {
      "text/plain": [
       "0    0.469112\n",
       "1   -0.282863\n",
       "2   -1.509059\n",
       "0   -1.135632\n",
       "1    1.212112\n",
       "2   -0.173215\n",
       "dtype: float64"
      ]
     },
     "execution_count": 72,
     "metadata": {},
     "output_type": "execute_result"
    }
   ],
   "source": [
    "np.random.seed(123456)\n",
    "s1 = pd.Series(np.random.randn(3))\n",
    "s2 = pd.Series(np.random.randn(3))\n",
    "combined = pd.concat([s1,s2])\n",
    "combined"
   ]
  },
  {
   "cell_type": "markdown",
   "id": "ef6bf404",
   "metadata": {},
   "source": [
    "#### Reindexing the combined series using Index property"
   ]
  },
  {
   "cell_type": "code",
   "execution_count": 73,
   "id": "2bd941b2",
   "metadata": {},
   "outputs": [
    {
     "data": {
      "text/plain": [
       "0    0.469112\n",
       "1   -0.282863\n",
       "2   -1.509059\n",
       "3   -1.135632\n",
       "4    1.212112\n",
       "5   -0.173215\n",
       "dtype: float64"
      ]
     },
     "execution_count": 73,
     "metadata": {},
     "output_type": "execute_result"
    }
   ],
   "source": [
    "combined.index = np.arange(0,len(combined))\n",
    "combined"
   ]
  },
  {
   "cell_type": "markdown",
   "id": "d17f99b6",
   "metadata": {},
   "source": [
    "#### Reindexing the series using .reindex() method"
   ]
  },
  {
   "cell_type": "code",
   "execution_count": 74,
   "id": "62721aec",
   "metadata": {},
   "outputs": [
    {
     "data": {
      "text/plain": [
       "a    0.469112\n",
       "b   -0.282863\n",
       "g         NaN\n",
       "h         NaN\n",
       "dtype: float64"
      ]
     },
     "execution_count": 74,
     "metadata": {},
     "output_type": "execute_result"
    }
   ],
   "source": [
    "combined.index = [\"a\",\"b\",\"c\",\"d\",\"e\",\"f\"]\n",
    "rein_comb = combined.reindex([\"a\",\"b\",\"g\",\"h\"])\n",
    "rein_comb"
   ]
  },
  {
   "cell_type": "markdown",
   "id": "935869ac",
   "metadata": {},
   "source": [
    "### Changing a value in reindexed series doesnot affect orignal series"
   ]
  },
  {
   "cell_type": "code",
   "execution_count": 75,
   "id": "6e21c35a",
   "metadata": {},
   "outputs": [
    {
     "data": {
      "text/plain": [
       "a      0.469112\n",
       "b     -0.282863\n",
       "g           NaN\n",
       "h    420.000000\n",
       "dtype: float64"
      ]
     },
     "execution_count": 75,
     "metadata": {},
     "output_type": "execute_result"
    }
   ],
   "source": [
    "rein_comb[\"h\"] = 420\n",
    "rein_comb"
   ]
  },
  {
   "cell_type": "markdown",
   "id": "528930b9",
   "metadata": {},
   "source": [
    "#### This doesn't modifies the original Series"
   ]
  },
  {
   "cell_type": "code",
   "execution_count": 76,
   "id": "8f5c5352",
   "metadata": {},
   "outputs": [
    {
     "data": {
      "text/plain": [
       "a    0.469112\n",
       "b   -0.282863\n",
       "c   -1.509059\n",
       "d   -1.135632\n",
       "e    1.212112\n",
       "f   -0.173215\n",
       "dtype: float64"
      ]
     },
     "execution_count": 76,
     "metadata": {},
     "output_type": "execute_result"
    }
   ],
   "source": [
    "combined"
   ]
  },
  {
   "cell_type": "markdown",
   "id": "fdb5fb75",
   "metadata": {},
   "source": [
    "### Different types for the same values of labels causes big trouble"
   ]
  },
  {
   "cell_type": "code",
   "execution_count": 77,
   "id": "3216cc09",
   "metadata": {},
   "outputs": [
    {
     "data": {
      "text/plain": [
       "1   NaN\n",
       "2   NaN\n",
       "3   NaN\n",
       "1   NaN\n",
       "2   NaN\n",
       "3   NaN\n",
       "dtype: float64"
      ]
     },
     "execution_count": 77,
     "metadata": {},
     "output_type": "execute_result"
    }
   ],
   "source": [
    "s1 = pd.Series([1,2,3],index = [\"1\",\"2\",\"3\"])\n",
    "s2 = pd.Series([4,5,6],index = [1,2,3])\n",
    "s1+s2"
   ]
  },
  {
   "cell_type": "markdown",
   "id": "f1cbc7bc",
   "metadata": {},
   "source": [
    "#### Reindex by casting the label types and we will get the desired result"
   ]
  },
  {
   "cell_type": "code",
   "execution_count": 78,
   "id": "cf0d996d",
   "metadata": {},
   "outputs": [
    {
     "data": {
      "text/plain": [
       "1    5\n",
       "2    7\n",
       "3    9\n",
       "dtype: int64"
      ]
     },
     "execution_count": 78,
     "metadata": {},
     "output_type": "execute_result"
    }
   ],
   "source": [
    "s1.index = s1.index.values.astype(int)\n",
    "s1+s2"
   ]
  },
  {
   "cell_type": "markdown",
   "id": "a3a4d912",
   "metadata": {},
   "source": [
    "#### Default Fill Value \"NaN\" can be changed to any value"
   ]
  },
  {
   "cell_type": "markdown",
   "id": "37aadc2a",
   "metadata": {},
   "source": [
    "##### Order in which parameters are provided to reindex() will affect output displayed"
   ]
  },
  {
   "cell_type": "code",
   "execution_count": 79,
   "id": "17016765",
   "metadata": {},
   "outputs": [
    {
     "data": {
      "text/plain": [
       "1    4\n",
       "2    5\n",
       "4    0\n",
       "dtype: int64"
      ]
     },
     "execution_count": 79,
     "metadata": {},
     "output_type": "execute_result"
    }
   ],
   "source": [
    "s2.reindex([1,2,4],fill_value = 0)"
   ]
  },
  {
   "cell_type": "code",
   "execution_count": 80,
   "id": "a2a1a36c",
   "metadata": {},
   "outputs": [
    {
     "data": {
      "text/plain": [
       "1     4\n",
       "4    NA\n",
       "2     5\n",
       "dtype: object"
      ]
     },
     "execution_count": 80,
     "metadata": {},
     "output_type": "execute_result"
    }
   ],
   "source": [
    "s2.reindex([1,4,2],fill_value = \"NA\")"
   ]
  },
  {
   "cell_type": "markdown",
   "id": "89652dde",
   "metadata": {},
   "source": [
    "### Filling the missing values in a Series"
   ]
  },
  {
   "cell_type": "markdown",
   "id": "db9450aa",
   "metadata": {},
   "source": [
    "##### Using \"method = 'ffill' \""
   ]
  },
  {
   "cell_type": "code",
   "execution_count": 81,
   "id": "710b8706",
   "metadata": {},
   "outputs": [
    {
     "data": {
      "text/plain": [
       "0    NaN\n",
       "1    4.0\n",
       "2    5.0\n",
       "3    6.0\n",
       "4    6.0\n",
       "5    6.0\n",
       "6    6.0\n",
       "dtype: float64"
      ]
     },
     "execution_count": 81,
     "metadata": {},
     "output_type": "execute_result"
    }
   ],
   "source": [
    "s2.reindex(np.arange(0,7),method = 'ffill')"
   ]
  },
  {
   "cell_type": "markdown",
   "id": "c801125f",
   "metadata": {},
   "source": [
    "##### Using \"method = 'bfill' \""
   ]
  },
  {
   "cell_type": "code",
   "execution_count": 82,
   "id": "aefd49dd",
   "metadata": {},
   "outputs": [
    {
     "data": {
      "text/plain": [
       "0    4.0\n",
       "1    4.0\n",
       "2    5.0\n",
       "3    6.0\n",
       "4    NaN\n",
       "5    NaN\n",
       "6    NaN\n",
       "dtype: float64"
      ]
     },
     "execution_count": 82,
     "metadata": {},
     "output_type": "execute_result"
    }
   ],
   "source": [
    "s2.reindex(np.arange(0,7),method = 'bfill')"
   ]
  },
  {
   "cell_type": "markdown",
   "id": "942a8b08",
   "metadata": {},
   "source": [
    "### Modify a Series in place"
   ]
  },
  {
   "cell_type": "markdown",
   "id": "d78a1f36",
   "metadata": {},
   "source": [
    "#### Example series for the exampe"
   ]
  },
  {
   "cell_type": "code",
   "execution_count": 97,
   "id": "dcb51fda",
   "metadata": {},
   "outputs": [
    {
     "data": {
      "text/plain": [
       "a    0.469112\n",
       "b   -0.282863\n",
       "c   -1.509059\n",
       "d   -1.135632\n",
       "e    1.212112\n",
       "dtype: float64"
      ]
     },
     "execution_count": 97,
     "metadata": {},
     "output_type": "execute_result"
    }
   ],
   "source": [
    "np.random.seed(123456)\n",
    "se1 = pd.Series(np.random.randn(5),index = [\"a\",\"b\",\"c\",\"d\",\"e\"])\n",
    "se1"
   ]
  },
  {
   "cell_type": "markdown",
   "id": "ac553b35",
   "metadata": {},
   "source": [
    "#### In place addition/modification of an item in Series via assignment operator"
   ]
  },
  {
   "cell_type": "code",
   "execution_count": 98,
   "id": "79243a41",
   "metadata": {},
   "outputs": [
    {
     "data": {
      "text/plain": [
       "a      0.469112\n",
       "b    100.000000\n",
       "c     -1.509059\n",
       "d     -1.135632\n",
       "e      1.212112\n",
       "dtype: float64"
      ]
     },
     "execution_count": 98,
     "metadata": {},
     "output_type": "execute_result"
    }
   ],
   "source": [
    "se1[\"b\"] = 100\n",
    "se1"
   ]
  },
  {
   "cell_type": "markdown",
   "id": "9ac464fa",
   "metadata": {},
   "source": [
    "#### Inplace deletion of item from series using del() function"
   ]
  },
  {
   "cell_type": "code",
   "execution_count": 99,
   "id": "100dff0a",
   "metadata": {},
   "outputs": [
    {
     "data": {
      "text/plain": [
       "a    0.469112\n",
       "c   -1.509059\n",
       "d   -1.135632\n",
       "e    1.212112\n",
       "dtype: float64"
      ]
     },
     "execution_count": 99,
     "metadata": {},
     "output_type": "execute_result"
    }
   ],
   "source": [
    "del(se1[\"b\"])\n",
    "se1"
   ]
  },
  {
   "cell_type": "markdown",
   "id": "983b148c",
   "metadata": {},
   "source": [
    "### Slicing a Series "
   ]
  },
  {
   "cell_type": "code",
   "execution_count": 102,
   "id": "d8817362",
   "metadata": {},
   "outputs": [
    {
     "data": {
      "text/plain": [
       "20    200\n",
       "21    210\n",
       "22    220\n",
       "23    230\n",
       "24    240\n",
       "25    250\n",
       "26    260\n",
       "27    270\n",
       "28    280\n",
       "29    290\n",
       "dtype: int32"
      ]
     },
     "execution_count": 102,
     "metadata": {},
     "output_type": "execute_result"
    }
   ],
   "source": [
    "s = pd.Series(np.arange(200,300,10),index = np.arange(20,30))\n",
    "s"
   ]
  },
  {
   "cell_type": "markdown",
   "id": "6fb9cae2",
   "metadata": {},
   "source": [
    "#### Position based slicing positions -- (2,4,6,8)"
   ]
  },
  {
   "cell_type": "code",
   "execution_count": 105,
   "id": "7514b222",
   "metadata": {},
   "outputs": [
    {
     "data": {
      "text/plain": [
       "22    220\n",
       "24    240\n",
       "26    260\n",
       "28    280\n",
       "dtype: int32"
      ]
     },
     "execution_count": 105,
     "metadata": {},
     "output_type": "execute_result"
    }
   ],
   "source": [
    "s[2:10:2]"
   ]
  },
  {
   "cell_type": "markdown",
   "id": "0a799c93",
   "metadata": {},
   "source": [
    "#### Functionally equivalent to access -- (2,4,6,8) positioned element"
   ]
  },
  {
   "cell_type": "code",
   "execution_count": 110,
   "id": "1a0ce1c2",
   "metadata": {},
   "outputs": [
    {
     "data": {
      "text/plain": [
       "22    220\n",
       "24    240\n",
       "26    260\n",
       "28    280\n",
       "dtype: int32"
      ]
     },
     "execution_count": 110,
     "metadata": {},
     "output_type": "execute_result"
    }
   ],
   "source": [
    "s.iloc[[2,4,6,8]]"
   ]
  },
  {
   "cell_type": "code",
   "execution_count": 111,
   "id": "1b70abfc",
   "metadata": {},
   "outputs": [
    {
     "data": {
      "text/plain": [
       "22    220\n",
       "24    240\n",
       "26    260\n",
       "28    280\n",
       "dtype: int32"
      ]
     },
     "execution_count": 111,
     "metadata": {},
     "output_type": "execute_result"
    }
   ],
   "source": [
    "s.loc[[22,24,26,28]]"
   ]
  },
  {
   "cell_type": "markdown",
   "id": "fda37afa",
   "metadata": {},
   "source": [
    "### Slicing of Series equivalent to .head()"
   ]
  },
  {
   "cell_type": "code",
   "execution_count": 112,
   "id": "30739425",
   "metadata": {},
   "outputs": [
    {
     "data": {
      "text/plain": [
       "20    200\n",
       "21    210\n",
       "22    220\n",
       "23    230\n",
       "24    240\n",
       "dtype: int32"
      ]
     },
     "execution_count": 112,
     "metadata": {},
     "output_type": "execute_result"
    }
   ],
   "source": [
    "s[:5]"
   ]
  },
  {
   "cell_type": "markdown",
   "id": "594aa922",
   "metadata": {},
   "source": [
    "##### Specifying the step is possible"
   ]
  },
  {
   "cell_type": "code",
   "execution_count": 116,
   "id": "d2049bdb",
   "metadata": {},
   "outputs": [
    {
     "data": {
      "text/plain": [
       "20    200\n",
       "22    220\n",
       "24    240\n",
       "dtype: int32"
      ]
     },
     "execution_count": 116,
     "metadata": {},
     "output_type": "execute_result"
    }
   ],
   "source": [
    "s[:5:2]"
   ]
  },
  {
   "cell_type": "markdown",
   "id": "c1e76d25",
   "metadata": {},
   "source": [
    "#### Slicing equivalent to .tail()"
   ]
  },
  {
   "cell_type": "code",
   "execution_count": 114,
   "id": "683312c9",
   "metadata": {},
   "outputs": [
    {
     "data": {
      "text/plain": [
       "25    250\n",
       "26    260\n",
       "27    270\n",
       "28    280\n",
       "29    290\n",
       "dtype: int32"
      ]
     },
     "execution_count": 114,
     "metadata": {},
     "output_type": "execute_result"
    }
   ],
   "source": [
    "s[-5:]"
   ]
  },
  {
   "cell_type": "markdown",
   "id": "155f8c2e",
   "metadata": {},
   "source": [
    "##### Specifying the step is possible"
   ]
  },
  {
   "cell_type": "code",
   "execution_count": 118,
   "id": "7715bf1b",
   "metadata": {},
   "outputs": [
    {
     "data": {
      "text/plain": [
       "25    250\n",
       "27    270\n",
       "29    290\n",
       "dtype: int32"
      ]
     },
     "execution_count": 118,
     "metadata": {},
     "output_type": "execute_result"
    }
   ],
   "source": [
    "s[-5::2]"
   ]
  },
  {
   "cell_type": "markdown",
   "id": "f150ecdf",
   "metadata": {},
   "source": [
    "### Reversing the Series"
   ]
  },
  {
   "cell_type": "code",
   "execution_count": 119,
   "id": "e147dcc2",
   "metadata": {},
   "outputs": [
    {
     "data": {
      "text/plain": [
       "29    290\n",
       "28    280\n",
       "27    270\n",
       "26    260\n",
       "25    250\n",
       "24    240\n",
       "23    230\n",
       "22    220\n",
       "21    210\n",
       "20    200\n",
       "dtype: int32"
      ]
     },
     "execution_count": 119,
     "metadata": {},
     "output_type": "execute_result"
    }
   ],
   "source": [
    "s[::-1]"
   ]
  },
  {
   "cell_type": "markdown",
   "id": "b59c80a5",
   "metadata": {},
   "source": [
    "#### ALL but last row in last four rows of the series"
   ]
  },
  {
   "cell_type": "code",
   "execution_count": 120,
   "id": "dc545d35",
   "metadata": {},
   "outputs": [
    {
     "data": {
      "text/plain": [
       "26    260\n",
       "27    270\n",
       "28    280\n",
       "dtype: int32"
      ]
     },
     "execution_count": 120,
     "metadata": {},
     "output_type": "execute_result"
    }
   ],
   "source": [
    "s.tail(4).head(3)"
   ]
  },
  {
   "cell_type": "markdown",
   "id": "663be896",
   "metadata": {},
   "source": [
    "##### using slices"
   ]
  },
  {
   "cell_type": "code",
   "execution_count": 122,
   "id": "5eb915fa",
   "metadata": {},
   "outputs": [
    {
     "data": {
      "text/plain": [
       "26    260\n",
       "27    270\n",
       "28    280\n",
       "dtype: int32"
      ]
     },
     "execution_count": 122,
     "metadata": {},
     "output_type": "execute_result"
    }
   ],
   "source": [
    "s[-4:-1:1]"
   ]
  },
  {
   "cell_type": "markdown",
   "id": "ed755717",
   "metadata": {},
   "source": [
    "### Results of slices are a view into orignal series"
   ]
  },
  {
   "cell_type": "markdown",
   "id": "dd4be87d",
   "metadata": {},
   "source": [
    "##### Preserving the orignal series"
   ]
  },
  {
   "cell_type": "code",
   "execution_count": 123,
   "id": "7fa7008a",
   "metadata": {},
   "outputs": [
    {
     "data": {
      "text/plain": [
       "20    200\n",
       "21    210\n",
       "22    220\n",
       "23    230\n",
       "24    240\n",
       "25    250\n",
       "26    260\n",
       "27    270\n",
       "28    280\n",
       "29    290\n",
       "dtype: int32"
      ]
     },
     "execution_count": 123,
     "metadata": {},
     "output_type": "execute_result"
    }
   ],
   "source": [
    "copy = s.copy()\n",
    "copy"
   ]
  },
  {
   "cell_type": "markdown",
   "id": "0fba2a19",
   "metadata": {},
   "source": [
    "### Take a slice out of the copy"
   ]
  },
  {
   "cell_type": "code",
   "execution_count": 124,
   "id": "b8554834",
   "metadata": {},
   "outputs": [
    {
     "data": {
      "text/plain": [
       "20    200\n",
       "21    210\n",
       "22    220\n",
       "23    230\n",
       "24    240\n",
       "25    250\n",
       "dtype: int32"
      ]
     },
     "execution_count": 124,
     "metadata": {},
     "output_type": "execute_result"
    }
   ],
   "source": [
    "slice = copy[:-4]\n",
    "slice"
   ]
  },
  {
   "cell_type": "markdown",
   "id": "ff786125",
   "metadata": {},
   "source": [
    "### Modification of slice element modifies the orignal series "
   ]
  },
  {
   "cell_type": "code",
   "execution_count": 125,
   "id": "8a296f69",
   "metadata": {},
   "outputs": [
    {
     "data": {
      "text/plain": [
       "20       200\n",
       "21       210\n",
       "22       220\n",
       "23       230\n",
       "24       240\n",
       "25    100000\n",
       "26       260\n",
       "27       270\n",
       "28       280\n",
       "29       290\n",
       "dtype: int32"
      ]
     },
     "execution_count": 125,
     "metadata": {},
     "output_type": "execute_result"
    }
   ],
   "source": [
    "slice[25] = 100000\n",
    "copy"
   ]
  },
  {
   "cell_type": "markdown",
   "id": "e97616f8",
   "metadata": {},
   "source": [
    "### Slicing on Series object on non-integer based index"
   ]
  },
  {
   "cell_type": "code",
   "execution_count": 126,
   "id": "7360a92d",
   "metadata": {},
   "outputs": [
    {
     "data": {
      "text/plain": [
       "a    1\n",
       "b    2\n",
       "c    3\n",
       "d    4\n",
       "dtype: int32"
      ]
     },
     "execution_count": 126,
     "metadata": {},
     "output_type": "execute_result"
    }
   ],
   "source": [
    "s42 = pd.Series(np.arange(1,5),index = [\"a\",\"b\",\"c\",\"d\"])\n",
    "s42"
   ]
  },
  {
   "cell_type": "markdown",
   "id": "7d27991d",
   "metadata": {},
   "source": [
    "#### Using the integer values for slicing lead to postion based slicing"
   ]
  },
  {
   "cell_type": "code",
   "execution_count": 127,
   "id": "ccf583a7",
   "metadata": {},
   "outputs": [
    {
     "data": {
      "text/plain": [
       "b    2\n",
       "c    3\n",
       "d    4\n",
       "dtype: int32"
      ]
     },
     "execution_count": 127,
     "metadata": {},
     "output_type": "execute_result"
    }
   ],
   "source": [
    "s42[1:4]"
   ]
  },
  {
   "cell_type": "markdown",
   "id": "7cec6ea0",
   "metadata": {},
   "source": [
    "#### Same results can be achived using no-integer indices"
   ]
  },
  {
   "cell_type": "code",
   "execution_count": 128,
   "id": "4078289f",
   "metadata": {
    "scrolled": true
   },
   "outputs": [
    {
     "data": {
      "text/plain": [
       "b    2\n",
       "c    3\n",
       "d    4\n",
       "dtype: int32"
      ]
     },
     "execution_count": 128,
     "metadata": {},
     "output_type": "execute_result"
    }
   ],
   "source": [
    "s42[\"b\":\"e\"]"
   ]
  },
  {
   "cell_type": "markdown",
   "id": "f264f48e",
   "metadata": {},
   "source": [
    "## To create seperate NoteBook for Attributes and methods of pandas series with reference to Official documentation and remove these after reading DataFrame "
   ]
  },
  {
   "cell_type": "code",
   "execution_count": 83,
   "id": "8bb8b091",
   "metadata": {},
   "outputs": [
    {
     "data": {
      "text/plain": [
       "1    1\n",
       "2    2\n",
       "3    3\n",
       "dtype: int64"
      ]
     },
     "execution_count": 83,
     "metadata": {},
     "output_type": "execute_result"
    }
   ],
   "source": [
    "s1.T"
   ]
  },
  {
   "cell_type": "code",
   "execution_count": 84,
   "id": "ad164fff",
   "metadata": {},
   "outputs": [
    {
     "data": {
      "text/plain": [
       "1    1\n",
       "2    2\n",
       "3    3\n",
       "dtype: int64"
      ]
     },
     "execution_count": 84,
     "metadata": {},
     "output_type": "execute_result"
    }
   ],
   "source": [
    "s1"
   ]
  },
  {
   "cell_type": "code",
   "execution_count": 85,
   "id": "a178f213",
   "metadata": {},
   "outputs": [
    {
     "data": {
      "text/plain": [
       "<PandasArray>\n",
       "[1, 2, 3]\n",
       "Length: 3, dtype: int64"
      ]
     },
     "execution_count": 85,
     "metadata": {},
     "output_type": "execute_result"
    }
   ],
   "source": [
    "s1.array"
   ]
  },
  {
   "cell_type": "code",
   "execution_count": 86,
   "id": "104a5288",
   "metadata": {},
   "outputs": [],
   "source": [
    "s2 = pd.Series([\"a\",\"b\",\"c\",\"d\",\"e\"])"
   ]
  },
  {
   "cell_type": "code",
   "execution_count": 87,
   "id": "327104d6",
   "metadata": {},
   "outputs": [
    {
     "data": {
      "text/plain": [
       "<PandasArray>\n",
       "['a', 'b', 'c', 'd', 'e']\n",
       "Length: 5, dtype: object"
      ]
     },
     "execution_count": 87,
     "metadata": {},
     "output_type": "execute_result"
    }
   ],
   "source": [
    "s2.array"
   ]
  },
  {
   "cell_type": "code",
   "execution_count": null,
   "id": "07dafa0e",
   "metadata": {},
   "outputs": [],
   "source": []
  }
 ],
 "metadata": {
  "kernelspec": {
   "display_name": "Python 3 (ipykernel)",
   "language": "python",
   "name": "python3"
  },
  "language_info": {
   "codemirror_mode": {
    "name": "ipython",
    "version": 3
   },
   "file_extension": ".py",
   "mimetype": "text/x-python",
   "name": "python",
   "nbconvert_exporter": "python",
   "pygments_lexer": "ipython3",
   "version": "3.11.3"
  }
 },
 "nbformat": 4,
 "nbformat_minor": 5
}
