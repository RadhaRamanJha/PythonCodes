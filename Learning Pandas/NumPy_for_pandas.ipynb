{
 "cells": [
  {
   "cell_type": "code",
   "execution_count": 1,
   "id": "662937aa",
   "metadata": {},
   "outputs": [],
   "source": [
    "import numpy as np"
   ]
  },
  {
   "cell_type": "markdown",
   "id": "eaa1ea50",
   "metadata": {},
   "source": [
    "## Comparing the utility of list and numpy array"
   ]
  },
  {
   "cell_type": "markdown",
   "id": "324cc58d",
   "metadata": {},
   "source": [
    "#### Time how long it takes to square all values in a sequence using list"
   ]
  },
  {
   "cell_type": "code",
   "execution_count": 2,
   "id": "5682e574",
   "metadata": {},
   "outputs": [
    {
     "name": "stdout",
     "output_type": "stream",
     "text": [
      "5.43 ms ± 294 µs per loop (mean ± std. dev. of 7 runs, 100 loops each)\n"
     ]
    }
   ],
   "source": [
    "def squares(values):\n",
    "    result = []\n",
    "    for v in values:\n",
    "        result.append(v * v)\n",
    "    return result\n",
    "# create 100,000 numbers using python range\n",
    "to_square = range(100000)\n",
    "# time how long it takes to repeatedly square them all\n",
    "%timeit squares(to_square)"
   ]
  },
  {
   "cell_type": "code",
   "execution_count": 3,
   "id": "43a650e0",
   "metadata": {},
   "outputs": [
    {
     "name": "stdout",
     "output_type": "stream",
     "text": [
      "105 µs ± 34.2 µs per loop (mean ± std. dev. of 7 runs, 10,000 loops each)\n"
     ]
    }
   ],
   "source": [
    "array_to_square = np.arange(0,100000)\n",
    "%timeit array_to_square**2"
   ]
  },
  {
   "cell_type": "markdown",
   "id": "5006070b",
   "metadata": {},
   "source": [
    "## Creating a numpy array from list"
   ]
  },
  {
   "cell_type": "code",
   "execution_count": 4,
   "id": "2b6e6f6e",
   "metadata": {},
   "outputs": [
    {
     "data": {
      "text/plain": [
       "array([2, 4, 6, 8])"
      ]
     },
     "execution_count": 4,
     "metadata": {},
     "output_type": "execute_result"
    }
   ],
   "source": [
    "a1 = np.array([2,4,6,8])\n",
    "a1"
   ]
  },
  {
   "cell_type": "markdown",
   "id": "499338f0",
   "metadata": {},
   "source": [
    "### Determing its Type "
   ]
  },
  {
   "cell_type": "code",
   "execution_count": 5,
   "id": "921f442b",
   "metadata": {},
   "outputs": [
    {
     "data": {
      "text/plain": [
       "numpy.ndarray"
      ]
     },
     "execution_count": 5,
     "metadata": {},
     "output_type": "execute_result"
    }
   ],
   "source": [
    "type(a1)"
   ]
  },
  {
   "cell_type": "markdown",
   "id": "00930f56",
   "metadata": {},
   "source": [
    "### Claculating number of its element"
   ]
  },
  {
   "cell_type": "code",
   "execution_count": 6,
   "id": "bd88e65a",
   "metadata": {},
   "outputs": [
    {
     "data": {
      "text/plain": [
       "4"
      ]
     },
     "execution_count": 6,
     "metadata": {},
     "output_type": "execute_result"
    }
   ],
   "source": [
    "np.size(a1)"
   ]
  },
  {
   "cell_type": "code",
   "execution_count": 7,
   "id": "c6e31509",
   "metadata": {},
   "outputs": [
    {
     "data": {
      "text/plain": [
       "4"
      ]
     },
     "execution_count": 7,
     "metadata": {},
     "output_type": "execute_result"
    }
   ],
   "source": [
    "a2 = np.array([1,2,3,4.6])\n",
    "np.size(a2)"
   ]
  },
  {
   "cell_type": "markdown",
   "id": "e1256258",
   "metadata": {},
   "source": [
    "### Evaluating the Dimension type in an array"
   ]
  },
  {
   "cell_type": "code",
   "execution_count": 8,
   "id": "11c5c969",
   "metadata": {},
   "outputs": [
    {
     "data": {
      "text/plain": [
       "dtype('float64')"
      ]
     },
     "execution_count": 8,
     "metadata": {},
     "output_type": "execute_result"
    }
   ],
   "source": [
    "a2.dtype"
   ]
  },
  {
   "cell_type": "markdown",
   "id": "1c0a3f65",
   "metadata": {},
   "source": [
    "## Several ways to create numpy array"
   ]
  },
  {
   "cell_type": "markdown",
   "id": "fca8b871",
   "metadata": {},
   "source": [
    "#### 1. Shorthand to repeat a sequence 10 times"
   ]
  },
  {
   "cell_type": "code",
   "execution_count": 9,
   "id": "07a20576",
   "metadata": {},
   "outputs": [
    {
     "data": {
      "text/plain": [
       "array([0, 0, 0, 0, 0, 0, 0, 0, 0, 0])"
      ]
     },
     "execution_count": 9,
     "metadata": {},
     "output_type": "execute_result"
    }
   ],
   "source": [
    "a3 = np.array([0]*10)\n",
    "a3"
   ]
  },
  {
   "cell_type": "markdown",
   "id": "b5ff283e",
   "metadata": {},
   "source": [
    "#### 2. Use python range fumction to create numpy array"
   ]
  },
  {
   "cell_type": "code",
   "execution_count": 10,
   "id": "3dfaad6f",
   "metadata": {},
   "outputs": [
    {
     "data": {
      "text/plain": [
       "array([0, 1, 2, 3, 4, 5, 6, 7, 8, 9])"
      ]
     },
     "execution_count": 10,
     "metadata": {},
     "output_type": "execute_result"
    }
   ],
   "source": [
    "a4 = np.array(range(10))\n",
    "a4"
   ]
  },
  {
   "cell_type": "markdown",
   "id": "1f6d6ca2",
   "metadata": {},
   "source": [
    "#### 3.a Use of np.zeros() function (float type)"
   ]
  },
  {
   "cell_type": "code",
   "execution_count": 11,
   "id": "eac50a49",
   "metadata": {},
   "outputs": [
    {
     "data": {
      "text/plain": [
       "array([0., 0., 0., 0., 0., 0., 0., 0., 0., 0.])"
      ]
     },
     "execution_count": 11,
     "metadata": {},
     "output_type": "execute_result"
    }
   ],
   "source": [
    "a5 = np.zeros(10)\n",
    "a5"
   ]
  },
  {
   "cell_type": "markdown",
   "id": "a93aac38",
   "metadata": {},
   "source": [
    "#### 3.b Use of np.zeros() function (int type)"
   ]
  },
  {
   "cell_type": "code",
   "execution_count": 12,
   "id": "5854ba6a",
   "metadata": {},
   "outputs": [
    {
     "data": {
      "text/plain": [
       "array([0, 0, 0, 0, 0, 0, 0, 0, 0, 0])"
      ]
     },
     "execution_count": 12,
     "metadata": {},
     "output_type": "execute_result"
    }
   ],
   "source": [
    "a6 = np.zeros(10, dtype = int)\n",
    "a6"
   ]
  },
  {
   "cell_type": "markdown",
   "id": "c7b115b8",
   "metadata": {},
   "source": [
    "#### 4 Use of np.arange() function "
   ]
  },
  {
   "cell_type": "code",
   "execution_count": 13,
   "id": "003b4ac5",
   "metadata": {},
   "outputs": [
    {
     "data": {
      "text/plain": [
       "array([0, 1, 2, 3, 4, 5, 6, 7, 8, 9])"
      ]
     },
     "execution_count": 13,
     "metadata": {},
     "output_type": "execute_result"
    }
   ],
   "source": [
    "a7 = np.arange(0,10)\n",
    "a7"
   ]
  },
  {
   "cell_type": "markdown",
   "id": "f65907c4",
   "metadata": {},
   "source": [
    "#### 4b. Use of np.arange() function with step value"
   ]
  },
  {
   "cell_type": "code",
   "execution_count": 14,
   "id": "814a5ba2",
   "metadata": {},
   "outputs": [
    {
     "data": {
      "text/plain": [
       "array([ 2,  4,  6,  8, 10, 12, 14, 16, 18, 20])"
      ]
     },
     "execution_count": 14,
     "metadata": {},
     "output_type": "execute_result"
    }
   ],
   "source": [
    "# Table of 2\n",
    "a8 = np.arange(2,22,2)\n",
    "a8"
   ]
  },
  {
   "cell_type": "code",
   "execution_count": 15,
   "id": "ed36ac09",
   "metadata": {},
   "outputs": [
    {
     "data": {
      "text/plain": [
       "array([20, 18, 16, 14, 12, 10,  8,  6,  4,  2])"
      ]
     },
     "execution_count": 15,
     "metadata": {},
     "output_type": "execute_result"
    }
   ],
   "source": [
    "# Reverse table of 2\n",
    "a9 = np.arange(20,0,-2)\n",
    "a9"
   ]
  },
  {
   "cell_type": "markdown",
   "id": "946a1fa6",
   "metadata": {},
   "source": [
    "#### 5. Use of np.linspace() function"
   ]
  },
  {
   "cell_type": "code",
   "execution_count": 16,
   "id": "2620fb0f",
   "metadata": {},
   "outputs": [
    {
     "data": {
      "text/plain": [
       "array([ 5.        ,  7.63157895, 10.26315789, 12.89473684, 15.52631579,\n",
       "       18.15789474, 20.78947368, 23.42105263, 26.05263158, 28.68421053,\n",
       "       31.31578947, 33.94736842, 36.57894737, 39.21052632, 41.84210526,\n",
       "       44.47368421, 47.10526316, 49.73684211, 52.36842105, 55.        ])"
      ]
     },
     "execution_count": 16,
     "metadata": {},
     "output_type": "execute_result"
    }
   ],
   "source": [
    "a10 = np.linspace(5,55,20)\n",
    "a10"
   ]
  },
  {
   "cell_type": "markdown",
   "id": "927b60f9",
   "metadata": {},
   "source": [
    "#### Eventhough default data type is float it can be changed"
   ]
  },
  {
   "cell_type": "code",
   "execution_count": 17,
   "id": "5ebb9fc6",
   "metadata": {},
   "outputs": [
    {
     "data": {
      "text/plain": [
       "array([ 5,  7, 10, 12, 15, 18, 20, 23, 26, 28, 31, 33, 36, 39, 41, 44, 47,\n",
       "       49, 52, 55])"
      ]
     },
     "execution_count": 17,
     "metadata": {},
     "output_type": "execute_result"
    }
   ],
   "source": [
    "a11 = np.linspace(5,55,20,dtype = int)\n",
    "a11"
   ]
  },
  {
   "cell_type": "markdown",
   "id": "7e5a1edf",
   "metadata": {},
   "source": [
    "### Mathematical operations are vectorized using numpy array"
   ]
  },
  {
   "cell_type": "code",
   "execution_count": 18,
   "id": "5b4cbc50",
   "metadata": {},
   "outputs": [
    {
     "data": {
      "text/plain": [
       "array([ 4,  8, 12, 16])"
      ]
     },
     "execution_count": 18,
     "metadata": {},
     "output_type": "execute_result"
    }
   ],
   "source": [
    "a1*2"
   ]
  },
  {
   "cell_type": "markdown",
   "id": "41343885",
   "metadata": {},
   "source": [
    "### Mathematical operation across two numpy array"
   ]
  },
  {
   "cell_type": "code",
   "execution_count": 19,
   "id": "17ff1dfb",
   "metadata": {},
   "outputs": [
    {
     "data": {
      "text/plain": [
       "array([ 3. ,  6. ,  9. , 12.6])"
      ]
     },
     "execution_count": 19,
     "metadata": {},
     "output_type": "execute_result"
    }
   ],
   "source": [
    "a1+a2"
   ]
  },
  {
   "cell_type": "markdown",
   "id": "a916ec9b",
   "metadata": {},
   "source": [
    "### Creating a 2X2 two-dimensional array"
   ]
  },
  {
   "cell_type": "code",
   "execution_count": 20,
   "id": "29100f6d",
   "metadata": {},
   "outputs": [
    {
     "data": {
      "text/plain": [
       "[[1, 2], [3, 4]]"
      ]
     },
     "execution_count": 20,
     "metadata": {},
     "output_type": "execute_result"
    }
   ],
   "source": [
    "a12 = [[1,2],[3,4]]\n",
    "a12"
   ]
  },
  {
   "cell_type": "markdown",
   "id": "b6a89179",
   "metadata": {},
   "source": [
    "### Create two dimensional array using arange() and reshape() function"
   ]
  },
  {
   "cell_type": "code",
   "execution_count": 21,
   "id": "b5b2cf83",
   "metadata": {},
   "outputs": [
    {
     "data": {
      "text/plain": [
       "array([[0, 1],\n",
       "       [2, 3],\n",
       "       [4, 5],\n",
       "       [6, 7],\n",
       "       [8, 9]])"
      ]
     },
     "execution_count": 21,
     "metadata": {},
     "output_type": "execute_result"
    }
   ],
   "source": [
    "a13 = np.arange(0,10).reshape(5,2)\n",
    "a13"
   ]
  },
  {
   "cell_type": "markdown",
   "id": "2e3a6547",
   "metadata": {},
   "source": [
    "#### Creation of two-dimensional array using linspace and reshape"
   ]
  },
  {
   "cell_type": "code",
   "execution_count": 22,
   "id": "9bc694b0",
   "metadata": {},
   "outputs": [
    {
     "data": {
      "text/plain": [
       "array([[ 0,  1,  2,  3,  4,  5,  6,  7,  8,  9],\n",
       "       [10, 11, 12, 13, 14, 15, 16, 17, 18, 19],\n",
       "       [20, 21, 22, 23, 24, 26, 27, 28, 29, 30],\n",
       "       [31, 32, 33, 34, 35, 36, 37, 38, 39, 40],\n",
       "       [41, 42, 43, 44, 45, 46, 47, 48, 49, 51]])"
      ]
     },
     "execution_count": 22,
     "metadata": {},
     "output_type": "execute_result"
    }
   ],
   "source": [
    "a14 = np.linspace(0,51,50,dtype = int).reshape(5,10)\n",
    "a14"
   ]
  },
  {
   "cell_type": "markdown",
   "id": "a6e104b3",
   "metadata": {},
   "source": [
    "#### Number of elements in array a14"
   ]
  },
  {
   "cell_type": "code",
   "execution_count": 23,
   "id": "06e4eca0",
   "metadata": {},
   "outputs": [
    {
     "data": {
      "text/plain": [
       "50"
      ]
     },
     "execution_count": 23,
     "metadata": {},
     "output_type": "execute_result"
    }
   ],
   "source": [
    "np.size(a14)"
   ]
  },
  {
   "cell_type": "markdown",
   "id": "374e5ddc",
   "metadata": {},
   "source": [
    "#### Number of rows in array a13"
   ]
  },
  {
   "cell_type": "code",
   "execution_count": 24,
   "id": "a20a0ff6",
   "metadata": {},
   "outputs": [
    {
     "data": {
      "text/plain": [
       "5"
      ]
     },
     "execution_count": 24,
     "metadata": {},
     "output_type": "execute_result"
    }
   ],
   "source": [
    "np.size(a14,0)"
   ]
  },
  {
   "cell_type": "markdown",
   "id": "324b4f6a",
   "metadata": {},
   "source": [
    "#### Number of columns in array a13"
   ]
  },
  {
   "cell_type": "code",
   "execution_count": 25,
   "id": "76276752",
   "metadata": {},
   "outputs": [
    {
     "data": {
      "text/plain": [
       "10"
      ]
     },
     "execution_count": 25,
     "metadata": {},
     "output_type": "execute_result"
    }
   ],
   "source": [
    "np.size(a14,1)"
   ]
  },
  {
   "cell_type": "code",
   "execution_count": 26,
   "id": "de8af809",
   "metadata": {},
   "outputs": [
    {
     "ename": "IndexError",
     "evalue": "tuple index out of range",
     "output_type": "error",
     "traceback": [
      "\u001b[1;31m---------------------------------------------------------------------------\u001b[0m",
      "\u001b[1;31mIndexError\u001b[0m                                Traceback (most recent call last)",
      "Cell \u001b[1;32mIn[26], line 1\u001b[0m\n\u001b[1;32m----> 1\u001b[0m np\u001b[38;5;241m.\u001b[39msize(a13,\u001b[38;5;241m2\u001b[39m)\n",
      "File \u001b[1;32m<__array_function__ internals>:200\u001b[0m, in \u001b[0;36msize\u001b[1;34m(*args, **kwargs)\u001b[0m\n",
      "File \u001b[1;32m~\\anaconda3\\Lib\\site-packages\\numpy\\core\\fromnumeric.py:3236\u001b[0m, in \u001b[0;36msize\u001b[1;34m(a, axis)\u001b[0m\n\u001b[0;32m   3234\u001b[0m \u001b[38;5;28;01melse\u001b[39;00m:\n\u001b[0;32m   3235\u001b[0m     \u001b[38;5;28;01mtry\u001b[39;00m:\n\u001b[1;32m-> 3236\u001b[0m         \u001b[38;5;28;01mreturn\u001b[39;00m a\u001b[38;5;241m.\u001b[39mshape[axis]\n\u001b[0;32m   3237\u001b[0m     \u001b[38;5;28;01mexcept\u001b[39;00m \u001b[38;5;167;01mAttributeError\u001b[39;00m:\n\u001b[0;32m   3238\u001b[0m         \u001b[38;5;28;01mreturn\u001b[39;00m asarray(a)\u001b[38;5;241m.\u001b[39mshape[axis]\n",
      "\u001b[1;31mIndexError\u001b[0m: tuple index out of range"
     ]
    }
   ],
   "source": [
    "np.size(a13,2)"
   ]
  },
  {
   "cell_type": "markdown",
   "id": "b0c57161",
   "metadata": {},
   "source": [
    "## Selecting array elements"
   ]
  },
  {
   "cell_type": "markdown",
   "id": "59a2302c",
   "metadata": {},
   "source": [
    "#### Select 0 based array elements"
   ]
  },
  {
   "cell_type": "code",
   "execution_count": null,
   "id": "0fe556be",
   "metadata": {},
   "outputs": [],
   "source": [
    "a1[0]"
   ]
  },
  {
   "cell_type": "code",
   "execution_count": null,
   "id": "b560bb36",
   "metadata": {},
   "outputs": [],
   "source": [
    "a1[0],a1[2]"
   ]
  },
  {
   "cell_type": "markdown",
   "id": "f2ab19a9",
   "metadata": {},
   "source": [
    "#### Accessing the 2 Dimensional array elements"
   ]
  },
  {
   "cell_type": "code",
   "execution_count": null,
   "id": "f809fd8e",
   "metadata": {},
   "outputs": [],
   "source": [
    "a14[3,4]"
   ]
  },
  {
   "cell_type": "code",
   "execution_count": null,
   "id": "58328360",
   "metadata": {},
   "outputs": [],
   "source": [
    "a13[2,1]"
   ]
  },
  {
   "cell_type": "markdown",
   "id": "6d66e90d",
   "metadata": {},
   "source": [
    "### Selecting the entire row in 2D array element"
   ]
  },
  {
   "cell_type": "code",
   "execution_count": null,
   "id": "50ee9f83",
   "metadata": {},
   "outputs": [],
   "source": [
    "a13[2,]"
   ]
  },
  {
   "cell_type": "code",
   "execution_count": null,
   "id": "f962cc9e",
   "metadata": {},
   "outputs": [],
   "source": [
    "a14[3,]"
   ]
  },
  {
   "cell_type": "markdown",
   "id": "dd89a4c2",
   "metadata": {},
   "source": [
    "### Selecting the entire column 2D array element"
   ]
  },
  {
   "cell_type": "code",
   "execution_count": null,
   "id": "9365d4df",
   "metadata": {},
   "outputs": [],
   "source": [
    "a13[:,1]"
   ]
  },
  {
   "cell_type": "markdown",
   "id": "ff13421e",
   "metadata": {},
   "source": [
    "#### Using a blank space in place of : will result in sytax error"
   ]
  },
  {
   "cell_type": "code",
   "execution_count": null,
   "id": "0d3a06c3",
   "metadata": {},
   "outputs": [],
   "source": [
    "a14[:,3]"
   ]
  },
  {
   "cell_type": "markdown",
   "id": "2898bc46",
   "metadata": {},
   "source": [
    "## Logical operations on arrays"
   ]
  },
  {
   "cell_type": "markdown",
   "id": "69a7f4e5",
   "metadata": {},
   "source": [
    "### Which item are less than 5"
   ]
  },
  {
   "cell_type": "code",
   "execution_count": null,
   "id": "0937f2e0",
   "metadata": {},
   "outputs": [],
   "source": [
    "a15 = np.arange(10)\n",
    "a15 < 5"
   ]
  },
  {
   "cell_type": "markdown",
   "id": "922aa5ac",
   "metadata": {},
   "source": [
    "#### Use complicated bolean expressions (element < 3 and element > 6)"
   ]
  },
  {
   "cell_type": "code",
   "execution_count": null,
   "id": "60370222",
   "metadata": {},
   "outputs": [],
   "source": [
    "(a15<3)|(a15>6)"
   ]
  },
  {
   "cell_type": "markdown",
   "id": "90642ec8",
   "metadata": {},
   "source": [
    "###### Use of np.vectorize() to apply an exp. or func. to all array elements in vectorized manner "
   ]
  },
  {
   "cell_type": "markdown",
   "id": "d76aad9a",
   "metadata": {},
   "source": [
    "#### 1. first define the function"
   ]
  },
  {
   "cell_type": "code",
   "execution_count": null,
   "id": "d423294b",
   "metadata": {},
   "outputs": [],
   "source": [
    "def exp(x):\n",
    "    return (x<3 or x>6)"
   ]
  },
  {
   "cell_type": "markdown",
   "id": "f1934cce",
   "metadata": {},
   "source": [
    "#### Vectorize the above function for every element of array"
   ]
  },
  {
   "cell_type": "code",
   "execution_count": null,
   "id": "4fbe745a",
   "metadata": {},
   "outputs": [],
   "source": [
    "np.vectorize(exp)(a15)"
   ]
  },
  {
   "cell_type": "markdown",
   "id": "742446a0",
   "metadata": {},
   "source": [
    "#### 2. define function"
   ]
  },
  {
   "cell_type": "code",
   "execution_count": null,
   "id": "4082cdb1",
   "metadata": {},
   "outputs": [],
   "source": [
    "def exp2(x):\n",
    "    return(x**2 < 10 or x**2 >50)"
   ]
  },
  {
   "cell_type": "markdown",
   "id": "299d4926",
   "metadata": {},
   "source": [
    "### Vectorize the above operation"
   ]
  },
  {
   "cell_type": "code",
   "execution_count": null,
   "id": "af912253",
   "metadata": {},
   "outputs": [],
   "source": [
    "np.vectorize(exp2)(a15)"
   ]
  },
  {
   "cell_type": "markdown",
   "id": "e9d29a4d",
   "metadata": {},
   "source": [
    "#### Boolean selection"
   ]
  },
  {
   "cell_type": "code",
   "execution_count": null,
   "id": "427518bb",
   "metadata": {},
   "outputs": [],
   "source": [
    "a16 = np.arange(10)\n",
    "r = a16 < 5\n",
    "a16[r]"
   ]
  },
  {
   "cell_type": "markdown",
   "id": "3c343aa3",
   "metadata": {},
   "source": [
    "#### Count the number of values less than 5 "
   ]
  },
  {
   "cell_type": "markdown",
   "id": "f1f7a227",
   "metadata": {},
   "source": [
    "###### np.sum treats True as 1 and False as 0"
   ]
  },
  {
   "cell_type": "code",
   "execution_count": null,
   "id": "3ad7adf5",
   "metadata": {},
   "outputs": [],
   "source": [
    "np.sum(r)"
   ]
  },
  {
   "cell_type": "markdown",
   "id": "529f3cbc",
   "metadata": {},
   "source": [
    "#### Comparision of two one dimensional arrays"
   ]
  },
  {
   "cell_type": "code",
   "execution_count": null,
   "id": "e847615c",
   "metadata": {},
   "outputs": [],
   "source": [
    "a17 = np.arange(9,-1,-1)\n",
    "a16>a17"
   ]
  },
  {
   "cell_type": "markdown",
   "id": "241182e4",
   "metadata": {},
   "source": [
    "##### Compare two 2 dimensional arrays"
   ]
  },
  {
   "cell_type": "code",
   "execution_count": null,
   "id": "8447fffe",
   "metadata": {},
   "outputs": [],
   "source": [
    "a18 = np.arange(0,10).reshape(2,5)\n",
    "a19 = np.arange(9,-1,-1).reshape(2,5)\n",
    "a18>a19"
   ]
  },
  {
   "cell_type": "markdown",
   "id": "4a8d639b",
   "metadata": {},
   "source": [
    "## Slicing operation in Arrays"
   ]
  },
  {
   "cell_type": "markdown",
   "id": "b2499cbb",
   "metadata": {},
   "source": [
    "#### Slicing the 3rd to the 8th element of array"
   ]
  },
  {
   "cell_type": "code",
   "execution_count": null,
   "id": "5c96915c",
   "metadata": {},
   "outputs": [],
   "source": [
    "a20 = np.arange(1,10)\n",
    "a20[3:8]"
   ]
  },
  {
   "cell_type": "markdown",
   "id": "970f7ec1",
   "metadata": {},
   "source": [
    "#### Selecting every other element of array using step of slice"
   ]
  },
  {
   "cell_type": "code",
   "execution_count": null,
   "id": "5be58f26",
   "metadata": {},
   "outputs": [],
   "source": [
    "a20[::2]"
   ]
  },
  {
   "cell_type": "markdown",
   "id": "e116a711",
   "metadata": {},
   "source": [
    "#### Completly reversing the array"
   ]
  },
  {
   "cell_type": "code",
   "execution_count": null,
   "id": "f997f15f",
   "metadata": {},
   "outputs": [],
   "source": [
    "a20[::-1]"
   ]
  },
  {
   "cell_type": "markdown",
   "id": "c2bb2c7f",
   "metadata": {},
   "source": [
    "#### Prove that in Slicing the end element is not inclusive"
   ]
  },
  {
   "cell_type": "code",
   "execution_count": null,
   "id": "c680aa0f",
   "metadata": {},
   "outputs": [],
   "source": [
    "a20[9:0:-1]"
   ]
  },
  {
   "cell_type": "markdown",
   "id": "d2aeb97d",
   "metadata": {},
   "source": [
    "#### Select all items from position 5"
   ]
  },
  {
   "cell_type": "code",
   "execution_count": null,
   "id": "d71818cb",
   "metadata": {},
   "outputs": [],
   "source": [
    "a20[5:]"
   ]
  },
  {
   "cell_type": "markdown",
   "id": "8d0b9dca",
   "metadata": {},
   "source": [
    "#### Select first 5 elements of the array"
   ]
  },
  {
   "cell_type": "code",
   "execution_count": null,
   "id": "77e307ae",
   "metadata": {},
   "outputs": [],
   "source": [
    "a20[:5]"
   ]
  },
  {
   "cell_type": "markdown",
   "id": "250b773a",
   "metadata": {},
   "source": [
    "### Slicing a Two Dimensional array"
   ]
  },
  {
   "cell_type": "code",
   "execution_count": null,
   "id": "5191c01e",
   "metadata": {},
   "outputs": [],
   "source": [
    "a21 = np.arange(1,21).reshape(5,4)\n",
    "a21"
   ]
  },
  {
   "cell_type": "markdown",
   "id": "eb810ae5",
   "metadata": {},
   "source": [
    "### Position 1 element in all rows"
   ]
  },
  {
   "cell_type": "code",
   "execution_count": null,
   "id": "6b93e70b",
   "metadata": {},
   "outputs": [],
   "source": [
    "a21[:,1]"
   ]
  },
  {
   "cell_type": "markdown",
   "id": "0a611018",
   "metadata": {},
   "source": [
    "### Columns in position 1 and 2 of the entire matrix"
   ]
  },
  {
   "cell_type": "code",
   "execution_count": null,
   "id": "970a9d38",
   "metadata": {},
   "outputs": [],
   "source": [
    "a21[:,1:3]"
   ]
  },
  {
   "cell_type": "markdown",
   "id": "defd3e4c",
   "metadata": {},
   "source": [
    "### Slicing the rows "
   ]
  },
  {
   "cell_type": "code",
   "execution_count": null,
   "id": "18241ec6",
   "metadata": {},
   "outputs": [],
   "source": [
    "a21[1:3,]"
   ]
  },
  {
   "cell_type": "markdown",
   "id": "66f4fd58",
   "metadata": {},
   "source": [
    "### Slicing rows and columns"
   ]
  },
  {
   "cell_type": "code",
   "execution_count": null,
   "id": "79d4a9e5",
   "metadata": {},
   "outputs": [],
   "source": [
    "a21[1:3,2:4]"
   ]
  },
  {
   "cell_type": "markdown",
   "id": "cab0185d",
   "metadata": {},
   "source": [
    "### Selecting specific rows and column"
   ]
  },
  {
   "cell_type": "code",
   "execution_count": null,
   "id": "c95dcb08",
   "metadata": {},
   "outputs": [],
   "source": [
    "a21[[0,2,4],1:4]"
   ]
  },
  {
   "cell_type": "markdown",
   "id": "12a8f00f",
   "metadata": {},
   "source": [
    "## Reshaping the array"
   ]
  },
  {
   "cell_type": "markdown",
   "id": "f7f96026",
   "metadata": {},
   "source": [
    "#### Creating creating a 15X1 array then reshaping it to a 5X3 array back to 15X1 array "
   ]
  },
  {
   "cell_type": "code",
   "execution_count": null,
   "id": "b36ace1b",
   "metadata": {},
   "outputs": [],
   "source": [
    "a22 = np.arange(1,16).reshape(5,3)\n",
    "a22"
   ]
  },
  {
   "cell_type": "markdown",
   "id": "aba67bc8",
   "metadata": {},
   "source": [
    "#### The .reshape() cerates a new array and the orignal array remains unchanged "
   ]
  },
  {
   "cell_type": "code",
   "execution_count": null,
   "id": "2dc25d39",
   "metadata": {},
   "outputs": [],
   "source": [
    "a22.reshape(1,15)\n",
    "a22"
   ]
  },
  {
   "cell_type": "code",
   "execution_count": null,
   "id": "074e3b0f",
   "metadata": {},
   "outputs": [],
   "source": [
    "reshaped = a22.reshape(15)\n",
    "reshaped"
   ]
  },
  {
   "cell_type": "markdown",
   "id": "70ca4e28",
   "metadata": {},
   "source": [
    "#### Using .ravel() method to create one dimensional array out of a 2D array"
   ]
  },
  {
   "cell_type": "code",
   "execution_count": null,
   "id": "38393bbf",
   "metadata": {},
   "outputs": [],
   "source": [
    "raveled = a22.ravel()\n",
    "raveled"
   ]
  },
  {
   "cell_type": "markdown",
   "id": "76ec1c9c",
   "metadata": {},
   "source": [
    "#### The source remains unaffected"
   ]
  },
  {
   "cell_type": "code",
   "execution_count": null,
   "id": "d04147a4",
   "metadata": {},
   "outputs": [],
   "source": [
    "a22"
   ]
  },
  {
   "cell_type": "markdown",
   "id": "898d5336",
   "metadata": {},
   "source": [
    "#### Changing reshaped and raveled, changes the source"
   ]
  },
  {
   "cell_type": "code",
   "execution_count": null,
   "id": "04f65239",
   "metadata": {},
   "outputs": [],
   "source": [
    "reshaped[4] = 50\n",
    "reshaped[2] = 50\n",
    "reshaped[5] = 50\n",
    "raveled[11] = 100\n",
    "raveled[13] =200\n",
    "a22"
   ]
  },
  {
   "cell_type": "markdown",
   "id": "cd6c9672",
   "metadata": {},
   "source": [
    "#### The .flatten() method creates a new copy of the array"
   ]
  },
  {
   "cell_type": "code",
   "execution_count": null,
   "id": "5638e6c2",
   "metadata": {},
   "outputs": [],
   "source": [
    "flattened = a22.flatten()\n",
    "flattened[7] = 500\n",
    "flattened"
   ]
  },
  {
   "cell_type": "markdown",
   "id": "bb398305",
   "metadata": {},
   "source": [
    "#### Orignal array remains unaffected"
   ]
  },
  {
   "cell_type": "code",
   "execution_count": null,
   "id": "d362c48b",
   "metadata": {},
   "outputs": [],
   "source": [
    "a22"
   ]
  },
  {
   "cell_type": "markdown",
   "id": "8d0d963f",
   "metadata": {},
   "source": [
    "#### The .shape property to return the shape of an array"
   ]
  },
  {
   "cell_type": "code",
   "execution_count": null,
   "id": "69cfc3c0",
   "metadata": {},
   "outputs": [],
   "source": [
    "flattened.shape"
   ]
  },
  {
   "cell_type": "markdown",
   "id": "1b876cf9",
   "metadata": {},
   "source": [
    "#### Assigment operator can be used to allocate a new shape or reshaping"
   ]
  },
  {
   "cell_type": "code",
   "execution_count": null,
   "id": "183f7995",
   "metadata": {},
   "outputs": [],
   "source": [
    "flattened.shape = (5,3)\n",
    "flattened"
   ]
  },
  {
   "cell_type": "markdown",
   "id": "9519524f",
   "metadata": {},
   "source": [
    "#### Calculation of Transpose of the Matrix"
   ]
  },
  {
   "cell_type": "code",
   "execution_count": null,
   "id": "4437ce11",
   "metadata": {},
   "outputs": [],
   "source": [
    "flattened.transpose()"
   ]
  },
  {
   "cell_type": "markdown",
   "id": "a710ac94",
   "metadata": {},
   "source": [
    "#### Transposing using `.T` property "
   ]
  },
  {
   "cell_type": "code",
   "execution_count": null,
   "id": "bd1d4140",
   "metadata": {},
   "outputs": [],
   "source": [
    "flattened.T"
   ]
  },
  {
   "cell_type": "markdown",
   "id": "c7af2766",
   "metadata": {},
   "source": [
    "#### The resizing of array can be done using .resize() method"
   ]
  },
  {
   "cell_type": "code",
   "execution_count": null,
   "id": "f2c05ccd",
   "metadata": {},
   "outputs": [],
   "source": [
    "m = np.arange(1,10).reshape(3,3)\n",
    "m"
   ]
  },
  {
   "cell_type": "code",
   "execution_count": null,
   "id": "d1ad4387",
   "metadata": {},
   "outputs": [],
   "source": [
    "m.resize(9)\n",
    "m"
   ]
  },
  {
   "cell_type": "markdown",
   "id": "ae089030",
   "metadata": {},
   "source": [
    "## Combining Two arrays"
   ]
  },
  {
   "cell_type": "markdown",
   "id": "b9377199",
   "metadata": {},
   "source": [
    "#### Creating Two arrays for example"
   ]
  },
  {
   "cell_type": "code",
   "execution_count": null,
   "id": "c8e4e72d",
   "metadata": {},
   "outputs": [],
   "source": [
    "a = np.arange(1,10).reshape(3,3)\n",
    "a"
   ]
  },
  {
   "cell_type": "code",
   "execution_count": null,
   "id": "2a9f0789",
   "metadata": {},
   "outputs": [],
   "source": [
    "b = a*10+1\n",
    "b"
   ]
  },
  {
   "cell_type": "markdown",
   "id": "430bcff1",
   "metadata": {},
   "source": [
    "#### Combining two arrays using the hstack "
   ]
  },
  {
   "cell_type": "code",
   "execution_count": null,
   "id": "f039b4e3",
   "metadata": {},
   "outputs": [],
   "source": [
    "np.hstack((a,b))"
   ]
  },
  {
   "cell_type": "markdown",
   "id": "148dc227",
   "metadata": {},
   "source": [
    "#### Merging Two arrays using the concatenate() function"
   ]
  },
  {
   "cell_type": "code",
   "execution_count": null,
   "id": "4b327a23",
   "metadata": {},
   "outputs": [],
   "source": [
    "np.concatenate((a,b),axis = 1)"
   ]
  },
  {
   "cell_type": "markdown",
   "id": "c8a22cd1",
   "metadata": {},
   "source": [
    "### Combining two arrays using vstack"
   ]
  },
  {
   "cell_type": "code",
   "execution_count": null,
   "id": "0920d85d",
   "metadata": {},
   "outputs": [],
   "source": [
    "np.vstack((a,b))"
   ]
  },
  {
   "cell_type": "markdown",
   "id": "21229014",
   "metadata": {},
   "source": [
    "#### Appending two arrays with concatenate"
   ]
  },
  {
   "cell_type": "code",
   "execution_count": null,
   "id": "66d226fa",
   "metadata": {},
   "outputs": [],
   "source": [
    "np.concatenate((a,b),axis = 0)"
   ]
  },
  {
   "cell_type": "markdown",
   "id": "fd9239c4",
   "metadata": {},
   "source": [
    "##### Combining the two arrays using dstack (making a 3 dimensional array using two 2 dimensional array)"
   ]
  },
  {
   "cell_type": "code",
   "execution_count": null,
   "id": "cc9d1777",
   "metadata": {},
   "outputs": [],
   "source": [
    "np.dstack((a,b))"
   ]
  },
  {
   "cell_type": "markdown",
   "id": "d28cb359",
   "metadata": {},
   "source": [
    "### Column stacking of two one dimensional array"
   ]
  },
  {
   "cell_type": "code",
   "execution_count": null,
   "id": "ff52e83e",
   "metadata": {},
   "outputs": [],
   "source": [
    "a1 = np.arange(10)\n",
    "a2 = (a1+1)*10-6\n",
    "a3 = (a1-1)*10+6\n",
    "a1"
   ]
  },
  {
   "cell_type": "code",
   "execution_count": null,
   "id": "ef187d60",
   "metadata": {},
   "outputs": [],
   "source": [
    "a2"
   ]
  },
  {
   "cell_type": "code",
   "execution_count": null,
   "id": "f9b06ee7",
   "metadata": {},
   "outputs": [],
   "source": [
    "a3"
   ]
  },
  {
   "cell_type": "code",
   "execution_count": null,
   "id": "4a050136",
   "metadata": {},
   "outputs": [],
   "source": [
    "np.column_stack((a1,a2))"
   ]
  },
  {
   "cell_type": "markdown",
   "id": "72d220ab",
   "metadata": {},
   "source": [
    "#### np.column_stack() and np.hstack() will not effectivly yeild same result"
   ]
  },
  {
   "cell_type": "code",
   "execution_count": null,
   "id": "615a334a",
   "metadata": {},
   "outputs": [],
   "source": [
    "np.hstack((a1,a2))"
   ]
  },
  {
   "cell_type": "markdown",
   "id": "6609e8f6",
   "metadata": {},
   "source": [
    "#### Column stack of more than 2 array is possible"
   ]
  },
  {
   "cell_type": "code",
   "execution_count": null,
   "id": "33893ef7",
   "metadata": {},
   "outputs": [],
   "source": [
    "np.column_stack((a1,a2,a3))"
   ]
  },
  {
   "cell_type": "markdown",
   "id": "2b7d8d25",
   "metadata": {},
   "source": [
    "#### column_stack for 3x3 and 3x4 array"
   ]
  },
  {
   "cell_type": "code",
   "execution_count": null,
   "id": "f46e65c1",
   "metadata": {},
   "outputs": [],
   "source": [
    "a1 = np.arange(12).reshape(3,4)\n",
    "np.column_stack((a,a1))"
   ]
  },
  {
   "cell_type": "markdown",
   "id": "1c28b2f4",
   "metadata": {},
   "source": [
    "#### hstack for 3x3 and 3x4 array"
   ]
  },
  {
   "cell_type": "code",
   "execution_count": null,
   "id": "1f32011e",
   "metadata": {},
   "outputs": [],
   "source": [
    "np.hstack((a,a1))"
   ]
  },
  {
   "cell_type": "markdown",
   "id": "7bebe26f",
   "metadata": {},
   "source": [
    "#### row_stack of two array"
   ]
  },
  {
   "cell_type": "code",
   "execution_count": null,
   "id": "898af6e0",
   "metadata": {},
   "outputs": [],
   "source": [
    "a2"
   ]
  },
  {
   "cell_type": "code",
   "execution_count": null,
   "id": "77d6e8cb",
   "metadata": {},
   "outputs": [],
   "source": [
    "a3"
   ]
  },
  {
   "cell_type": "code",
   "execution_count": null,
   "id": "7038a24b",
   "metadata": {},
   "outputs": [],
   "source": [
    "np.row_stack((a2,a3))"
   ]
  },
  {
   "cell_type": "markdown",
   "id": "2dcfd268",
   "metadata": {},
   "source": [
    "## Horizontal Split of Array"
   ]
  },
  {
   "cell_type": "code",
   "execution_count": null,
   "id": "92eda6c3",
   "metadata": {},
   "outputs": [],
   "source": [
    "a = np.arange(12).reshape(3,4)\n",
    "a"
   ]
  },
  {
   "cell_type": "markdown",
   "id": "9f0b5bd4",
   "metadata": {},
   "source": [
    "#### Using second parameter to np.hslipt() as a scalar value "
   ]
  },
  {
   "cell_type": "code",
   "execution_count": null,
   "id": "96232fb8",
   "metadata": {},
   "outputs": [],
   "source": [
    "np.hsplit(a,4)"
   ]
  },
  {
   "cell_type": "markdown",
   "id": "074f1c26",
   "metadata": {},
   "source": [
    "### Array can be split in any multiple of column"
   ]
  },
  {
   "cell_type": "code",
   "execution_count": null,
   "id": "58169a4f",
   "metadata": {},
   "outputs": [],
   "source": [
    "np.hsplit(a,4)"
   ]
  },
  {
   "cell_type": "markdown",
   "id": "182eade1",
   "metadata": {},
   "source": [
    "##### if non multiple is used we recive a value error "
   ]
  },
  {
   "cell_type": "code",
   "execution_count": null,
   "id": "ebf6e43e",
   "metadata": {},
   "outputs": [],
   "source": [
    "np.hsplit(a,3)"
   ]
  },
  {
   "cell_type": "markdown",
   "id": "2b9a7ce1",
   "metadata": {},
   "source": [
    "#### Array split along specified column if list is passed"
   ]
  },
  {
   "cell_type": "code",
   "execution_count": null,
   "id": "1ab31e06",
   "metadata": {},
   "outputs": [],
   "source": [
    "np.hsplit(a,[1,3])"
   ]
  },
  {
   "cell_type": "markdown",
   "id": "cd97334a",
   "metadata": {},
   "source": [
    "### Horizontal Split of array using split() function"
   ]
  },
  {
   "cell_type": "code",
   "execution_count": null,
   "id": "e7a6c30f",
   "metadata": {},
   "outputs": [],
   "source": [
    "np.split(a,2,axis = 1)"
   ]
  },
  {
   "cell_type": "markdown",
   "id": "b5c74e09",
   "metadata": {},
   "source": [
    "#### Vetrical split of the above array"
   ]
  },
  {
   "cell_type": "code",
   "execution_count": null,
   "id": "ec530859",
   "metadata": {},
   "outputs": [],
   "source": [
    "np.vsplit(a,3)"
   ]
  },
  {
   "cell_type": "markdown",
   "id": "99df7c39",
   "metadata": {},
   "source": [
    "#### row specific split can also be perfrmed"
   ]
  },
  {
   "cell_type": "code",
   "execution_count": null,
   "id": "e26fa1cd",
   "metadata": {},
   "outputs": [],
   "source": [
    "np.vsplit(a,[1,3])"
   ]
  },
  {
   "cell_type": "markdown",
   "id": "6f715bd9",
   "metadata": {},
   "source": [
    "### The dsplit() of an array"
   ]
  },
  {
   "cell_type": "code",
   "execution_count": null,
   "id": "60632ac2",
   "metadata": {},
   "outputs": [],
   "source": [
    "c = np.arange(27).reshape(3,3,3)\n",
    "np.dsplit(c,3)"
   ]
  },
  {
   "cell_type": "markdown",
   "id": "f651c3b9",
   "metadata": {},
   "source": [
    "### Numerical methods of Numpy array"
   ]
  },
  {
   "cell_type": "code",
   "execution_count": 27,
   "id": "2c406c12",
   "metadata": {},
   "outputs": [
    {
     "data": {
      "text/plain": [
       "array([[11, 12, 13, 14, 15, 16, 17],\n",
       "       [18, 19, 20, 21, 22, 23, 24],\n",
       "       [25, 26, 27, 28, 29, 30, 31]])"
      ]
     },
     "execution_count": 27,
     "metadata": {},
     "output_type": "execute_result"
    }
   ],
   "source": [
    "a = np.arange(11,32).reshape(3,7)\n",
    "a"
   ]
  },
  {
   "cell_type": "code",
   "execution_count": 28,
   "id": "4d242f1d",
   "metadata": {},
   "outputs": [
    {
     "name": "stdout",
     "output_type": "stream",
     "text": [
      "11 the min of entire matrix\n"
     ]
    }
   ],
   "source": [
    "print(\"{0} the min of entire matrix\".format(a.min())) "
   ]
  },
  {
   "cell_type": "code",
   "execution_count": 29,
   "id": "adaddc94",
   "metadata": {},
   "outputs": [
    {
     "name": "stdout",
     "output_type": "stream",
     "text": [
      "31 the max of entire matrix\n"
     ]
    }
   ],
   "source": [
    "print(\"{0} the max of entire matrix\".format(a.max()))"
   ]
  },
  {
   "cell_type": "code",
   "execution_count": 30,
   "id": "4decce0f",
   "metadata": {},
   "outputs": [
    {
     "name": "stdout",
     "output_type": "stream",
     "text": [
      "0 the position of minimum value in array\n"
     ]
    }
   ],
   "source": [
    "print(\"{} the position of minimum value in array\".format(a.argmin()))"
   ]
  },
  {
   "cell_type": "code",
   "execution_count": 31,
   "id": "970e339d",
   "metadata": {},
   "outputs": [
    {
     "name": "stdout",
     "output_type": "stream",
     "text": [
      "20 the position of maximum value in array\n"
     ]
    }
   ],
   "source": [
    "print(\"{} the position of maximum value in array\".format(a.argmax()))"
   ]
  },
  {
   "cell_type": "markdown",
   "id": "a8d63b12",
   "metadata": {},
   "source": [
    "### Calculating the minimum and maximum along the specific axis"
   ]
  },
  {
   "cell_type": "code",
   "execution_count": 32,
   "id": "676cfb43",
   "metadata": {},
   "outputs": [
    {
     "name": "stdout",
     "output_type": "stream",
     "text": [
      "[11 12 13 14 15 16 17] are the minimum values along the columns\n"
     ]
    }
   ],
   "source": [
    "print(\"{0} are the minimum values along the columns\".format(a.min(axis = 0)))"
   ]
  },
  {
   "cell_type": "code",
   "execution_count": 33,
   "id": "85ca4e90",
   "metadata": {},
   "outputs": [
    {
     "name": "stdout",
     "output_type": "stream",
     "text": [
      "[25 26 27 28 29 30 31] are the maximum vales along the columns\n"
     ]
    }
   ],
   "source": [
    "print(\"{0} are the maximum vales along the columns\".format(a.max(axis=0)))"
   ]
  },
  {
   "cell_type": "code",
   "execution_count": 34,
   "id": "f9c41b0f",
   "metadata": {},
   "outputs": [
    {
     "name": "stdout",
     "output_type": "stream",
     "text": [
      "[11 18 25] are the min values along the rows\n"
     ]
    }
   ],
   "source": [
    "print(\"{0} are the min values along the rows\".format(a.min(axis = 1)))"
   ]
  },
  {
   "cell_type": "code",
   "execution_count": 35,
   "id": "d7b32532",
   "metadata": {},
   "outputs": [
    {
     "name": "stdout",
     "output_type": "stream",
     "text": [
      "[17 24 31] are the max values along the rows\n"
     ]
    }
   ],
   "source": [
    "print(\"{0} are the max values along the rows\".format(a.max(axis = 1)))"
   ]
  },
  {
   "cell_type": "markdown",
   "id": "9c8631a6",
   "metadata": {},
   "source": [
    "#### Claculation of mean, standard deviation and variance of array"
   ]
  },
  {
   "cell_type": "code",
   "execution_count": 36,
   "id": "80fb2695",
   "metadata": {},
   "outputs": [
    {
     "data": {
      "text/plain": [
       "array([[ 0,  1,  2,  3],\n",
       "       [ 4,  5,  6,  7],\n",
       "       [ 8,  9, 10, 11]])"
      ]
     },
     "execution_count": 36,
     "metadata": {},
     "output_type": "execute_result"
    }
   ],
   "source": [
    "b = np.arange(12).reshape(3,4)\n",
    "b"
   ]
  },
  {
   "cell_type": "markdown",
   "id": "7f0f0609",
   "metadata": {},
   "source": [
    "### Mean of above array"
   ]
  },
  {
   "cell_type": "code",
   "execution_count": 40,
   "id": "2f0c2887",
   "metadata": {},
   "outputs": [
    {
     "name": "stdout",
     "output_type": "stream",
     "text": [
      "5.5 is the mean of array b\n"
     ]
    }
   ],
   "source": [
    "print(\"{0} is the mean of array b\".format (b.mean()))"
   ]
  },
  {
   "cell_type": "markdown",
   "id": "770ae664",
   "metadata": {},
   "source": [
    "### Mean along each axis"
   ]
  },
  {
   "cell_type": "code",
   "execution_count": 41,
   "id": "b1004b34",
   "metadata": {},
   "outputs": [
    {
     "name": "stdout",
     "output_type": "stream",
     "text": [
      "[4. 5. 6. 7.] is the mean of each row\n"
     ]
    }
   ],
   "source": [
    "print(\"{0} is the mean of each column\".format(b.mean(axis = 0)))"
   ]
  },
  {
   "cell_type": "code",
   "execution_count": 43,
   "id": "842efa0e",
   "metadata": {},
   "outputs": [
    {
     "name": "stdout",
     "output_type": "stream",
     "text": [
      "[1.5 5.5 9.5] is the mean of each row\n"
     ]
    }
   ],
   "source": [
    "print(\"{0} is the mean of each row\".format(b.mean(axis = 1)))"
   ]
  },
  {
   "cell_type": "markdown",
   "id": "18648aeb",
   "metadata": {},
   "source": [
    "### Standard deviation"
   ]
  },
  {
   "cell_type": "code",
   "execution_count": 97,
   "id": "e069772f",
   "metadata": {},
   "outputs": [
    {
     "data": {
      "text/plain": [
       "3.452052529534663"
      ]
     },
     "execution_count": 97,
     "metadata": {},
     "output_type": "execute_result"
    }
   ],
   "source": [
    "b.std()"
   ]
  },
  {
   "cell_type": "code",
   "execution_count": 95,
   "id": "813f7725",
   "metadata": {},
   "outputs": [
    {
     "data": {
      "text/plain": [
       "array([3.26598632, 3.26598632, 3.26598632, 3.26598632])"
      ]
     },
     "execution_count": 95,
     "metadata": {},
     "output_type": "execute_result"
    }
   ],
   "source": [
    "b.std(axis =0)"
   ]
  },
  {
   "cell_type": "code",
   "execution_count": 46,
   "id": "71022b2d",
   "metadata": {},
   "outputs": [
    {
     "name": "stdout",
     "output_type": "stream",
     "text": [
      "3.45 is the standard deviation of array b\n"
     ]
    }
   ],
   "source": [
    "print(\"{0} is the standard deviation of array b\".format (round(b.std(),2)))"
   ]
  },
  {
   "cell_type": "markdown",
   "id": "b7fd61bf",
   "metadata": {},
   "source": [
    "### Doubt "
   ]
  },
  {
   "cell_type": "code",
   "execution_count": 98,
   "id": "a5ceb189",
   "metadata": {},
   "outputs": [
    {
     "name": "stdout",
     "output_type": "stream",
     "text": [
      "[3.26598632 3.26598632 3.26598632 3.26598632] is the standard deviation of array b along each column\n"
     ]
    }
   ],
   "source": [
    "print(\"{0} is the standard deviation of array b along each column\".format (b.std(axis = 0)))"
   ]
  },
  {
   "cell_type": "code",
   "execution_count": 54,
   "id": "3c3dd3f0",
   "metadata": {},
   "outputs": [
    {
     "name": "stdout",
     "output_type": "stream",
     "text": [
      "[1.11803399 1.11803399 1.11803399] is the standard deviation of array b along each column\n"
     ]
    }
   ],
   "source": [
    "print(\"{0} is the standard deviation of array b along each column\".format (b.std(axis = 1)))"
   ]
  },
  {
   "cell_type": "markdown",
   "id": "4bc00497",
   "metadata": {},
   "source": [
    "### Variance "
   ]
  },
  {
   "cell_type": "code",
   "execution_count": 55,
   "id": "e0ace415",
   "metadata": {},
   "outputs": [
    {
     "name": "stdout",
     "output_type": "stream",
     "text": [
      "11.92 is the variance of array b\n"
     ]
    }
   ],
   "source": [
    "print(\"{0} is the variance of array b\".format (round(b.var(),2)))"
   ]
  },
  {
   "cell_type": "markdown",
   "id": "03cd0978",
   "metadata": {},
   "source": [
    "#### Variance along axis"
   ]
  },
  {
   "cell_type": "code",
   "execution_count": 99,
   "id": "f01ccb8d",
   "metadata": {},
   "outputs": [
    {
     "name": "stdout",
     "output_type": "stream",
     "text": [
      "[10.66666667 10.66666667 10.66666667 10.66666667] is the variance of array b along x-axis\n"
     ]
    }
   ],
   "source": [
    "print(\"{0} is the variance of array b along x-axis\".format (b.var(axis = 0),2))"
   ]
  },
  {
   "cell_type": "code",
   "execution_count": 58,
   "id": "613d1875",
   "metadata": {},
   "outputs": [
    {
     "name": "stdout",
     "output_type": "stream",
     "text": [
      "[10.66666667 10.66666667 10.66666667 10.66666667] is the variance of array b along y-axis\n"
     ]
    }
   ],
   "source": [
    "print(\"{0} is the variance of array b along y-axis\".format (b.var(axis = 0)))"
   ]
  },
  {
   "cell_type": "markdown",
   "id": "a5c4adf9",
   "metadata": {},
   "source": [
    "### .sum() method"
   ]
  },
  {
   "cell_type": "code",
   "execution_count": 59,
   "id": "553ffdbb",
   "metadata": {},
   "outputs": [
    {
     "name": "stdout",
     "output_type": "stream",
     "text": [
      "66 is the sum of all elements in array b\n"
     ]
    }
   ],
   "source": [
    "print(\"{0} is the sum of all elements in array b\".format (b.sum()))"
   ]
  },
  {
   "cell_type": "markdown",
   "id": "ff154f74",
   "metadata": {},
   "source": [
    "### summing along each axis"
   ]
  },
  {
   "cell_type": "code",
   "execution_count": 61,
   "id": "f24ed9e5",
   "metadata": {},
   "outputs": [
    {
     "name": "stdout",
     "output_type": "stream",
     "text": [
      "[12 15 18 21] is the sum of all elements in array b along column\n"
     ]
    }
   ],
   "source": [
    "print(\"{0} is the sum of all elements in array b along column\".format (b.sum(axis = 0)))"
   ]
  },
  {
   "cell_type": "code",
   "execution_count": 63,
   "id": "9e0179ce",
   "metadata": {},
   "outputs": [
    {
     "name": "stdout",
     "output_type": "stream",
     "text": [
      "[ 6 22 38] is the sum of all elements in array b along row\n"
     ]
    }
   ],
   "source": [
    "print(\"{0} is the sum of all elements in array b along row\".format (b.sum(axis = 1)))"
   ]
  },
  {
   "cell_type": "markdown",
   "id": "28579e33",
   "metadata": {},
   "source": [
    "### .product() method"
   ]
  },
  {
   "cell_type": "code",
   "execution_count": 67,
   "id": "92797325",
   "metadata": {},
   "outputs": [
    {
     "name": "stdout",
     "output_type": "stream",
     "text": [
      "0 is the product of all elements in array b\n"
     ]
    }
   ],
   "source": [
    "print(\"{0} is the product of all elements in array b\".format(b.prod()))"
   ]
  },
  {
   "cell_type": "markdown",
   "id": "074cdba3",
   "metadata": {},
   "source": [
    "#### Product along the each axis"
   ]
  },
  {
   "cell_type": "code",
   "execution_count": 68,
   "id": "e1c685b9",
   "metadata": {},
   "outputs": [
    {
     "name": "stdout",
     "output_type": "stream",
     "text": [
      "[   0  840 7920] is the product of all elements in array b along row\n"
     ]
    }
   ],
   "source": [
    "print(\"{0} is the product of all elements in array b along row\".format (b.prod(axis = 1)))"
   ]
  },
  {
   "cell_type": "code",
   "execution_count": 69,
   "id": "98e5639f",
   "metadata": {},
   "outputs": [
    {
     "name": "stdout",
     "output_type": "stream",
     "text": [
      "[  0  45 120 231] is the product of all elements in array b along column\n"
     ]
    }
   ],
   "source": [
    "print(\"{0} is the product of all elements in array b along column\".format (b.prod(axis = 0)))"
   ]
  },
  {
   "cell_type": "markdown",
   "id": "e05eaed9",
   "metadata": {},
   "source": [
    "### cumsum() and cumprod() methods"
   ]
  },
  {
   "cell_type": "code",
   "execution_count": 75,
   "id": "03f1153f",
   "metadata": {},
   "outputs": [
    {
     "data": {
      "text/plain": [
       "array([0, 1, 2, 3, 4, 5, 6, 7, 8, 9])"
      ]
     },
     "execution_count": 75,
     "metadata": {},
     "output_type": "execute_result"
    }
   ],
   "source": [
    "c = np.arange(10)\n",
    "c"
   ]
  },
  {
   "cell_type": "markdown",
   "id": "4c9191c9",
   "metadata": {},
   "source": [
    "### cummlative sm of a one dimensional array"
   ]
  },
  {
   "cell_type": "code",
   "execution_count": 76,
   "id": "6f138b75",
   "metadata": {},
   "outputs": [
    {
     "data": {
      "text/plain": [
       "array([ 0,  1,  3,  6, 10, 15, 21, 28, 36, 45])"
      ]
     },
     "execution_count": 76,
     "metadata": {},
     "output_type": "execute_result"
    }
   ],
   "source": [
    "c.cumsum()"
   ]
  },
  {
   "cell_type": "markdown",
   "id": "48dbf04b",
   "metadata": {},
   "source": [
    "### Cummlative sum of a two dimensional array"
   ]
  },
  {
   "cell_type": "code",
   "execution_count": 77,
   "id": "8b77a9fb",
   "metadata": {},
   "outputs": [
    {
     "data": {
      "text/plain": [
       "array([ 0,  1,  3,  6, 10, 15, 21, 28, 36, 45, 55, 66])"
      ]
     },
     "execution_count": 77,
     "metadata": {},
     "output_type": "execute_result"
    }
   ],
   "source": [
    "b.cumsum()"
   ]
  },
  {
   "cell_type": "markdown",
   "id": "5d49771c",
   "metadata": {},
   "source": [
    "#### Cummlative sum along the column"
   ]
  },
  {
   "cell_type": "code",
   "execution_count": 72,
   "id": "ddfb00df",
   "metadata": {},
   "outputs": [
    {
     "data": {
      "text/plain": [
       "array([[ 0,  1,  2,  3],\n",
       "       [ 4,  6,  8, 10],\n",
       "       [12, 15, 18, 21]])"
      ]
     },
     "execution_count": 72,
     "metadata": {},
     "output_type": "execute_result"
    }
   ],
   "source": [
    "b.cumsum(axis = 0)"
   ]
  },
  {
   "cell_type": "markdown",
   "id": "da3d8213",
   "metadata": {},
   "source": [
    "#### Cummlative sum along the row"
   ]
  },
  {
   "cell_type": "code",
   "execution_count": 73,
   "id": "a8aa2825",
   "metadata": {},
   "outputs": [
    {
     "data": {
      "text/plain": [
       "array([[ 0,  1,  3,  6],\n",
       "       [ 4,  9, 15, 22],\n",
       "       [ 8, 17, 27, 38]])"
      ]
     },
     "execution_count": 73,
     "metadata": {},
     "output_type": "execute_result"
    }
   ],
   "source": [
    "b.cumsum(axis = 1)"
   ]
  },
  {
   "cell_type": "markdown",
   "id": "a8151d55",
   "metadata": {},
   "source": [
    "### The .all() and .any() method"
   ]
  },
  {
   "cell_type": "code",
   "execution_count": 79,
   "id": "0fcbb04f",
   "metadata": {},
   "outputs": [
    {
     "data": {
      "text/plain": [
       "array([ 1,  2,  3,  4,  5,  6,  7,  8,  9, 10])"
      ]
     },
     "execution_count": 79,
     "metadata": {},
     "output_type": "execute_result"
    }
   ],
   "source": [
    "d = np.arange(1,11)\n",
    "d"
   ]
  },
  {
   "cell_type": "markdown",
   "id": "0371b5d0",
   "metadata": {},
   "source": [
    "### Using any to check any member satisfying the condition"
   ]
  },
  {
   "cell_type": "code",
   "execution_count": 80,
   "id": "5ad6cba4",
   "metadata": {},
   "outputs": [
    {
     "data": {
      "text/plain": [
       "True"
      ]
     },
     "execution_count": 80,
     "metadata": {},
     "output_type": "execute_result"
    }
   ],
   "source": [
    "(d > 5).any()"
   ]
  },
  {
   "cell_type": "code",
   "execution_count": 83,
   "id": "f09473d4",
   "metadata": {},
   "outputs": [
    {
     "data": {
      "text/plain": [
       "False"
      ]
     },
     "execution_count": 83,
     "metadata": {},
     "output_type": "execute_result"
    }
   ],
   "source": [
    "(d>12).any()"
   ]
  },
  {
   "cell_type": "markdown",
   "id": "66bdda41",
   "metadata": {},
   "source": [
    "### Using all to check any member satisfying the condition"
   ]
  },
  {
   "cell_type": "code",
   "execution_count": 84,
   "id": "9ece17a0",
   "metadata": {},
   "outputs": [
    {
     "data": {
      "text/plain": [
       "True"
      ]
     },
     "execution_count": 84,
     "metadata": {},
     "output_type": "execute_result"
    }
   ],
   "source": [
    "(d<12).all()"
   ]
  },
  {
   "cell_type": "code",
   "execution_count": 85,
   "id": "edcfb935",
   "metadata": {},
   "outputs": [
    {
     "data": {
      "text/plain": [
       "False"
      ]
     },
     "execution_count": 85,
     "metadata": {},
     "output_type": "execute_result"
    }
   ],
   "source": [
    "(d<5).all()"
   ]
  },
  {
   "cell_type": "markdown",
   "id": "f9a1779b",
   "metadata": {},
   "source": [
    "### The .size property returns number of elements in array"
   ]
  },
  {
   "cell_type": "code",
   "execution_count": 87,
   "id": "f4bcfec7",
   "metadata": {},
   "outputs": [
    {
     "data": {
      "text/plain": [
       "12"
      ]
     },
     "execution_count": 87,
     "metadata": {},
     "output_type": "execute_result"
    }
   ],
   "source": [
    "b.size"
   ]
  },
  {
   "cell_type": "code",
   "execution_count": 88,
   "id": "da853f4f",
   "metadata": {},
   "outputs": [
    {
     "data": {
      "text/plain": [
       "10"
      ]
     },
     "execution_count": 88,
     "metadata": {},
     "output_type": "execute_result"
    }
   ],
   "source": [
    "d.size"
   ]
  },
  {
   "cell_type": "markdown",
   "id": "70969309",
   "metadata": {},
   "source": [
    "### The .ndim property will give total number of dimensions"
   ]
  },
  {
   "cell_type": "code",
   "execution_count": 90,
   "id": "e6b3b6c8",
   "metadata": {},
   "outputs": [
    {
     "data": {
      "text/plain": [
       "2"
      ]
     },
     "execution_count": 90,
     "metadata": {},
     "output_type": "execute_result"
    }
   ],
   "source": [
    "b.ndim"
   ]
  },
  {
   "cell_type": "code",
   "execution_count": 91,
   "id": "71749995",
   "metadata": {},
   "outputs": [
    {
     "data": {
      "text/plain": [
       "1"
      ]
     },
     "execution_count": 91,
     "metadata": {},
     "output_type": "execute_result"
    }
   ],
   "source": [
    "d.ndim"
   ]
  }
 ],
 "metadata": {
  "kernelspec": {
   "display_name": "Python 3 (ipykernel)",
   "language": "python",
   "name": "python3"
  },
  "language_info": {
   "codemirror_mode": {
    "name": "ipython",
    "version": 3
   },
   "file_extension": ".py",
   "mimetype": "text/x-python",
   "name": "python",
   "nbconvert_exporter": "python",
   "pygments_lexer": "ipython3",
   "version": "3.11.3"
  }
 },
 "nbformat": 4,
 "nbformat_minor": 5
}
