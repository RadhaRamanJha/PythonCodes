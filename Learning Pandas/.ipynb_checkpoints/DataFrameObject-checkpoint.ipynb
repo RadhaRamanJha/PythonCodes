{
 "cells": [
  {
   "cell_type": "markdown",
   "id": "6c234943",
   "metadata": {},
   "source": [
    "## Creating DataFrame from scratch"
   ]
  },
  {
   "cell_type": "markdown",
   "id": "dfd7673e",
   "metadata": {},
   "source": [
    "#### Import Pandas and set some display options for output"
   ]
  },
  {
   "cell_type": "code",
   "execution_count": 1,
   "id": "2330ee9f",
   "metadata": {},
   "outputs": [],
   "source": [
    "# Reference Pandas and Numpy\n",
    "import numpy as np\n",
    "import pandas as pd\n",
    "# Set the output options\n",
    "pd.set_option('display.notebook_repr_html', False)\n",
    "pd.set_option('display.max_columns', 10)\n",
    "pd.set_option('display.max_rows',10)"
   ]
  },
  {
   "cell_type": "markdown",
   "id": "d4d0b8f9",
   "metadata": {},
   "source": [
    "### Creating a DataFrame from scratch"
   ]
  },
  {
   "cell_type": "markdown",
   "id": "00aecf75",
   "metadata": {},
   "source": [
    "#### Create DataFrame from 2-D ndarray"
   ]
  },
  {
   "cell_type": "code",
   "execution_count": 2,
   "id": "91cda3ed",
   "metadata": {},
   "outputs": [
    {
     "data": {
      "text/plain": [
       "    0   1\n",
       "0  10  20\n",
       "1  21  22"
      ]
     },
     "execution_count": 2,
     "metadata": {},
     "output_type": "execute_result"
    }
   ],
   "source": [
    "pd.DataFrame(np.array([[10,20],[21,22]]))"
   ]
  },
  {
   "cell_type": "markdown",
   "id": "ff47efa8",
   "metadata": {},
   "source": [
    "#### Create DataFrame object by passing a list of Series object"
   ]
  },
  {
   "cell_type": "code",
   "execution_count": 4,
   "id": "b9c62f87",
   "metadata": {},
   "outputs": [
    {
     "data": {
      "text/plain": [
       "    0   1   2   3   4   5   6   7   8   9\n",
       "0  10  11  12  13  14  15  16  17  18  19\n",
       "1  30  31  32  33  34  35  36  37  38  39"
      ]
     },
     "execution_count": 4,
     "metadata": {},
     "output_type": "execute_result"
    }
   ],
   "source": [
    "df1 = pd.DataFrame([pd.Series(np.arange(10,20)),pd.Series(np.arange(30,40))])\n",
    "df1"
   ]
  },
  {
   "cell_type": "markdown",
   "id": "12a3eae6",
   "metadata": {},
   "source": [
    "#### Dimensions of DataFrame objects"
   ]
  },
  {
   "cell_type": "code",
   "execution_count": 5,
   "id": "2d4e9f29",
   "metadata": {},
   "outputs": [
    {
     "data": {
      "text/plain": [
       "(2, 10)"
      ]
     },
     "execution_count": 5,
     "metadata": {},
     "output_type": "execute_result"
    }
   ],
   "source": [
    "df1.shape"
   ]
  },
  {
   "cell_type": "markdown",
   "id": "45922dde",
   "metadata": {},
   "source": [
    "### Specifying the column name"
   ]
  },
  {
   "cell_type": "code",
   "execution_count": 8,
   "id": "ef29ac3f",
   "metadata": {},
   "outputs": [
    {
     "data": {
      "text/plain": [
       "    a   b\n",
       "0  10  20\n",
       "1  30  40"
      ]
     },
     "execution_count": 8,
     "metadata": {},
     "output_type": "execute_result"
    }
   ],
   "source": [
    "df2 = pd.DataFrame(np.array([[10,20],[30,40]]), columns = [\"a\",\"b\"])\n",
    "df2"
   ]
  },
  {
   "cell_type": "markdown",
   "id": "6fd330e9",
   "metadata": {},
   "source": [
    "#### Access the names of columns for the DataFrame"
   ]
  },
  {
   "cell_type": "code",
   "execution_count": 9,
   "id": "41bfcc90",
   "metadata": {},
   "outputs": [
    {
     "data": {
      "text/plain": [
       "Index(['a', 'b'], dtype='object')"
      ]
     },
     "execution_count": 9,
     "metadata": {},
     "output_type": "execute_result"
    }
   ],
   "source": [
    "df2.columns"
   ]
  },
  {
   "cell_type": "markdown",
   "id": "36f28fb4",
   "metadata": {},
   "source": [
    "#### Accessing the default column names"
   ]
  },
  {
   "cell_type": "code",
   "execution_count": 10,
   "id": "09346104",
   "metadata": {},
   "outputs": [
    {
     "data": {
      "text/plain": [
       "RangeIndex(start=0, stop=10, step=1)"
      ]
     },
     "execution_count": 10,
     "metadata": {},
     "output_type": "execute_result"
    }
   ],
   "source": [
    "df1.columns"
   ]
  },
  {
   "cell_type": "code",
   "execution_count": null,
   "id": "4729db68",
   "metadata": {},
   "outputs": [],
   "source": []
  }
 ],
 "metadata": {
  "kernelspec": {
   "display_name": "Python 3 (ipykernel)",
   "language": "python",
   "name": "python3"
  },
  "language_info": {
   "codemirror_mode": {
    "name": "ipython",
    "version": 3
   },
   "file_extension": ".py",
   "mimetype": "text/x-python",
   "name": "python",
   "nbconvert_exporter": "python",
   "pygments_lexer": "ipython3",
   "version": "3.11.3"
  }
 },
 "nbformat": 4,
 "nbformat_minor": 5
}
