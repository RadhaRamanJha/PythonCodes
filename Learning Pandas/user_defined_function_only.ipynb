{
 "cells": [
  {
   "cell_type": "markdown",
   "id": "fd57d30b",
   "metadata": {},
   "source": [
    "#### Iterartor :- \n",
    "+ Object which allows a programmer to traverse along all objects of a collection regardless of itss specfic implementation. In python iterator object implements two methods \n",
    "## iter() and next()\n",
    "\n",
    "+ In Python, an iterator is an object that allows you to iterate over a sequence of elements, such as a list, tuple, or string, without exposing the underlying details of the sequence's implementation. Iterators provide a way to access the elements of a container one at a time, allowing you to loop through the items in a controlled and efficient manner.\n",
    "\n",
    "+ The primary purpose of an iterator is to provide a common interface for iterating over different types of data structures, making your code more flexible and reusable. Iterators are used in conjunction with the iter() function, which returns an iterator object, and the next() function, which retrieves the next element from the iterator.\n",
    "\n",
    "+ Iterators are widely used in for loops in Python, making it easy to loop through elements of a sequence without having to worry about the internal details of the data structure. Many built-in Python objects, such as lists, tuples, and strings, are iterable and can be used with iterators. Additionally, you can create your own custom iterators by implementing the __iter__() and __next__() methods in a class.\n",
    "\n",
    "+ Using iterators promotes a more efficient and memory-friendly way of handling large datasets, as elements are retrieved on-demand rather than loading the entire dataset into memory at once.\n",
    " \n",
    "+ String,List and Tuple objects are used to create an iterator "
   ]
  },
  {
   "cell_type": "code",
   "execution_count": 1,
   "id": "a8b3ce34",
   "metadata": {},
   "outputs": [],
   "source": [
    "list1 = [12,13,15,16,17] # List is an iterable object it can be used to create iterator\n",
    "it = iter(list1) # This builds an iterator object "
   ]
  },
  {
   "cell_type": "code",
   "execution_count": 2,
   "id": "fb9099ab",
   "metadata": {},
   "outputs": [
    {
     "name": "stdout",
     "output_type": "stream",
     "text": [
      "<class 'list_iterator'> <class 'list'>\n",
      "12\n"
     ]
    }
   ],
   "source": [
    "print(type(it),type(list1))\n",
    "print(next(it))"
   ]
  },
  {
   "cell_type": "code",
   "execution_count": 3,
   "id": "f296fec4",
   "metadata": {},
   "outputs": [
    {
     "name": "stdout",
     "output_type": "stream",
     "text": [
      "13\n"
     ]
    }
   ],
   "source": [
    "print(next(it))"
   ]
  },
  {
   "cell_type": "code",
   "execution_count": 4,
   "id": "18e457e7",
   "metadata": {},
   "outputs": [
    {
     "name": "stdout",
     "output_type": "stream",
     "text": [
      "15\n"
     ]
    }
   ],
   "source": [
    "print(next(it))"
   ]
  },
  {
   "cell_type": "code",
   "execution_count": 5,
   "id": "16082f5d",
   "metadata": {
    "scrolled": true
   },
   "outputs": [
    {
     "name": "stdout",
     "output_type": "stream",
     "text": [
      "16\n"
     ]
    }
   ],
   "source": [
    "print(next(it))"
   ]
  },
  {
   "cell_type": "code",
   "execution_count": 6,
   "id": "0befe1e7",
   "metadata": {},
   "outputs": [
    {
     "name": "stdout",
     "output_type": "stream",
     "text": [
      "17\n"
     ]
    }
   ],
   "source": [
    "print(next(it))"
   ]
  },
  {
   "cell_type": "code",
   "execution_count": 7,
   "id": "3baf62ce",
   "metadata": {},
   "outputs": [
    {
     "ename": "StopIteration",
     "evalue": "",
     "output_type": "error",
     "traceback": [
      "\u001b[1;31m---------------------------------------------------------------------------\u001b[0m",
      "\u001b[1;31mStopIteration\u001b[0m                             Traceback (most recent call last)",
      "Cell \u001b[1;32mIn[7], line 1\u001b[0m\n\u001b[1;32m----> 1\u001b[0m \u001b[38;5;28mprint\u001b[39m(\u001b[38;5;28mnext\u001b[39m(it))\n",
      "\u001b[1;31mStopIteration\u001b[0m: "
     ]
    }
   ],
   "source": [
    "print(next(it))"
   ]
  },
  {
   "cell_type": "markdown",
   "id": "13bc8b9a",
   "metadata": {},
   "source": [
    "#### Generator :- \n",
    "+ Generator is a special type of iterable, allowing you to iterate over a potentially large sequence of data efficiently. Unlike lists or tuples, generators do not store all the values in memory at once. Instead, they generate values on-the-fly using the yield statement, making them memory-efficient and suitable for handling large datasets."
   ]
  },
  {
   "cell_type": "markdown",
   "id": "483ec91f",
   "metadata": {},
   "source": [
    "__Working of Generator__\n",
    "+ Generators are defined using a function with the yield statement, which suspends the function's state and allows it to be resumed later. When a generator function is called, it returns an iterator object, and the code inside the function is not immediately executed. Instead, the code is executed each time the next() function is called on the iterator, and it runs until it encounters a yield statement. The state of the function is then suspended, and the yielded value is returned to the caller."
   ]
  },
  {
   "cell_type": "code",
   "execution_count": 8,
   "id": "932326a4",
   "metadata": {},
   "outputs": [
    {
     "name": "stdout",
     "output_type": "stream",
     "text": [
      "<generator object fibonacci_generator at 0x00000140599DC9E0>\n",
      "0\n",
      "1\n",
      "1\n",
      "2\n",
      "3\n"
     ]
    }
   ],
   "source": [
    "def fibonacci_generator(n):\n",
    "    a, b = 0, 1\n",
    "    count = 0\n",
    "    while count < n:\n",
    "        yield a\n",
    "        a, b = b, a + b\n",
    "        count += 1\n",
    "        \n",
    "print(fibonacci_generator(5))\n",
    "\n",
    "# Using the generator in a loop\n",
    "for num in fibonacci_generator(5):\n",
    "    print(num)"
   ]
  },
  {
   "cell_type": "code",
   "execution_count": 9,
   "id": "5357fc47",
   "metadata": {},
   "outputs": [
    {
     "name": "stdout",
     "output_type": "stream",
     "text": [
      "0\n",
      "1\n",
      "4\n",
      "9\n",
      "16\n"
     ]
    }
   ],
   "source": [
    "def square_generator(n):\n",
    "    for i in range(n):\n",
    "        yield i ** 2\n",
    "\n",
    "# Creating a generator object\n",
    "squares = square_generator(5)\n",
    "\n",
    "# Accessing elements using the generator with next()\n",
    "print(next(squares))  # Output: 0\n",
    "print(next(squares))  # Output: 1\n",
    "print(next(squares))  # Output: 4\n",
    "print(next(squares))  # Output: 9\n",
    "print(next(squares))  # Output: 16"
   ]
  },
  {
   "cell_type": "code",
   "execution_count": 10,
   "id": "303a4863",
   "metadata": {},
   "outputs": [
    {
     "ename": "StopIteration",
     "evalue": "",
     "output_type": "error",
     "traceback": [
      "\u001b[1;31m---------------------------------------------------------------------------\u001b[0m",
      "\u001b[1;31mStopIteration\u001b[0m                             Traceback (most recent call last)",
      "Cell \u001b[1;32mIn[10], line 1\u001b[0m\n\u001b[1;32m----> 1\u001b[0m \u001b[38;5;28mprint\u001b[39m(\u001b[38;5;28mnext\u001b[39m(squares))\n",
      "\u001b[1;31mStopIteration\u001b[0m: "
     ]
    }
   ],
   "source": [
    "print(next(squares))"
   ]
  },
  {
   "cell_type": "markdown",
   "id": "65a023b1",
   "metadata": {},
   "source": [
    "## Uses :- \n",
    "+ Generators are beneficial in scenarios where you need to iterate over a large dataset, but you don't want to load all the data into memory at once. They are commonly used with for loops, similar to other iterables, and they provide a clean and concise way to express iterative algorithms.\n",
    "+ Generators are a powerful feature in Python, and they contribute to writing more readable and memory-efficient code, especially when dealing with large datasets or when the entire sequence of values doesn't need to be generated upfront"
   ]
  },
  {
   "cell_type": "markdown",
   "id": "fcf926d3",
   "metadata": {},
   "source": [
    "## Reversing the string "
   ]
  },
  {
   "cell_type": "markdown",
   "id": "a8aaff08",
   "metadata": {},
   "source": [
    "## Step 1 :- "
   ]
  },
  {
   "cell_type": "code",
   "execution_count": 11,
   "id": "6efb89e0",
   "metadata": {},
   "outputs": [],
   "source": [
    "def reverse_strn():\n",
    "    input_string = input(\"Enter a string to reverse: \")\n",
    "    i = len(input_string)\n",
    "    while i > 0:\n",
    "        print(input_string[i-1],end=\"\",sep=\"\")\n",
    "        i-=1        "
   ]
  },
  {
   "cell_type": "code",
   "execution_count": 12,
   "id": "22425bae",
   "metadata": {},
   "outputs": [
    {
     "name": "stdout",
     "output_type": "stream",
     "text": [
      "Enter a string to reverse: khelo\n",
      "olehk"
     ]
    }
   ],
   "source": [
    "reverse_strn()"
   ]
  },
  {
   "cell_type": "code",
   "execution_count": 13,
   "id": "38b83677",
   "metadata": {},
   "outputs": [
    {
     "data": {
      "text/plain": [
       "'ypoc ot ekil uoy oD'"
      ]
     },
     "execution_count": 13,
     "metadata": {},
     "output_type": "execute_result"
    }
   ],
   "source": [
    "def reveresd_str(s):\n",
    "    reverse_str = \"\"\n",
    "    for char in s:\n",
    "        reverse_str = char + reverse_str\n",
    "    return(reverse_str)\n",
    "reveresd_str(\"Do you like to copy\")"
   ]
  },
  {
   "cell_type": "code",
   "execution_count": 14,
   "id": "3fdf8801",
   "metadata": {},
   "outputs": [
    {
     "name": "stdout",
     "output_type": "stream",
     "text": [
      "Original String: Hello, World!\n",
      "Reversed String: !dlroW ,olleH\n"
     ]
    }
   ],
   "source": [
    "def reverse_string(input_str):\n",
    "    reversed_str = \"\"\n",
    "    for char in input_str:\n",
    "        reversed_str = char + reversed_str\n",
    "    return reversed_str\n",
    "\n",
    "# Example usage\n",
    "original_str = \"Hello, World!\"\n",
    "reversed_str = reverse_string(original_str)\n",
    "print(\"Original String:\", original_str)\n",
    "print(\"Reversed String:\", reversed_str)"
   ]
  },
  {
   "cell_type": "markdown",
   "id": "34ecbc63",
   "metadata": {},
   "source": [
    "## Calculate factorial of a number without using any predefined function"
   ]
  },
  {
   "cell_type": "code",
   "execution_count": 15,
   "id": "61c8653b",
   "metadata": {},
   "outputs": [],
   "source": [
    "def calculate_fact(num):\n",
    "    if num > 1:\n",
    "        return num*calculate_fact(num-1)\n",
    "    elif (num == 1 or num == 0):\n",
    "        return 1\n",
    "    else:\n",
    "        return(\"Not Defined\")"
   ]
  },
  {
   "cell_type": "code",
   "execution_count": 16,
   "id": "3fabbdcf",
   "metadata": {},
   "outputs": [
    {
     "data": {
      "text/plain": [
       "720"
      ]
     },
     "execution_count": 16,
     "metadata": {},
     "output_type": "execute_result"
    }
   ],
   "source": [
    "calculate_fact(6)"
   ]
  },
  {
   "cell_type": "markdown",
   "id": "b64a6d6c",
   "metadata": {},
   "source": [
    "## Check whether a number is prime or not ?"
   ]
  },
  {
   "cell_type": "code",
   "execution_count": 3,
   "id": "44168be2",
   "metadata": {},
   "outputs": [],
   "source": [
    "def is_prime(num):\n",
    "    if num < 2:\n",
    "        return False\n",
    "    else:\n",
    "        for i in range (2,int(num**0.5)+1):\n",
    "            if num % i == 0:\n",
    "                return False\n",
    "        return True"
   ]
  },
  {
   "cell_type": "code",
   "execution_count": 6,
   "id": "606d6d37",
   "metadata": {},
   "outputs": [
    {
     "data": {
      "text/plain": [
       "True"
      ]
     },
     "execution_count": 6,
     "metadata": {},
     "output_type": "execute_result"
    }
   ],
   "source": [
    "is_prime(101)"
   ]
  },
  {
   "cell_type": "markdown",
   "id": "cea1f7f9",
   "metadata": {},
   "source": [
    "## Return list of Common items in list"
   ]
  },
  {
   "cell_type": "code",
   "execution_count": 16,
   "id": "7858efd2",
   "metadata": {},
   "outputs": [],
   "source": [
    "def common_item_list(list1,list2):\n",
    "    return_list = []\n",
    "    check_list1 = set(list1)\n",
    "    check_list2 = set(list2)\n",
    "    for num in check_list1:\n",
    "        if num in check_list2:\n",
    "            return_list.append(num)\n",
    "    return(return_list)"
   ]
  },
  {
   "cell_type": "code",
   "execution_count": 17,
   "id": "f9c98566",
   "metadata": {},
   "outputs": [
    {
     "data": {
      "text/plain": [
       "[3, 7]"
      ]
     },
     "execution_count": 17,
     "metadata": {},
     "output_type": "execute_result"
    }
   ],
   "source": [
    "common_item_list([2,3,4,56,7],[5,7,8,3,21])"
   ]
  },
  {
   "cell_type": "markdown",
   "id": "8a761b91",
   "metadata": {},
   "source": [
    "## Capitalize the first letter of every word in a string"
   ]
  },
  {
   "cell_type": "code",
   "execution_count": 46,
   "id": "2f30d280",
   "metadata": {},
   "outputs": [],
   "source": [
    "sentence = \"to a very flattering question i have a very ordinary answer\""
   ]
  },
  {
   "cell_type": "code",
   "execution_count": 52,
   "id": "30dd6402",
   "metadata": {},
   "outputs": [],
   "source": [
    "def cap_first(sentence):\n",
    "    words_list = sentence.split(\" \")\n",
    "    capital_sentence = []\n",
    "    for word in words_list:\n",
    "        capitalized_word = word[0].upper()+word[1:]\n",
    "        capital_sentence.append(capitalized_word)\n",
    "    return \" \".join(capital_sentence)"
   ]
  },
  {
   "cell_type": "code",
   "execution_count": 53,
   "id": "348818b6",
   "metadata": {
    "scrolled": true
   },
   "outputs": [
    {
     "data": {
      "text/plain": [
       "'To A Very Flattering Question I Have A Very Ordinary Answer'"
      ]
     },
     "execution_count": 53,
     "metadata": {},
     "output_type": "execute_result"
    }
   ],
   "source": [
    "cap_first(sentence)"
   ]
  },
  {
   "cell_type": "markdown",
   "id": "cbaaa723",
   "metadata": {},
   "source": [
    "###  Chat Gpt solution"
   ]
  },
  {
   "cell_type": "code",
   "execution_count": 54,
   "id": "94356303",
   "metadata": {},
   "outputs": [
    {
     "name": "stdout",
     "output_type": "stream",
     "text": [
      "To A Very Flattering Question Chagpt Had A Lengthy Answe\n"
     ]
    }
   ],
   "source": [
    "def capitalize_first_letter_custom(sentence):\n",
    "    result = []\n",
    "    capitalize_next = True\n",
    "\n",
    "    for char in sentence:\n",
    "        if capitalize_next and char.isalpha():\n",
    "            result.append(char.upper())\n",
    "            capitalize_next = False\n",
    "        else:\n",
    "            result.append(char)\n",
    "            if char.isspace():\n",
    "                capitalize_next = True\n",
    "\n",
    "    return ''.join(result)\n",
    "\n",
    "# Example usage:\n",
    "input_sentence = \"to a very flattering question chagpt had a lengthy answe\"\n",
    "output_sentence = capitalize_first_letter_custom(input_sentence)\n",
    "print(output_sentence)"
   ]
  },
  {
   "cell_type": "markdown",
   "id": "8334ca1e",
   "metadata": {},
   "source": [
    "## check substring a part of string "
   ]
  },
  {
   "cell_type": "code",
   "execution_count": 55,
   "id": "6c096f2d",
   "metadata": {},
   "outputs": [],
   "source": [
    "def is_substring(substing, sting):\n",
    "    return substing in sting"
   ]
  },
  {
   "cell_type": "code",
   "execution_count": 57,
   "id": "a005159a",
   "metadata": {},
   "outputs": [
    {
     "name": "stdout",
     "output_type": "stream",
     "text": [
      "True\n",
      "False\n"
     ]
    }
   ],
   "source": [
    "print(is_substring(\"hello\",\"hello from the other side\"))\n",
    "print(is_substring(\"hello\",\"go to *ell\"))"
   ]
  }
 ],
 "metadata": {
  "kernelspec": {
   "display_name": "Python 3 (ipykernel)",
   "language": "python",
   "name": "python3"
  },
  "language_info": {
   "codemirror_mode": {
    "name": "ipython",
    "version": 3
   },
   "file_extension": ".py",
   "mimetype": "text/x-python",
   "name": "python",
   "nbconvert_exporter": "python",
   "pygments_lexer": "ipython3",
   "version": "3.11.3"
  }
 },
 "nbformat": 4,
 "nbformat_minor": 5
}
