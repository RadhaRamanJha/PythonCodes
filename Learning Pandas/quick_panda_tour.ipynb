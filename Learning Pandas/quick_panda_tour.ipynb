{
 "cells": [
  {
   "cell_type": "code",
   "execution_count": 1,
   "id": "7b05a020",
   "metadata": {},
   "outputs": [],
   "source": [
    "import pandas as pd\n",
    "from pandas import DataFrame, Series"
   ]
  },
  {
   "cell_type": "markdown",
   "id": "dc525eee",
   "metadata": {},
   "source": [
    "## Return a single row of series"
   ]
  },
  {
   "cell_type": "code",
   "execution_count": 2,
   "id": "5447e811",
   "metadata": {},
   "outputs": [
    {
     "data": {
      "text/plain": [
       "6"
      ]
     },
     "execution_count": 2,
     "metadata": {},
     "output_type": "execute_result"
    }
   ],
   "source": [
    "s = Series([4,5,6,7])\n",
    "s[2]"
   ]
  },
  {
   "cell_type": "markdown",
   "id": "af0a40ee",
   "metadata": {},
   "source": [
    "## Return the rows of Series with labels 1 and 3"
   ]
  },
  {
   "cell_type": "code",
   "execution_count": 10,
   "id": "55630356",
   "metadata": {
    "scrolled": false
   },
   "outputs": [
    {
     "name": "stdout",
     "output_type": "stream",
     "text": [
      "1    2\n",
      "3    4\n",
      "dtype: int64\n"
     ]
    }
   ],
   "source": [
    "s = Series([1,2,3,4])\n",
    "print(s[[1,3]])"
   ]
  },
  {
   "cell_type": "markdown",
   "id": "3594bfd5",
   "metadata": {},
   "source": [
    "## Creating an Explicit index based Series"
   ]
  },
  {
   "cell_type": "code",
   "execution_count": 12,
   "id": "32e4eeaa",
   "metadata": {},
   "outputs": [
    {
     "data": {
      "text/plain": [
       "a    1\n",
       "b    2\n",
       "c    3\n",
       "d    4\n",
       "e    5\n",
       "dtype: int64"
      ]
     },
     "execution_count": 12,
     "metadata": {},
     "output_type": "execute_result"
    }
   ],
   "source": [
    "s = Series([1,2,3,4,5], index = ['a','b','c','d','e'])\n",
    "s"
   ]
  },
  {
   "cell_type": "code",
   "execution_count": 14,
   "id": "c7c9c9d9",
   "metadata": {},
   "outputs": [
    {
     "data": {
      "text/plain": [
       "a    1\n",
       "c    3\n",
       "dtype: int64"
      ]
     },
     "execution_count": 14,
     "metadata": {},
     "output_type": "execute_result"
    }
   ],
   "source": [
    "s[['a','c']]"
   ]
  },
  {
   "cell_type": "code",
   "execution_count": 16,
   "id": "d1a58de1",
   "metadata": {},
   "outputs": [
    {
     "data": {
      "text/plain": [
       "a    1\n",
       "b    2\n",
       "d    4\n",
       "dtype: int64"
      ]
     },
     "execution_count": 16,
     "metadata": {},
     "output_type": "execute_result"
    }
   ],
   "source": [
    "s[[0,1,3]]"
   ]
  },
  {
   "cell_type": "code",
   "execution_count": 17,
   "id": "3528eb3b",
   "metadata": {},
   "outputs": [
    {
     "data": {
      "text/plain": [
       "Index(['a', 'b', 'c', 'd', 'e'], dtype='object')"
      ]
     },
     "execution_count": 17,
     "metadata": {},
     "output_type": "execute_result"
    }
   ],
   "source": [
    "s.index"
   ]
  },
  {
   "cell_type": "code",
   "execution_count": 21,
   "id": "6742c9ff",
   "metadata": {},
   "outputs": [
    {
     "data": {
      "text/plain": [
       "DatetimeIndex(['2023-01-01', '2023-01-02', '2023-01-03', '2023-01-04',\n",
       "               '2023-01-05', '2023-01-06', '2023-01-07'],\n",
       "              dtype='datetime64[ns]', freq='D')"
      ]
     },
     "execution_count": 21,
     "metadata": {},
     "output_type": "execute_result"
    }
   ],
   "source": [
    "dates = pd.date_range('2023-01-01','2023-01-07')\n",
    "dates"
   ]
  },
  {
   "cell_type": "code",
   "execution_count": 22,
   "id": "722c8b2b",
   "metadata": {},
   "outputs": [
    {
     "data": {
      "text/plain": [
       "2023-01-01    40\n",
       "2023-01-02    50\n",
       "2023-01-03    55\n",
       "2023-01-04    57\n",
       "2023-01-05    60\n",
       "2023-01-06    65\n",
       "2023-01-07    54\n",
       "Freq: D, dtype: int64"
      ]
     },
     "execution_count": 22,
     "metadata": {},
     "output_type": "execute_result"
    }
   ],
   "source": [
    "temp1 = Series([40,50,55,57,60,65,54],index = dates)\n",
    "temp1"
   ]
  },
  {
   "cell_type": "code",
   "execution_count": 24,
   "id": "668fd928",
   "metadata": {},
   "outputs": [
    {
     "data": {
      "text/plain": [
       "54.43"
      ]
     },
     "execution_count": 24,
     "metadata": {},
     "output_type": "execute_result"
    }
   ],
   "source": [
    "round(temp1.mean(),2)"
   ]
  },
  {
   "cell_type": "code",
   "execution_count": 25,
   "id": "ed15ce7e",
   "metadata": {},
   "outputs": [
    {
     "data": {
      "text/plain": [
       "2023-01-01    17\n",
       "2023-01-02    12\n",
       "2023-01-03    -7\n",
       "2023-01-04   -10\n",
       "2023-01-05    -8\n",
       "2023-01-06   -12\n",
       "2023-01-07     9\n",
       "Freq: D, dtype: int64"
      ]
     },
     "execution_count": 25,
     "metadata": {},
     "output_type": "execute_result"
    }
   ],
   "source": [
    "temp2 = Series([57,62,48,47,52,53,63],index = dates)\n",
    "temp_diff = temp2-temp1\n",
    "temp_diff"
   ]
  },
  {
   "cell_type": "code",
   "execution_count": 34,
   "id": "fa069e88",
   "metadata": {},
   "outputs": [
    {
     "data": {
      "text/plain": [
       "2023-01-01    17\n",
       "2023-01-04   -10\n",
       "2023-01-06   -12\n",
       "dtype: int64"
      ]
     },
     "execution_count": 34,
     "metadata": {},
     "output_type": "execute_result"
    }
   ],
   "source": [
    "temp_diff[['2023-01-01','2023-01-04','2023-01-06']]"
   ]
  },
  {
   "cell_type": "code",
   "execution_count": 32,
   "id": "bfcc9b6e",
   "metadata": {},
   "outputs": [
    {
     "data": {
      "text/plain": [
       "2023-01-03    -7\n",
       "2023-01-02    12\n",
       "Freq: -1D, dtype: int64"
      ]
     },
     "execution_count": 32,
     "metadata": {},
     "output_type": "execute_result"
    }
   ],
   "source": [
    "temp_diff[[2,1]]"
   ]
  },
  {
   "cell_type": "code",
   "execution_count": 35,
   "id": "26e9913e",
   "metadata": {},
   "outputs": [
    {
     "data": {
      "text/html": [
       "<div>\n",
       "<style scoped>\n",
       "    .dataframe tbody tr th:only-of-type {\n",
       "        vertical-align: middle;\n",
       "    }\n",
       "\n",
       "    .dataframe tbody tr th {\n",
       "        vertical-align: top;\n",
       "    }\n",
       "\n",
       "    .dataframe thead th {\n",
       "        text-align: right;\n",
       "    }\n",
       "</style>\n",
       "<table border=\"1\" class=\"dataframe\">\n",
       "  <thead>\n",
       "    <tr style=\"text-align: right;\">\n",
       "      <th></th>\n",
       "      <th>Delhi</th>\n",
       "      <th>Mumbai</th>\n",
       "    </tr>\n",
       "  </thead>\n",
       "  <tbody>\n",
       "    <tr>\n",
       "      <th>2023-01-01</th>\n",
       "      <td>40</td>\n",
       "      <td>57</td>\n",
       "    </tr>\n",
       "    <tr>\n",
       "      <th>2023-01-02</th>\n",
       "      <td>50</td>\n",
       "      <td>62</td>\n",
       "    </tr>\n",
       "    <tr>\n",
       "      <th>2023-01-03</th>\n",
       "      <td>55</td>\n",
       "      <td>48</td>\n",
       "    </tr>\n",
       "    <tr>\n",
       "      <th>2023-01-04</th>\n",
       "      <td>57</td>\n",
       "      <td>47</td>\n",
       "    </tr>\n",
       "    <tr>\n",
       "      <th>2023-01-05</th>\n",
       "      <td>60</td>\n",
       "      <td>52</td>\n",
       "    </tr>\n",
       "    <tr>\n",
       "      <th>2023-01-06</th>\n",
       "      <td>65</td>\n",
       "      <td>53</td>\n",
       "    </tr>\n",
       "    <tr>\n",
       "      <th>2023-01-07</th>\n",
       "      <td>54</td>\n",
       "      <td>63</td>\n",
       "    </tr>\n",
       "  </tbody>\n",
       "</table>\n",
       "</div>"
      ],
      "text/plain": [
       "            Delhi  Mumbai\n",
       "2023-01-01     40      57\n",
       "2023-01-02     50      62\n",
       "2023-01-03     55      48\n",
       "2023-01-04     57      47\n",
       "2023-01-05     60      52\n",
       "2023-01-06     65      53\n",
       "2023-01-07     54      63"
      ]
     },
     "execution_count": 35,
     "metadata": {},
     "output_type": "execute_result"
    }
   ],
   "source": [
    "temp_df = DataFrame({'Delhi':temp1,'Mumbai':temp2})\n",
    "temp_df"
   ]
  },
  {
   "cell_type": "code",
   "execution_count": 36,
   "id": "217b22e8",
   "metadata": {},
   "outputs": [
    {
     "data": {
      "text/plain": [
       "2023-01-01    40\n",
       "2023-01-02    50\n",
       "2023-01-03    55\n",
       "2023-01-04    57\n",
       "2023-01-05    60\n",
       "2023-01-06    65\n",
       "2023-01-07    54\n",
       "Freq: D, Name: Delhi, dtype: int64"
      ]
     },
     "execution_count": 36,
     "metadata": {},
     "output_type": "execute_result"
    }
   ],
   "source": [
    "temp_df['Delhi']"
   ]
  },
  {
   "cell_type": "code",
   "execution_count": 38,
   "id": "df71ba9e",
   "metadata": {},
   "outputs": [
    {
     "data": {
      "text/html": [
       "<div>\n",
       "<style scoped>\n",
       "    .dataframe tbody tr th:only-of-type {\n",
       "        vertical-align: middle;\n",
       "    }\n",
       "\n",
       "    .dataframe tbody tr th {\n",
       "        vertical-align: top;\n",
       "    }\n",
       "\n",
       "    .dataframe thead th {\n",
       "        text-align: right;\n",
       "    }\n",
       "</style>\n",
       "<table border=\"1\" class=\"dataframe\">\n",
       "  <thead>\n",
       "    <tr style=\"text-align: right;\">\n",
       "      <th></th>\n",
       "      <th>Mumbai</th>\n",
       "      <th>Delhi</th>\n",
       "    </tr>\n",
       "  </thead>\n",
       "  <tbody>\n",
       "    <tr>\n",
       "      <th>2023-01-01</th>\n",
       "      <td>57</td>\n",
       "      <td>40</td>\n",
       "    </tr>\n",
       "    <tr>\n",
       "      <th>2023-01-02</th>\n",
       "      <td>62</td>\n",
       "      <td>50</td>\n",
       "    </tr>\n",
       "    <tr>\n",
       "      <th>2023-01-03</th>\n",
       "      <td>48</td>\n",
       "      <td>55</td>\n",
       "    </tr>\n",
       "    <tr>\n",
       "      <th>2023-01-04</th>\n",
       "      <td>47</td>\n",
       "      <td>57</td>\n",
       "    </tr>\n",
       "    <tr>\n",
       "      <th>2023-01-05</th>\n",
       "      <td>52</td>\n",
       "      <td>60</td>\n",
       "    </tr>\n",
       "    <tr>\n",
       "      <th>2023-01-06</th>\n",
       "      <td>53</td>\n",
       "      <td>65</td>\n",
       "    </tr>\n",
       "    <tr>\n",
       "      <th>2023-01-07</th>\n",
       "      <td>63</td>\n",
       "      <td>54</td>\n",
       "    </tr>\n",
       "  </tbody>\n",
       "</table>\n",
       "</div>"
      ],
      "text/plain": [
       "            Mumbai  Delhi\n",
       "2023-01-01      57     40\n",
       "2023-01-02      62     50\n",
       "2023-01-03      48     55\n",
       "2023-01-04      47     57\n",
       "2023-01-05      52     60\n",
       "2023-01-06      53     65\n",
       "2023-01-07      63     54"
      ]
     },
     "execution_count": 38,
     "metadata": {},
     "output_type": "execute_result"
    }
   ],
   "source": [
    "temp_df[['Mumbai','Delhi']]"
   ]
  },
  {
   "cell_type": "code",
   "execution_count": 40,
   "id": "4f56b504",
   "metadata": {},
   "outputs": [
    {
     "data": {
      "text/plain": [
       "2023-01-01    40\n",
       "2023-01-02    50\n",
       "2023-01-03    55\n",
       "2023-01-04    57\n",
       "2023-01-05    60\n",
       "2023-01-06    65\n",
       "2023-01-07    54\n",
       "Freq: D, Name: Delhi, dtype: int64"
      ]
     },
     "execution_count": 40,
     "metadata": {},
     "output_type": "execute_result"
    }
   ],
   "source": [
    "temp_df.Delhi"
   ]
  },
  {
   "cell_type": "code",
   "execution_count": 41,
   "id": "1ef93992",
   "metadata": {},
   "outputs": [
    {
     "data": {
      "text/plain": [
       "2023-01-01    57\n",
       "2023-01-02    62\n",
       "2023-01-03    48\n",
       "2023-01-04    47\n",
       "2023-01-05    52\n",
       "2023-01-06    53\n",
       "2023-01-07    63\n",
       "Freq: D, Name: Mumbai, dtype: int64"
      ]
     },
     "execution_count": 41,
     "metadata": {},
     "output_type": "execute_result"
    }
   ],
   "source": [
    "temp_df.Mumbai"
   ]
  },
  {
   "cell_type": "code",
   "execution_count": 43,
   "id": "21fca659",
   "metadata": {},
   "outputs": [
    {
     "data": {
      "text/plain": [
       "2023-01-01   -17\n",
       "2023-01-02   -12\n",
       "2023-01-03     7\n",
       "2023-01-04    10\n",
       "2023-01-05     8\n",
       "2023-01-06    12\n",
       "2023-01-07    -9\n",
       "Freq: D, dtype: int64"
      ]
     },
     "execution_count": 43,
     "metadata": {},
     "output_type": "execute_result"
    }
   ],
   "source": [
    "temp_diffs = temp_df.Delhi-temp_df.Mumbai\n",
    "temp_diffs"
   ]
  },
  {
   "cell_type": "code",
   "execution_count": 44,
   "id": "c72b133d",
   "metadata": {},
   "outputs": [
    {
     "data": {
      "text/html": [
       "<div>\n",
       "<style scoped>\n",
       "    .dataframe tbody tr th:only-of-type {\n",
       "        vertical-align: middle;\n",
       "    }\n",
       "\n",
       "    .dataframe tbody tr th {\n",
       "        vertical-align: top;\n",
       "    }\n",
       "\n",
       "    .dataframe thead th {\n",
       "        text-align: right;\n",
       "    }\n",
       "</style>\n",
       "<table border=\"1\" class=\"dataframe\">\n",
       "  <thead>\n",
       "    <tr style=\"text-align: right;\">\n",
       "      <th></th>\n",
       "      <th>Delhi</th>\n",
       "      <th>Mumbai</th>\n",
       "      <th>temp_diff</th>\n",
       "    </tr>\n",
       "  </thead>\n",
       "  <tbody>\n",
       "    <tr>\n",
       "      <th>2023-01-01</th>\n",
       "      <td>40</td>\n",
       "      <td>57</td>\n",
       "      <td>-17</td>\n",
       "    </tr>\n",
       "    <tr>\n",
       "      <th>2023-01-02</th>\n",
       "      <td>50</td>\n",
       "      <td>62</td>\n",
       "      <td>-12</td>\n",
       "    </tr>\n",
       "    <tr>\n",
       "      <th>2023-01-03</th>\n",
       "      <td>55</td>\n",
       "      <td>48</td>\n",
       "      <td>7</td>\n",
       "    </tr>\n",
       "    <tr>\n",
       "      <th>2023-01-04</th>\n",
       "      <td>57</td>\n",
       "      <td>47</td>\n",
       "      <td>10</td>\n",
       "    </tr>\n",
       "    <tr>\n",
       "      <th>2023-01-05</th>\n",
       "      <td>60</td>\n",
       "      <td>52</td>\n",
       "      <td>8</td>\n",
       "    </tr>\n",
       "    <tr>\n",
       "      <th>2023-01-06</th>\n",
       "      <td>65</td>\n",
       "      <td>53</td>\n",
       "      <td>12</td>\n",
       "    </tr>\n",
       "    <tr>\n",
       "      <th>2023-01-07</th>\n",
       "      <td>54</td>\n",
       "      <td>63</td>\n",
       "      <td>-9</td>\n",
       "    </tr>\n",
       "  </tbody>\n",
       "</table>\n",
       "</div>"
      ],
      "text/plain": [
       "            Delhi  Mumbai  temp_diff\n",
       "2023-01-01     40      57        -17\n",
       "2023-01-02     50      62        -12\n",
       "2023-01-03     55      48          7\n",
       "2023-01-04     57      47         10\n",
       "2023-01-05     60      52          8\n",
       "2023-01-06     65      53         12\n",
       "2023-01-07     54      63         -9"
      ]
     },
     "execution_count": 44,
     "metadata": {},
     "output_type": "execute_result"
    }
   ],
   "source": [
    "temp_df['temp_diff'] = temp_diffs\n",
    "temp_df"
   ]
  },
  {
   "cell_type": "code",
   "execution_count": 45,
   "id": "0fba4610",
   "metadata": {},
   "outputs": [
    {
     "data": {
      "text/plain": [
       "Index(['Delhi', 'Mumbai', 'temp_diff'], dtype='object')"
      ]
     },
     "execution_count": 45,
     "metadata": {},
     "output_type": "execute_result"
    }
   ],
   "source": [
    "temp_df.columns"
   ]
  },
  {
   "cell_type": "code",
   "execution_count": 46,
   "id": "e9d0ae0a",
   "metadata": {},
   "outputs": [
    {
     "data": {
      "text/plain": [
       "2023-01-02   -12\n",
       "2023-01-03     7\n",
       "2023-01-04    10\n",
       "Freq: D, Name: temp_diff, dtype: int64"
      ]
     },
     "execution_count": 46,
     "metadata": {},
     "output_type": "execute_result"
    }
   ],
   "source": [
    "temp_df.temp_diff[1:4]"
   ]
  },
  {
   "cell_type": "code",
   "execution_count": 54,
   "id": "8e43de54",
   "metadata": {},
   "outputs": [
    {
     "data": {
      "text/plain": [
       "Index(['Delhi', 'Mumbai', 'temp_diff'], dtype='object')"
      ]
     },
     "execution_count": 54,
     "metadata": {},
     "output_type": "execute_result"
    }
   ],
   "source": [
    "temp_df.iloc[1].index"
   ]
  },
  {
   "cell_type": "markdown",
   "id": "f1a59cb8",
   "metadata": {},
   "source": [
    "## To locate a record in Data Frame by it's key"
   ]
  },
  {
   "cell_type": "code",
   "execution_count": 51,
   "id": "c36e4865",
   "metadata": {},
   "outputs": [
    {
     "data": {
      "text/plain": [
       "Delhi        55\n",
       "Mumbai       48\n",
       "temp_diff     7\n",
       "Name: 2023-01-03 00:00:00, dtype: int64"
      ]
     },
     "execution_count": 51,
     "metadata": {},
     "output_type": "execute_result"
    }
   ],
   "source": [
    "temp_df.loc['2023-01-03']"
   ]
  },
  {
   "cell_type": "markdown",
   "id": "a2dccae8",
   "metadata": {},
   "source": [
    "### To access specifc row here, had use .iloc or .loc property as opposed to Series"
   ]
  },
  {
   "cell_type": "code",
   "execution_count": 57,
   "id": "e67d5e7a",
   "metadata": {},
   "outputs": [
    {
     "data": {
      "text/html": [
       "<div>\n",
       "<style scoped>\n",
       "    .dataframe tbody tr th:only-of-type {\n",
       "        vertical-align: middle;\n",
       "    }\n",
       "\n",
       "    .dataframe tbody tr th {\n",
       "        vertical-align: top;\n",
       "    }\n",
       "\n",
       "    .dataframe thead th {\n",
       "        text-align: right;\n",
       "    }\n",
       "</style>\n",
       "<table border=\"1\" class=\"dataframe\">\n",
       "  <thead>\n",
       "    <tr style=\"text-align: right;\">\n",
       "      <th></th>\n",
       "      <th>Delhi</th>\n",
       "      <th>Mumbai</th>\n",
       "      <th>temp_diff</th>\n",
       "    </tr>\n",
       "  </thead>\n",
       "  <tbody>\n",
       "    <tr>\n",
       "      <th>2023-01-02</th>\n",
       "      <td>50</td>\n",
       "      <td>62</td>\n",
       "      <td>-12</td>\n",
       "    </tr>\n",
       "    <tr>\n",
       "      <th>2023-01-03</th>\n",
       "      <td>55</td>\n",
       "      <td>48</td>\n",
       "      <td>7</td>\n",
       "    </tr>\n",
       "    <tr>\n",
       "      <th>2023-01-05</th>\n",
       "      <td>60</td>\n",
       "      <td>52</td>\n",
       "      <td>8</td>\n",
       "    </tr>\n",
       "  </tbody>\n",
       "</table>\n",
       "</div>"
      ],
      "text/plain": [
       "            Delhi  Mumbai  temp_diff\n",
       "2023-01-02     50      62        -12\n",
       "2023-01-03     55      48          7\n",
       "2023-01-05     60      52          8"
      ]
     },
     "execution_count": 57,
     "metadata": {},
     "output_type": "execute_result"
    }
   ],
   "source": [
    "temp_df.iloc[[1,2,4]]"
   ]
  },
  {
   "cell_type": "code",
   "execution_count": 58,
   "id": "b230ca53",
   "metadata": {},
   "outputs": [
    {
     "data": {
      "text/plain": [
       "2023-01-02   -12\n",
       "2023-01-03     7\n",
       "2023-01-05     8\n",
       "Name: temp_diff, dtype: int64"
      ]
     },
     "execution_count": 58,
     "metadata": {},
     "output_type": "execute_result"
    }
   ],
   "source": [
    "temp_df.iloc[[1,2,4]].temp_diff"
   ]
  },
  {
   "cell_type": "code",
   "execution_count": 60,
   "id": "82473edd",
   "metadata": {},
   "outputs": [
    {
     "data": {
      "text/plain": [
       "2023-01-01    False\n",
       "2023-01-02    False\n",
       "2023-01-03    False\n",
       "2023-01-04     True\n",
       "2023-01-05     True\n",
       "2023-01-06     True\n",
       "2023-01-07    False\n",
       "Freq: D, Name: Delhi, dtype: bool"
      ]
     },
     "execution_count": 60,
     "metadata": {},
     "output_type": "execute_result"
    }
   ],
   "source": [
    "temp_df.Delhi > 55"
   ]
  },
  {
   "cell_type": "markdown",
   "id": "bd404781",
   "metadata": {},
   "source": [
    "## Boolean Selection"
   ]
  },
  {
   "cell_type": "code",
   "execution_count": 62,
   "id": "c3887661",
   "metadata": {},
   "outputs": [
    {
     "data": {
      "text/html": [
       "<div>\n",
       "<style scoped>\n",
       "    .dataframe tbody tr th:only-of-type {\n",
       "        vertical-align: middle;\n",
       "    }\n",
       "\n",
       "    .dataframe tbody tr th {\n",
       "        vertical-align: top;\n",
       "    }\n",
       "\n",
       "    .dataframe thead th {\n",
       "        text-align: right;\n",
       "    }\n",
       "</style>\n",
       "<table border=\"1\" class=\"dataframe\">\n",
       "  <thead>\n",
       "    <tr style=\"text-align: right;\">\n",
       "      <th></th>\n",
       "      <th>Delhi</th>\n",
       "      <th>Mumbai</th>\n",
       "      <th>temp_diff</th>\n",
       "    </tr>\n",
       "  </thead>\n",
       "  <tbody>\n",
       "    <tr>\n",
       "      <th>2023-01-04</th>\n",
       "      <td>57</td>\n",
       "      <td>47</td>\n",
       "      <td>10</td>\n",
       "    </tr>\n",
       "    <tr>\n",
       "      <th>2023-01-05</th>\n",
       "      <td>60</td>\n",
       "      <td>52</td>\n",
       "      <td>8</td>\n",
       "    </tr>\n",
       "    <tr>\n",
       "      <th>2023-01-06</th>\n",
       "      <td>65</td>\n",
       "      <td>53</td>\n",
       "      <td>12</td>\n",
       "    </tr>\n",
       "  </tbody>\n",
       "</table>\n",
       "</div>"
      ],
      "text/plain": [
       "            Delhi  Mumbai  temp_diff\n",
       "2023-01-04     57      47         10\n",
       "2023-01-05     60      52          8\n",
       "2023-01-06     65      53         12"
      ]
     },
     "execution_count": 62,
     "metadata": {},
     "output_type": "execute_result"
    }
   ],
   "source": [
    "temp_df[temp_df.Delhi>55]"
   ]
  },
  {
   "cell_type": "markdown",
   "id": "2ec78fb8",
   "metadata": {},
   "source": [
    "## Loading Data from csv file"
   ]
  },
  {
   "cell_type": "code",
   "execution_count": 3,
   "id": "eb3b7605",
   "metadata": {},
   "outputs": [
    {
     "name": "stdout",
     "output_type": "stream",
     "text": [
      "quarter,SER_REF,industry_code,industry_name,filled jobs,filled jobs revised,filled jobs diff,filled jobs % diff,total_earnings,total earnings revised,earnings diff,earnings % diff\n",
      "2020.09,BDCQ.SEA1AA,A,\"Agriculture, Forestry and Fishing\",93195,93706,511,0.5,1205,1212,7,0.6\n",
      "2020.09,BDCQ.SEA1BA,B,Mining,5340,5355,15,0.3,145,145,0,0\n",
      "2020.09,BDCQ.SEA1CA,C,Manufacturing,217139,218967,1828,0.8,3791,3823,32,0.8\n",
      "2020.09,BDCQ.SEA1DA,D,\"Electricity, Gas, Water and Waste S\",19886,20060,174,0.9,493,498,5,1\n",
      "2020.09,BDCQ.SEA1EA,E,Construction,166413,168095,1682,1,2873,2906,33,1.1\n",
      "2020.09,BDCQ.SEA1FA,F,Wholesale Trade,103816,104974,1158,1.1,1867,1892,25,1.3\n",
      "2020.09,BDCQ.SEA1GA,G,Retail Trade,197373,198379,1006,0.5,2160,2173,13,0.6\n",
      "2020.09,BDCQ.SEA1HA,H,Accommodation and Food Services,138259,139176,917,0.7,1089,1098,9,0.8\n",
      "2020.09,BDCQ.SEA1IA,I,\"Transport, Postal and Warehousing\",84413,85499,1086,1.3,1520,1536,16,1.1\n",
      "2020.09,BDCQ.SEA1JA,J,Information Media and Telecommunica,29086,30117,1031,3.5,611,634,23,3.8\n",
      "2020.09,BDCQ.SEA1KA,K,Financial and Insurance Services,60481,61378,897,1.5,1603,1625,22,1.4\n",
      "2020.09,BDCQ.SEA1LA,L,\"Rental, Hiring and Real Estate Serv\",31360,32203,843,2.7,510,528,18,3.5\n",
      "2020.09,BDCQ.SEA1MA,M,\"Professional, Scientific and Techni\",157483,158004,521,0.3,3314,3326,12,0.4\n",
      "2020.09,BDCQ.SEA1NA,N,Administrative and Support Services,93653,94779,1126,1.2,1121,1135,14,1.2\n",
      "2020.09,BDCQ.SEA1OA,O,Public Administration and Safety,142530,144919,2389,1.7,3095,3104,9,0.3\n",
      "2020.09,BDCQ.SEA1PA,P,Education and Training,197093,197474,381,0.2,2994,2999,5,0.2\n",
      "2020.09,BDCQ.SEA1QA,Q,Health Care and Social Assistance,238713,240027,1314,0.6,3884,3902,18,0.5\n",
      "2020.09,BDCQ.SEA1RA,R,Arts and Recreation Services,39453,39523,70,0.2,476,477,1,0.2\n",
      "2020.09,BDCQ.SEA1SA,S,Other Services,67331,67881,550,0.8,842,851,9,1.1\n",
      "2020.09,BDCQ.SEA1ZA,Z,Total Industry,2083018,2100514,17496,0.8,33591,33862,271,0.8\n",
      "2020.12,BDCQ.SEA1AA,A,\"Agriculture, Forestry and Fishing\",102683,103593,910,0.9,1306,1318,12,0.9\n",
      "2020.12,BDCQ.SEA1BA,B,Mining,5271,5295,24,0.5,140,139,-1,-0.7\n",
      "2020.12,BDCQ.SEA1CA,C,Manufacturing,220395,222691,2296,1,3934,3976,42,1.1\n",
      "2020.12,BDCQ.SEA1DA,D,\"Electricity, Gas, Water and Waste S\",20213,20282,69,0.3,451,455,4,0.9\n",
      "2020.12,BDCQ.SEA1EA,E,Construction,167977,169062,1085,0.6,2956,2982,26,0.9\n",
      "2020.12,BDCQ.SEA1FA,F,Wholesale Trade,104740,105785,1045,1,1896,1919,23,1.2\n",
      "2020.12,BDCQ.SEA1GA,G,Retail Trade,202286,204218,1932,1,2225,2247,22,1\n",
      "2020.12,BDCQ.SEA1HA,H,Accommodation and Food Services,136941,139176,2235,1.6,1135,1155,20,1.8\n",
      "2020.12,BDCQ.SEA1IA,I,\"Transport, Postal and Warehousing\",84580,85266,686,0.8,1500,1514,14,0.9\n",
      "2020.12,BDCQ.SEA1JA,J,Information Media and Telecommunica,29555,29740,185,0.6,629,633,4,0.6\n",
      "2020.12,BDCQ.SEA1KA,K,Financial and Insurance Services,61626,62822,1196,1.9,1638,1663,25,1.5\n",
      "2020.12,BDCQ.SEA1LA,L,\"Rental, Hiring and Real Estate Serv\",32488,32575,87,0.3,551,553,2,0.4\n",
      "2020.12,BDCQ.SEA1MA,M,\"Professional, Scientific and Techni\",158424,159248,824,0.5,3393,3414,21,0.6\n",
      "2020.12,BDCQ.SEA1NA,N,Administrative and Support Services,92742,94335,1593,1.7,1129,1147,18,1.6\n",
      "2020.12,BDCQ.SEA1OA,O,Public Administration and Safety,151552,151671,119,0.1,2915,2918,3,0.1\n",
      "2020.12,BDCQ.SEA1PA,P,Education and Training,197682,201128,3446,1.7,3132,3178,46,1.5\n",
      "2020.12,BDCQ.SEA1QA,Q,Health Care and Social Assistance,240504,242743,2239,0.9,3817,3855,38,1\n",
      "2020.12,BDCQ.SEA1RA,R,Arts and Recreation Services,38614,39469,855,2.2,478,493,15,3.1\n",
      "2020.12,BDCQ.SEA1SA,S,Other Services,68469,68579,110,0.2,860,863,3,0.3\n",
      "2020.12,BDCQ.SEA1ZA,Z,Total Industry,2116740,2137679,20939,1,34085,34422,337,1\n",
      "2021.03,BDCQ.SEA1AA,A,\"Agriculture, Forestry and Fishing\",101342,102002,660,0.7,1269,1278,9,0.7\n",
      "2021.03,BDCQ.SEA1BA,B,Mining,5393,5384,-9,-0.2,153,153,0,0\n",
      "2021.03,BDCQ.SEA1CA,C,Manufacturing,221520,223355,1835,0.8,3954,3988,34,0.9\n",
      "2021.03,BDCQ.SEA1DA,D,\"Electricity, Gas, Water and Waste S\",20273,20618,345,1.7,472,481,9,1.9\n",
      "2021.03,BDCQ.SEA1EA,E,Construction,170899,172023,1124,0.7,2903,2925,22,0.8\n",
      "2021.03,BDCQ.SEA1FA,F,Wholesale Trade,105329,106865,1536,1.5,1920,1951,31,1.6\n",
      "2021.03,BDCQ.SEA1GA,G,Retail Trade,199567,201163,1596,0.8,2245,2265,20,0.9\n",
      "2021.03,BDCQ.SEA1HA,H,Accommodation and Food Services,137525,138632,1107,0.8,1152,1162,10,0.9\n",
      "2021.03,BDCQ.SEA1IA,I,\"Transport, Postal and Warehousing\",83810,84651,841,1,1428,1444,16,1.1\n",
      "2021.03,BDCQ.SEA1JA,J,Information Media and Telecommunica,30151,30483,332,1.1,627,633,6,1\n",
      "2021.03,BDCQ.SEA1KA,K,Financial and Insurance Services,62564,62958,394,0.6,1633,1639,6,0.4\n",
      "2021.03,BDCQ.SEA1LA,L,\"Rental, Hiring and Real Estate Serv\",32586,33046,460,1.4,562,569,7,1.2\n",
      "2021.03,BDCQ.SEA1MA,M,\"Professional, Scientific and Techni\",160102,160798,696,0.4,3545,3560,15,0.4\n",
      "2021.03,BDCQ.SEA1NA,N,Administrative and Support Services,90671,93371,2700,3,1078,1115,37,3.4\n",
      "2021.03,BDCQ.SEA1OA,O,Public Administration and Safety,146079,146485,406,0.3,3169,3179,10,0.3\n",
      "2021.03,BDCQ.SEA1PA,P,Education and Training,190834,192032,1198,0.6,2590,2609,19,0.7\n",
      "2021.03,BDCQ.SEA1QA,Q,Health Care and Social Assistance,244167,245489,1322,0.5,3837,3854,17,0.4\n",
      "2021.03,BDCQ.SEA1RA,R,Arts and Recreation Services,37770,38758,988,2.6,447,461,14,3.1\n",
      "2021.03,BDCQ.SEA1SA,S,Other Services,68878,68717,-161,-0.2,850,848,-2,-0.2\n",
      "2021.03,BDCQ.SEA1ZA,Z,Total Industry,2109457,2126830,17373,0.8,33833,34115,282,0.8\n",
      "2021.06,BDCQ.SEA1AA,A,\"Agriculture, Forestry and Fishing\",92962,93431,469,0.5,1229,1236,7,0.6\n",
      "2021.06,BDCQ.SEA1BA,B,Mining,5351,5353,2,0,145,145,0,0\n",
      "2021.06,BDCQ.SEA1CA,C,Manufacturing,221060,224296,3236,1.5,4052,4112,60,1.5\n",
      "2021.06,BDCQ.SEA1DA,D,\"Electricity, Gas, Water and Waste S\",20095,20644,549,2.7,453,466,13,2.9\n",
      "2021.06,BDCQ.SEA1EA,E,Construction,175600,177192,1592,0.9,3112,3141,29,0.9\n",
      "2021.06,BDCQ.SEA1FA,F,Wholesale Trade,105234,107221,1987,1.9,1958,1999,41,2.1\n",
      "2021.06,BDCQ.SEA1GA,G,Retail Trade,197974,200282,2308,1.2,2264,2292,28,1.2\n",
      "2021.06,BDCQ.SEA1HA,H,Accommodation and Food Services,138223,140234,2011,1.5,1223,1243,20,1.6\n",
      "2021.06,BDCQ.SEA1IA,I,\"Transport, Postal and Warehousing\",84888,85578,690,0.8,1477,1490,13,0.9\n",
      "2021.06,BDCQ.SEA1JA,J,Information Media and Telecommunica,30478,30921,443,1.5,644,654,10,1.6\n",
      "2021.06,BDCQ.SEA1KA,K,Financial and Insurance Services,62272,62938,666,1.1,1677,1692,15,0.9\n",
      "2021.06,BDCQ.SEA1LA,L,\"Rental, Hiring and Real Estate Serv\",33498,33850,352,1.1,587,591,4,0.7\n",
      "2021.06,BDCQ.SEA1MA,M,\"Professional, Scientific and Techni\",163785,166225,2440,1.5,3556,3631,75,2.1\n",
      "2021.06,BDCQ.SEA1NA,N,Administrative and Support Services,98884,102368,3484,3.5,1273,1321,48,3.8\n",
      "2021.06,BDCQ.SEA1OA,O,Public Administration and Safety,146061,146411,350,0.2,2932,2940,8,0.3\n",
      "2021.06,BDCQ.SEA1PA,P,Education and Training,200186,200926,740,0.4,3099,3111,12,0.4\n",
      "2021.06,BDCQ.SEA1QA,Q,Health Care and Social Assistance,245348,250453,5105,2.1,3918,4026,108,2.8\n",
      "2021.06,BDCQ.SEA1RA,R,Arts and Recreation Services,38614,39094,480,1.2,457,463,6,1.3\n",
      "2021.06,BDCQ.SEA1SA,S,Other Services,69339,70507,1168,1.7,885,899,14,1.6\n",
      "2021.06,BDCQ.SEA1ZA,Z,Total Industry,2129855,2157926,28071,1.3,34940,35452,512,1.5\n",
      "2021.09,BDCQ.SEA1AA,A,\"Agriculture, Forestry and Fishing\",91635,92353,718,0.8,1250,1260,10,0.8\n",
      "2021.09,BDCQ.SEA1BA,B,Mining,5354,5354,0,0,142,142,0,0\n",
      "2021.09,BDCQ.SEA1CA,C,Manufacturing,218962,221282,2320,1.1,3964,4005,41,1\n",
      "2021.09,BDCQ.SEA1DA,D,\"Electricity, Gas, Water and Waste S\",20415,20738,323,1.6,534,542,8,1.5\n",
      "2021.09,BDCQ.SEA1EA,E,Construction,176379,177870,1491,0.8,3094,3123,29,0.9\n",
      "2021.09,BDCQ.SEA1FA,F,Wholesale Trade,106106,107479,1373,1.3,2010,2040,30,1.5\n",
      "2021.09,BDCQ.SEA1GA,G,Retail Trade,199788,202170,2382,1.2,2331,2359,28,1.2\n",
      "2021.09,BDCQ.SEA1HA,H,Accommodation and Food Services,141996,143141,1145,0.8,1172,1184,12,1\n",
      "2021.09,BDCQ.SEA1IA,I,\"Transport, Postal and Warehousing\",83032,84939,1907,2.3,1504,1536,32,2.1\n",
      "2021.09,BDCQ.SEA1JA,J,Information Media and Telecommunica,29977,30530,553,1.8,695,707,12,1.7\n",
      "2021.09,BDCQ.SEA1KA,K,Financial and Insurance Services,63896,64205,309,0.5,1859,1867,8,0.4\n",
      "2021.09,BDCQ.SEA1LA,L,\"Rental, Hiring and Real Estate Serv\",33109,33600,491,1.5,587,594,7,1.2\n",
      "2021.09,BDCQ.SEA1MA,M,\"Professional, Scientific and Techni\",166897,168314,1417,0.8,3696,3729,33,0.9\n",
      "2021.09,BDCQ.SEA1NA,N,Administrative and Support Services,94843,96214,1371,1.4,1226,1246,20,1.6\n",
      "2021.09,BDCQ.SEA1OA,O,Public Administration and Safety,146090,147449,1359,0.9,3346,3369,23,0.7\n",
      "2021.09,BDCQ.SEA1PA,P,Education and Training,200236,201356,1120,0.6,2832,2846,14,0.5\n",
      "2021.09,BDCQ.SEA1QA,Q,Health Care and Social Assistance,251816,254920,3104,1.2,4065,4110,45,1.1\n",
      "2021.09,BDCQ.SEA1RA,R,Arts and Recreation Services,40327,40847,520,1.3,496,504,8,1.6\n",
      "2021.09,BDCQ.SEA1SA,S,Other Services,70966,71202,236,0.3,907,912,5,0.6\n",
      "2021.09,BDCQ.SEA1ZA,Z,Total Industry,2141825,2163964,22139,1,35708,36074,366,1\n",
      "2021.12,BDCQ.SEA1AA,A,\"Agriculture, Forestry and Fishing\",102423,102896,473,0.5,1386,1393,7,0.5\n",
      "2021.12,BDCQ.SEA1BA,B,Mining,5407,5410,3,0.1,154,154,0,0\n",
      "2021.12,BDCQ.SEA1CA,C,Manufacturing,223229,226109,2880,1.3,4220,4276,56,1.3\n",
      "2021.12,BDCQ.SEA1DA,D,\"Electricity, Gas, Water and Waste S\",20894,21113,219,1,504,508,4,0.8\n",
      "2021.12,BDCQ.SEA1EA,E,Construction,182862,183537,675,0.4,3401,3415,14,0.4\n",
      "2021.12,BDCQ.SEA1FA,F,Wholesale Trade,108036,109548,1512,1.4,2064,2094,30,1.5\n",
      "2021.12,BDCQ.SEA1GA,G,Retail Trade,210670,212421,1751,0.8,2438,2460,22,0.9\n",
      "2021.12,BDCQ.SEA1HA,H,Accommodation and Food Services,143901,144782,881,0.6,1219,1227,8,0.7\n",
      "2021.12,BDCQ.SEA1IA,I,\"Transport, Postal and Warehousing\",83872,87332,3460,4.1,1558,1631,73,4.7\n",
      "2021.12,BDCQ.SEA1JA,J,Information Media and Telecommunica,29758,29921,163,0.5,672,676,4,0.6\n",
      "2021.12,BDCQ.SEA1KA,K,Financial and Insurance Services,65474,65722,248,0.4,1878,1886,8,0.4\n",
      "2021.12,BDCQ.SEA1LA,L,\"Rental, Hiring and Real Estate Serv\",34249,34531,282,0.8,635,638,3,0.5\n",
      "2021.12,BDCQ.SEA1MA,M,\"Professional, Scientific and Techni\",171661,172840,1179,0.7,3920,3952,32,0.8\n",
      "2021.12,BDCQ.SEA1NA,N,Administrative and Support Services,98098,99856,1758,1.8,1319,1341,22,1.7\n",
      "2021.12,BDCQ.SEA1OA,O,Public Administration and Safety,151109,151639,530,0.4,3264,3273,9,0.3\n",
      "2021.12,BDCQ.SEA1PA,P,Education and Training,199552,200533,981,0.5,3273,3289,16,0.5\n",
      "2021.12,BDCQ.SEA1QA,Q,Health Care and Social Assistance,254592,256130,1538,0.6,4512,4533,21,0.5\n",
      "2021.12,BDCQ.SEA1RA,R,Arts and Recreation Services,38756,38895,139,0.4,476,478,2,0.4\n",
      "2021.12,BDCQ.SEA1SA,S,Other Services,72431,72590,159,0.2,964,966,2,0.2\n",
      "2021.12,BDCQ.SEA1ZA,Z,Total Industry,2196974,2215805,18831,0.9,37856,38193,337,0.9\n",
      "2022.03,BDCQ.SEA1AA,A,\"Agriculture, Forestry and Fishing\",100285,101092,807,0.8,1362,1372,10,0.7\n",
      "2022.03,BDCQ.SEA1BA,B,Mining,5400,5427,27,0.5,150,150,0,0\n",
      "2022.03,BDCQ.SEA1CA,C,Manufacturing,226092,228608,2516,1.1,4252,4305,53,1.2\n",
      "2022.03,BDCQ.SEA1DA,D,\"Electricity, Gas, Water and Waste S\",21133,21386,253,1.2,501,508,7,1.4\n",
      "2022.03,BDCQ.SEA1EA,E,Construction,183512,184396,884,0.5,3303,3321,18,0.5\n",
      "2022.03,BDCQ.SEA1FA,F,Wholesale Trade,108042,109351,1309,1.2,2075,2103,28,1.3\n",
      "2022.03,BDCQ.SEA1GA,G,Retail Trade,205297,208375,3078,1.5,2440,2475,35,1.4\n",
      "2022.03,BDCQ.SEA1HA,H,Accommodation and Food Services,136237,137070,833,0.6,1238,1247,9,0.7\n",
      "2022.03,BDCQ.SEA1IA,I,\"Transport, Postal and Warehousing\",84332,86212,1880,2.2,1602,1633,31,1.9\n",
      "2022.03,BDCQ.SEA1JA,J,Information Media and Telecommunica,29797,30037,240,0.8,678,684,6,0.9\n",
      "2022.03,BDCQ.SEA1KA,K,Financial and Insurance Services,65777,66107,330,0.5,1846,1857,11,0.6\n",
      "2022.03,BDCQ.SEA1LA,L,\"Rental, Hiring and Real Estate Serv\",34030,34358,328,1,623,736,113,18.1\n",
      "2022.03,BDCQ.SEA1MA,M,\"Professional, Scientific and Techni\",174354,175652,1298,0.7,3889,3923,34,0.9\n",
      "2022.03,BDCQ.SEA1NA,N,Administrative and Support Services,97319,98306,987,1,1318,1332,14,1.1\n",
      "2022.03,BDCQ.SEA1OA,O,Public Administration and Safety,152041,152190,149,0.1,3394,3399,5,0.1\n",
      "2022.03,BDCQ.SEA1PA,P,Education and Training,193570,194630,1060,0.5,2704,2712,8,0.3\n",
      "2022.03,BDCQ.SEA1QA,Q,Health Care and Social Assistance,252744,254268,1524,0.6,4340,4363,23,0.5\n",
      "2022.03,BDCQ.SEA1RA,R,Arts and Recreation Services,36737,36967,230,0.6,468,471,3,0.6\n",
      "2022.03,BDCQ.SEA1SA,S,Other Services,71542,71735,193,0.3,947,952,5,0.5\n",
      "2022.03,BDCQ.SEA1ZA,Z,Total Industry,2178241,2196169,17928,0.8,37128,37544,416,1.1\n",
      "2022.06,BDCQ.SEA1AA,A,\"Agriculture, Forestry and Fishing\",94075,94757,682,0.7,1317,1323,6,0.5\n",
      "2022.06,BDCQ.SEA1BA,B,Mining,5553,5548,-5,-0.1,169,169,0,0\n",
      "2022.06,BDCQ.SEA1CA,C,Manufacturing,224408,226870,2462,1.1,4291,4340,49,1.1\n",
      "2022.06,BDCQ.SEA1DA,D,\"Electricity, Gas, Water and Waste S\",21131,22052,921,4.4,496,516,20,4\n",
      "2022.06,BDCQ.SEA1EA,E,Construction,185069,186312,1243,0.7,3435,3459,24,0.7\n",
      "2022.06,BDCQ.SEA1FA,F,Wholesale Trade,108510,110856,2346,2.2,2167,2227,60,2.8\n",
      "2022.06,BDCQ.SEA1GA,G,Retail Trade,203395,205783,2388,1.2,2412,2440,28,1.2\n",
      "2022.06,BDCQ.SEA1HA,H,Accommodation and Food Services,136076,136958,882,0.6,1241,1251,10,0.8\n",
      "2022.06,BDCQ.SEA1IA,I,\"Transport, Postal and Warehousing\",86338,87385,1047,1.2,1666,1688,22,1.3\n",
      "2022.06,BDCQ.SEA1JA,J,Information Media and Telecommunica,30254,30923,669,2.2,679,694,15,2.2\n",
      "2022.06,BDCQ.SEA1KA,K,Financial and Insurance Services,66205,66846,641,1,1864,1889,25,1.3\n",
      "2022.06,BDCQ.SEA1LA,L,\"Rental, Hiring and Real Estate Serv\",34325,34835,510,1.5,662,671,9,1.4\n",
      "2022.06,BDCQ.SEA1MA,M,\"Professional, Scientific and Techni\",177281,179484,2203,1.2,4177,4231,54,1.3\n",
      "2022.06,BDCQ.SEA1NA,N,Administrative and Support Services,102981,104886,1905,1.8,1453,1478,25,1.7\n",
      "2022.06,BDCQ.SEA1OA,O,Public Administration and Safety,151314,151311,-3,0,3253,3258,5,0.2\n",
      "2022.06,BDCQ.SEA1PA,P,Education and Training,196755,197982,1227,0.6,3202,3229,27,0.8\n",
      "2022.06,BDCQ.SEA1QA,Q,Health Care and Social Assistance,254550,256049,1499,0.6,4431,4458,27,0.6\n",
      "2022.06,BDCQ.SEA1RA,R,Arts and Recreation Services,37120,37381,261,0.7,465,468,3,0.6\n",
      "2022.06,BDCQ.SEA1SA,S,Other Services,72375,72724,349,0.5,975,981,6,0.6\n",
      "2022.06,BDCQ.SEA1ZA,Z,Total Industry,2187716,2208943,21227,1,38353,38772,419,1.1\n",
      "2022.09,BDCQ.SEA1AA,A,\"Agriculture, Forestry and Fishing\",90838,91674,836,0.9,1313,1323,10,0.8\n",
      "2022.09,BDCQ.SEA1BA,B,Mining,5475,5490,15,0.3,154,155,1,0.6\n",
      "2022.09,BDCQ.SEA1CA,C,Manufacturing,223123,224994,1871,0.8,4326,4363,37,0.9\n",
      "2022.09,BDCQ.SEA1DA,D,\"Electricity, Gas, Water and Waste S\",21652,21892,240,1.1,575,581,6,1\n",
      "2022.09,BDCQ.SEA1EA,E,Construction,183098,184672,1574,0.9,3475,3508,33,0.9\n",
      "2022.09,BDCQ.SEA1FA,F,Wholesale Trade,109316,110998,1682,1.5,2226,2264,38,1.7\n",
      "2022.09,BDCQ.SEA1GA,G,Retail Trade,204170,206909,2739,1.3,2440,2472,32,1.3\n",
      "2022.09,BDCQ.SEA1HA,H,Accommodation and Food Services,140310,141259,949,0.7,1268,1278,10,0.8\n",
      "2022.09,BDCQ.SEA1IA,I,\"Transport, Postal and Warehousing\",87993,89228,1235,1.4,1777,1798,21,1.2\n",
      "2022.09,BDCQ.SEA1JA,J,Information Media and Telecommunica,31413,31491,78,0.2,761,763,2,0.3\n",
      "2022.09,BDCQ.SEA1KA,K,Financial and Insurance Services,66130,67296,1166,1.8,1974,2014,40,2\n",
      "2022.09,BDCQ.SEA1LA,L,\"Rental, Hiring and Real Estate Serv\",34091,34527,436,1.3,658,666,8,1.2\n",
      "2022.09,BDCQ.SEA1MA,M,\"Professional, Scientific and Techni\",176467,177989,1522,0.9,4251,4290,39,0.9\n",
      "2022.09,BDCQ.SEA1NA,N,Administrative and Support Services,97112,98929,1817,1.9,1388,1415,27,1.9\n",
      "2022.09,BDCQ.SEA1OA,O,Public Administration and Safety,151164,151843,679,0.4,3556,3576,20,0.6\n",
      "2022.09,BDCQ.SEA1PA,P,Education and Training,200721,201057,336,0.2,2924,2932,8,0.3\n",
      "2022.09,BDCQ.SEA1QA,Q,Health Care and Social Assistance,254181,255864,1683,0.7,4575,4601,26,0.6\n",
      "2022.09,BDCQ.SEA1RA,R,Arts and Recreation Services,39896,40295,399,1,508,520,12,2.4\n",
      "2022.09,BDCQ.SEA1SA,S,Other Services,72446,72930,484,0.7,1008,1014,6,0.6\n",
      "2022.09,BDCQ.SEA1ZA,Z,Total Industry,2189595,2209339,19744,0.9,39160,39534,374,1\n",
      "2022.12,BDCQ.SEA1AA,A,\"Agriculture, Forestry and Fishing\",98755,99680,925,0.9,1425,1435,10,0.7\n",
      "2022.12,BDCQ.SEA1BA,B,Mining,5634,5653,19,0.3,166,167,1,0.6\n",
      "2022.12,BDCQ.SEA1CA,C,Manufacturing,228552,229708,1156,0.5,4578,4605,27,0.6\n",
      "2022.12,BDCQ.SEA1DA,D,\"Electricity, Gas, Water and Waste S\",21489,22208,719,3.3,537,553,16,3\n",
      "2022.12,BDCQ.SEA1EA,E,Construction,185740,187607,1867,1,3623,3665,42,1.2\n",
      "2022.12,BDCQ.SEA1FA,F,Wholesale Trade,111276,112682,1406,1.3,2267,2295,28,1.2\n",
      "2022.12,BDCQ.SEA1GA,G,Retail Trade,212669,215104,2435,1.1,2566,2596,30,1.2\n",
      "2022.12,BDCQ.SEA1HA,H,Accommodation and Food Services,146625,147748,1123,0.8,1364,1377,13,1\n",
      "2022.12,BDCQ.SEA1IA,I,\"Transport, Postal and Warehousing\",88357,90607,2250,2.5,1768,1815,47,2.7\n",
      "2022.12,BDCQ.SEA1JA,J,Information Media and Telecommunica,30797,31817,1020,3.3,722,742,20,2.8\n",
      "2022.12,BDCQ.SEA1KA,K,Financial and Insurance Services,67798,68235,437,0.6,2176,2192,16,0.7\n",
      "2022.12,BDCQ.SEA1LA,L,\"Rental, Hiring and Real Estate Serv\",35387,35809,422,1.2,692,698,6,0.9\n",
      "2022.12,BDCQ.SEA1MA,M,\"Professional, Scientific and Techni\",178790,180784,1994,1.1,4283,4328,45,1.1\n",
      "2022.12,BDCQ.SEA1NA,N,Administrative and Support Services,99334,101022,1688,1.7,1448,1472,24,1.7\n",
      "2022.12,BDCQ.SEA1OA,O,Public Administration and Safety,154218,154515,297,0.2,3501,3511,10,0.3\n",
      "2022.12,BDCQ.SEA1PA,P,Education and Training,200765,202179,1414,0.7,3363,3382,19,0.6\n",
      "2022.12,BDCQ.SEA1QA,Q,Health Care and Social Assistance,254497,257381,2884,1.1,4596,4652,56,1.2\n",
      "2022.12,BDCQ.SEA1RA,R,Arts and Recreation Services,40102,40417,315,0.8,534,539,5,0.9\n",
      "2022.12,BDCQ.SEA1SA,S,Other Services,73051,73296,245,0.3,1037,1042,5,0.5\n",
      "2022.12,BDCQ.SEA1ZA,Z,Total Industry,2233837,2256452,22615,1,40646,41068,422,1\n"
     ]
    }
   ],
   "source": [
    "! type C:\\Users\\radha\\Downloads\\test1.csv"
   ]
  },
  {
   "cell_type": "markdown",
   "id": "5699ff5d",
   "metadata": {},
   "source": [
    "## The same information into Data Frame object"
   ]
  },
  {
   "cell_type": "code",
   "execution_count": null,
   "id": "d47201e8",
   "metadata": {},
   "outputs": [],
   "source": []
  },
  {
   "cell_type": "code",
   "execution_count": null,
   "id": "d37db110",
   "metadata": {},
   "outputs": [],
   "source": []
  }
 ],
 "metadata": {
  "kernelspec": {
   "display_name": "Python 3 (ipykernel)",
   "language": "python",
   "name": "python3"
  },
  "language_info": {
   "codemirror_mode": {
    "name": "ipython",
    "version": 3
   },
   "file_extension": ".py",
   "mimetype": "text/x-python",
   "name": "python",
   "nbconvert_exporter": "python",
   "pygments_lexer": "ipython3",
   "version": "3.11.3"
  }
 },
 "nbformat": 4,
 "nbformat_minor": 5
}
