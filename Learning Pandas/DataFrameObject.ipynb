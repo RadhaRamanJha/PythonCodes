{
 "cells": [
  {
   "cell_type": "markdown",
   "id": "6c234943",
   "metadata": {},
   "source": [
    "## Creating DataFrame from scratch"
   ]
  },
  {
   "cell_type": "markdown",
   "id": "dfd7673e",
   "metadata": {},
   "source": [
    "#### Import Pandas and set some display options for output"
   ]
  },
  {
   "cell_type": "code",
   "execution_count": 1,
   "id": "2330ee9f",
   "metadata": {},
   "outputs": [],
   "source": [
    "# Reference Pandas and Numpy\n",
    "import numpy as np\n",
    "import pandas as pd\n",
    "# Set the output options\n",
    "pd.set_option('display.notebook_repr_html', False)\n",
    "pd.set_option('display.max_columns', 10)\n",
    "pd.set_option('display.max_rows',10)"
   ]
  },
  {
   "cell_type": "markdown",
   "id": "d4d0b8f9",
   "metadata": {},
   "source": [
    "### Creating a DataFrame from scratch"
   ]
  },
  {
   "cell_type": "markdown",
   "id": "00aecf75",
   "metadata": {},
   "source": [
    "#### Create DataFrame from 2-D ndarray"
   ]
  },
  {
   "cell_type": "code",
   "execution_count": 2,
   "id": "91cda3ed",
   "metadata": {},
   "outputs": [
    {
     "data": {
      "text/plain": [
       "    0   1\n",
       "0  10  20\n",
       "1  21  22"
      ]
     },
     "execution_count": 2,
     "metadata": {},
     "output_type": "execute_result"
    }
   ],
   "source": [
    "pd.DataFrame(np.array([[10,20],[21,22]]))"
   ]
  },
  {
   "cell_type": "markdown",
   "id": "ff47efa8",
   "metadata": {},
   "source": [
    "#### Create DataFrame object by passing a list of Series object"
   ]
  },
  {
   "cell_type": "code",
   "execution_count": 3,
   "id": "b9c62f87",
   "metadata": {},
   "outputs": [
    {
     "data": {
      "text/plain": [
       "    0   1   2   3   4   5   6   7   8   9\n",
       "0  10  11  12  13  14  15  16  17  18  19\n",
       "1  30  31  32  33  34  35  36  37  38  39"
      ]
     },
     "execution_count": 3,
     "metadata": {},
     "output_type": "execute_result"
    }
   ],
   "source": [
    "df1 = pd.DataFrame([pd.Series(np.arange(10,20)),pd.Series(np.arange(30,40))])\n",
    "df1"
   ]
  },
  {
   "cell_type": "markdown",
   "id": "12a3eae6",
   "metadata": {},
   "source": [
    "#### Dimensions of DataFrame objects"
   ]
  },
  {
   "cell_type": "code",
   "execution_count": 4,
   "id": "2d4e9f29",
   "metadata": {},
   "outputs": [
    {
     "data": {
      "text/plain": [
       "(2, 10)"
      ]
     },
     "execution_count": 4,
     "metadata": {},
     "output_type": "execute_result"
    }
   ],
   "source": [
    "df1.shape"
   ]
  },
  {
   "cell_type": "markdown",
   "id": "45922dde",
   "metadata": {},
   "source": [
    "### Specifying the column name"
   ]
  },
  {
   "cell_type": "code",
   "execution_count": 5,
   "id": "ef29ac3f",
   "metadata": {},
   "outputs": [
    {
     "data": {
      "text/plain": [
       "    a   b\n",
       "0  10  20\n",
       "1  30  40"
      ]
     },
     "execution_count": 5,
     "metadata": {},
     "output_type": "execute_result"
    }
   ],
   "source": [
    "df2 = pd.DataFrame(np.array([[10,20],[30,40]]), columns = [\"a\",\"b\"])\n",
    "df2"
   ]
  },
  {
   "cell_type": "markdown",
   "id": "6fd330e9",
   "metadata": {},
   "source": [
    "#### Access the names of columns for the DataFrame"
   ]
  },
  {
   "cell_type": "code",
   "execution_count": 6,
   "id": "41bfcc90",
   "metadata": {},
   "outputs": [
    {
     "data": {
      "text/plain": [
       "Index(['a', 'b'], dtype='object')"
      ]
     },
     "execution_count": 6,
     "metadata": {},
     "output_type": "execute_result"
    }
   ],
   "source": [
    "df2.columns"
   ]
  },
  {
   "cell_type": "markdown",
   "id": "36f28fb4",
   "metadata": {},
   "source": [
    "#### Accessing the default column names"
   ]
  },
  {
   "cell_type": "code",
   "execution_count": 7,
   "id": "09346104",
   "metadata": {},
   "outputs": [
    {
     "data": {
      "text/plain": [
       "RangeIndex(start=0, stop=10, step=1)"
      ]
     },
     "execution_count": 7,
     "metadata": {},
     "output_type": "execute_result"
    }
   ],
   "source": [
    "df1.columns"
   ]
  },
  {
   "cell_type": "markdown",
   "id": "58cbd488",
   "metadata": {},
   "source": [
    "### Retrive just the names of DataFrame columns by position"
   ]
  },
  {
   "cell_type": "code",
   "execution_count": 8,
   "id": "4729db68",
   "metadata": {},
   "outputs": [
    {
     "data": {
      "text/plain": [
       "'a, b'"
      ]
     },
     "execution_count": 8,
     "metadata": {},
     "output_type": "execute_result"
    }
   ],
   "source": [
    "\"{0}, {1}\".format(df2.columns[0],df2.columns[1])"
   ]
  },
  {
   "cell_type": "markdown",
   "id": "5c03092b",
   "metadata": {},
   "source": [
    "#### The Names of column can be changed by using .columns property"
   ]
  },
  {
   "cell_type": "code",
   "execution_count": 9,
   "id": "407b27b3",
   "metadata": {},
   "outputs": [
    {
     "data": {
      "text/plain": [
       "'c,d'"
      ]
     },
     "execution_count": 9,
     "metadata": {},
     "output_type": "execute_result"
    }
   ],
   "source": [
    "df2.columns = ['c','d']\n",
    "\"{0},{1}\".format(df2.columns[0],df2.columns[1])"
   ]
  },
  {
   "cell_type": "markdown",
   "id": "20090254",
   "metadata": {},
   "source": [
    "#### Assignment of index labels of the DataFrame"
   ]
  },
  {
   "cell_type": "code",
   "execution_count": 10,
   "id": "bcbd4290",
   "metadata": {},
   "outputs": [
    {
     "data": {
      "text/plain": [
       "   a  b  c\n",
       "d  1  2  3\n",
       "e  4  5  6"
      ]
     },
     "execution_count": 10,
     "metadata": {},
     "output_type": "execute_result"
    }
   ],
   "source": [
    "df3 = pd.DataFrame(np.array([[1,2,3],[4,5,6]]),columns = [\"a\",\"b\",\"c\"], index = [\"d\", \"e\"])\n",
    "df3"
   ]
  },
  {
   "cell_type": "markdown",
   "id": "8d24e358",
   "metadata": {},
   "source": [
    "#### Access the index of the DataFrame object"
   ]
  },
  {
   "cell_type": "code",
   "execution_count": 11,
   "id": "91333703",
   "metadata": {},
   "outputs": [
    {
     "data": {
      "text/plain": [
       "Index(['d', 'e'], dtype='object')"
      ]
     },
     "execution_count": 11,
     "metadata": {},
     "output_type": "execute_result"
    }
   ],
   "source": [
    "df3.index"
   ]
  },
  {
   "cell_type": "code",
   "execution_count": 12,
   "id": "4d25eb37",
   "metadata": {},
   "outputs": [
    {
     "name": "stdout",
     "output_type": "stream",
     "text": [
      "The name of index of Data Frame are:- \n",
      "         d,e\n",
      " The name of columns of the Data Frame are:-\n",
      "         a,b,c\n"
     ]
    }
   ],
   "source": [
    "print(\"\"\"The name of index of Data Frame are:- \n",
    "         {0},{1}\\n\"\"\".format(df3.index[0],df3.index[1]),\n",
    "     \"\"\"The name of columns of the Data Frame are:-\n",
    "         {0},{1},{2}\"\"\".format(df3.columns[0],df3.columns[1],df3.columns[2]))"
   ]
  },
  {
   "cell_type": "markdown",
   "id": "dea95632",
   "metadata": {},
   "source": [
    "#### Creation of DataFrame by a dictionary and Series object"
   ]
  },
  {
   "cell_type": "code",
   "execution_count": 13,
   "id": "fb0a9cba",
   "metadata": {},
   "outputs": [
    {
     "data": {
      "text/plain": [
       "   c1  c2\n",
       "0   1   7\n",
       "1   2   8\n",
       "2   3   9\n",
       "3   4  10\n",
       "4   5  11"
      ]
     },
     "execution_count": 13,
     "metadata": {},
     "output_type": "execute_result"
    }
   ],
   "source": [
    "s1 = pd.Series(np.arange(1,6))\n",
    "s2 = pd.Series(np.arange(7,12))\n",
    "df4 = pd.DataFrame({'c1':s1,'c2':s2})\n",
    "df4"
   ]
  },
  {
   "cell_type": "markdown",
   "id": "c1f753b1",
   "metadata": {},
   "source": [
    "#### Demonstration of automatic alingnment in DataFrame"
   ]
  },
  {
   "cell_type": "code",
   "execution_count": 14,
   "id": "b72c2dfc",
   "metadata": {},
   "outputs": [
    {
     "data": {
      "text/plain": [
       "   c1  c2    c3\n",
       "0   1   7   NaN\n",
       "1   2   8  13.0\n",
       "2   3   9   NaN\n",
       "3   4  10  14.0\n",
       "4   5  11   NaN"
      ]
     },
     "execution_count": 14,
     "metadata": {},
     "output_type": "execute_result"
    }
   ],
   "source": [
    "s3 = pd.Series(np.arange(13,15), index = [1,3])\n",
    "df5 = pd.DataFrame({'c1':s1,'c2':s2,'c3':s3})\n",
    "df5"
   ]
  },
  {
   "cell_type": "markdown",
   "id": "b1978766",
   "metadata": {},
   "source": [
    "### Read Data from file"
   ]
  },
  {
   "cell_type": "markdown",
   "id": "e48f6515",
   "metadata": {},
   "source": [
    "#### To view the entire content of file on windows"
   ]
  },
  {
   "cell_type": "code",
   "execution_count": null,
   "id": "23958526",
   "metadata": {},
   "outputs": [],
   "source": [
    "!type data\\constituents-financials_csv.csv"
   ]
  },
  {
   "cell_type": "markdown",
   "id": "123263e5",
   "metadata": {},
   "source": [
    "### Read the csv file and Examine the first 5 records using '.head()' method"
   ]
  },
  {
   "cell_type": "code",
   "execution_count": 21,
   "id": "0e1b1721",
   "metadata": {
    "scrolled": true
   },
   "outputs": [
    {
     "data": {
      "text/plain": [
       "                        Sector   Price  Price/Book\n",
       "Symbol                                            \n",
       "MMM                Industrials  222.89       11.34\n",
       "AOS                Industrials   60.24        6.35\n",
       "ABT                Health Care   56.27        3.19\n",
       "ABBV               Health Care  108.48       26.14\n",
       "ACN     Information Technology  150.51       10.62"
      ]
     },
     "execution_count": 21,
     "metadata": {},
     "output_type": "execute_result"
    }
   ],
   "source": [
    "sp505 = pd.read_csv(\"data\\constituents-financials_csv.csv\", index_col = \"Symbol\",usecols = [0,2,3,12])\n",
    "sp505.head()"
   ]
  },
  {
   "cell_type": "markdown",
   "id": "a8ff4a99",
   "metadata": {},
   "source": [
    "### Examine the last 5 records using '.tail()' method"
   ]
  },
  {
   "cell_type": "code",
   "execution_count": 17,
   "id": "0271d651",
   "metadata": {
    "scrolled": true
   },
   "outputs": [
    {
     "data": {
      "text/plain": [
       "                        Sector   Price  Price/Book\n",
       "Symbol                                            \n",
       "XYL                Industrials   70.24        5.31\n",
       "YUM     Consumer Discretionary   76.30      212.08\n",
       "ZBH                Health Care  115.53        2.39\n",
       "ZION                Financials   50.71        1.42\n",
       "ZTS                Health Care   71.51       18.09"
      ]
     },
     "execution_count": 17,
     "metadata": {},
     "output_type": "execute_result"
    }
   ],
   "source": [
    "sp505.tail()"
   ]
  },
  {
   "cell_type": "markdown",
   "id": "9ea057a7",
   "metadata": {},
   "source": [
    "### Verify The nunmber of records/rows in the data frame"
   ]
  },
  {
   "cell_type": "code",
   "execution_count": 18,
   "id": "2bd28fd8",
   "metadata": {},
   "outputs": [
    {
     "data": {
      "text/plain": [
       "505"
      ]
     },
     "execution_count": 18,
     "metadata": {},
     "output_type": "execute_result"
    }
   ],
   "source": [
    "len(sp505)"
   ]
  },
  {
   "cell_type": "markdown",
   "id": "cbf427bd",
   "metadata": {},
   "source": [
    "### Examine the index of DataFrame by .index attribute"
   ]
  },
  {
   "cell_type": "code",
   "execution_count": 19,
   "id": "1fd97247",
   "metadata": {},
   "outputs": [
    {
     "data": {
      "text/plain": [
       "Index(['MMM', 'AOS', 'ABT', 'ABBV', 'ACN', 'ATVI', 'AYI', 'ADBE', 'AAP', 'AMD',\n",
       "       ...\n",
       "       'WYNN', 'XEL', 'XRX', 'XLNX', 'XL', 'XYL', 'YUM', 'ZBH', 'ZION', 'ZTS'],\n",
       "      dtype='object', name='Symbol', length=505)"
      ]
     },
     "execution_count": 19,
     "metadata": {},
     "output_type": "execute_result"
    }
   ],
   "source": [
    "sp505.index"
   ]
  },
  {
   "cell_type": "markdown",
   "id": "4f02530b",
   "metadata": {},
   "source": [
    "### Get the columns of the Data Frame"
   ]
  },
  {
   "cell_type": "code",
   "execution_count": 20,
   "id": "a40b765e",
   "metadata": {},
   "outputs": [
    {
     "data": {
      "text/plain": [
       "Index(['Sector', 'Price', 'Price/Book'], dtype='object')"
      ]
     },
     "execution_count": 20,
     "metadata": {},
     "output_type": "execute_result"
    }
   ],
   "source": [
    "sp505.columns"
   ]
  },
  {
   "cell_type": "code",
   "execution_count": null,
   "id": "8530af01",
   "metadata": {},
   "outputs": [],
   "source": []
  }
 ],
 "metadata": {
  "kernelspec": {
   "display_name": "Python 3 (ipykernel)",
   "language": "python",
   "name": "python3"
  },
  "language_info": {
   "codemirror_mode": {
    "name": "ipython",
    "version": 3
   },
   "file_extension": ".py",
   "mimetype": "text/x-python",
   "name": "python",
   "nbconvert_exporter": "python",
   "pygments_lexer": "ipython3",
   "version": "3.11.3"
  }
 },
 "nbformat": 4,
 "nbformat_minor": 5
}
