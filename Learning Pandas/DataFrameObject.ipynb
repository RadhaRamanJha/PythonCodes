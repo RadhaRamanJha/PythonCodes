{
 "cells": [
  {
   "cell_type": "markdown",
   "id": "6c234943",
   "metadata": {},
   "source": [
    "## Creating DataFrame from scratch"
   ]
  },
  {
   "cell_type": "markdown",
   "id": "dfd7673e",
   "metadata": {},
   "source": [
    "#### Import Pandas and set some display options for output"
   ]
  },
  {
   "cell_type": "code",
   "execution_count": 1,
   "id": "2330ee9f",
   "metadata": {},
   "outputs": [],
   "source": [
    "# Reference Pandas and Numpy\n",
    "import numpy as np\n",
    "import pandas as pd\n",
    "# Set the output options\n",
    "pd.set_option('display.notebook_repr_html', False)\n",
    "pd.set_option('display.max_columns', 10)\n",
    "pd.set_option('display.max_rows',10)"
   ]
  },
  {
   "cell_type": "markdown",
   "id": "d4d0b8f9",
   "metadata": {},
   "source": [
    "### Creating a DataFrame from scratch"
   ]
  },
  {
   "cell_type": "markdown",
   "id": "00aecf75",
   "metadata": {},
   "source": [
    "#### Create DataFrame from 2-D ndarray"
   ]
  },
  {
   "cell_type": "code",
   "execution_count": 2,
   "id": "91cda3ed",
   "metadata": {},
   "outputs": [
    {
     "data": {
      "text/plain": [
       "    0   1\n",
       "0  10  20\n",
       "1  21  22"
      ]
     },
     "execution_count": 2,
     "metadata": {},
     "output_type": "execute_result"
    }
   ],
   "source": [
    "pd.DataFrame(np.array([[10,20],[21,22]]))"
   ]
  },
  {
   "cell_type": "markdown",
   "id": "ff47efa8",
   "metadata": {},
   "source": [
    "#### Create DataFrame object by passing a list of Series object"
   ]
  },
  {
   "cell_type": "code",
   "execution_count": 3,
   "id": "b9c62f87",
   "metadata": {},
   "outputs": [
    {
     "data": {
      "text/plain": [
       "    0   1   2   3   4   5   6   7   8   9\n",
       "0  10  11  12  13  14  15  16  17  18  19\n",
       "1  30  31  32  33  34  35  36  37  38  39"
      ]
     },
     "execution_count": 3,
     "metadata": {},
     "output_type": "execute_result"
    }
   ],
   "source": [
    "df1 = pd.DataFrame([pd.Series(np.arange(10,20)),pd.Series(np.arange(30,40))])\n",
    "df1"
   ]
  },
  {
   "cell_type": "markdown",
   "id": "12a3eae6",
   "metadata": {},
   "source": [
    "#### Dimensions of DataFrame objects"
   ]
  },
  {
   "cell_type": "code",
   "execution_count": 4,
   "id": "2d4e9f29",
   "metadata": {},
   "outputs": [
    {
     "data": {
      "text/plain": [
       "(2, 10)"
      ]
     },
     "execution_count": 4,
     "metadata": {},
     "output_type": "execute_result"
    }
   ],
   "source": [
    "df1.shape"
   ]
  },
  {
   "cell_type": "markdown",
   "id": "45922dde",
   "metadata": {},
   "source": [
    "### Specifying the column name"
   ]
  },
  {
   "cell_type": "code",
   "execution_count": 5,
   "id": "ef29ac3f",
   "metadata": {},
   "outputs": [
    {
     "data": {
      "text/plain": [
       "    a   b\n",
       "0  10  20\n",
       "1  30  40"
      ]
     },
     "execution_count": 5,
     "metadata": {},
     "output_type": "execute_result"
    }
   ],
   "source": [
    "df2 = pd.DataFrame(np.array([[10,20],[30,40]]), columns = [\"a\",\"b\"])\n",
    "df2"
   ]
  },
  {
   "cell_type": "markdown",
   "id": "6fd330e9",
   "metadata": {},
   "source": [
    "#### Access the names of columns for the DataFrame"
   ]
  },
  {
   "cell_type": "code",
   "execution_count": 6,
   "id": "41bfcc90",
   "metadata": {},
   "outputs": [
    {
     "data": {
      "text/plain": [
       "Index(['a', 'b'], dtype='object')"
      ]
     },
     "execution_count": 6,
     "metadata": {},
     "output_type": "execute_result"
    }
   ],
   "source": [
    "df2.columns"
   ]
  },
  {
   "cell_type": "markdown",
   "id": "36f28fb4",
   "metadata": {},
   "source": [
    "#### Accessing the default column names"
   ]
  },
  {
   "cell_type": "code",
   "execution_count": 7,
   "id": "09346104",
   "metadata": {},
   "outputs": [
    {
     "data": {
      "text/plain": [
       "RangeIndex(start=0, stop=10, step=1)"
      ]
     },
     "execution_count": 7,
     "metadata": {},
     "output_type": "execute_result"
    }
   ],
   "source": [
    "df1.columns"
   ]
  },
  {
   "cell_type": "markdown",
   "id": "58cbd488",
   "metadata": {},
   "source": [
    "### Retrive just the names of DataFrame columns by position"
   ]
  },
  {
   "cell_type": "code",
   "execution_count": 8,
   "id": "4729db68",
   "metadata": {},
   "outputs": [
    {
     "data": {
      "text/plain": [
       "'a, b'"
      ]
     },
     "execution_count": 8,
     "metadata": {},
     "output_type": "execute_result"
    }
   ],
   "source": [
    "\"{0}, {1}\".format(df2.columns[0],df2.columns[1])"
   ]
  },
  {
   "cell_type": "markdown",
   "id": "5c03092b",
   "metadata": {},
   "source": [
    "#### The Names of column can be changed by using .columns property"
   ]
  },
  {
   "cell_type": "code",
   "execution_count": 9,
   "id": "407b27b3",
   "metadata": {},
   "outputs": [
    {
     "data": {
      "text/plain": [
       "'c,d'"
      ]
     },
     "execution_count": 9,
     "metadata": {},
     "output_type": "execute_result"
    }
   ],
   "source": [
    "df2.columns = ['c','d']\n",
    "\"{0},{1}\".format(df2.columns[0],df2.columns[1])"
   ]
  },
  {
   "cell_type": "markdown",
   "id": "20090254",
   "metadata": {},
   "source": [
    "#### Assignment of index labels of the DataFrame"
   ]
  },
  {
   "cell_type": "code",
   "execution_count": 10,
   "id": "bcbd4290",
   "metadata": {},
   "outputs": [
    {
     "data": {
      "text/plain": [
       "   a  b  c\n",
       "d  1  2  3\n",
       "e  4  5  6"
      ]
     },
     "execution_count": 10,
     "metadata": {},
     "output_type": "execute_result"
    }
   ],
   "source": [
    "df3 = pd.DataFrame(np.array([[1,2,3],[4,5,6]]),columns = [\"a\",\"b\",\"c\"], index = [\"d\", \"e\"])\n",
    "df3"
   ]
  },
  {
   "cell_type": "markdown",
   "id": "8d24e358",
   "metadata": {},
   "source": [
    "#### Access the index of the DataFrame object"
   ]
  },
  {
   "cell_type": "code",
   "execution_count": 11,
   "id": "91333703",
   "metadata": {},
   "outputs": [
    {
     "data": {
      "text/plain": [
       "Index(['d', 'e'], dtype='object')"
      ]
     },
     "execution_count": 11,
     "metadata": {},
     "output_type": "execute_result"
    }
   ],
   "source": [
    "df3.index"
   ]
  },
  {
   "cell_type": "code",
   "execution_count": 12,
   "id": "4d25eb37",
   "metadata": {},
   "outputs": [
    {
     "name": "stdout",
     "output_type": "stream",
     "text": [
      "The name of index of Data Frame are:- \n",
      "         d,e\n",
      " The name of columns of the Data Frame are:-\n",
      "         a,b,c\n"
     ]
    }
   ],
   "source": [
    "print(\"\"\"The name of index of Data Frame are:- \n",
    "         {0},{1}\\n\"\"\".format(df3.index[0],df3.index[1]),\n",
    "     \"\"\"The name of columns of the Data Frame are:-\n",
    "         {0},{1},{2}\"\"\".format(df3.columns[0],df3.columns[1],df3.columns[2]))"
   ]
  },
  {
   "cell_type": "markdown",
   "id": "dea95632",
   "metadata": {},
   "source": [
    "#### Creation of DataFrame by a dictionary and Series object"
   ]
  },
  {
   "cell_type": "code",
   "execution_count": 13,
   "id": "fb0a9cba",
   "metadata": {},
   "outputs": [
    {
     "data": {
      "text/plain": [
       "   c1  c2\n",
       "0   1   7\n",
       "1   2   8\n",
       "2   3   9\n",
       "3   4  10\n",
       "4   5  11"
      ]
     },
     "execution_count": 13,
     "metadata": {},
     "output_type": "execute_result"
    }
   ],
   "source": [
    "s1 = pd.Series(np.arange(1,6))\n",
    "s2 = pd.Series(np.arange(7,12))\n",
    "df4 = pd.DataFrame({'c1':s1,'c2':s2})\n",
    "df4"
   ]
  },
  {
   "cell_type": "markdown",
   "id": "c1f753b1",
   "metadata": {},
   "source": [
    "#### Demonstration of automatic alingnment in DataFrame"
   ]
  },
  {
   "cell_type": "code",
   "execution_count": 14,
   "id": "b72c2dfc",
   "metadata": {},
   "outputs": [
    {
     "data": {
      "text/plain": [
       "   c1  c2    c3\n",
       "0   1   7   NaN\n",
       "1   2   8  13.0\n",
       "2   3   9   NaN\n",
       "3   4  10  14.0\n",
       "4   5  11   NaN"
      ]
     },
     "execution_count": 14,
     "metadata": {},
     "output_type": "execute_result"
    }
   ],
   "source": [
    "s3 = pd.Series(np.arange(13,15), index = [1,3])\n",
    "df5 = pd.DataFrame({'c1':s1,'c2':s2,'c3':s3})\n",
    "df5"
   ]
  },
  {
   "cell_type": "markdown",
   "id": "b1978766",
   "metadata": {},
   "source": [
    "### Read Data from file"
   ]
  },
  {
   "cell_type": "markdown",
   "id": "e48f6515",
   "metadata": {},
   "source": [
    "#### To view the entire content of file on windows"
   ]
  },
  {
   "cell_type": "code",
   "execution_count": 15,
   "id": "23958526",
   "metadata": {},
   "outputs": [],
   "source": [
    "# !type data\\constituents-financials_csv.csv\n",
    "# commented because creates a long output"
   ]
  },
  {
   "cell_type": "markdown",
   "id": "123263e5",
   "metadata": {},
   "source": [
    "### Read the csv file and Examine the first 5 records using '.head()' method"
   ]
  },
  {
   "cell_type": "code",
   "execution_count": 16,
   "id": "0e1b1721",
   "metadata": {
    "scrolled": true
   },
   "outputs": [
    {
     "data": {
      "text/plain": [
       "                        Sector   Price  Price/Book\n",
       "Symbol                                            \n",
       "MMM                Industrials  222.89       11.34\n",
       "AOS                Industrials   60.24        6.35\n",
       "ABT                Health Care   56.27        3.19\n",
       "ABBV               Health Care  108.48       26.14\n",
       "ACN     Information Technology  150.51       10.62"
      ]
     },
     "execution_count": 16,
     "metadata": {},
     "output_type": "execute_result"
    }
   ],
   "source": [
    "sp505 = pd.read_csv(\"data\\constituents-financials_csv.csv\", index_col = \"Symbol\",usecols = [0,2,3,12])\n",
    "sp505.head()"
   ]
  },
  {
   "cell_type": "markdown",
   "id": "a8ff4a99",
   "metadata": {},
   "source": [
    "### Examine the last 5 records using '.tail()' method"
   ]
  },
  {
   "cell_type": "code",
   "execution_count": 17,
   "id": "0271d651",
   "metadata": {
    "scrolled": true
   },
   "outputs": [
    {
     "data": {
      "text/plain": [
       "                        Sector   Price  Price/Book\n",
       "Symbol                                            \n",
       "XYL                Industrials   70.24        5.31\n",
       "YUM     Consumer Discretionary   76.30      212.08\n",
       "ZBH                Health Care  115.53        2.39\n",
       "ZION                Financials   50.71        1.42\n",
       "ZTS                Health Care   71.51       18.09"
      ]
     },
     "execution_count": 17,
     "metadata": {},
     "output_type": "execute_result"
    }
   ],
   "source": [
    "sp505.tail()"
   ]
  },
  {
   "cell_type": "markdown",
   "id": "9ea057a7",
   "metadata": {},
   "source": [
    "### Verify The nunmber of records/rows in the data frame"
   ]
  },
  {
   "cell_type": "code",
   "execution_count": 18,
   "id": "2bd28fd8",
   "metadata": {},
   "outputs": [
    {
     "data": {
      "text/plain": [
       "505"
      ]
     },
     "execution_count": 18,
     "metadata": {},
     "output_type": "execute_result"
    }
   ],
   "source": [
    "len(sp505)"
   ]
  },
  {
   "cell_type": "markdown",
   "id": "cbf427bd",
   "metadata": {},
   "source": [
    "### Examine the index of DataFrame by .index attribute"
   ]
  },
  {
   "cell_type": "code",
   "execution_count": 19,
   "id": "1fd97247",
   "metadata": {},
   "outputs": [
    {
     "data": {
      "text/plain": [
       "Index(['MMM', 'AOS', 'ABT', 'ABBV', 'ACN', 'ATVI', 'AYI', 'ADBE', 'AAP', 'AMD',\n",
       "       ...\n",
       "       'WYNN', 'XEL', 'XRX', 'XLNX', 'XL', 'XYL', 'YUM', 'ZBH', 'ZION', 'ZTS'],\n",
       "      dtype='object', name='Symbol', length=505)"
      ]
     },
     "execution_count": 19,
     "metadata": {},
     "output_type": "execute_result"
    }
   ],
   "source": [
    "sp505.index"
   ]
  },
  {
   "cell_type": "markdown",
   "id": "4f02530b",
   "metadata": {},
   "source": [
    "### Get the columns of the Data Frame"
   ]
  },
  {
   "cell_type": "code",
   "execution_count": 20,
   "id": "a40b765e",
   "metadata": {},
   "outputs": [
    {
     "data": {
      "text/plain": [
       "Index(['Sector', 'Price', 'Price/Book'], dtype='object')"
      ]
     },
     "execution_count": 20,
     "metadata": {},
     "output_type": "execute_result"
    }
   ],
   "source": [
    "sp505.columns"
   ]
  },
  {
   "cell_type": "markdown",
   "id": "9fc51157",
   "metadata": {},
   "source": [
    "#### Next data set to be used"
   ]
  },
  {
   "cell_type": "markdown",
   "id": "a93ca6f7",
   "metadata": {
    "scrolled": true
   },
   "source": [
    "! type data\\omh.csv"
   ]
  },
  {
   "cell_type": "code",
   "execution_count": 21,
   "id": "a1aa6449",
   "metadata": {},
   "outputs": [
    {
     "data": {
      "text/plain": [
       "         Date   MSFT    AAPL\n",
       "0  2014-12-01  48.62  115.07\n",
       "1  2014-12-02  48.46  114.63\n",
       "2  2014-12-03  48.08  115.93\n",
       "3  2014-12-04  48.84  115.49"
      ]
     },
     "execution_count": 21,
     "metadata": {},
     "output_type": "execute_result"
    }
   ],
   "source": [
    "hist_one_mon = pd.read_csv(\"data\\omh.csv\")\n",
    "hist_one_mon[:4]"
   ]
  },
  {
   "cell_type": "markdown",
   "id": "86ef170c",
   "metadata": {},
   "source": [
    "#### Unable to read the dataframe column by position"
   ]
  },
  {
   "cell_type": "code",
   "execution_count": 22,
   "id": "033faadc",
   "metadata": {},
   "outputs": [
    {
     "data": {
      "text/plain": [
       "         Price  Price/Book\n",
       "Symbol                    \n",
       "MMM     222.89       11.34\n",
       "AOS      60.24        6.35\n",
       "ABT      56.27        3.19\n",
       "ABBV    108.48       26.14\n",
       "ACN     150.51       10.62"
      ]
     },
     "execution_count": 22,
     "metadata": {},
     "output_type": "execute_result"
    }
   ],
   "source": [
    "sp505[['Price', 'Price/Book']].head()"
   ]
  },
  {
   "cell_type": "code",
   "execution_count": 23,
   "id": "9e8f9fcf",
   "metadata": {},
   "outputs": [
    {
     "data": {
      "text/plain": [
       "             1\n",
       "Symbol        \n",
       "MMM     222.89\n",
       "AOS      60.24\n",
       "ABT      56.27\n",
       "ABBV    108.48\n",
       "ACN     150.51"
      ]
     },
     "execution_count": 23,
     "metadata": {},
     "output_type": "execute_result"
    }
   ],
   "source": [
    "df = sp505.copy()\n",
    "df.columns = [0,1,2]\n",
    "df[[1]].head()"
   ]
  },
  {
   "cell_type": "markdown",
   "id": "cc068ea3",
   "metadata": {},
   "source": [
    "### Type of DataFrame column"
   ]
  },
  {
   "cell_type": "code",
   "execution_count": 24,
   "id": "1073d92d",
   "metadata": {},
   "outputs": [
    {
     "data": {
      "text/plain": [
       "pandas.core.frame.DataFrame"
      ]
     },
     "execution_count": 24,
     "metadata": {},
     "output_type": "execute_result"
    }
   ],
   "source": [
    "type(df[[1]])"
   ]
  },
  {
   "cell_type": "code",
   "execution_count": 25,
   "id": "39f6f484",
   "metadata": {},
   "outputs": [
    {
     "data": {
      "text/plain": [
       "pandas.core.series.Series"
      ]
     },
     "execution_count": 25,
     "metadata": {},
     "output_type": "execute_result"
    }
   ],
   "source": [
    "type(df[1])"
   ]
  },
  {
   "cell_type": "markdown",
   "id": "dac640bb",
   "metadata": {},
   "source": [
    "#### Columns retrived via the attribute access "
   ]
  },
  {
   "cell_type": "markdown",
   "id": "83ce4391",
   "metadata": {},
   "source": [
    "#### Following will not by applicable to columns having space in their names"
   ]
  },
  {
   "cell_type": "code",
   "execution_count": 26,
   "id": "4148658b",
   "metadata": {},
   "outputs": [
    {
     "data": {
      "text/plain": [
       "Symbol\n",
       "MMM     222.89\n",
       "AOS      60.24\n",
       "ABT      56.27\n",
       "ABBV    108.48\n",
       "ACN     150.51\n",
       "Name: Price, dtype: float64"
      ]
     },
     "execution_count": 26,
     "metadata": {},
     "output_type": "execute_result"
    }
   ],
   "source": [
    "sp505.Price.head()"
   ]
  },
  {
   "cell_type": "markdown",
   "id": "2e90c5e2",
   "metadata": {},
   "source": [
    "### Get location of specified column"
   ]
  },
  {
   "cell_type": "code",
   "execution_count": 27,
   "id": "d3876d38",
   "metadata": {},
   "outputs": [
    {
     "name": "stdout",
     "output_type": "stream",
     "text": [
      "2\n"
     ]
    }
   ],
   "source": [
    "print(sp505.columns.get_loc(\"Price/Book\"))"
   ]
  },
  {
   "cell_type": "markdown",
   "id": "94a72b3c",
   "metadata": {},
   "source": [
    "### Index selection in a DataFrame"
   ]
  },
  {
   "cell_type": "markdown",
   "id": "3776b40b",
   "metadata": {},
   "source": [
    "#### Slicing the DataFrame with use of [ ] operator  "
   ]
  },
  {
   "cell_type": "code",
   "execution_count": 28,
   "id": "b895fab4",
   "metadata": {},
   "outputs": [
    {
     "data": {
      "text/plain": [
       "                        Sector   Price  Price/Book\n",
       "Symbol                                            \n",
       "MMM                Industrials  222.89       11.34\n",
       "AOS                Industrials   60.24        6.35\n",
       "ABT                Health Care   56.27        3.19\n",
       "ABBV               Health Care  108.48       26.14\n",
       "ACN     Information Technology  150.51       10.62"
      ]
     },
     "execution_count": 28,
     "metadata": {},
     "output_type": "execute_result"
    }
   ],
   "source": [
    "sp505[:5]"
   ]
  },
  {
   "cell_type": "code",
   "execution_count": 29,
   "id": "e729110c",
   "metadata": {},
   "outputs": [
    {
     "name": "stdout",
     "output_type": "stream",
     "text": [
      "                        Sector   Price  Price/Book\n",
      "Symbol                                            \n",
      "ATVI    Information Technology   65.83        5.16\n",
      "AYI                Industrials  145.41        3.55\n",
      "ADBE    Information Technology  185.16       11.06\n",
      "AAP     Consumer Discretionary  109.63        2.51\n",
      "AMD     Information Technology   11.22       21.47\n",
      "AES                  Utilities   10.06        2.20\n",
      "AET                Health Care  178.00        3.79\n"
     ]
    }
   ],
   "source": [
    "print(sp505[5:12])"
   ]
  },
  {
   "cell_type": "code",
   "execution_count": 30,
   "id": "124155dc",
   "metadata": {},
   "outputs": [
    {
     "name": "stdout",
     "output_type": "stream",
     "text": [
      "                        Sector   Price  Price/Book\n",
      "Symbol                                            \n",
      "ATVI    Information Technology   65.83        5.16\n",
      "AYI                Industrials  145.41        3.55\n",
      "ADBE    Information Technology  185.16       11.06\n",
      "AAP     Consumer Discretionary  109.63        2.51\n",
      "AMD     Information Technology   11.22       21.47\n",
      "AES                  Utilities   10.06        2.20\n",
      "AET                Health Care  178.00        3.79\n"
     ]
    }
   ],
   "source": [
    "print(sp505[\"ATVI\":\"AET\"])"
   ]
  },
  {
   "cell_type": "markdown",
   "id": "60888906",
   "metadata": {},
   "source": [
    "#### Get the row with index label \"ATVI\" as a series"
   ]
  },
  {
   "cell_type": "code",
   "execution_count": 31,
   "id": "1592715a",
   "metadata": {},
   "outputs": [
    {
     "data": {
      "text/plain": [
       "Sector        Information Technology\n",
       "Price                          65.83\n",
       "Price/Book                      5.16\n",
       "Name: ATVI, dtype: object"
      ]
     },
     "execution_count": 31,
     "metadata": {},
     "output_type": "execute_result"
    }
   ],
   "source": [
    "sp505.loc[\"ATVI\"]"
   ]
  },
  {
   "cell_type": "code",
   "execution_count": 32,
   "id": "cb1e1a85",
   "metadata": {},
   "outputs": [
    {
     "data": {
      "text/plain": [
       "pandas.core.series.Series"
      ]
     },
     "execution_count": 32,
     "metadata": {},
     "output_type": "execute_result"
    }
   ],
   "source": [
    "type(sp505.loc[\"ATVI\"])"
   ]
  },
  {
   "cell_type": "markdown",
   "id": "0ac1c766",
   "metadata": {},
   "source": [
    "#### When Two or More indices of sp505 retrived using .loc() the result is a DataFrame  "
   ]
  },
  {
   "cell_type": "code",
   "execution_count": 33,
   "id": "1e143b5f",
   "metadata": {},
   "outputs": [
    {
     "data": {
      "text/plain": [
       "                        Sector  Price  Price/Book\n",
       "Symbol                                           \n",
       "ATVI    Information Technology  65.83        5.16\n",
       "AMD     Information Technology  11.22       21.47"
      ]
     },
     "execution_count": 33,
     "metadata": {},
     "output_type": "execute_result"
    }
   ],
   "source": [
    "sp505.loc[[\"ATVI\",\"AMD\"]]"
   ]
  },
  {
   "cell_type": "code",
   "execution_count": 34,
   "id": "65c9532e",
   "metadata": {
    "scrolled": true
   },
   "outputs": [
    {
     "data": {
      "text/plain": [
       "pandas.core.frame.DataFrame"
      ]
     },
     "execution_count": 34,
     "metadata": {},
     "output_type": "execute_result"
    }
   ],
   "source": [
    "type(sp505.loc[[\"ATVI\",\"AMD\"]])"
   ]
  },
  {
   "cell_type": "markdown",
   "id": "9f7e0075",
   "metadata": {},
   "source": [
    "#### Get the location of any particular symbol in index and use .iloc() to retrive it"
   ]
  },
  {
   "cell_type": "code",
   "execution_count": 35,
   "id": "4fade9b9",
   "metadata": {
    "scrolled": true
   },
   "outputs": [
    {
     "name": "stdout",
     "output_type": "stream",
     "text": [
      "The index location of 'YUM' and 'ATVI' are 501,5\n",
      " \n",
      "\n",
      "                        Sector  Price  Price/Book\n",
      "Symbol                                           \n",
      "YUM     Consumer Discretionary  76.30      212.08\n",
      "ATVI    Information Technology  65.83        5.16\n"
     ]
    }
   ],
   "source": [
    "i1 = sp505.index.get_loc(\"YUM\")\n",
    "i2 = sp505.index.get_loc(\"ATVI\")\n",
    "print(\"The index location of 'YUM' and 'ATVI' are {0},{1}\\n \\n\".format(i1,i2))\n",
    "print(sp505.iloc[[i1,i2]])"
   ]
  },
  {
   "cell_type": "markdown",
   "id": "be19f625",
   "metadata": {},
   "source": [
    "### Scalar Value lookup by label or location"
   ]
  },
  {
   "cell_type": "markdown",
   "id": "7b88bc1c",
   "metadata": {},
   "source": [
    "##### Scalar Value lookup by label "
   ]
  },
  {
   "cell_type": "code",
   "execution_count": 36,
   "id": "775750fd",
   "metadata": {},
   "outputs": [
    {
     "data": {
      "text/plain": [
       "29.8"
      ]
     },
     "execution_count": 36,
     "metadata": {},
     "output_type": "execute_result"
    }
   ],
   "source": [
    "sp505.at['XRX','Price']"
   ]
  },
  {
   "cell_type": "markdown",
   "id": "1223913e",
   "metadata": {},
   "source": [
    "#### Scalar Value lookup by position -- Prefered method"
   ]
  },
  {
   "cell_type": "code",
   "execution_count": 37,
   "id": "551cb98a",
   "metadata": {},
   "outputs": [
    {
     "data": {
      "text/plain": [
       "11.34"
      ]
     },
     "execution_count": 37,
     "metadata": {},
     "output_type": "execute_result"
    }
   ],
   "source": [
    "sp505.iat[0,2]"
   ]
  },
  {
   "cell_type": "markdown",
   "id": "ea9d14af",
   "metadata": {},
   "source": [
    "### Boolean Selection of rows in DataFrame"
   ]
  },
  {
   "cell_type": "code",
   "execution_count": 38,
   "id": "3bf74cdb",
   "metadata": {},
   "outputs": [
    {
     "data": {
      "text/plain": [
       "                        Sector  Price  Price/Book\n",
       "Symbol                                           \n",
       "AMD     Information Technology  11.22       21.47\n",
       "AES                  Utilities  10.06        2.20\n",
       "CHK                     Energy   2.82        1.84\n",
       "F       Consumer Discretionary  10.43        1.26\n",
       "GE                 Industrials  14.45        1.70\n",
       "KIM                Real Estate  14.01        1.20\n",
       "NAVI                Financials  13.38        1.02\n",
       "RRC                     Energy  12.82        0.59\n",
       "UAA     Consumer Discretionary  13.14        2.72\n",
       "UA      Consumer Discretionary  11.95        2.50"
      ]
     },
     "execution_count": 38,
     "metadata": {},
     "output_type": "execute_result"
    }
   ],
   "source": [
    "sp505[sp505.Price < 15]"
   ]
  },
  {
   "cell_type": "markdown",
   "id": "19b0d028",
   "metadata": {},
   "source": [
    "#### Renaming a column"
   ]
  },
  {
   "cell_type": "code",
   "execution_count": 39,
   "id": "e8a56c74",
   "metadata": {},
   "outputs": [
    {
     "data": {
      "text/plain": [
       "                        Sector   Price  BookValue\n",
       "Symbol                                           \n",
       "MMM                Industrials  222.89      11.34\n",
       "AOS                Industrials   60.24       6.35\n",
       "ABT                Health Care   56.27       3.19\n",
       "ABBV               Health Care  108.48      26.14\n",
       "ACN     Information Technology  150.51      10.62"
      ]
     },
     "execution_count": 39,
     "metadata": {},
     "output_type": "execute_result"
    }
   ],
   "source": [
    "sp505.rename(columns = {'Price/Book':'BookValue'}, inplace = True)\n",
    "sp505.head()"
   ]
  },
  {
   "cell_type": "markdown",
   "id": "4c52d633",
   "metadata": {},
   "source": [
    "#### Boolean selection based on multiple condition"
   ]
  },
  {
   "cell_type": "markdown",
   "id": "afad28f2",
   "metadata": {},
   "source": [
    "#### Using & operator"
   ]
  },
  {
   "cell_type": "code",
   "execution_count": 40,
   "id": "9e8debf3",
   "metadata": {
    "scrolled": true
   },
   "outputs": [
    {
     "data": {
      "text/plain": [
       "                        Sector    Price  BookValue\n",
       "Symbol                                            \n",
       "AMZN    Consumer Discretionary  1350.50      24.28\n",
       "AZO     Consumer Discretionary   718.57     136.23\n",
       "PCLN    Consumer Discretionary  1806.06       6.92"
      ]
     },
     "execution_count": 40,
     "metadata": {},
     "output_type": "execute_result"
    }
   ],
   "source": [
    "sp505[(sp505.Price > 500)&(sp505.Sector == \"Consumer Discretionary\")]"
   ]
  },
  {
   "cell_type": "markdown",
   "id": "dcba40fe",
   "metadata": {},
   "source": [
    "#### Using | operator"
   ]
  },
  {
   "cell_type": "code",
   "execution_count": 41,
   "id": "fd2a8fdf",
   "metadata": {},
   "outputs": [
    {
     "data": {
      "text/plain": [
       "        Sector  Price  BookValue\n",
       "Symbol                          \n",
       "APC     Energy  56.20       2.88\n",
       "ANDV    Energy  96.90       1.70\n",
       "APA     Energy  37.73       2.22\n",
       "BHGE    Energy  27.50       2.25\n",
       "COG     Energy  23.01       4.21\n",
       "...        ...    ...        ...\n",
       "RRC     Energy  12.82       0.59\n",
       "SLB     Energy  67.40       2.64\n",
       "FTI     Energy  29.10       1.06\n",
       "VLO     Energy  86.77       1.93\n",
       "WMB     Energy  28.56       3.01\n",
       "\n",
       "[34 rows x 3 columns]"
      ]
     },
     "execution_count": 41,
     "metadata": {},
     "output_type": "execute_result"
    }
   ],
   "source": [
    "sp505[(sp505.BookValue > 1200)|(sp505.Sector == \"Energy\")]"
   ]
  },
  {
   "cell_type": "markdown",
   "id": "ffa4d926",
   "metadata": {},
   "source": [
    "#### Specific column selection using boolean selection"
   ]
  },
  {
   "cell_type": "code",
   "execution_count": 42,
   "id": "12e539d0",
   "metadata": {},
   "outputs": [
    {
     "data": {
      "text/plain": [
       "        BookValue\n",
       "Symbol           \n",
       "F            1.26\n",
       "UAA          2.72\n",
       "UA           2.50"
      ]
     },
     "execution_count": 42,
     "metadata": {},
     "output_type": "execute_result"
    }
   ],
   "source": [
    "sp505[(sp505.Price < 15)&(sp505.Sector == \"Consumer Discretionary\")][[\"BookValue\"]]"
   ]
  },
  {
   "cell_type": "code",
   "execution_count": 43,
   "id": "d96f6134",
   "metadata": {},
   "outputs": [
    {
     "data": {
      "text/plain": [
       "pandas.core.frame.DataFrame"
      ]
     },
     "execution_count": 43,
     "metadata": {},
     "output_type": "execute_result"
    }
   ],
   "source": [
    "type(sp505[(sp505.Price < 15)&(sp505.Sector == \"Consumer Discretionary\")][[\"BookValue\"]])"
   ]
  },
  {
   "cell_type": "code",
   "execution_count": 44,
   "id": "49c5273e",
   "metadata": {},
   "outputs": [
    {
     "data": {
      "text/plain": [
       "pandas.core.series.Series"
      ]
     },
     "execution_count": 44,
     "metadata": {},
     "output_type": "execute_result"
    }
   ],
   "source": [
    "type(sp505[(sp505.Price < 15)&(sp505.Sector == \"Consumer Discretionary\")][\"BookValue\"])"
   ]
  },
  {
   "cell_type": "markdown",
   "id": "7bd9a1ba",
   "metadata": {},
   "source": [
    "#### Renaming a column"
   ]
  },
  {
   "cell_type": "markdown",
   "id": "fce71131",
   "metadata": {},
   "source": [
    "#### Columns of orignal DataFrame is not renamed"
   ]
  },
  {
   "cell_type": "code",
   "execution_count": 45,
   "id": "775bcff1",
   "metadata": {},
   "outputs": [
    {
     "data": {
      "text/plain": [
       "Index(['Sector', 'Price', 'BookValue'], dtype='object')"
      ]
     },
     "execution_count": 45,
     "metadata": {},
     "output_type": "execute_result"
    }
   ],
   "source": [
    "sp505.columns"
   ]
  },
  {
   "cell_type": "markdown",
   "id": "25d40416",
   "metadata": {},
   "source": [
    "#### InPlace renaming of columns in a DataFrame"
   ]
  },
  {
   "cell_type": "code",
   "execution_count": 46,
   "id": "15f4ebbf",
   "metadata": {},
   "outputs": [
    {
     "data": {
      "text/plain": [
       "Index(['Sector', 'Price', 'BookValue'], dtype='object')"
      ]
     },
     "execution_count": 46,
     "metadata": {},
     "output_type": "execute_result"
    }
   ],
   "source": [
    "sp505.rename(columns = {\"Price/Book\" : \"BookValue\"}, inplace = True)\n",
    "sp505.columns"
   ]
  },
  {
   "cell_type": "markdown",
   "id": "850a7eb4",
   "metadata": {},
   "source": [
    "##### Making a copy of DF( .copy() ) and add new column to it (by assignment operator)"
   ]
  },
  {
   "cell_type": "code",
   "execution_count": 47,
   "id": "33c95b19",
   "metadata": {},
   "outputs": [
    {
     "data": {
      "text/plain": [
       "                        Sector   Price  BookValue  TwicePrice\n",
       "Symbol                                                       \n",
       "MMM                Industrials  222.89      11.34      445.78\n",
       "AOS                Industrials   60.24       6.35      120.48\n",
       "ABT                Health Care   56.27       3.19      112.54\n",
       "ABBV               Health Care  108.48      26.14      216.96\n",
       "ACN     Information Technology  150.51      10.62      301.02"
      ]
     },
     "execution_count": 47,
     "metadata": {},
     "output_type": "execute_result"
    }
   ],
   "source": [
    "copy = sp505.copy()\n",
    "copy[\"TwicePrice\"] = 2*copy.Price\n",
    "copy.head()"
   ]
  },
  {
   "cell_type": "markdown",
   "id": "9df14dca",
   "metadata": {},
   "source": [
    "##### Use .insert(position,ColumnLabel,ValueExpression) to align a new column at desired location"
   ]
  },
  {
   "cell_type": "code",
   "execution_count": 48,
   "id": "c69b2771",
   "metadata": {},
   "outputs": [
    {
     "data": {
      "text/plain": [
       "             Sector  ThricePrice   Price  BookValue  TwicePrice\n",
       "Symbol                                                         \n",
       "MMM     Industrials       668.67  222.89      11.34      445.78\n",
       "AOS     Industrials       180.72   60.24       6.35      120.48"
      ]
     },
     "execution_count": 48,
     "metadata": {},
     "output_type": "execute_result"
    }
   ],
   "source": [
    "copy.insert(1,\"ThricePrice\",3*copy.Price)\n",
    "copy[:2]"
   ]
  },
  {
   "cell_type": "markdown",
   "id": "fb004784",
   "metadata": {},
   "source": [
    "#### create a new Series to merge as a column, one label in rcopy"
   ]
  },
  {
   "cell_type": "code",
   "execution_count": 49,
   "id": "7bd56882",
   "metadata": {},
   "outputs": [
    {
     "data": {
      "text/plain": [
       "         Price\n",
       "Symbol        \n",
       "MMM     222.89\n",
       "AOS      60.24\n",
       "ABT      56.27"
      ]
     },
     "execution_count": 49,
     "metadata": {},
     "output_type": "execute_result"
    }
   ],
   "source": [
    "rcopy = sp505[0:3][['Price']].copy()\n",
    "rcopy"
   ]
  },
  {
   "cell_type": "code",
   "execution_count": 50,
   "id": "0c1a5f5b",
   "metadata": {},
   "outputs": [
    {
     "data": {
      "text/plain": [
       "         Price        Comment\n",
       "Symbol                       \n",
       "MMM     222.89  In the Series\n",
       "AOS      60.24            NaN\n",
       "ABT      56.27            NaN"
      ]
     },
     "execution_count": 50,
     "metadata": {},
     "output_type": "execute_result"
    }
   ],
   "source": [
    "s = pd.Series({'MMM':\"In the Series\",\"MFC\":\"Not in the Series\"})\n",
    "rcopy[\"Comment\"] = s\n",
    "rcopy"
   ]
  },
  {
   "cell_type": "markdown",
   "id": "3b0d4053",
   "metadata": {},
   "source": [
    "##### Replacing the Price column data with the new value instead of adding new column"
   ]
  },
  {
   "cell_type": "code",
   "execution_count": 51,
   "id": "8d73b095",
   "metadata": {},
   "outputs": [
    {
     "data": {
      "text/plain": [
       "                        Sector   Price  BookValue\n",
       "Symbol                                           \n",
       "MMM                Industrials  668.67      11.34\n",
       "AOS                Industrials  180.72       6.35\n",
       "ABT                Health Care  168.81       3.19\n",
       "ABBV               Health Care  325.44      26.14\n",
       "ACN     Information Technology  451.53      10.62"
      ]
     },
     "execution_count": 51,
     "metadata": {},
     "output_type": "execute_result"
    }
   ],
   "source": [
    "copy = sp505.copy()\n",
    "copy.Price = sp505.Price *3\n",
    "copy.head()"
   ]
  },
  {
   "cell_type": "markdown",
   "id": "6398106f",
   "metadata": {},
   "source": [
    "#### it's not really simple insertion, it is alignment"
   ]
  },
  {
   "cell_type": "code",
   "execution_count": 52,
   "id": "ccd2554b",
   "metadata": {},
   "outputs": [
    {
     "data": {
      "text/plain": [
       "Symbol\n",
       "ABBV    108.48\n",
       "AOS      60.24\n",
       "MMM     222.89\n",
       "Name: Price, dtype: float64"
      ]
     },
     "execution_count": 52,
     "metadata": {},
     "output_type": "execute_result"
    }
   ],
   "source": [
    "copy = sp505.copy()\n",
    "prices = sp505.iloc[[3,1,0]].Price.copy()\n",
    "prices"
   ]
  },
  {
   "cell_type": "markdown",
   "id": "20ce3819",
   "metadata": {},
   "source": [
    "#### values are put in the correct place according to labels"
   ]
  },
  {
   "cell_type": "code",
   "execution_count": 53,
   "id": "1a9b5226",
   "metadata": {},
   "outputs": [
    {
     "data": {
      "text/plain": [
       "                        Sector   Price  BookValue\n",
       "Symbol                                           \n",
       "MMM                Industrials  222.89      11.34\n",
       "AOS                Industrials   60.24       6.35\n",
       "ABT                Health Care     NaN       3.19\n",
       "ABBV               Health Care  108.48      26.14\n",
       "ACN     Information Technology     NaN      10.62\n",
       "ATVI    Information Technology     NaN       5.16\n",
       "AYI                Industrials     NaN       3.55\n",
       "ADBE    Information Technology     NaN      11.06\n",
       "AAP     Consumer Discretionary     NaN       2.51\n",
       "AMD     Information Technology     NaN      21.47"
      ]
     },
     "execution_count": 53,
     "metadata": {},
     "output_type": "execute_result"
    }
   ],
   "source": [
    "copy.Price = prices\n",
    "copy[:10]"
   ]
  },
  {
   "cell_type": "markdown",
   "id": "add4af6f",
   "metadata": {},
   "source": [
    "### Delete the columns in DataFrame"
   ]
  },
  {
   "cell_type": "markdown",
   "id": "4d51900a",
   "metadata": {},
   "source": [
    "##### Make a copy of data to explore"
   ]
  },
  {
   "cell_type": "code",
   "execution_count": 54,
   "id": "1b8eff39",
   "metadata": {},
   "outputs": [
    {
     "data": {
      "text/plain": [
       "             Sector   Price  BookValue\n",
       "Symbol                                \n",
       "MMM     Industrials  222.89      11.34\n",
       "AOS     Industrials   60.24       6.35\n",
       "ABT     Health Care   56.27       3.19\n",
       "ABBV    Health Care  108.48      26.14"
      ]
     },
     "execution_count": 54,
     "metadata": {},
     "output_type": "execute_result"
    }
   ],
   "source": [
    "copy = sp505[:4].copy()\n",
    "copy"
   ]
  },
  {
   "cell_type": "markdown",
   "id": "f3628adb",
   "metadata": {},
   "source": [
    "##### delete the BookValue column\n",
    "#####  deletion is in-place"
   ]
  },
  {
   "cell_type": "code",
   "execution_count": 55,
   "id": "64f7e75a",
   "metadata": {},
   "outputs": [
    {
     "data": {
      "text/plain": [
       "             Sector   Price\n",
       "Symbol                     \n",
       "MMM     Industrials  222.89\n",
       "AOS     Industrials   60.24\n",
       "ABT     Health Care   56.27\n",
       "ABBV    Health Care  108.48"
      ]
     },
     "execution_count": 55,
     "metadata": {},
     "output_type": "execute_result"
    }
   ],
   "source": [
    "del(copy['BookValue'])\n",
    "copy"
   ]
  },
  {
   "cell_type": "code",
   "execution_count": 56,
   "id": "9fc1a0fd",
   "metadata": {},
   "outputs": [
    {
     "data": {
      "text/plain": [
       "         Price\n",
       "Symbol        \n",
       "MMM     222.89\n",
       "AOS      60.24\n",
       "ABT      56.27\n",
       "ABBV    108.48"
      ]
     },
     "execution_count": 56,
     "metadata": {},
     "output_type": "execute_result"
    }
   ],
   "source": [
    "poped = copy.pop('Sector')\n",
    "# Sector column is removed from orignal DataFrame\n",
    "copy"
   ]
  },
  {
   "cell_type": "markdown",
   "id": "dbfe8d16",
   "metadata": {},
   "source": [
    "###### We still have sector column as a result of pop"
   ]
  },
  {
   "cell_type": "code",
   "execution_count": 57,
   "id": "1079d336",
   "metadata": {},
   "outputs": [
    {
     "data": {
      "text/plain": [
       "Symbol\n",
       "MMM     Industrials\n",
       "AOS     Industrials\n",
       "ABT     Health Care\n",
       "ABBV    Health Care\n",
       "Name: Sector, dtype: object"
      ]
     },
     "execution_count": 57,
     "metadata": {},
     "output_type": "execute_result"
    }
   ],
   "source": [
    "poped"
   ]
  },
  {
   "cell_type": "markdown",
   "id": "fe3c6d77",
   "metadata": {},
   "source": [
    "#### The columns can be removed by specifying axis = 1 "
   ]
  },
  {
   "cell_type": "code",
   "execution_count": 58,
   "id": "0267d6a3",
   "metadata": {},
   "outputs": [
    {
     "data": {
      "text/plain": [
       "         Price  BookValue\n",
       "Symbol                   \n",
       "MMM     222.89      11.34\n",
       "AOS      60.24       6.35\n",
       "ABT      56.27       3.19\n",
       "ABBV    108.48      26.14"
      ]
     },
     "execution_count": 58,
     "metadata": {},
     "output_type": "execute_result"
    }
   ],
   "source": [
    "copy = sp505[:4].copy()\n",
    "col_drop = copy.drop('Sector',axis = 1)\n",
    "col_drop"
   ]
  },
  {
   "cell_type": "code",
   "execution_count": 59,
   "id": "2a402d53",
   "metadata": {},
   "outputs": [
    {
     "data": {
      "text/plain": [
       "             Sector   Price  BookValue\n",
       "Symbol                                \n",
       "MMM     Industrials  222.89      11.34\n",
       "AOS     Industrials   60.24       6.35\n",
       "ABT     Health Care   56.27       3.19\n",
       "ABBV    Health Care  108.48      26.14"
      ]
     },
     "execution_count": 59,
     "metadata": {},
     "output_type": "execute_result"
    }
   ],
   "source": [
    "# The orignal dataframe remains unchanged\n",
    "copy"
   ]
  },
  {
   "cell_type": "markdown",
   "id": "7de31a33",
   "metadata": {},
   "source": [
    "### The row can be droped by specifying axis = 0"
   ]
  },
  {
   "cell_type": "code",
   "execution_count": 60,
   "id": "918dc6eb",
   "metadata": {},
   "outputs": [
    {
     "name": "stdout",
     "output_type": "stream",
     "text": [
      "             Sector   Price  BookValue\n",
      "Symbol                                \n",
      "AOS     Industrials   60.24       6.35\n",
      "ABT     Health Care   56.27       3.19\n",
      "ABBV    Health Care  108.48      26.14\n"
     ]
    }
   ],
   "source": [
    "row_drop = copy.drop('MMM',axis = 0)\n",
    "print(row_drop)"
   ]
  },
  {
   "cell_type": "markdown",
   "id": "9d967ae6",
   "metadata": {},
   "source": [
    "### Appending rows with .append()"
   ]
  },
  {
   "cell_type": "code",
   "execution_count": 61,
   "id": "89139196",
   "metadata": {},
   "outputs": [
    {
     "name": "stderr",
     "output_type": "stream",
     "text": [
      "C:\\Users\\radha\\AppData\\Local\\Temp\\ipykernel_20788\\199836383.py:3: FutureWarning: The frame.append method is deprecated and will be removed from pandas in a future version. Use pandas.concat instead.\n",
      "  appended = copy1.append(copy2)\n"
     ]
    },
    {
     "data": {
      "text/plain": [
       "             Sector   Price  BookValue\n",
       "Symbol                                \n",
       "MMM     Industrials  222.89      11.34\n",
       "AOS     Industrials   60.24       6.35\n",
       "ABT     Health Care   56.27       3.19\n",
       "AES       Utilities   10.06       2.20\n",
       "AMG      Financials  179.11       2.89\n",
       "ABT     Health Care   56.27       3.19"
      ]
     },
     "execution_count": 61,
     "metadata": {},
     "output_type": "execute_result"
    }
   ],
   "source": [
    "copy1 = sp505.iloc[:3].copy()\n",
    "copy2 = sp505.iloc[[10,12,2]].copy()\n",
    "appended = copy1.append(copy2)\n",
    "appended"
   ]
  },
  {
   "cell_type": "markdown",
   "id": "bcfc193f",
   "metadata": {},
   "source": [
    "#### default pd.concat() -- same as append"
   ]
  },
  {
   "cell_type": "code",
   "execution_count": 62,
   "id": "a2a4297b",
   "metadata": {},
   "outputs": [
    {
     "data": {
      "text/plain": [
       "             Sector   Price  BookValue\n",
       "Symbol                                \n",
       "MMM     Industrials  222.89      11.34\n",
       "AOS     Industrials   60.24       6.35\n",
       "ABT     Health Care   56.27       3.19\n",
       "AES       Utilities   10.06       2.20\n",
       "AMG      Financials  179.11       2.89\n",
       "ABT     Health Care   56.27       3.19"
      ]
     },
     "execution_count": 62,
     "metadata": {},
     "output_type": "execute_result"
    }
   ],
   "source": [
    "pd.concat([copy1,copy2])"
   ]
  },
  {
   "cell_type": "code",
   "execution_count": 63,
   "id": "6f60e304",
   "metadata": {},
   "outputs": [
    {
     "data": {
      "text/plain": [
       "             Sector  Foo   Price  BookValue\n",
       "Symbol                                     \n",
       "AES       Utilities    0   10.06       2.20\n",
       "AMG      Financials    0  179.11       2.89\n",
       "ABT     Health Care    0   56.27       3.19"
      ]
     },
     "execution_count": 63,
     "metadata": {},
     "output_type": "execute_result"
    }
   ],
   "source": [
    "copy2.insert(1,\"Foo\",pd.Series(0,index = copy2.index))\n",
    "copy2"
   ]
  },
  {
   "cell_type": "markdown",
   "id": "1e4433c9",
   "metadata": {},
   "source": [
    "##### Now concat(copy1,copy2) results \"NaN\" under column head 'Foo' for elements of copy1 "
   ]
  },
  {
   "cell_type": "code",
   "execution_count": 64,
   "id": "2f68fa5c",
   "metadata": {},
   "outputs": [
    {
     "data": {
      "text/plain": [
       "             Sector   Price  BookValue  Foo\n",
       "Symbol                                     \n",
       "MMM     Industrials  222.89      11.34  NaN\n",
       "AOS     Industrials   60.24       6.35  NaN\n",
       "ABT     Health Care   56.27       3.19  NaN\n",
       "AES       Utilities   10.06       2.20  0.0\n",
       "AMG      Financials  179.11       2.89  0.0\n",
       "ABT     Health Care   56.27       3.19  0.0"
      ]
     },
     "execution_count": 64,
     "metadata": {},
     "output_type": "execute_result"
    }
   ],
   "source": [
    "pd.concat([copy1,copy2])"
   ]
  },
  {
   "cell_type": "markdown",
   "id": "6d60da9c",
   "metadata": {},
   "source": [
    "#### keys parmeter --- used to name which Series or DataFrame the value belongs to \n",
    "##### names parameter -- used for labeling"
   ]
  },
  {
   "cell_type": "code",
   "execution_count": 71,
   "id": "279b6dff",
   "metadata": {},
   "outputs": [
    {
     "data": {
      "text/plain": [
       "                       Sector   Price  BookValue  Foo\n",
       "DataFrame Row Id                                     \n",
       "df1       MMM     Industrials  222.89      11.34  NaN\n",
       "          AOS     Industrials   60.24       6.35  NaN\n",
       "          ABT     Health Care   56.27       3.19  NaN\n",
       "df2       AES       Utilities   10.06       2.20  0.0\n",
       "          AMG      Financials  179.11       2.89  0.0\n",
       "          ABT     Health Care   56.27       3.19  0.0"
      ]
     },
     "execution_count": 71,
     "metadata": {},
     "output_type": "execute_result"
    }
   ],
   "source": [
    "r = pd.concat([copy1,copy2],keys = ['df1','df2'],names = [\"DataFrame\",\"Row Id\"]) \n",
    "r"
   ]
  },
  {
   "cell_type": "markdown",
   "id": "d8eb39a9",
   "metadata": {},
   "source": [
    "#### pd.concat() also works along the column"
   ]
  },
  {
   "cell_type": "code",
   "execution_count": 66,
   "id": "23dc2401",
   "metadata": {},
   "outputs": [
    {
     "data": {
      "text/plain": [
       "             Sector   Price  BookValue\n",
       "Symbol                                \n",
       "MMM     Industrials  222.89      11.34\n",
       "AOS     Industrials   60.24       6.35\n",
       "ABT     Health Care   56.27       3.19"
      ]
     },
     "execution_count": 66,
     "metadata": {},
     "output_type": "execute_result"
    }
   ],
   "source": [
    "df3 = sp505[:3][['Sector','Price']]\n",
    "df4 = sp505[:3][['BookValue']]\n",
    "pd.concat([df3,df4], axis = 1)"
   ]
  },
  {
   "cell_type": "code",
   "execution_count": 67,
   "id": "17cc4d5d",
   "metadata": {},
   "outputs": [],
   "source": [
    "df4_copy = df4.insert(1,\"Sector\",pd.Series(1,index = df4.index))"
   ]
  },
  {
   "cell_type": "markdown",
   "id": "fc395e17",
   "metadata": {},
   "source": [
    "### Concat result can have duplicate column names"
   ]
  },
  {
   "cell_type": "code",
   "execution_count": 68,
   "id": "caa4a5af",
   "metadata": {},
   "outputs": [
    {
     "data": {
      "text/plain": [
       "             Sector   Price  BookValue  Sector\n",
       "Symbol                                        \n",
       "MMM     Industrials  222.89      11.34       1\n",
       "AOS     Industrials   60.24       6.35       1\n",
       "ABT     Health Care   56.27       3.19       1"
      ]
     },
     "execution_count": 68,
     "metadata": {},
     "output_type": "execute_result"
    }
   ],
   "source": [
    "pd.concat([df3,df4],axis = 1)"
   ]
  },
  {
   "cell_type": "markdown",
   "id": "c04a7001",
   "metadata": {},
   "source": [
    "### Changing the join type"
   ]
  },
  {
   "cell_type": "markdown",
   "id": "ab0e16e8",
   "metadata": {},
   "source": [
    "### Only returns the 'Price' when join is along axis = 0"
   ]
  },
  {
   "cell_type": "code",
   "execution_count": 69,
   "id": "5349b9be",
   "metadata": {},
   "outputs": [
    {
     "data": {
      "text/plain": [
       "         Price\n",
       "Symbol        \n",
       "MMM     222.89\n",
       "AOS      60.24\n",
       "ABT      56.27\n",
       "ABT      56.27\n",
       "ABBV    108.48\n",
       "ACN     150.51"
      ]
     },
     "execution_count": 69,
     "metadata": {},
     "output_type": "execute_result"
    }
   ],
   "source": [
    "df5 = sp505[:3][['Sector','Price']]\n",
    "df6 = sp505[2:5][['BookValue','Price']]\n",
    "pd.concat([df5,df6],join = 'inner')"
   ]
  },
  {
   "cell_type": "markdown",
   "id": "4886ce00",
   "metadata": {},
   "source": [
    "#### Only returns the common Symbol label when join is along axis = 1"
   ]
  },
  {
   "cell_type": "code",
   "execution_count": 76,
   "id": "229363aa",
   "metadata": {},
   "outputs": [
    {
     "data": {
      "text/plain": [
       "             Sector  Price  BookValue  Price\n",
       "Symbol                                      \n",
       "ABT     Health Care  56.27       3.19  56.27"
      ]
     },
     "execution_count": 76,
     "metadata": {},
     "output_type": "execute_result"
    }
   ],
   "source": [
    "pd.concat([df5,df6],join = 'inner',axis = 1)"
   ]
  },
  {
   "cell_type": "markdown",
   "id": "4dcab1ca",
   "metadata": {},
   "source": [
    "### Adding rows (and columns) via setting with enlargement"
   ]
  },
  {
   "cell_type": "markdown",
   "id": "a5a73a02",
   "metadata": {},
   "source": [
    "####  .loc() property can be used to add both rows or columns "
   ]
  },
  {
   "cell_type": "markdown",
   "id": "f07e4c8e",
   "metadata": {},
   "source": [
    "##### 1.adding a new row"
   ]
  },
  {
   "cell_type": "code",
   "execution_count": 77,
   "id": "b54caa31",
   "metadata": {},
   "outputs": [
    {
     "data": {
      "text/plain": [
       "             Sector      Price      BookValue\n",
       "Symbol                                       \n",
       "MMM     Industrials     222.89          11.34\n",
       "AOS     Industrials      60.24           6.35\n",
       "ABT     Health Care      56.27           3.19\n",
       "Foo      The Sector  The Price  The BookValue"
      ]
     },
     "execution_count": 77,
     "metadata": {},
     "output_type": "execute_result"
    }
   ],
   "source": [
    "ss = sp505[:3][['Sector','Price','BookValue']].copy()\n",
    "ss.loc['Foo'] = ['The Sector','The Price', 'The BookValue']\n",
    "ss"
   ]
  },
  {
   "cell_type": "markdown",
   "id": "eba86034",
   "metadata": {},
   "source": [
    "#### 2.adding a new column"
   ]
  },
  {
   "cell_type": "code",
   "execution_count": 78,
   "id": "fcbbd8d0",
   "metadata": {},
   "outputs": [
    {
     "data": {
      "text/plain": [
       "             Sector      Price      BookValue  per\n",
       "Symbol                                            \n",
       "MMM     Industrials     222.89          11.34    0\n",
       "AOS     Industrials      60.24           6.35    0\n",
       "ABT     Health Care      56.27           3.19    0\n",
       "Foo      The Sector  The Price  The BookValue    0"
      ]
     },
     "execution_count": 78,
     "metadata": {},
     "output_type": "execute_result"
    }
   ],
   "source": [
    "ss.loc[:,\"per\"] = 0\n",
    "ss"
   ]
  },
  {
   "cell_type": "markdown",
   "id": "1ac9ca2a",
   "metadata": {},
   "source": [
    "## NOTE\n",
    "#### Both of the above addition have taken in place"
   ]
  },
  {
   "cell_type": "markdown",
   "id": "a916c2d7",
   "metadata": {},
   "source": [
    "## Removal of rows from a DataFrame can be done in 3 ways :-\n",
    "### 1. using .drop()\n",
    "### 2. Boolean Selection\n",
    "### 3. Selection using a slice"
   ]
  },
  {
   "cell_type": "markdown",
   "id": "c6570192",
   "metadata": {},
   "source": [
    "### 1. using .drop()"
   ]
  },
  {
   "cell_type": "code",
   "execution_count": 79,
   "id": "b1ebf3d1",
   "metadata": {
    "scrolled": true
   },
   "outputs": [
    {
     "data": {
      "text/plain": [
       "                        Sector   Price  BookValue\n",
       "Symbol                                           \n",
       "MMM                Industrials  222.89      11.34\n",
       "AOS                Industrials   60.24       6.35\n",
       "ABT                Health Care   56.27       3.19\n",
       "ABBV               Health Care  108.48      26.14\n",
       "ACN     Information Technology  150.51      10.62"
      ]
     },
     "execution_count": 79,
     "metadata": {},
     "output_type": "execute_result"
    }
   ],
   "source": [
    "ss = sp505[:5].copy()\n",
    "ss"
   ]
  },
  {
   "cell_type": "code",
   "execution_count": 80,
   "id": "95b18de4",
   "metadata": {},
   "outputs": [
    {
     "data": {
      "text/plain": [
       "             Sector   Price  BookValue\n",
       "Symbol                                \n",
       "MMM     Industrials  222.89      11.34\n",
       "ABT     Health Care   56.27       3.19\n",
       "ABBV    Health Care  108.48      26.14"
      ]
     },
     "execution_count": 80,
     "metadata": {},
     "output_type": "execute_result"
    }
   ],
   "source": [
    "after_drop = ss.drop(['AOS','ACN'])\n",
    "after_drop"
   ]
  },
  {
   "cell_type": "markdown",
   "id": "52969cbb",
   "metadata": {},
   "source": [
    "### The orignal DataFrame remains unmodified "
   ]
  },
  {
   "cell_type": "code",
   "execution_count": 81,
   "id": "b64bc6b5",
   "metadata": {},
   "outputs": [
    {
     "data": {
      "text/plain": [
       "                        Sector   Price  BookValue\n",
       "Symbol                                           \n",
       "MMM                Industrials  222.89      11.34\n",
       "AOS                Industrials   60.24       6.35\n",
       "ABT                Health Care   56.27       3.19\n",
       "ABBV               Health Care  108.48      26.14\n",
       "ACN     Information Technology  150.51      10.62"
      ]
     },
     "execution_count": 81,
     "metadata": {},
     "output_type": "execute_result"
    }
   ],
   "source": [
    "ss"
   ]
  },
  {
   "cell_type": "markdown",
   "id": "ac9e6e8f",
   "metadata": {},
   "source": [
    "### 2. Removing rows using Boolean selection"
   ]
  },
  {
   "cell_type": "markdown",
   "id": "e68be360",
   "metadata": {},
   "source": [
    "##### A total of 16 rows have price > 300"
   ]
  },
  {
   "cell_type": "code",
   "execution_count": 84,
   "id": "4d66c945",
   "metadata": {},
   "outputs": [
    {
     "data": {
      "text/plain": [
       "'505,16'"
      ]
     },
     "execution_count": 84,
     "metadata": {},
     "output_type": "execute_result"
    }
   ],
   "source": [
    "selection = sp505.Price > 300\n",
    "\"{0},{1}\".format(len(selection),sum(selection))"
   ]
  },
  {
   "cell_type": "markdown",
   "id": "e08feeac",
   "metadata": {},
   "source": [
    "#### The rows having Price less than 300 can be selected no using '~' negation"
   ]
  },
  {
   "cell_type": "code",
   "execution_count": 85,
   "id": "d5976180",
   "metadata": {},
   "outputs": [
    {
     "data": {
      "text/plain": [
       "                        Sector   Price  BookValue\n",
       "Symbol                                           \n",
       "MMM                Industrials  222.89      11.34\n",
       "AOS                Industrials   60.24       6.35\n",
       "ABT                Health Care   56.27       3.19\n",
       "ABBV               Health Care  108.48      26.14\n",
       "ACN     Information Technology  150.51      10.62\n",
       "...                        ...     ...        ...\n",
       "XYL                Industrials   70.24       5.31\n",
       "YUM     Consumer Discretionary   76.30     212.08\n",
       "ZBH                Health Care  115.53       2.39\n",
       "ZION                Financials   50.71       1.42\n",
       "ZTS                Health Care   71.51      18.09\n",
       "\n",
       "[489 rows x 3 columns]"
      ]
     },
     "execution_count": 85,
     "metadata": {},
     "output_type": "execute_result"
    }
   ],
   "source": [
    "StockLessThan300 = sp505[~selection]\n",
    "StockLessThan300"
   ]
  },
  {
   "cell_type": "markdown",
   "id": "4204f795",
   "metadata": {},
   "source": [
    "## Removing rows using a slice"
   ]
  },
  {
   "cell_type": "code",
   "execution_count": 86,
   "id": "5977a9d6",
   "metadata": {},
   "outputs": [
    {
     "data": {
      "text/plain": [
       "             Sector   Price  BookValue\n",
       "Symbol                                \n",
       "MMM     Industrials  222.89      11.34\n",
       "AOS     Industrials   60.24       6.35\n",
       "ABT     Health Care   56.27       3.19"
      ]
     },
     "execution_count": 86,
     "metadata": {},
     "output_type": "execute_result"
    }
   ],
   "source": [
    "onlYfirsTthreE = sp505[:3]\n",
    "onlYfirsTthreE"
   ]
  },
  {
   "cell_type": "markdown",
   "id": "1ddc4764",
   "metadata": {},
   "source": [
    "### Since it is a 'View' in the sp505 dataframe any changes that is made to the view will modify the orignal dataframe so the proper way will be to make a copy of it "
   ]
  },
  {
   "cell_type": "code",
   "execution_count": 88,
   "id": "63b45fbe",
   "metadata": {},
   "outputs": [
    {
     "data": {
      "text/plain": [
       "             Sector   Price  BookValue\n",
       "Symbol                                \n",
       "MMM     Industrials  222.89      11.34\n",
       "AOS     Industrials   60.24       6.35\n",
       "ABT     Health Care   56.27       3.19"
      ]
     },
     "execution_count": 88,
     "metadata": {},
     "output_type": "execute_result"
    }
   ],
   "source": [
    "onlYfirsTthreE = sp505[:3].copy()\n",
    "onlYfirsTthreE"
   ]
  }
 ],
 "metadata": {
  "kernelspec": {
   "display_name": "Python 3 (ipykernel)",
   "language": "python",
   "name": "python3"
  },
  "language_info": {
   "codemirror_mode": {
    "name": "ipython",
    "version": 3
   },
   "file_extension": ".py",
   "mimetype": "text/x-python",
   "name": "python",
   "nbconvert_exporter": "python",
   "pygments_lexer": "ipython3",
   "version": "3.11.3"
  }
 },
 "nbformat": 4,
 "nbformat_minor": 5
}
