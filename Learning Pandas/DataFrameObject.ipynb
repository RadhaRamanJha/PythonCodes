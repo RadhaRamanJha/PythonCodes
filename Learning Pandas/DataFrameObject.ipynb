{
 "cells": [
  {
   "cell_type": "markdown",
   "id": "6c234943",
   "metadata": {},
   "source": [
    "## Creating DataFrame from scratch"
   ]
  },
  {
   "cell_type": "markdown",
   "id": "dfd7673e",
   "metadata": {},
   "source": [
    "#### Import Pandas and set some display options for output"
   ]
  },
  {
   "cell_type": "code",
   "execution_count": 1,
   "id": "2330ee9f",
   "metadata": {},
   "outputs": [],
   "source": [
    "# Reference Pandas and Numpy\n",
    "import numpy as np\n",
    "import pandas as pd\n",
    "# Set the output options\n",
    "pd.set_option('display.notebook_repr_html', False)\n",
    "pd.set_option('display.max_columns', 10)\n",
    "pd.set_option('display.max_rows',10)"
   ]
  },
  {
   "cell_type": "markdown",
   "id": "d4d0b8f9",
   "metadata": {},
   "source": [
    "### Creating a DataFrame from scratch"
   ]
  },
  {
   "cell_type": "markdown",
   "id": "00aecf75",
   "metadata": {},
   "source": [
    "#### Create DataFrame from 2-D ndarray"
   ]
  },
  {
   "cell_type": "code",
   "execution_count": 2,
   "id": "91cda3ed",
   "metadata": {},
   "outputs": [
    {
     "data": {
      "text/plain": [
       "    0   1\n",
       "0  10  20\n",
       "1  21  22"
      ]
     },
     "execution_count": 2,
     "metadata": {},
     "output_type": "execute_result"
    }
   ],
   "source": [
    "pd.DataFrame(np.array([[10,20],[21,22]]))"
   ]
  },
  {
   "cell_type": "markdown",
   "id": "ff47efa8",
   "metadata": {},
   "source": [
    "#### Create DataFrame object by passing a list of Series object"
   ]
  },
  {
   "cell_type": "code",
   "execution_count": 3,
   "id": "b9c62f87",
   "metadata": {},
   "outputs": [
    {
     "data": {
      "text/plain": [
       "    0   1   2   3   4   5   6   7   8   9\n",
       "0  10  11  12  13  14  15  16  17  18  19\n",
       "1  30  31  32  33  34  35  36  37  38  39"
      ]
     },
     "execution_count": 3,
     "metadata": {},
     "output_type": "execute_result"
    }
   ],
   "source": [
    "df1 = pd.DataFrame([pd.Series(np.arange(10,20)),pd.Series(np.arange(30,40))])\n",
    "df1"
   ]
  },
  {
   "cell_type": "markdown",
   "id": "12a3eae6",
   "metadata": {},
   "source": [
    "#### Dimensions of DataFrame objects"
   ]
  },
  {
   "cell_type": "code",
   "execution_count": 4,
   "id": "2d4e9f29",
   "metadata": {},
   "outputs": [
    {
     "data": {
      "text/plain": [
       "(2, 10)"
      ]
     },
     "execution_count": 4,
     "metadata": {},
     "output_type": "execute_result"
    }
   ],
   "source": [
    "df1.shape"
   ]
  },
  {
   "cell_type": "markdown",
   "id": "45922dde",
   "metadata": {},
   "source": [
    "### Specifying the column name"
   ]
  },
  {
   "cell_type": "code",
   "execution_count": 5,
   "id": "ef29ac3f",
   "metadata": {},
   "outputs": [
    {
     "data": {
      "text/plain": [
       "    a   b\n",
       "0  10  20\n",
       "1  30  40"
      ]
     },
     "execution_count": 5,
     "metadata": {},
     "output_type": "execute_result"
    }
   ],
   "source": [
    "df2 = pd.DataFrame(np.array([[10,20],[30,40]]), columns = [\"a\",\"b\"])\n",
    "df2"
   ]
  },
  {
   "cell_type": "markdown",
   "id": "6fd330e9",
   "metadata": {},
   "source": [
    "#### Access the names of columns for the DataFrame"
   ]
  },
  {
   "cell_type": "code",
   "execution_count": 6,
   "id": "41bfcc90",
   "metadata": {},
   "outputs": [
    {
     "data": {
      "text/plain": [
       "Index(['a', 'b'], dtype='object')"
      ]
     },
     "execution_count": 6,
     "metadata": {},
     "output_type": "execute_result"
    }
   ],
   "source": [
    "df2.columns"
   ]
  },
  {
   "cell_type": "markdown",
   "id": "36f28fb4",
   "metadata": {},
   "source": [
    "#### Accessing the default column names"
   ]
  },
  {
   "cell_type": "code",
   "execution_count": 7,
   "id": "09346104",
   "metadata": {},
   "outputs": [
    {
     "data": {
      "text/plain": [
       "RangeIndex(start=0, stop=10, step=1)"
      ]
     },
     "execution_count": 7,
     "metadata": {},
     "output_type": "execute_result"
    }
   ],
   "source": [
    "df1.columns"
   ]
  },
  {
   "cell_type": "markdown",
   "id": "58cbd488",
   "metadata": {},
   "source": [
    "### Retrive just the names of DataFrame columns by position"
   ]
  },
  {
   "cell_type": "code",
   "execution_count": 8,
   "id": "4729db68",
   "metadata": {},
   "outputs": [
    {
     "data": {
      "text/plain": [
       "'a, b'"
      ]
     },
     "execution_count": 8,
     "metadata": {},
     "output_type": "execute_result"
    }
   ],
   "source": [
    "\"{0}, {1}\".format(df2.columns[0],df2.columns[1])"
   ]
  },
  {
   "cell_type": "markdown",
   "id": "5c03092b",
   "metadata": {},
   "source": [
    "#### The Names of column can be changed by using .columns property"
   ]
  },
  {
   "cell_type": "code",
   "execution_count": 9,
   "id": "407b27b3",
   "metadata": {},
   "outputs": [
    {
     "data": {
      "text/plain": [
       "'c,d'"
      ]
     },
     "execution_count": 9,
     "metadata": {},
     "output_type": "execute_result"
    }
   ],
   "source": [
    "df2.columns = ['c','d']\n",
    "\"{0},{1}\".format(df2.columns[0],df2.columns[1])"
   ]
  },
  {
   "cell_type": "markdown",
   "id": "20090254",
   "metadata": {},
   "source": [
    "#### Assignment of index labels of the DataFrame"
   ]
  },
  {
   "cell_type": "code",
   "execution_count": 10,
   "id": "bcbd4290",
   "metadata": {},
   "outputs": [
    {
     "data": {
      "text/plain": [
       "   a  b  c\n",
       "d  1  2  3\n",
       "e  4  5  6"
      ]
     },
     "execution_count": 10,
     "metadata": {},
     "output_type": "execute_result"
    }
   ],
   "source": [
    "df3 = pd.DataFrame(np.array([[1,2,3],[4,5,6]]),columns = [\"a\",\"b\",\"c\"], index = [\"d\", \"e\"])\n",
    "df3"
   ]
  },
  {
   "cell_type": "markdown",
   "id": "8d24e358",
   "metadata": {},
   "source": [
    "#### Access the index of the DataFrame object"
   ]
  },
  {
   "cell_type": "code",
   "execution_count": 11,
   "id": "91333703",
   "metadata": {},
   "outputs": [
    {
     "data": {
      "text/plain": [
       "Index(['d', 'e'], dtype='object')"
      ]
     },
     "execution_count": 11,
     "metadata": {},
     "output_type": "execute_result"
    }
   ],
   "source": [
    "df3.index"
   ]
  },
  {
   "cell_type": "code",
   "execution_count": 12,
   "id": "4d25eb37",
   "metadata": {},
   "outputs": [
    {
     "name": "stdout",
     "output_type": "stream",
     "text": [
      "The name of index of Data Frame are:- \n",
      "         d,e\n",
      " The name of columns of the Data Frame are:-\n",
      "         a,b,c\n"
     ]
    }
   ],
   "source": [
    "print(\"\"\"The name of index of Data Frame are:- \n",
    "         {0},{1}\\n\"\"\".format(df3.index[0],df3.index[1]),\n",
    "     \"\"\"The name of columns of the Data Frame are:-\n",
    "         {0},{1},{2}\"\"\".format(df3.columns[0],df3.columns[1],df3.columns[2]))"
   ]
  },
  {
   "cell_type": "markdown",
   "id": "dea95632",
   "metadata": {},
   "source": [
    "#### Creation of DataFrame by a dictionary and Series object"
   ]
  },
  {
   "cell_type": "code",
   "execution_count": 13,
   "id": "fb0a9cba",
   "metadata": {},
   "outputs": [
    {
     "data": {
      "text/plain": [
       "   c1  c2\n",
       "0   1   7\n",
       "1   2   8\n",
       "2   3   9\n",
       "3   4  10\n",
       "4   5  11"
      ]
     },
     "execution_count": 13,
     "metadata": {},
     "output_type": "execute_result"
    }
   ],
   "source": [
    "s1 = pd.Series(np.arange(1,6))\n",
    "s2 = pd.Series(np.arange(7,12))\n",
    "df4 = pd.DataFrame({'c1':s1,'c2':s2})\n",
    "df4"
   ]
  },
  {
   "cell_type": "markdown",
   "id": "c1f753b1",
   "metadata": {},
   "source": [
    "#### Demonstration of automatic alingnment in DataFrame"
   ]
  },
  {
   "cell_type": "code",
   "execution_count": 14,
   "id": "b72c2dfc",
   "metadata": {},
   "outputs": [
    {
     "data": {
      "text/plain": [
       "   c1  c2    c3\n",
       "0   1   7   NaN\n",
       "1   2   8  13.0\n",
       "2   3   9   NaN\n",
       "3   4  10  14.0\n",
       "4   5  11   NaN"
      ]
     },
     "execution_count": 14,
     "metadata": {},
     "output_type": "execute_result"
    }
   ],
   "source": [
    "s3 = pd.Series(np.arange(13,15), index = [1,3])\n",
    "df5 = pd.DataFrame({'c1':s1,'c2':s2,'c3':s3})\n",
    "df5"
   ]
  },
  {
   "cell_type": "markdown",
   "id": "b1978766",
   "metadata": {},
   "source": [
    "### Read Data from file"
   ]
  },
  {
   "cell_type": "markdown",
   "id": "e48f6515",
   "metadata": {},
   "source": [
    "#### To view the entire content of file on windows"
   ]
  },
  {
   "cell_type": "code",
   "execution_count": 15,
   "id": "23958526",
   "metadata": {},
   "outputs": [],
   "source": [
    "# !type data\\constituents-financials_csv.csv\n",
    "# commented because creates a long output"
   ]
  },
  {
   "cell_type": "markdown",
   "id": "123263e5",
   "metadata": {},
   "source": [
    "### Read the csv file and Examine the first 5 records using '.head()' method"
   ]
  },
  {
   "cell_type": "code",
   "execution_count": 16,
   "id": "0e1b1721",
   "metadata": {
    "scrolled": true
   },
   "outputs": [
    {
     "data": {
      "text/plain": [
       "                        Sector   Price  Price/Book\n",
       "Symbol                                            \n",
       "MMM                Industrials  222.89       11.34\n",
       "AOS                Industrials   60.24        6.35\n",
       "ABT                Health Care   56.27        3.19\n",
       "ABBV               Health Care  108.48       26.14\n",
       "ACN     Information Technology  150.51       10.62"
      ]
     },
     "execution_count": 16,
     "metadata": {},
     "output_type": "execute_result"
    }
   ],
   "source": [
    "sp505 = pd.read_csv(\"data\\constituents-financials_csv.csv\", index_col = \"Symbol\",usecols = [0,2,3,12])\n",
    "sp505.head()"
   ]
  },
  {
   "cell_type": "markdown",
   "id": "a8ff4a99",
   "metadata": {},
   "source": [
    "### Examine the last 5 records using '.tail()' method"
   ]
  },
  {
   "cell_type": "code",
   "execution_count": 17,
   "id": "0271d651",
   "metadata": {
    "scrolled": true
   },
   "outputs": [
    {
     "data": {
      "text/plain": [
       "                        Sector   Price  Price/Book\n",
       "Symbol                                            \n",
       "XYL                Industrials   70.24        5.31\n",
       "YUM     Consumer Discretionary   76.30      212.08\n",
       "ZBH                Health Care  115.53        2.39\n",
       "ZION                Financials   50.71        1.42\n",
       "ZTS                Health Care   71.51       18.09"
      ]
     },
     "execution_count": 17,
     "metadata": {},
     "output_type": "execute_result"
    }
   ],
   "source": [
    "sp505.tail()"
   ]
  },
  {
   "cell_type": "markdown",
   "id": "9ea057a7",
   "metadata": {},
   "source": [
    "### Verify The nunmber of records/rows in the data frame"
   ]
  },
  {
   "cell_type": "code",
   "execution_count": 18,
   "id": "2bd28fd8",
   "metadata": {},
   "outputs": [
    {
     "data": {
      "text/plain": [
       "505"
      ]
     },
     "execution_count": 18,
     "metadata": {},
     "output_type": "execute_result"
    }
   ],
   "source": [
    "len(sp505)"
   ]
  },
  {
   "cell_type": "markdown",
   "id": "cbf427bd",
   "metadata": {},
   "source": [
    "### Examine the index of DataFrame by .index attribute"
   ]
  },
  {
   "cell_type": "code",
   "execution_count": 19,
   "id": "1fd97247",
   "metadata": {},
   "outputs": [
    {
     "data": {
      "text/plain": [
       "Index(['MMM', 'AOS', 'ABT', 'ABBV', 'ACN', 'ATVI', 'AYI', 'ADBE', 'AAP', 'AMD',\n",
       "       ...\n",
       "       'WYNN', 'XEL', 'XRX', 'XLNX', 'XL', 'XYL', 'YUM', 'ZBH', 'ZION', 'ZTS'],\n",
       "      dtype='object', name='Symbol', length=505)"
      ]
     },
     "execution_count": 19,
     "metadata": {},
     "output_type": "execute_result"
    }
   ],
   "source": [
    "sp505.index"
   ]
  },
  {
   "cell_type": "markdown",
   "id": "4f02530b",
   "metadata": {},
   "source": [
    "### Get the columns of the Data Frame"
   ]
  },
  {
   "cell_type": "code",
   "execution_count": 20,
   "id": "a40b765e",
   "metadata": {},
   "outputs": [
    {
     "data": {
      "text/plain": [
       "Index(['Sector', 'Price', 'Price/Book'], dtype='object')"
      ]
     },
     "execution_count": 20,
     "metadata": {},
     "output_type": "execute_result"
    }
   ],
   "source": [
    "sp505.columns"
   ]
  },
  {
   "cell_type": "markdown",
   "id": "9fc51157",
   "metadata": {},
   "source": [
    "#### Next data set to be used"
   ]
  },
  {
   "cell_type": "code",
   "execution_count": 21,
   "id": "8530af01",
   "metadata": {
    "scrolled": true
   },
   "outputs": [
    {
     "name": "stdout",
     "output_type": "stream",
     "text": [
      "Date,MSFT,AAPL\n",
      "2014-12-01,48.62,115.07\n",
      "2014-12-02,48.46,114.63\n",
      "2014-12-03,48.08,115.93\n",
      "2014-12-04,48.84,115.49\n",
      "2014-12-05,48.42,115.0\n",
      "2014-12-08,47.7,112.4\n",
      "2014-12-09,47.59,114.12\n",
      "2014-12-10,46.9,111.95\n",
      "2014-12-11,47.17,111.62\n",
      "2014-12-12,46.95,109.73\n",
      "2014-12-15,46.67,108.23\n",
      "2014-12-16,45.16,106.75\n",
      "2014-12-17,45.74,109.41\n",
      "2014-12-18,47.52,112.65\n",
      "2014-12-19,47.66,111.78\n",
      "2014-12-22,47.98,112.94\n",
      "2014-12-23,48.45,112.54\n",
      "2014-12-24,48.14,112.01\n",
      "2014-12-26,47.88,113.99\n",
      "2014-12-29,47.45,113.91\n",
      "2014-12-30,47.02,112.52\n",
      "2014-12-31,46.45,110.38\n"
     ]
    }
   ],
   "source": [
    "! type data\\omh.csv"
   ]
  },
  {
   "cell_type": "code",
   "execution_count": 22,
   "id": "a1aa6449",
   "metadata": {},
   "outputs": [
    {
     "data": {
      "text/plain": [
       "         Date   MSFT    AAPL\n",
       "0  2014-12-01  48.62  115.07\n",
       "1  2014-12-02  48.46  114.63\n",
       "2  2014-12-03  48.08  115.93\n",
       "3  2014-12-04  48.84  115.49"
      ]
     },
     "execution_count": 22,
     "metadata": {},
     "output_type": "execute_result"
    }
   ],
   "source": [
    "hist_one_mon = pd.read_csv(\"data\\omh.csv\")\n",
    "hist_one_mon[:4]"
   ]
  },
  {
   "cell_type": "markdown",
   "id": "86ef170c",
   "metadata": {},
   "source": [
    "#### Unable to read the dataframe column by position"
   ]
  },
  {
   "cell_type": "code",
   "execution_count": 23,
   "id": "033faadc",
   "metadata": {},
   "outputs": [
    {
     "data": {
      "text/plain": [
       "         Price  Price/Book\n",
       "Symbol                    \n",
       "MMM     222.89       11.34\n",
       "AOS      60.24        6.35\n",
       "ABT      56.27        3.19\n",
       "ABBV    108.48       26.14\n",
       "ACN     150.51       10.62"
      ]
     },
     "execution_count": 23,
     "metadata": {},
     "output_type": "execute_result"
    }
   ],
   "source": [
    "sp505[['Price', 'Price/Book']].head()"
   ]
  },
  {
   "cell_type": "code",
   "execution_count": 24,
   "id": "9e8f9fcf",
   "metadata": {},
   "outputs": [
    {
     "data": {
      "text/plain": [
       "             1\n",
       "Symbol        \n",
       "MMM     222.89\n",
       "AOS      60.24\n",
       "ABT      56.27\n",
       "ABBV    108.48\n",
       "ACN     150.51"
      ]
     },
     "execution_count": 24,
     "metadata": {},
     "output_type": "execute_result"
    }
   ],
   "source": [
    "df = sp505.copy()\n",
    "df.columns = [0,1,2]\n",
    "df[[1]].head()"
   ]
  },
  {
   "cell_type": "markdown",
   "id": "cc068ea3",
   "metadata": {},
   "source": [
    "### Type of DataFrame column"
   ]
  },
  {
   "cell_type": "code",
   "execution_count": 25,
   "id": "1073d92d",
   "metadata": {},
   "outputs": [
    {
     "data": {
      "text/plain": [
       "pandas.core.frame.DataFrame"
      ]
     },
     "execution_count": 25,
     "metadata": {},
     "output_type": "execute_result"
    }
   ],
   "source": [
    "type(df[[1]])"
   ]
  },
  {
   "cell_type": "code",
   "execution_count": 26,
   "id": "39f6f484",
   "metadata": {},
   "outputs": [
    {
     "data": {
      "text/plain": [
       "pandas.core.series.Series"
      ]
     },
     "execution_count": 26,
     "metadata": {},
     "output_type": "execute_result"
    }
   ],
   "source": [
    "type(df[1])"
   ]
  },
  {
   "cell_type": "markdown",
   "id": "dac640bb",
   "metadata": {},
   "source": [
    "#### Columns retrived via the attribute access "
   ]
  },
  {
   "cell_type": "markdown",
   "id": "83ce4391",
   "metadata": {},
   "source": [
    "#### Following will not by applicable to columns having space in their names"
   ]
  },
  {
   "cell_type": "code",
   "execution_count": 27,
   "id": "4148658b",
   "metadata": {},
   "outputs": [
    {
     "data": {
      "text/plain": [
       "Symbol\n",
       "MMM     222.89\n",
       "AOS      60.24\n",
       "ABT      56.27\n",
       "ABBV    108.48\n",
       "ACN     150.51\n",
       "Name: Price, dtype: float64"
      ]
     },
     "execution_count": 27,
     "metadata": {},
     "output_type": "execute_result"
    }
   ],
   "source": [
    "sp505.Price.head()"
   ]
  },
  {
   "cell_type": "markdown",
   "id": "2e90c5e2",
   "metadata": {},
   "source": [
    "### Get location of specified column"
   ]
  },
  {
   "cell_type": "code",
   "execution_count": 28,
   "id": "d3876d38",
   "metadata": {},
   "outputs": [
    {
     "name": "stdout",
     "output_type": "stream",
     "text": [
      "2\n"
     ]
    }
   ],
   "source": [
    "print(sp505.columns.get_loc(\"Price/Book\"))"
   ]
  },
  {
   "cell_type": "markdown",
   "id": "94a72b3c",
   "metadata": {},
   "source": [
    "### Index selection in a DataFrame"
   ]
  },
  {
   "cell_type": "markdown",
   "id": "3776b40b",
   "metadata": {},
   "source": [
    "#### Slicing the DataFrame with use of [ ] operator  "
   ]
  },
  {
   "cell_type": "code",
   "execution_count": 38,
   "id": "b895fab4",
   "metadata": {},
   "outputs": [
    {
     "data": {
      "text/plain": [
       "                        Sector   Price  Price/Book\n",
       "Symbol                                            \n",
       "MMM                Industrials  222.89       11.34\n",
       "AOS                Industrials   60.24        6.35\n",
       "ABT                Health Care   56.27        3.19\n",
       "ABBV               Health Care  108.48       26.14\n",
       "ACN     Information Technology  150.51       10.62"
      ]
     },
     "execution_count": 38,
     "metadata": {},
     "output_type": "execute_result"
    }
   ],
   "source": [
    "sp505[:5]"
   ]
  },
  {
   "cell_type": "code",
   "execution_count": 29,
   "id": "e729110c",
   "metadata": {},
   "outputs": [
    {
     "name": "stdout",
     "output_type": "stream",
     "text": [
      "                        Sector   Price  Price/Book\n",
      "Symbol                                            \n",
      "ATVI    Information Technology   65.83        5.16\n",
      "AYI                Industrials  145.41        3.55\n",
      "ADBE    Information Technology  185.16       11.06\n",
      "AAP     Consumer Discretionary  109.63        2.51\n",
      "AMD     Information Technology   11.22       21.47\n",
      "AES                  Utilities   10.06        2.20\n",
      "AET                Health Care  178.00        3.79\n"
     ]
    }
   ],
   "source": [
    "print(sp505[5:12])"
   ]
  },
  {
   "cell_type": "code",
   "execution_count": 30,
   "id": "124155dc",
   "metadata": {},
   "outputs": [
    {
     "name": "stdout",
     "output_type": "stream",
     "text": [
      "                        Sector   Price  Price/Book\n",
      "Symbol                                            \n",
      "ATVI    Information Technology   65.83        5.16\n",
      "AYI                Industrials  145.41        3.55\n",
      "ADBE    Information Technology  185.16       11.06\n",
      "AAP     Consumer Discretionary  109.63        2.51\n",
      "AMD     Information Technology   11.22       21.47\n",
      "AES                  Utilities   10.06        2.20\n",
      "AET                Health Care  178.00        3.79\n"
     ]
    }
   ],
   "source": [
    "print(sp505[\"ATVI\":\"AET\"])"
   ]
  },
  {
   "cell_type": "markdown",
   "id": "60888906",
   "metadata": {},
   "source": [
    "#### Get the row with index label \"ATVI\" as a series"
   ]
  },
  {
   "cell_type": "code",
   "execution_count": 37,
   "id": "1592715a",
   "metadata": {},
   "outputs": [
    {
     "data": {
      "text/plain": [
       "Sector        Information Technology\n",
       "Price                          65.83\n",
       "Price/Book                      5.16\n",
       "Name: ATVI, dtype: object"
      ]
     },
     "execution_count": 37,
     "metadata": {},
     "output_type": "execute_result"
    }
   ],
   "source": [
    "sp505.loc[\"ATVI\"]"
   ]
  },
  {
   "cell_type": "code",
   "execution_count": 32,
   "id": "cb1e1a85",
   "metadata": {},
   "outputs": [
    {
     "data": {
      "text/plain": [
       "pandas.core.series.Series"
      ]
     },
     "execution_count": 32,
     "metadata": {},
     "output_type": "execute_result"
    }
   ],
   "source": [
    "type(sp505.loc[\"ATVI\"])"
   ]
  },
  {
   "cell_type": "markdown",
   "id": "0ac1c766",
   "metadata": {},
   "source": [
    "#### When Two or More indices of sp505 retrived using .loc() the result is a DataFrame  "
   ]
  },
  {
   "cell_type": "code",
   "execution_count": 33,
   "id": "1e143b5f",
   "metadata": {},
   "outputs": [
    {
     "data": {
      "text/plain": [
       "                        Sector  Price  Price/Book\n",
       "Symbol                                           \n",
       "ATVI    Information Technology  65.83        5.16\n",
       "AMD     Information Technology  11.22       21.47"
      ]
     },
     "execution_count": 33,
     "metadata": {},
     "output_type": "execute_result"
    }
   ],
   "source": [
    "sp505.loc[[\"ATVI\",\"AMD\"]]"
   ]
  },
  {
   "cell_type": "code",
   "execution_count": 34,
   "id": "65c9532e",
   "metadata": {
    "scrolled": true
   },
   "outputs": [
    {
     "data": {
      "text/plain": [
       "pandas.core.frame.DataFrame"
      ]
     },
     "execution_count": 34,
     "metadata": {},
     "output_type": "execute_result"
    }
   ],
   "source": [
    "type(sp505.loc[[\"ATVI\",\"AMD\"]])"
   ]
  },
  {
   "cell_type": "markdown",
   "id": "9f7e0075",
   "metadata": {},
   "source": [
    "#### Get the location of any particular symbol in index and use .iloc() to retrive it"
   ]
  },
  {
   "cell_type": "code",
   "execution_count": 40,
   "id": "4fade9b9",
   "metadata": {
    "scrolled": true
   },
   "outputs": [
    {
     "name": "stdout",
     "output_type": "stream",
     "text": [
      "The index location of 'YUM' and 'ATVI' are 501,5\n",
      " \n",
      "\n",
      "                        Sector  Price  Price/Book\n",
      "Symbol                                           \n",
      "YUM     Consumer Discretionary  76.30      212.08\n",
      "ATVI    Information Technology  65.83        5.16\n"
     ]
    }
   ],
   "source": [
    "i1 = sp505.index.get_loc(\"YUM\")\n",
    "i2 = sp505.index.get_loc(\"ATVI\")\n",
    "print(\"The index location of 'YUM' and 'ATVI' are {0},{1}\\n \\n\".format(i1,i2))\n",
    "print(sp505.iloc[[i1,i2]])"
   ]
  },
  {
   "cell_type": "markdown",
   "id": "be19f625",
   "metadata": {},
   "source": [
    "### Scalar Value lookup by label or location"
   ]
  },
  {
   "cell_type": "markdown",
   "id": "7b88bc1c",
   "metadata": {},
   "source": [
    "##### Scalar Value lookup by label "
   ]
  },
  {
   "cell_type": "code",
   "execution_count": 47,
   "id": "775750fd",
   "metadata": {},
   "outputs": [
    {
     "data": {
      "text/plain": [
       "29.8"
      ]
     },
     "execution_count": 47,
     "metadata": {},
     "output_type": "execute_result"
    }
   ],
   "source": [
    "sp505.at['XRX','Price']"
   ]
  },
  {
   "cell_type": "markdown",
   "id": "1223913e",
   "metadata": {},
   "source": [
    "#### Scalar Value lookup by position -- Prefered method"
   ]
  },
  {
   "cell_type": "code",
   "execution_count": 49,
   "id": "551cb98a",
   "metadata": {},
   "outputs": [
    {
     "data": {
      "text/plain": [
       "11.34"
      ]
     },
     "execution_count": 49,
     "metadata": {},
     "output_type": "execute_result"
    }
   ],
   "source": [
    "sp505.iat[0,2]"
   ]
  },
  {
   "cell_type": "markdown",
   "id": "ea9d14af",
   "metadata": {},
   "source": [
    "### Boolean Selection of rows in DataFrame"
   ]
  },
  {
   "cell_type": "code",
   "execution_count": 62,
   "id": "3bf74cdb",
   "metadata": {},
   "outputs": [
    {
     "data": {
      "text/plain": [
       "                        Sector  Price  Price/Book\n",
       "Symbol                                           \n",
       "AMD     Information Technology  11.22       21.47\n",
       "AES                  Utilities  10.06        2.20\n",
       "CHK                     Energy   2.82        1.84\n",
       "F       Consumer Discretionary  10.43        1.26\n",
       "GE                 Industrials  14.45        1.70\n",
       "KIM                Real Estate  14.01        1.20\n",
       "NAVI                Financials  13.38        1.02\n",
       "RRC                     Energy  12.82        0.59\n",
       "UAA     Consumer Discretionary  13.14        2.72\n",
       "UA      Consumer Discretionary  11.95        2.50"
      ]
     },
     "execution_count": 62,
     "metadata": {},
     "output_type": "execute_result"
    }
   ],
   "source": [
    "sp505[sp505.Price < 15]"
   ]
  },
  {
   "cell_type": "markdown",
   "id": "4c52d633",
   "metadata": {},
   "source": [
    "#### Boolean selection based on multiple condition"
   ]
  },
  {
   "cell_type": "markdown",
   "id": "afad28f2",
   "metadata": {},
   "source": [
    "#### Using & operator"
   ]
  },
  {
   "cell_type": "code",
   "execution_count": 63,
   "id": "9e8debf3",
   "metadata": {},
   "outputs": [
    {
     "data": {
      "text/plain": [
       "                        Sector  Price  Price/Book\n",
       "Symbol                                           \n",
       "F       Consumer Discretionary  10.43        1.26\n",
       "UAA     Consumer Discretionary  13.14        2.72\n",
       "UA      Consumer Discretionary  11.95        2.50"
      ]
     },
     "execution_count": 63,
     "metadata": {},
     "output_type": "execute_result"
    }
   ],
   "source": [
    "sp505[(sp505.Price < 15)&(sp505.Sector == \"Consumer Discretionary\")]"
   ]
  },
  {
   "cell_type": "markdown",
   "id": "dcba40fe",
   "metadata": {},
   "source": [
    "#### Using | operator"
   ]
  },
  {
   "cell_type": "code",
   "execution_count": 65,
   "id": "fd2a8fdf",
   "metadata": {},
   "outputs": [
    {
     "data": {
      "text/plain": [
       "                        Sector    Price  Price/Book\n",
       "Symbol                                             \n",
       "AAP     Consumer Discretionary   109.63        2.51\n",
       "AMD     Information Technology    11.22       21.47\n",
       "AES                  Utilities    10.06        2.20\n",
       "AMZN    Consumer Discretionary  1350.50       24.28\n",
       "APTV    Consumer Discretionary    89.27        7.56\n",
       "...                        ...      ...         ...\n",
       "VIAB    Consumer Discretionary    32.71        2.08\n",
       "WHR     Consumer Discretionary   164.95        2.57\n",
       "WYN     Consumer Discretionary   113.56       18.91\n",
       "WYNN    Consumer Discretionary   169.28       51.69\n",
       "YUM     Consumer Discretionary    76.30      212.08\n",
       "\n",
       "[91 rows x 3 columns]"
      ]
     },
     "execution_count": 65,
     "metadata": {},
     "output_type": "execute_result"
    }
   ],
   "source": [
    "sp505[(sp505.Price < 15)|(sp505.Sector == \"Consumer Discretionary\")]"
   ]
  },
  {
   "cell_type": "markdown",
   "id": "ffa4d926",
   "metadata": {},
   "source": [
    "#### Specific column selection using boolean selection"
   ]
  },
  {
   "cell_type": "code",
   "execution_count": 73,
   "id": "12e539d0",
   "metadata": {},
   "outputs": [
    {
     "data": {
      "text/plain": [
       "        Price/Book\n",
       "Symbol            \n",
       "F             1.26\n",
       "UAA           2.72\n",
       "UA            2.50"
      ]
     },
     "execution_count": 73,
     "metadata": {},
     "output_type": "execute_result"
    }
   ],
   "source": [
    "sp505[(sp505.Price < 15)&(sp505.Sector == \"Consumer Discretionary\")][[\"Price/Book\"]]"
   ]
  },
  {
   "cell_type": "code",
   "execution_count": 74,
   "id": "d96f6134",
   "metadata": {},
   "outputs": [
    {
     "data": {
      "text/plain": [
       "pandas.core.frame.DataFrame"
      ]
     },
     "execution_count": 74,
     "metadata": {},
     "output_type": "execute_result"
    }
   ],
   "source": [
    "type(sp505[(sp505.Price < 15)&(sp505.Sector == \"Consumer Discretionary\")][[\"Price/Book\"]])"
   ]
  },
  {
   "cell_type": "code",
   "execution_count": 75,
   "id": "49c5273e",
   "metadata": {},
   "outputs": [
    {
     "data": {
      "text/plain": [
       "pandas.core.series.Series"
      ]
     },
     "execution_count": 75,
     "metadata": {},
     "output_type": "execute_result"
    }
   ],
   "source": [
    "type(sp505[(sp505.Price < 15)&(sp505.Sector == \"Consumer Discretionary\")][\"Price/Book\"])"
   ]
  },
  {
   "cell_type": "markdown",
   "id": "7bd9a1ba",
   "metadata": {},
   "source": [
    "#### Renaming a column"
   ]
  },
  {
   "cell_type": "code",
   "execution_count": 78,
   "id": "b45c5d6a",
   "metadata": {},
   "outputs": [
    {
     "data": {
      "text/plain": [
       "             Sector   Price  BookValue\n",
       "Symbol                                \n",
       "MMM     Industrials  222.89      11.34\n",
       "AOS     Industrials   60.24       6.35"
      ]
     },
     "execution_count": 78,
     "metadata": {},
     "output_type": "execute_result"
    }
   ],
   "source": [
    "df = sp505.rename(columns= {'Price/Book':'BookValue'}) \n",
    "df[:2]"
   ]
  },
  {
   "cell_type": "markdown",
   "id": "fce71131",
   "metadata": {},
   "source": [
    "#### No renaming in orignal DataFrame"
   ]
  },
  {
   "cell_type": "code",
   "execution_count": 79,
   "id": "775bcff1",
   "metadata": {},
   "outputs": [
    {
     "data": {
      "text/plain": [
       "Index(['Sector', 'Price', 'Price/Book'], dtype='object')"
      ]
     },
     "execution_count": 79,
     "metadata": {},
     "output_type": "execute_result"
    }
   ],
   "source": [
    "sp505.columns"
   ]
  },
  {
   "cell_type": "code",
   "execution_count": null,
   "id": "15f4ebbf",
   "metadata": {},
   "outputs": [],
   "source": []
  }
 ],
 "metadata": {
  "kernelspec": {
   "display_name": "Python 3 (ipykernel)",
   "language": "python",
   "name": "python3"
  },
  "language_info": {
   "codemirror_mode": {
    "name": "ipython",
    "version": 3
   },
   "file_extension": ".py",
   "mimetype": "text/x-python",
   "name": "python",
   "nbconvert_exporter": "python",
   "pygments_lexer": "ipython3",
   "version": "3.11.3"
  }
 },
 "nbformat": 4,
 "nbformat_minor": 5
}
