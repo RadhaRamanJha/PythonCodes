{
 "cells": [
  {
   "cell_type": "markdown",
   "id": "c7bd34af",
   "metadata": {},
   "source": [
    "## Jupyter Shortcuts \n",
    "+ esc+a -- Add cell above\n",
    "+ esc+b -- Add cell below\n",
    "+ esc+m -- Change current cell into 'Markdown'\n",
    "+ esc+y -- Convert current cell in code cell\n",
    "+ esc+x -- Delete the current cell"
   ]
  },
  {
   "cell_type": "markdown",
   "id": "58d72c22",
   "metadata": {},
   "source": [
    "## Data Types"
   ]
  },
  {
   "cell_type": "markdown",
   "id": "dedc08f6",
   "metadata": {},
   "source": [
    "+ Integer"
   ]
  },
  {
   "cell_type": "code",
   "execution_count": 1,
   "id": "f603ba79",
   "metadata": {},
   "outputs": [
    {
     "name": "stdout",
     "output_type": "stream",
     "text": [
      "<class 'int'>\n"
     ]
    }
   ],
   "source": [
    "x = 5\n",
    "print(type(x))"
   ]
  },
  {
   "cell_type": "markdown",
   "id": "713835ff",
   "metadata": {},
   "source": [
    "+ float"
   ]
  },
  {
   "cell_type": "code",
   "execution_count": null,
   "id": "4c7ef9b1",
   "metadata": {},
   "outputs": [
    {
     "name": "stdout",
     "output_type": "stream",
     "text": [
      "<class 'float'>\n"
     ]
    }
   ],
   "source": [
    "y = 10.2\n",
    "print(type(y))"
   ]
  },
  {
   "cell_type": "markdown",
   "id": "787bb965",
   "metadata": {},
   "source": [
    "+ Boolean"
   ]
  },
  {
   "cell_type": "code",
   "execution_count": null,
   "id": "4e284a21",
   "metadata": {},
   "outputs": [],
   "source": [
    "z = True\n",
    "print(type(z))"
   ]
  },
  {
   "cell_type": "markdown",
   "id": "e3306b40",
   "metadata": {},
   "source": [
    "## Arithematoc operations"
   ]
  },
  {
   "cell_type": "code",
   "execution_count": null,
   "id": "424bd9bb",
   "metadata": {},
   "outputs": [],
   "source": [
    "x = 10 \n",
    "y = 13"
   ]
  },
  {
   "cell_type": "markdown",
   "id": "16ff6851",
   "metadata": {},
   "source": [
    "+ Addition"
   ]
  },
  {
   "cell_type": "code",
   "execution_count": 5,
   "id": "b2c0a0bd",
   "metadata": {},
   "outputs": [
    {
     "name": "stdout",
     "output_type": "stream",
     "text": [
      "23\n"
     ]
    }
   ],
   "source": [
    "print(x+y)"
   ]
  },
  {
   "cell_type": "markdown",
   "id": "038e2e9a",
   "metadata": {},
   "source": [
    "+ Substraction"
   ]
  },
  {
   "cell_type": "code",
   "execution_count": 6,
   "id": "4af34372",
   "metadata": {},
   "outputs": [
    {
     "name": "stdout",
     "output_type": "stream",
     "text": [
      "-3\n"
     ]
    }
   ],
   "source": [
    "print(x-y)"
   ]
  },
  {
   "cell_type": "markdown",
   "id": "649bb86f",
   "metadata": {},
   "source": [
    "+ Multiplication"
   ]
  },
  {
   "cell_type": "code",
   "execution_count": 7,
   "id": "5176438a",
   "metadata": {},
   "outputs": [
    {
     "name": "stdout",
     "output_type": "stream",
     "text": [
      "130\n"
     ]
    }
   ],
   "source": [
    "print(x*y)"
   ]
  },
  {
   "cell_type": "markdown",
   "id": "3f320846",
   "metadata": {},
   "source": [
    "+ Division"
   ]
  },
  {
   "cell_type": "code",
   "execution_count": 8,
   "id": "fd007c35",
   "metadata": {},
   "outputs": [
    {
     "name": "stdout",
     "output_type": "stream",
     "text": [
      "0.7692307692307693\n"
     ]
    }
   ],
   "source": [
    "print(x/y)"
   ]
  },
  {
   "cell_type": "markdown",
   "id": "a9d68219",
   "metadata": {},
   "source": [
    "+ power"
   ]
  },
  {
   "cell_type": "code",
   "execution_count": 9,
   "id": "d74a40af",
   "metadata": {},
   "outputs": [
    {
     "name": "stdout",
     "output_type": "stream",
     "text": [
      "10000000000000\n"
     ]
    }
   ],
   "source": [
    "print(x**y)"
   ]
  },
  {
   "cell_type": "markdown",
   "id": "85b19ad1",
   "metadata": {},
   "source": [
    "+ Floor Division"
   ]
  },
  {
   "cell_type": "code",
   "execution_count": 10,
   "id": "6954836d",
   "metadata": {},
   "outputs": [
    {
     "name": "stdout",
     "output_type": "stream",
     "text": [
      "1\n"
     ]
    }
   ],
   "source": [
    "print(y//x)"
   ]
  },
  {
   "cell_type": "markdown",
   "id": "02c8009c",
   "metadata": {},
   "source": [
    "## Boolean Operations"
   ]
  },
  {
   "cell_type": "code",
   "execution_count": 11,
   "id": "c37d15f3",
   "metadata": {},
   "outputs": [],
   "source": [
    "x = True\n",
    "y = False"
   ]
  },
  {
   "cell_type": "markdown",
   "id": "313728c0",
   "metadata": {},
   "source": [
    "+ Logical OR"
   ]
  },
  {
   "cell_type": "code",
   "execution_count": 12,
   "id": "24bd82e6",
   "metadata": {},
   "outputs": [
    {
     "name": "stdout",
     "output_type": "stream",
     "text": [
      "True\n"
     ]
    }
   ],
   "source": [
    "print(x or y)"
   ]
  },
  {
   "cell_type": "markdown",
   "id": "82a70874",
   "metadata": {},
   "source": [
    "+ Logical AND"
   ]
  },
  {
   "cell_type": "code",
   "execution_count": 13,
   "id": "cf9967ab",
   "metadata": {},
   "outputs": [
    {
     "name": "stdout",
     "output_type": "stream",
     "text": [
      "False\n"
     ]
    }
   ],
   "source": [
    "print(x and y)"
   ]
  },
  {
   "cell_type": "markdown",
   "id": "ac06abef",
   "metadata": {},
   "source": [
    "+ Logical NOT"
   ]
  },
  {
   "cell_type": "code",
   "execution_count": 14,
   "id": "96a4fe1f",
   "metadata": {},
   "outputs": [
    {
     "name": "stdout",
     "output_type": "stream",
     "text": [
      "False\n"
     ]
    }
   ],
   "source": [
    "print(not x)"
   ]
  },
  {
   "cell_type": "markdown",
   "id": "c1d46054",
   "metadata": {},
   "source": [
    "## Sequence Types"
   ]
  },
  {
   "cell_type": "markdown",
   "id": "3f6ca505",
   "metadata": {},
   "source": [
    "+ List"
   ]
  },
  {
   "cell_type": "code",
   "execution_count": 15,
   "id": "3b64bbc4",
   "metadata": {},
   "outputs": [
    {
     "name": "stdout",
     "output_type": "stream",
     "text": [
      "<class 'list'>\n"
     ]
    }
   ],
   "source": [
    "list1 = [12,13,14,15,16]\n",
    "print(type(list1))"
   ]
  },
  {
   "cell_type": "markdown",
   "id": "7ff7a8ad",
   "metadata": {},
   "source": [
    "+ Tuple"
   ]
  },
  {
   "cell_type": "code",
   "execution_count": 16,
   "id": "8eaf29dd",
   "metadata": {},
   "outputs": [
    {
     "name": "stdout",
     "output_type": "stream",
     "text": [
      "<class 'tuple'>\n"
     ]
    }
   ],
   "source": [
    "tup1 = (12,13,14,15,16)\n",
    "print(type(tup1))"
   ]
  },
  {
   "cell_type": "markdown",
   "id": "4bec032b",
   "metadata": {},
   "source": [
    "+ String"
   ]
  },
  {
   "cell_type": "code",
   "execution_count": 17,
   "id": "220df5d2",
   "metadata": {},
   "outputs": [
    {
     "name": "stdout",
     "output_type": "stream",
     "text": [
      "<class 'str'>\n"
     ]
    }
   ],
   "source": [
    "str1 = \"Hello Data Science\"\n",
    "print(type(str1))"
   ]
  },
  {
   "cell_type": "markdown",
   "id": "0c09d3cf",
   "metadata": {},
   "source": [
    "## Common operations that all sequence types support"
   ]
  },
  {
   "cell_type": "markdown",
   "id": "8e23e9e4",
   "metadata": {},
   "source": [
    "+ 1. Positional Indexing :- Used for Accessing Data "
   ]
  },
  {
   "cell_type": "code",
   "execution_count": 18,
   "id": "f468d2ec",
   "metadata": {},
   "outputs": [
    {
     "name": "stdout",
     "output_type": "stream",
     "text": [
      "Tom\n"
     ]
    }
   ],
   "source": [
    "students = ['Tom','Marry','Tam','Tim','Jacky']\n",
    "print(students[0])"
   ]
  },
  {
   "cell_type": "code",
   "execution_count": 19,
   "id": "ebb4ddf6",
   "metadata": {},
   "outputs": [
    {
     "name": "stdout",
     "output_type": "stream",
     "text": [
      "45\n"
     ]
    }
   ],
   "source": [
    "marks = (80,85,45,65,78,98)\n",
    "subjects = ('ENglish','Sanskrit','Hindi','SST','Science','Math')\n",
    "print(marks[2])"
   ]
  },
  {
   "cell_type": "code",
   "execution_count": 21,
   "id": "44b24c62",
   "metadata": {},
   "outputs": [
    {
     "name": "stdout",
     "output_type": "stream",
     "text": [
      "t\n"
     ]
    }
   ],
   "source": [
    "exp = \"What a beautiful wheater !\"\n",
    "print(exp[3])"
   ]
  },
  {
   "cell_type": "markdown",
   "id": "3f48f595",
   "metadata": {},
   "source": [
    "- Slicing :- Acess within a range of values based on positional index "
   ]
  },
  {
   "cell_type": "code",
   "execution_count": 22,
   "id": "7e4c4a40",
   "metadata": {},
   "outputs": [
    {
     "name": "stdout",
     "output_type": "stream",
     "text": [
      "['Tam', 'Tim', 'Jacky']\n"
     ]
    }
   ],
   "source": [
    "print(students[2:5])"
   ]
  },
  {
   "cell_type": "code",
   "execution_count": 23,
   "id": "d156ba91",
   "metadata": {},
   "outputs": [
    {
     "name": "stdout",
     "output_type": "stream",
     "text": [
      "(85, 45, 65)\n"
     ]
    }
   ],
   "source": [
    "print(marks[1:4])"
   ]
  },
  {
   "cell_type": "code",
   "execution_count": 24,
   "id": "e9464b6d",
   "metadata": {},
   "outputs": [
    {
     "name": "stdout",
     "output_type": "stream",
     "text": [
      "beautiful\n"
     ]
    }
   ],
   "source": [
    "print(exp[7:16])"
   ]
  },
  {
   "cell_type": "code",
   "execution_count": 25,
   "id": "adfb81c3",
   "metadata": {},
   "outputs": [
    {
     "name": "stdout",
     "output_type": "stream",
     "text": [
      "['Tom', 'Marry', 'Tam', 'Tim']\n"
     ]
    }
   ],
   "source": [
    "print(students[:4])"
   ]
  },
  {
   "cell_type": "code",
   "execution_count": 26,
   "id": "ea0e1045",
   "metadata": {},
   "outputs": [
    {
     "name": "stdout",
     "output_type": "stream",
     "text": [
      "['Tim', 'Jacky']\n"
     ]
    }
   ],
   "source": [
    "print(students[3:])"
   ]
  },
  {
   "cell_type": "code",
   "execution_count": 27,
   "id": "0bd588fc",
   "metadata": {},
   "outputs": [
    {
     "name": "stdout",
     "output_type": "stream",
     "text": [
      "(80, 85, 45, 65)\n"
     ]
    }
   ],
   "source": [
    "print(marks[:4])"
   ]
  },
  {
   "cell_type": "code",
   "execution_count": 28,
   "id": "d15512b2",
   "metadata": {},
   "outputs": [
    {
     "name": "stdout",
     "output_type": "stream",
     "text": [
      "(85, 45, 65, 78, 98)\n"
     ]
    }
   ],
   "source": [
    "print(marks[1:])"
   ]
  },
  {
   "cell_type": "code",
   "execution_count": 29,
   "id": "6164f390",
   "metadata": {},
   "outputs": [
    {
     "name": "stdout",
     "output_type": "stream",
     "text": [
      "What a beautiful\n"
     ]
    }
   ],
   "source": [
    "print(exp[:16])"
   ]
  },
  {
   "cell_type": "code",
   "execution_count": 30,
   "id": "a98ccea4",
   "metadata": {},
   "outputs": [
    {
     "name": "stdout",
     "output_type": "stream",
     "text": [
      "beautiful wheater !\n"
     ]
    }
   ],
   "source": [
    "print(exp[7:])"
   ]
  },
  {
   "cell_type": "code",
   "execution_count": 31,
   "id": "8ac8a096",
   "metadata": {},
   "outputs": [
    {
     "name": "stdout",
     "output_type": "stream",
     "text": [
      "This is how access 3 from [1, 2, 3, 4] within [1, 'a', 10.2, [1, 2, 3, 4], ('a', 'b', 'c'), 'Hello']\n"
     ]
    }
   ],
   "source": [
    "mixed_list = [1,'a',10.2,[1,2,3,4],('a','b','c'),\"Hello\"]\n",
    "print(f\"This is how access {mixed_list[-3][2]} from {mixed_list[3]} within {mixed_list}\")\n"
   ]
  },
  {
   "cell_type": "markdown",
   "id": "7063fe3a",
   "metadata": {},
   "source": [
    "+ 2. Iterable"
   ]
  },
  {
   "cell_type": "code",
   "execution_count": 32,
   "id": "bad61d8c",
   "metadata": {
    "scrolled": true
   },
   "outputs": [
    {
     "name": "stdout",
     "output_type": "stream",
     "text": [
      "Hi Tom\n",
      "Hi Marry\n",
      "Hi Tam\n",
      "Hi Tim\n",
      "Hi Jacky\n"
     ]
    }
   ],
   "source": [
    "for student in students :\n",
    "    print(\"Hi {}\".format(student))"
   ]
  },
  {
   "cell_type": "code",
   "execution_count": 33,
   "id": "74a6e45a",
   "metadata": {},
   "outputs": [
    {
     "name": "stdout",
     "output_type": "stream",
     "text": [
      "I recived 80 in ENglish \n",
      "I recived 85 in Sanskrit \n",
      "I recived 45 in Hindi \n",
      "I recived 65 in SST \n",
      "I recived 78 in Science \n",
      "I recived 98 in Math \n"
     ]
    }
   ],
   "source": [
    "i = 0 # Initialize loop\n",
    "while i < len(marks): # Condition to burst loop when it gets fat enough\n",
    "    print(\"I recived {} in {} \".format(marks[i],subjects[i]))\n",
    "    i +=1  # Feed the loop and make it fat"
   ]
  },
  {
   "cell_type": "code",
   "execution_count": 34,
   "id": "2c590661",
   "metadata": {},
   "outputs": [
    {
     "name": "stdout",
     "output_type": "stream",
     "text": [
      "P\n",
      "y\n",
      "t\n",
      "h\n",
      "o\n",
      "n\n",
      " \n",
      "3\n",
      ".\n",
      "0\n"
     ]
    }
   ],
   "source": [
    "str1 = \"Python 3.0\"\n",
    "for st in str1:\n",
    "    print(st)"
   ]
  },
  {
   "cell_type": "markdown",
   "id": "7eba37a8",
   "metadata": {},
   "source": [
    "## Operations specific to List"
   ]
  },
  {
   "cell_type": "markdown",
   "id": "5290549d",
   "metadata": {},
   "source": [
    "### 1. Add elements to the list"
   ]
  },
  {
   "cell_type": "markdown",
   "id": "f69a8968",
   "metadata": {},
   "source": [
    "+ append :- add a element to the end of list"
   ]
  },
  {
   "cell_type": "code",
   "execution_count": 35,
   "id": "0032f618",
   "metadata": {},
   "outputs": [
    {
     "name": "stdout",
     "output_type": "stream",
     "text": [
      "[2, 3, 4, 5, 6]\n"
     ]
    }
   ],
   "source": [
    "num_list = [2,3,4,5]\n",
    "num_list.append(6) # performs inplace insertion\n",
    "print(num_list)"
   ]
  },
  {
   "cell_type": "markdown",
   "id": "cd24ca1f",
   "metadata": {},
   "source": [
    "+ insert :- insert an element at any desired location "
   ]
  },
  {
   "cell_type": "code",
   "execution_count": 36,
   "id": "6aed0b94",
   "metadata": {},
   "outputs": [
    {
     "name": "stdout",
     "output_type": "stream",
     "text": [
      "[2, 3, 4, 5, 6]\n",
      "[2, 3, 4, 56, 5, 6]\n"
     ]
    }
   ],
   "source": [
    "print(num_list)\n",
    "num_list.insert(3,56) # performs inplace insertion\n",
    "print(num_list)"
   ]
  },
  {
   "cell_type": "markdown",
   "id": "d3d818fd",
   "metadata": {},
   "source": [
    "+ extend :- Extends the list by iterable"
   ]
  },
  {
   "cell_type": "code",
   "execution_count": 37,
   "id": "1ad23a3a",
   "metadata": {},
   "outputs": [
    {
     "name": "stdout",
     "output_type": "stream",
     "text": [
      "[1, 2, 3, 4, 5, 6, 7, 8]\n"
     ]
    }
   ],
   "source": [
    "list1 = [1,2,3,4]\n",
    "list2 = [5,6,7,8]\n",
    "list1.extend(list2) # performs inplace insertion\n",
    "print(list1)"
   ]
  },
  {
   "cell_type": "code",
   "execution_count": 38,
   "id": "e980864f",
   "metadata": {},
   "outputs": [
    {
     "name": "stdout",
     "output_type": "stream",
     "text": [
      "[1, 2, 3, 4, 5, 6, 7, 8, 11, 12, 13, 14]\n"
     ]
    }
   ],
   "source": [
    "list1.extend((11,12,13,14))\n",
    "print(list1)"
   ]
  },
  {
   "cell_type": "code",
   "execution_count": 39,
   "id": "bca450d9",
   "metadata": {},
   "outputs": [
    {
     "name": "stdout",
     "output_type": "stream",
     "text": [
      "[1, 2, 3, 4, 5, 6, 7, 8, 11, 12, 13, 14, 'H', 'e', 'l', 'l', 'o']\n"
     ]
    }
   ],
   "source": [
    "list1.extend('Hello')\n",
    "print(list1)"
   ]
  },
  {
   "cell_type": "markdown",
   "id": "aff03509",
   "metadata": {},
   "source": [
    "## 2. Remove element from the List"
   ]
  },
  {
   "cell_type": "markdown",
   "id": "59ab0adf",
   "metadata": {},
   "source": [
    "+ pop() - Removes value at the end of list"
   ]
  },
  {
   "cell_type": "code",
   "execution_count": 40,
   "id": "65c15973",
   "metadata": {},
   "outputs": [
    {
     "name": "stdout",
     "output_type": "stream",
     "text": [
      "o\n",
      "[1, 2, 3, 4, 5, 6, 7, 8, 11, 12, 13, 14, 'H', 'e', 'l', 'l']\n"
     ]
    }
   ],
   "source": [
    "print(list1.pop()) # Remove and return item at index (default last).\n",
    "print(list1)"
   ]
  },
  {
   "cell_type": "markdown",
   "id": "8c77dd29",
   "metadata": {},
   "source": [
    "+ pop(n) - Removes value at index 'n'"
   ]
  },
  {
   "cell_type": "code",
   "execution_count": 41,
   "id": "16b36359",
   "metadata": {},
   "outputs": [
    {
     "name": "stdout",
     "output_type": "stream",
     "text": [
      "l\n",
      "[1, 2, 3, 4, 5, 6, 7, 8, 11, 12, 13, 14, 'H', 'e', 'l']\n"
     ]
    }
   ],
   "source": [
    "print(list1.pop(-2))\n",
    "print(list1)"
   ]
  },
  {
   "cell_type": "markdown",
   "id": "76d1c072",
   "metadata": {},
   "source": [
    "+ remove(value) :- removes the value from the list"
   ]
  },
  {
   "cell_type": "code",
   "execution_count": 42,
   "id": "b4b0e607",
   "metadata": {},
   "outputs": [
    {
     "name": "stdout",
     "output_type": "stream",
     "text": [
      "[1, 2, 3, 4, 5, 6, 7, 8, 11, 12, 13, 14, 'H', 'e']\n"
     ]
    }
   ],
   "source": [
    "list1.remove('l')\n",
    "print(list1)"
   ]
  },
  {
   "cell_type": "markdown",
   "id": "052e8389",
   "metadata": {},
   "source": [
    "+ clear() :- Remove all values from list"
   ]
  },
  {
   "cell_type": "code",
   "execution_count": 43,
   "id": "57548bcd",
   "metadata": {},
   "outputs": [
    {
     "name": "stdout",
     "output_type": "stream",
     "text": [
      "[1, 2, 3, 4, 5, 6, 7, 8, 11, 12, 13, 14, 'H', 'e']\n",
      "[]\n"
     ]
    }
   ],
   "source": [
    "print(list1)\n",
    "list1.clear()\n",
    "print(list1)"
   ]
  },
  {
   "cell_type": "code",
   "execution_count": null,
   "id": "39e20c51",
   "metadata": {},
   "outputs": [],
   "source": []
  }
 ],
 "metadata": {
  "kernelspec": {
   "display_name": "Python 3 (ipykernel)",
   "language": "python",
   "name": "python3"
  },
  "language_info": {
   "codemirror_mode": {
    "name": "ipython",
    "version": 3
   },
   "file_extension": ".py",
   "mimetype": "text/x-python",
   "name": "python",
   "nbconvert_exporter": "python",
   "pygments_lexer": "ipython3",
   "version": "3.11.3"
  }
 },
 "nbformat": 4,
 "nbformat_minor": 5
}
