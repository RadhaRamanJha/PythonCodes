{
 "cells": [
  {
   "cell_type": "markdown",
   "id": "45d5d393",
   "metadata": {},
   "source": [
    "## Coding without inbuilt functions:"
   ]
  },
  {
   "cell_type": "markdown",
   "id": "016318d9",
   "metadata": {},
   "source": [
    "Reverse a String:\n",
    "\n",
    "Write a Python function to reverse a string without using any inbuilt functions."
   ]
  },
  {
   "cell_type": "code",
   "execution_count": 23,
   "id": "828f3846",
   "metadata": {},
   "outputs": [
    {
     "name": "stdout",
     "output_type": "stream",
     "text": [
      "!dlroW ,olleH\n"
     ]
    }
   ],
   "source": [
    "def reverse_string(s):\n",
    "    reversed_str = \"\"\n",
    "    for char in s:\n",
    "        reversed_str = char + reversed_str\n",
    "    return reversed_str\n",
    "\n",
    "# Example\n",
    "input_str = \"Hello, World!\"\n",
    "reversed_result = reverse_string(input_str)\n",
    "print(reversed_result)\n"
   ]
  },
  {
   "cell_type": "markdown",
   "id": "6c9c19f8",
   "metadata": {},
   "source": [
    "Factorial Calculation:\n",
    "\n",
    "Implement a function to calculate the factorial of a number without using recursion or any inbuilt functions."
   ]
  },
  {
   "cell_type": "code",
   "execution_count": 3,
   "id": "2fee4054",
   "metadata": {
    "collapsed": true
   },
   "outputs": [
    {
     "data": {
      "text/plain": [
       "'ahen'"
      ]
     },
     "execution_count": 3,
     "metadata": {},
     "output_type": "execute_result"
    }
   ],
   "source": [
    "def factorial(n):\n",
    "    result = 1\n",
    "    for i in range(1, n + 1):\n",
    "        result *= i\n",
    "    return result\n",
    "\n",
    "# Example\n",
    "num = 5\n",
    "factorial_result = factorial(num)\n",
    "print(factorial_result)"
   ]
  },
  {
   "cell_type": "markdown",
   "id": "04d9b3f6",
   "metadata": {},
   "source": [
    "Palindrome Check:\n",
    "\n",
    "Create a function that checks if a given string is a palindrome without using any inbuilt string reversal functions."
   ]
  },
  {
   "cell_type": "code",
   "execution_count": null,
   "id": "494917cf",
   "metadata": {
    "collapsed": true
   },
   "outputs": [],
   "source": [
    "def is_palindrome(s):\n",
    "    reversed_str = \"\"\n",
    "    for char in s:\n",
    "        reversed_str = char + reversed_str\n",
    "    return s == reversed_str\n",
    "\n",
    "# Example\n",
    "test_str = \"level\"\n",
    "print(is_palindrome(test_str))\n"
   ]
  },
  {
   "cell_type": "markdown",
   "id": "a12568f1",
   "metadata": {},
   "source": [
    "Prime Number Check:\n",
    "\n",
    "Write a Python function to check if a number is prime without using any external libraries or built-in functions."
   ]
  },
  {
   "cell_type": "code",
   "execution_count": 24,
   "id": "b9decf12",
   "metadata": {},
   "outputs": [
    {
     "name": "stdout",
     "output_type": "stream",
     "text": [
      "True\n"
     ]
    }
   ],
   "source": [
    "def is_prime(n):\n",
    "    if n < 2:\n",
    "        return False\n",
    "    for i in range(2, int(n ** 0.5) + 1):\n",
    "        if n % i == 0:\n",
    "            return False\n",
    "    return True\n",
    "\n",
    "# Example\n",
    "number = 13\n",
    "print(is_prime(number))\n"
   ]
  },
  {
   "cell_type": "code",
   "execution_count": 27,
   "id": "421abd33",
   "metadata": {},
   "outputs": [
    {
     "data": {
      "text/plain": [
       "3.605551275463989"
      ]
     },
     "execution_count": 27,
     "metadata": {},
     "output_type": "execute_result"
    }
   ],
   "source": [
    "13** 0.5"
   ]
  },
  {
   "cell_type": "markdown",
   "id": "4432a018",
   "metadata": {},
   "source": [
    "List Intersection:\n",
    "\n",
    "Implement a function to find the intersection of two lists without using any set operations or inbuilt functions."
   ]
  },
  {
   "cell_type": "code",
   "execution_count": null,
   "id": "5bbdf319",
   "metadata": {
    "collapsed": true
   },
   "outputs": [],
   "source": [
    "def find_intersection(list1, list2):\n",
    "    intersection = []\n",
    "    for item in list1:\n",
    "        if item in list2 and item not in intersection:\n",
    "            intersection.append(item)\n",
    "    return intersection\n",
    "\n",
    "# Example\n",
    "list_a = [1, 2, 3, 4, 5]\n",
    "list_b = [3, 4, 5, 6, 7]\n",
    "result_intersection = find_intersection(list_a, list_b)\n",
    "print(result_intersection)\n"
   ]
  },
  {
   "cell_type": "code",
   "execution_count": 1,
   "id": "ea3306e1",
   "metadata": {},
   "outputs": [
    {
     "name": "stdout",
     "output_type": "stream",
     "text": [
      "10\n",
      "40\n",
      "50\n",
      "60\n"
     ]
    }
   ],
   "source": [
    "l1 = [10,40,50,60]\n",
    "temp = 0\n",
    "for i in l1:\n",
    "    print(i)\n",
    "    #100 lines \n",
    "    temp=+1\n",
    "    print(temp)"
   ]
  },
  {
   "cell_type": "code",
   "execution_count": 2,
   "id": "6103126b",
   "metadata": {},
   "outputs": [],
   "source": [
    "i1 = iter(l1)"
   ]
  },
  {
   "cell_type": "code",
   "execution_count": 3,
   "id": "54c17b6e",
   "metadata": {},
   "outputs": [
    {
     "data": {
      "text/plain": [
       "(list, list_iterator)"
      ]
     },
     "execution_count": 3,
     "metadata": {},
     "output_type": "execute_result"
    }
   ],
   "source": [
    "type(l1), type(i1)"
   ]
  },
  {
   "cell_type": "code",
   "execution_count": 4,
   "id": "1a3ec593",
   "metadata": {},
   "outputs": [
    {
     "data": {
      "text/plain": [
       "10"
      ]
     },
     "execution_count": 4,
     "metadata": {},
     "output_type": "execute_result"
    }
   ],
   "source": [
    "next(i1)"
   ]
  },
  {
   "cell_type": "code",
   "execution_count": 6,
   "id": "7f54ac8c",
   "metadata": {},
   "outputs": [
    {
     "data": {
      "text/plain": [
       "40"
      ]
     },
     "execution_count": 6,
     "metadata": {},
     "output_type": "execute_result"
    }
   ],
   "source": [
    "next(i1)"
   ]
  },
  {
   "cell_type": "code",
   "execution_count": 7,
   "id": "29ae2572",
   "metadata": {},
   "outputs": [
    {
     "data": {
      "text/plain": [
       "50"
      ]
     },
     "execution_count": 7,
     "metadata": {},
     "output_type": "execute_result"
    }
   ],
   "source": [
    "next(i1)"
   ]
  },
  {
   "cell_type": "code",
   "execution_count": 8,
   "id": "c02afd8f",
   "metadata": {},
   "outputs": [
    {
     "data": {
      "text/plain": [
       "60"
      ]
     },
     "execution_count": 8,
     "metadata": {},
     "output_type": "execute_result"
    }
   ],
   "source": [
    "next(i1)"
   ]
  },
  {
   "cell_type": "code",
   "execution_count": 9,
   "id": "bde60adc",
   "metadata": {},
   "outputs": [
    {
     "ename": "StopIteration",
     "evalue": "",
     "output_type": "error",
     "traceback": [
      "\u001b[1;31m---------------------------------------------------------------------------\u001b[0m",
      "\u001b[1;31mStopIteration\u001b[0m                             Traceback (most recent call last)",
      "\u001b[1;32m~\\AppData\\Local\\Temp\\ipykernel_2248\\2520043837.py\u001b[0m in \u001b[0;36m<module>\u001b[1;34m\u001b[0m\n\u001b[1;32m----> 1\u001b[1;33m \u001b[0mnext\u001b[0m\u001b[1;33m(\u001b[0m\u001b[0mi1\u001b[0m\u001b[1;33m)\u001b[0m\u001b[1;33m\u001b[0m\u001b[1;33m\u001b[0m\u001b[0m\n\u001b[0m",
      "\u001b[1;31mStopIteration\u001b[0m: "
     ]
    }
   ],
   "source": [
    "next(i1)"
   ]
  },
  {
   "cell_type": "code",
   "execution_count": 10,
   "id": "cc3feffc",
   "metadata": {},
   "outputs": [
    {
     "ename": "TypeError",
     "evalue": "'list' object is not an iterator",
     "output_type": "error",
     "traceback": [
      "\u001b[1;31m---------------------------------------------------------------------------\u001b[0m",
      "\u001b[1;31mTypeError\u001b[0m                                 Traceback (most recent call last)",
      "\u001b[1;32m~\\AppData\\Local\\Temp\\ipykernel_2248\\4069969249.py\u001b[0m in \u001b[0;36m<module>\u001b[1;34m\u001b[0m\n\u001b[1;32m----> 1\u001b[1;33m \u001b[0mnext\u001b[0m\u001b[1;33m(\u001b[0m\u001b[0ml1\u001b[0m\u001b[1;33m)\u001b[0m\u001b[1;33m\u001b[0m\u001b[1;33m\u001b[0m\u001b[0m\n\u001b[0m",
      "\u001b[1;31mTypeError\u001b[0m: 'list' object is not an iterator"
     ]
    }
   ],
   "source": [
    "next(l1)"
   ]
  },
  {
   "cell_type": "code",
   "execution_count": 19,
   "id": "36833df8",
   "metadata": {},
   "outputs": [
    {
     "data": {
      "text/plain": [
       "(int, 1)"
      ]
     },
     "execution_count": 19,
     "metadata": {},
     "output_type": "execute_result"
    }
   ],
   "source": [
    "def square_numbers1(nums):\n",
    "    for i in nums:\n",
    "        return (i*i)\n",
    "\n",
    "my_nums1 = square_numbers1([1,2,3,4,5])\n",
    "type(my_nums1), my_nums1"
   ]
  },
  {
   "cell_type": "code",
   "execution_count": 21,
   "id": "a9bb667b",
   "metadata": {},
   "outputs": [
    {
     "data": {
      "text/plain": [
       "1"
      ]
     },
     "execution_count": 21,
     "metadata": {},
     "output_type": "execute_result"
    }
   ],
   "source": [
    "my_nums1"
   ]
  },
  {
   "cell_type": "code",
   "execution_count": 22,
   "id": "017a3d92",
   "metadata": {},
   "outputs": [
    {
     "data": {
      "text/plain": [
       "generator"
      ]
     },
     "execution_count": 22,
     "metadata": {},
     "output_type": "execute_result"
    }
   ],
   "source": [
    "def square_numbers(nums):\n",
    "    for i in nums:\n",
    "        yield (i*i)\n",
    "\n",
    "my_nums = square_numbers([1,2,3,4,5])\n",
    "type(my_nums)"
   ]
  },
  {
   "cell_type": "code",
   "execution_count": 18,
   "id": "68e23aa3",
   "metadata": {},
   "outputs": [
    {
     "data": {
      "text/plain": [
       "<generator object square_numbers at 0x00000288809B1740>"
      ]
     },
     "execution_count": 18,
     "metadata": {},
     "output_type": "execute_result"
    }
   ],
   "source": [
    "my_nums"
   ]
  },
  {
   "cell_type": "code",
   "execution_count": 12,
   "id": "95ea78f9",
   "metadata": {},
   "outputs": [
    {
     "data": {
      "text/plain": [
       "1"
      ]
     },
     "execution_count": 12,
     "metadata": {},
     "output_type": "execute_result"
    }
   ],
   "source": [
    "next(my_nums)"
   ]
  },
  {
   "cell_type": "code",
   "execution_count": 13,
   "id": "7217cbf6",
   "metadata": {},
   "outputs": [
    {
     "data": {
      "text/plain": [
       "4"
      ]
     },
     "execution_count": 13,
     "metadata": {},
     "output_type": "execute_result"
    }
   ],
   "source": [
    "next(my_nums)"
   ]
  },
  {
   "cell_type": "code",
   "execution_count": 14,
   "id": "2789d21c",
   "metadata": {},
   "outputs": [
    {
     "data": {
      "text/plain": [
       "9"
      ]
     },
     "execution_count": 14,
     "metadata": {},
     "output_type": "execute_result"
    }
   ],
   "source": [
    "next(my_nums)"
   ]
  },
  {
   "cell_type": "code",
   "execution_count": 15,
   "id": "e8e7d5f4",
   "metadata": {},
   "outputs": [
    {
     "data": {
      "text/plain": [
       "16"
      ]
     },
     "execution_count": 15,
     "metadata": {},
     "output_type": "execute_result"
    }
   ],
   "source": [
    "next(my_nums)"
   ]
  },
  {
   "cell_type": "code",
   "execution_count": 16,
   "id": "7ff1107f",
   "metadata": {},
   "outputs": [
    {
     "data": {
      "text/plain": [
       "25"
      ]
     },
     "execution_count": 16,
     "metadata": {},
     "output_type": "execute_result"
    }
   ],
   "source": [
    "next(my_nums)"
   ]
  },
  {
   "cell_type": "code",
   "execution_count": 17,
   "id": "2cc0c79e",
   "metadata": {},
   "outputs": [
    {
     "ename": "StopIteration",
     "evalue": "",
     "output_type": "error",
     "traceback": [
      "\u001b[1;31m---------------------------------------------------------------------------\u001b[0m",
      "\u001b[1;31mStopIteration\u001b[0m                             Traceback (most recent call last)",
      "\u001b[1;32m~\\AppData\\Local\\Temp\\ipykernel_2248\\3278837729.py\u001b[0m in \u001b[0;36m<module>\u001b[1;34m\u001b[0m\n\u001b[1;32m----> 1\u001b[1;33m \u001b[0mnext\u001b[0m\u001b[1;33m(\u001b[0m\u001b[0mmy_nums\u001b[0m\u001b[1;33m)\u001b[0m\u001b[1;33m\u001b[0m\u001b[1;33m\u001b[0m\u001b[0m\n\u001b[0m",
      "\u001b[1;31mStopIteration\u001b[0m: "
     ]
    }
   ],
   "source": [
    "next(my_nums)"
   ]
  },
  {
   "cell_type": "markdown",
   "id": "6a26292d",
   "metadata": {},
   "source": [
    "String Capitalization:\n",
    "\n",
    "Implement a function to capitalize the first letter of each word in a sentence without using any inbuilt string functions."
   ]
  },
  {
   "cell_type": "code",
   "execution_count": 30,
   "id": "f6e6da7b",
   "metadata": {},
   "outputs": [
    {
     "name": "stdout",
     "output_type": "stream",
     "text": [
      "Hello World In Python\n"
     ]
    }
   ],
   "source": [
    "def capitalize_words(sentence):\n",
    "    words = sentence.split(' ')\n",
    "    capitalized_words=[]\n",
    "    for w in words:\n",
    "        capitalized_words.append(w[0].upper()+w[1:])\n",
    "    #capitalized_words = [w[0].upper() + w[1:] for w in words]\n",
    "    return ' '.join(capitalized_words)\n",
    "\n",
    "# Example\n",
    "input_sentence = \"hello world in python\"\n",
    "result_capitalized = capitalize_words(input_sentence)\n",
    "print(result_capitalized)\n"
   ]
  },
  {
   "cell_type": "code",
   "execution_count": 34,
   "id": "d3fb0929",
   "metadata": {},
   "outputs": [
    {
     "data": {
      "text/plain": [
       "['THIS', 'IS', 'A', 'GOOD', 'DAY']"
      ]
     },
     "execution_count": 34,
     "metadata": {},
     "output_type": "execute_result"
    }
   ],
   "source": [
    "sen = 'this is a good day'\n",
    "split_sen = sen.split(' ')\n",
    "l1 = []\n",
    "for i in split_sen:\n",
    "    l1.append(i.upper())\n",
    "\n",
    "l1"
   ]
  },
  {
   "cell_type": "code",
   "execution_count": 35,
   "id": "ce198818",
   "metadata": {},
   "outputs": [
    {
     "data": {
      "text/plain": [
       "['THIS', 'IS', 'A', 'GOOD', 'DAY']"
      ]
     },
     "execution_count": 35,
     "metadata": {},
     "output_type": "execute_result"
    }
   ],
   "source": [
    "l1 = [i.upper() for i in split_sen]\n",
    "l1"
   ]
  },
  {
   "cell_type": "code",
   "execution_count": 29,
   "id": "fa4bf80b",
   "metadata": {},
   "outputs": [
    {
     "data": {
      "text/plain": [
       "'Hello I Am Rahda'"
      ]
     },
     "execution_count": 29,
     "metadata": {},
     "output_type": "execute_result"
    }
   ],
   "source": [
    "strn = \"hello i am rahda\"\n",
    "\n",
    "strn.title()"
   ]
  },
  {
   "cell_type": "markdown",
   "id": "7a3c21e1",
   "metadata": {},
   "source": [
    "Unique Elements:\n",
    "\n",
    "Write a Python function to find and return the unique elements in a list without using any inbuilt functions."
   ]
  },
  {
   "cell_type": "code",
   "execution_count": null,
   "id": "db9eebaf",
   "metadata": {
    "collapsed": true
   },
   "outputs": [],
   "source": [
    "def find_unique_elements(lst):\n",
    "    unique_elements = []\n",
    "    for item in lst:\n",
    "        if lst.count(item) == 1:\n",
    "            unique_elements.append(item)\n",
    "    return unique_elements\n",
    "\n",
    "# Example\n",
    "input_list = [1, 2, 3, 4, 2, 3, 5]\n",
    "result_unique = find_unique_elements(input_list)\n",
    "print(result_unique)\n"
   ]
  },
  {
   "cell_type": "markdown",
   "id": "930d0447",
   "metadata": {},
   "source": [
    "Substring Search:\n",
    "\n",
    "Create a function to check if a given substring is present in a larger string without using any inbuilt functions."
   ]
  },
  {
   "cell_type": "code",
   "execution_count": 38,
   "id": "34cd00b2",
   "metadata": {},
   "outputs": [
    {
     "name": "stdout",
     "output_type": "stream",
     "text": [
      "False\n"
     ]
    }
   ],
   "source": [
    "def is_substring(sub, main):\n",
    "    for i in range(len(main) - len(sub) + 1):\n",
    "        if main[i:i + len(sub)] == sub:\n",
    "            return True\n",
    "    return False\n",
    "\n",
    "# Example\n",
    "main_string = \"programming is fun\"\n",
    "substring_to_find = \"fun is\"\n",
    "print(is_substring(substring_to_find, main_string))\n"
   ]
  },
  {
   "cell_type": "code",
   "execution_count": 44,
   "id": "f0148d78",
   "metadata": {},
   "outputs": [
    {
     "name": "stdout",
     "output_type": "stream",
     "text": [
      "False\n"
     ]
    }
   ],
   "source": [
    "def is_substring(sub, main):\n",
    "    if sub in main:\n",
    "        return True\n",
    "    else:\n",
    "        return False\n",
    "\n",
    "# Example\n",
    "main_string = \"programming is fun\"\n",
    "substring_to_find = \"fun is\"\n",
    "print(is_substring(substring_to_find, main_string))\n"
   ]
  },
  {
   "cell_type": "code",
   "execution_count": 45,
   "id": "b5b25986",
   "metadata": {},
   "outputs": [
    {
     "data": {
      "text/plain": [
       "False"
      ]
     },
     "execution_count": 45,
     "metadata": {},
     "output_type": "execute_result"
    }
   ],
   "source": [
    "substring_to_find in main_string"
   ]
  },
  {
   "cell_type": "code",
   "execution_count": 46,
   "id": "3a76efb9",
   "metadata": {},
   "outputs": [
    {
     "data": {
      "text/plain": [
       "False"
      ]
     },
     "execution_count": 46,
     "metadata": {},
     "output_type": "execute_result"
    }
   ],
   "source": [
    "is_substring(substring_to_find, main_string)"
   ]
  },
  {
   "cell_type": "code",
   "execution_count": 11,
   "id": "0e14f5e8",
   "metadata": {},
   "outputs": [],
   "source": [
    "l1 = [10,20,'nn']\n",
    "l2 = ['gg', 100]\n"
   ]
  },
  {
   "cell_type": "code",
   "execution_count": 8,
   "id": "ce2b7f6f",
   "metadata": {},
   "outputs": [
    {
     "data": {
      "text/plain": [
       "[10, 20, 'nn', 1000]"
      ]
     },
     "execution_count": 8,
     "metadata": {},
     "output_type": "execute_result"
    }
   ],
   "source": [
    "l1.append(1000)\n",
    "l1"
   ]
  },
  {
   "cell_type": "code",
   "execution_count": 15,
   "id": "45ecc8c6",
   "metadata": {},
   "outputs": [
    {
     "data": {
      "text/plain": [
       "[10, 20, 'nn', 1000, 'n', 'e', 'h', 'a', 'neha']"
      ]
     },
     "execution_count": 15,
     "metadata": {},
     "output_type": "execute_result"
    }
   ],
   "source": [
    "l1.extend(['neha'])\n",
    "l1"
   ]
  },
  {
   "cell_type": "code",
   "execution_count": 4,
   "id": "7ef9a286",
   "metadata": {},
   "outputs": [
    {
     "data": {
      "text/plain": [
       "[10, 20, 'nn', ['gg', 100]]"
      ]
     },
     "execution_count": 4,
     "metadata": {},
     "output_type": "execute_result"
    }
   ],
   "source": [
    "l1.append(l2)\n",
    "l1"
   ]
  },
  {
   "cell_type": "code",
   "execution_count": 6,
   "id": "af2e0363",
   "metadata": {},
   "outputs": [
    {
     "data": {
      "text/plain": [
       "[10, 20, 'nn', 'gg', 100]"
      ]
     },
     "execution_count": 6,
     "metadata": {},
     "output_type": "execute_result"
    }
   ],
   "source": [
    "l1.extend(l2)\n",
    "l1"
   ]
  },
  {
   "cell_type": "code",
   "execution_count": 19,
   "id": "4bdd333d",
   "metadata": {},
   "outputs": [],
   "source": [
    "d1 = {'name':['neha', 'sina', 'gg', 20,30], 'age':[20,30,35]}"
   ]
  },
  {
   "cell_type": "code",
   "execution_count": 20,
   "id": "857f777b",
   "metadata": {},
   "outputs": [
    {
     "ename": "ValueError",
     "evalue": "All arrays must be of the same length",
     "output_type": "error",
     "traceback": [
      "\u001b[1;31m---------------------------------------------------------------------------\u001b[0m",
      "\u001b[1;31mValueError\u001b[0m                                Traceback (most recent call last)",
      "\u001b[1;32m~\\AppData\\Local\\Temp\\ipykernel_16148\\51739057.py\u001b[0m in \u001b[0;36m<module>\u001b[1;34m\u001b[0m\n\u001b[0;32m      1\u001b[0m \u001b[1;32mimport\u001b[0m \u001b[0mpandas\u001b[0m \u001b[1;32mas\u001b[0m \u001b[0mpd\u001b[0m\u001b[1;33m\u001b[0m\u001b[1;33m\u001b[0m\u001b[0m\n\u001b[1;32m----> 2\u001b[1;33m \u001b[0md2\u001b[0m \u001b[1;33m=\u001b[0m \u001b[0mpd\u001b[0m\u001b[1;33m.\u001b[0m\u001b[0mDataFrame\u001b[0m\u001b[1;33m(\u001b[0m\u001b[0md1\u001b[0m\u001b[1;33m)\u001b[0m\u001b[1;33m\u001b[0m\u001b[1;33m\u001b[0m\u001b[0m\n\u001b[0m\u001b[0;32m      3\u001b[0m \u001b[0md2\u001b[0m\u001b[1;33m\u001b[0m\u001b[1;33m\u001b[0m\u001b[0m\n",
      "\u001b[1;32m~\\anaconda3\\lib\\site-packages\\pandas\\core\\frame.py\u001b[0m in \u001b[0;36m__init__\u001b[1;34m(self, data, index, columns, dtype, copy)\u001b[0m\n\u001b[0;32m    634\u001b[0m         \u001b[1;32melif\u001b[0m \u001b[0misinstance\u001b[0m\u001b[1;33m(\u001b[0m\u001b[0mdata\u001b[0m\u001b[1;33m,\u001b[0m \u001b[0mdict\u001b[0m\u001b[1;33m)\u001b[0m\u001b[1;33m:\u001b[0m\u001b[1;33m\u001b[0m\u001b[1;33m\u001b[0m\u001b[0m\n\u001b[0;32m    635\u001b[0m             \u001b[1;31m# GH#38939 de facto copy defaults to False only in non-dict cases\u001b[0m\u001b[1;33m\u001b[0m\u001b[1;33m\u001b[0m\u001b[0m\n\u001b[1;32m--> 636\u001b[1;33m             \u001b[0mmgr\u001b[0m \u001b[1;33m=\u001b[0m \u001b[0mdict_to_mgr\u001b[0m\u001b[1;33m(\u001b[0m\u001b[0mdata\u001b[0m\u001b[1;33m,\u001b[0m \u001b[0mindex\u001b[0m\u001b[1;33m,\u001b[0m \u001b[0mcolumns\u001b[0m\u001b[1;33m,\u001b[0m \u001b[0mdtype\u001b[0m\u001b[1;33m=\u001b[0m\u001b[0mdtype\u001b[0m\u001b[1;33m,\u001b[0m \u001b[0mcopy\u001b[0m\u001b[1;33m=\u001b[0m\u001b[0mcopy\u001b[0m\u001b[1;33m,\u001b[0m \u001b[0mtyp\u001b[0m\u001b[1;33m=\u001b[0m\u001b[0mmanager\u001b[0m\u001b[1;33m)\u001b[0m\u001b[1;33m\u001b[0m\u001b[1;33m\u001b[0m\u001b[0m\n\u001b[0m\u001b[0;32m    637\u001b[0m         \u001b[1;32melif\u001b[0m \u001b[0misinstance\u001b[0m\u001b[1;33m(\u001b[0m\u001b[0mdata\u001b[0m\u001b[1;33m,\u001b[0m \u001b[0mma\u001b[0m\u001b[1;33m.\u001b[0m\u001b[0mMaskedArray\u001b[0m\u001b[1;33m)\u001b[0m\u001b[1;33m:\u001b[0m\u001b[1;33m\u001b[0m\u001b[1;33m\u001b[0m\u001b[0m\n\u001b[0;32m    638\u001b[0m             \u001b[1;32mimport\u001b[0m \u001b[0mnumpy\u001b[0m\u001b[1;33m.\u001b[0m\u001b[0mma\u001b[0m\u001b[1;33m.\u001b[0m\u001b[0mmrecords\u001b[0m \u001b[1;32mas\u001b[0m \u001b[0mmrecords\u001b[0m\u001b[1;33m\u001b[0m\u001b[1;33m\u001b[0m\u001b[0m\n",
      "\u001b[1;32m~\\anaconda3\\lib\\site-packages\\pandas\\core\\internals\\construction.py\u001b[0m in \u001b[0;36mdict_to_mgr\u001b[1;34m(data, index, columns, dtype, typ, copy)\u001b[0m\n\u001b[0;32m    500\u001b[0m         \u001b[1;31m# TODO: can we get rid of the dt64tz special case above?\u001b[0m\u001b[1;33m\u001b[0m\u001b[1;33m\u001b[0m\u001b[0m\n\u001b[0;32m    501\u001b[0m \u001b[1;33m\u001b[0m\u001b[0m\n\u001b[1;32m--> 502\u001b[1;33m     \u001b[1;32mreturn\u001b[0m \u001b[0marrays_to_mgr\u001b[0m\u001b[1;33m(\u001b[0m\u001b[0marrays\u001b[0m\u001b[1;33m,\u001b[0m \u001b[0mcolumns\u001b[0m\u001b[1;33m,\u001b[0m \u001b[0mindex\u001b[0m\u001b[1;33m,\u001b[0m \u001b[0mdtype\u001b[0m\u001b[1;33m=\u001b[0m\u001b[0mdtype\u001b[0m\u001b[1;33m,\u001b[0m \u001b[0mtyp\u001b[0m\u001b[1;33m=\u001b[0m\u001b[0mtyp\u001b[0m\u001b[1;33m,\u001b[0m \u001b[0mconsolidate\u001b[0m\u001b[1;33m=\u001b[0m\u001b[0mcopy\u001b[0m\u001b[1;33m)\u001b[0m\u001b[1;33m\u001b[0m\u001b[1;33m\u001b[0m\u001b[0m\n\u001b[0m\u001b[0;32m    503\u001b[0m \u001b[1;33m\u001b[0m\u001b[0m\n\u001b[0;32m    504\u001b[0m \u001b[1;33m\u001b[0m\u001b[0m\n",
      "\u001b[1;32m~\\anaconda3\\lib\\site-packages\\pandas\\core\\internals\\construction.py\u001b[0m in \u001b[0;36marrays_to_mgr\u001b[1;34m(arrays, columns, index, dtype, verify_integrity, typ, consolidate)\u001b[0m\n\u001b[0;32m    118\u001b[0m         \u001b[1;31m# figure out the index, if necessary\u001b[0m\u001b[1;33m\u001b[0m\u001b[1;33m\u001b[0m\u001b[0m\n\u001b[0;32m    119\u001b[0m         \u001b[1;32mif\u001b[0m \u001b[0mindex\u001b[0m \u001b[1;32mis\u001b[0m \u001b[1;32mNone\u001b[0m\u001b[1;33m:\u001b[0m\u001b[1;33m\u001b[0m\u001b[1;33m\u001b[0m\u001b[0m\n\u001b[1;32m--> 120\u001b[1;33m             \u001b[0mindex\u001b[0m \u001b[1;33m=\u001b[0m \u001b[0m_extract_index\u001b[0m\u001b[1;33m(\u001b[0m\u001b[0marrays\u001b[0m\u001b[1;33m)\u001b[0m\u001b[1;33m\u001b[0m\u001b[1;33m\u001b[0m\u001b[0m\n\u001b[0m\u001b[0;32m    121\u001b[0m         \u001b[1;32melse\u001b[0m\u001b[1;33m:\u001b[0m\u001b[1;33m\u001b[0m\u001b[1;33m\u001b[0m\u001b[0m\n\u001b[0;32m    122\u001b[0m             \u001b[0mindex\u001b[0m \u001b[1;33m=\u001b[0m \u001b[0mensure_index\u001b[0m\u001b[1;33m(\u001b[0m\u001b[0mindex\u001b[0m\u001b[1;33m)\u001b[0m\u001b[1;33m\u001b[0m\u001b[1;33m\u001b[0m\u001b[0m\n",
      "\u001b[1;32m~\\anaconda3\\lib\\site-packages\\pandas\\core\\internals\\construction.py\u001b[0m in \u001b[0;36m_extract_index\u001b[1;34m(data)\u001b[0m\n\u001b[0;32m    672\u001b[0m             \u001b[0mlengths\u001b[0m \u001b[1;33m=\u001b[0m \u001b[0mlist\u001b[0m\u001b[1;33m(\u001b[0m\u001b[0mset\u001b[0m\u001b[1;33m(\u001b[0m\u001b[0mraw_lengths\u001b[0m\u001b[1;33m)\u001b[0m\u001b[1;33m)\u001b[0m\u001b[1;33m\u001b[0m\u001b[1;33m\u001b[0m\u001b[0m\n\u001b[0;32m    673\u001b[0m             \u001b[1;32mif\u001b[0m \u001b[0mlen\u001b[0m\u001b[1;33m(\u001b[0m\u001b[0mlengths\u001b[0m\u001b[1;33m)\u001b[0m \u001b[1;33m>\u001b[0m \u001b[1;36m1\u001b[0m\u001b[1;33m:\u001b[0m\u001b[1;33m\u001b[0m\u001b[1;33m\u001b[0m\u001b[0m\n\u001b[1;32m--> 674\u001b[1;33m                 \u001b[1;32mraise\u001b[0m \u001b[0mValueError\u001b[0m\u001b[1;33m(\u001b[0m\u001b[1;34m\"All arrays must be of the same length\"\u001b[0m\u001b[1;33m)\u001b[0m\u001b[1;33m\u001b[0m\u001b[1;33m\u001b[0m\u001b[0m\n\u001b[0m\u001b[0;32m    675\u001b[0m \u001b[1;33m\u001b[0m\u001b[0m\n\u001b[0;32m    676\u001b[0m             \u001b[1;32mif\u001b[0m \u001b[0mhave_dicts\u001b[0m\u001b[1;33m:\u001b[0m\u001b[1;33m\u001b[0m\u001b[1;33m\u001b[0m\u001b[0m\n",
      "\u001b[1;31mValueError\u001b[0m: All arrays must be of the same length"
     ]
    }
   ],
   "source": [
    "import pandas as pd\n",
    "d2 = pd.DataFrame(d1)\n",
    "d2"
   ]
  },
  {
   "cell_type": "markdown",
   "id": "d82a5776",
   "metadata": {},
   "source": [
    "## List Sets"
   ]
  },
  {
   "cell_type": "markdown",
   "id": "a2bb7171",
   "metadata": {},
   "source": [
    "Question 1: Sum of Even Numbers"
   ]
  },
  {
   "cell_type": "code",
   "execution_count": 24,
   "id": "96d5200d",
   "metadata": {},
   "outputs": [
    {
     "name": "stdout",
     "output_type": "stream",
     "text": [
      "30\n"
     ]
    }
   ],
   "source": [
    "# Write a function to find the sum of all even numbers in a list.\n",
    "def sum_of_even_numbers(lst):\n",
    "    return sum(num for num in lst if type(num)== int and num % 2 == 0 )\n",
    "\n",
    "# Example usage:\n",
    "my_list = [1, 2, 3, 4, 5, 6, 7, 8, 9, 10, 'nn']\n",
    "result = sum_of_even_numbers(my_list)\n",
    "print(result)  # Output: 30\n"
   ]
  },
  {
   "cell_type": "code",
   "execution_count": 25,
   "id": "e41d9669",
   "metadata": {},
   "outputs": [
    {
     "data": {
      "text/plain": [
       "False"
      ]
     },
     "execution_count": 25,
     "metadata": {},
     "output_type": "execute_result"
    }
   ],
   "source": [
    "'neha'.isnumeric()"
   ]
  },
  {
   "cell_type": "markdown",
   "id": "4ed99a88",
   "metadata": {},
   "source": [
    "Question 2: List Rotation"
   ]
  },
  {
   "cell_type": "code",
   "execution_count": null,
   "id": "f263aa2e",
   "metadata": {},
   "outputs": [],
   "source": [
    "# Write a function to rotate a list to the right by k steps.\n",
    "def rotate_list(lst, k):\n",
    "    k = k % len(lst)\n",
    "    return lst[-k:] + lst[:-k]\n",
    "\n",
    "# Example usage:\n",
    "my_list = [1, 2, 3, 4, 5]\n",
    "result = rotate_list(my_list, 2)\n",
    "print(result)  # Output: [4, 5, 1, 2, 3]\n"
   ]
  },
  {
   "cell_type": "code",
   "execution_count": null,
   "id": "77f5494a",
   "metadata": {},
   "outputs": [],
   "source": [
    "# Write a function to find all sublists of a list where the sum is a specific value.\n",
    "def sublists_with_sum(lst, target_sum):\n",
    "    result = []\n",
    "    for i in range(len(lst)):\n",
    "        for j in range(i + 1, len(lst) + 1):\n",
    "            if sum(lst[i:j]) == target_sum:\n",
    "                result.append(lst[i:j])\n",
    "    return result\n",
    "\n",
    "# Example usage:\n",
    "my_list = [1, 2, 3, 4, 5]\n",
    "target = 8\n",
    "result = sublists_with_sum(my_list, target)\n",
    "print(result)  # Output: [[3, 4, 5], [8]]\n"
   ]
  },
  {
   "cell_type": "code",
   "execution_count": 28,
   "id": "f6b03bf9",
   "metadata": {},
   "outputs": [
    {
     "name": "stdout",
     "output_type": "stream",
     "text": [
      "False\n"
     ]
    }
   ],
   "source": [
    "# Write a function to check if two strings are anagrams (contain the same characters with the same frequency).\n",
    "def are_anagrams(str1, str2):\n",
    "    return count_characters(str1) == count_characters(str2)\n",
    "\n",
    "# Example usage:\n",
    "string1 = \"listen\"\n",
    "string2 = \"silentt\"\n",
    "result = are_anagrams(string1, string2)\n",
    "print(result)  # Output: True"
   ]
  },
  {
   "cell_type": "code",
   "execution_count": 26,
   "id": "4d4fc56a",
   "metadata": {},
   "outputs": [
    {
     "name": "stdout",
     "output_type": "stream",
     "text": [
      "{'p': 1, 'r': 2, 'o': 1, 'g': 2, 'a': 1, 'm': 2, 'i': 1, 'n': 1}\n"
     ]
    }
   ],
   "source": [
    "# Write a function to count the occurrences of each character in a string and store the results in a dictionary.\n",
    "def count_characters(string):\n",
    "    char_count = {}\n",
    "    for char in string:\n",
    "        char_count[char] = char_count.get(char, 0) + 1\n",
    "    return char_count\n",
    "\n",
    "# Example usage:\n",
    "my_string = \"programming\"\n",
    "result = count_characters(my_string)\n",
    "print(result)  # Output: {'p': 1, 'r': 2, 'o': 1, 'g': 2, 'a': 1, 'm': 2, 'i': 1, 'n': 1}\n"
   ]
  },
  {
   "cell_type": "code",
   "execution_count": null,
   "id": "9910c757",
   "metadata": {},
   "outputs": [],
   "source": [
    "# Write a function to find common keys between two dictionaries.\n",
    "def common_keys(dict1, dict2):\n",
    "    return set(dict1.keys()) & set(dict2.keys())\n",
    "\n",
    "# Example usage:\n",
    "dict_x = {'a': 1, 'b': 2, 'c': 3}\n",
    "dict_y = {'b': 4, 'c': 5, 'd': 6}\n",
    "result = common_keys(dict_x, dict_y)\n",
    "print(result)  # Output: {'b', 'c'}\n"
   ]
  },
  {
   "cell_type": "code",
   "execution_count": 29,
   "id": "bf31f50b",
   "metadata": {},
   "outputs": [
    {
     "name": "stdout",
     "output_type": "stream",
     "text": [
      "{'a': 1, 'b': 3, 'c': 4}\n"
     ]
    }
   ],
   "source": [
    "# Write a function to merge two dictionaries.\n",
    "def merge_dicts(dict1, dict2):\n",
    "    merged_dict = dict1.copy()\n",
    "    merged_dict.update(dict2)\n",
    "    return merged_dict\n",
    "\n",
    "# Example usage:\n",
    "dict_a = {'a': 1, 'b': 2}\n",
    "dict_b = {'b': 3, 'c': 4}\n",
    "result = merge_dicts(dict_a, dict_b)\n",
    "print(result)  # Output: {'a': 1, 'b': 3, 'c': 4}\n"
   ]
  },
  {
   "cell_type": "code",
   "execution_count": 35,
   "id": "6c8b5f48",
   "metadata": {},
   "outputs": [
    {
     "data": {
      "text/plain": [
       "{'a', 'b', 'c'}"
      ]
     },
     "execution_count": 35,
     "metadata": {},
     "output_type": "execute_result"
    }
   ],
   "source": [
    "keys"
   ]
  },
  {
   "cell_type": "code",
   "execution_count": 38,
   "id": "159e6082",
   "metadata": {},
   "outputs": [
    {
     "name": "stdout",
     "output_type": "stream",
     "text": [
      "c\n",
      "a\n",
      "b\n"
     ]
    }
   ],
   "source": [
    "d3={}\n",
    "keys = set(list(dict_a.keys())+list(dict_b.keys()))\n",
    "for i in keys:\n",
    "    print(i)\n",
    "    if (i in dict_a.keys()) and (i in dict_b.keys()):\n",
    "        d3[i]=[dict_a[i], dict_b[i]]\n",
    "    elif i in dict_a.keys():\n",
    "        d3[i]= dict_a[i]\n",
    "    else:\n",
    "        d3[i] = dict_b[i]"
   ]
  },
  {
   "cell_type": "code",
   "execution_count": 39,
   "id": "131c1749",
   "metadata": {},
   "outputs": [
    {
     "data": {
      "text/plain": [
       "{'c': 4, 'a': 1, 'b': [2, 3]}"
      ]
     },
     "execution_count": 39,
     "metadata": {},
     "output_type": "execute_result"
    }
   ],
   "source": [
    "d3"
   ]
  },
  {
   "cell_type": "code",
   "execution_count": 1,
   "id": "c611fafe",
   "metadata": {},
   "outputs": [
    {
     "name": "stdout",
     "output_type": "stream",
     "text": [
      "['123-456-7890', '987.654.3210']\n"
     ]
    }
   ],
   "source": [
    "# Write a function to extract all valid phone numbers from a text using regular expressions.\n",
    "import re\n",
    "\n",
    "def extract_phone_numbers(text):\n",
    "    pattern = r'\\b\\d{3}[-.\\s]?\\d{3}[-.\\s]?\\d{4}\\b'\n",
    "    return re.findall(pattern, text)\n",
    "\n",
    "# Example usage:\n",
    "text_with_numbers = \"Contact us at 123-456-7890 or 987.654.3210 for assistance.\"\n",
    "result = extract_phone_numbers(text_with_numbers)\n",
    "print(result)  # Output: ['123-456-7890', '987.654.3210']\n"
   ]
  },
  {
   "cell_type": "code",
   "execution_count": null,
   "id": "30f00410",
   "metadata": {},
   "outputs": [],
   "source": [
    "# Write a function to validate if an email address is in a valid format using regular expressions.\n",
    "import re\n",
    "\n",
    "def is_valid_email(email):\n",
    "    pattern = r'^[a-zA-Z0-9._%+-]+@[a-zA-Z0-9.-]+\\.[a-zA-Z]{2,}$'\n",
    "    return bool(re.match(pattern, email))\n",
    "\n",
    "# Example usage:\n",
    "email_address = \"user@example.com\"\n",
    "result = is_valid_email(email_address)\n",
    "print(result)  # Output: True\n"
   ]
  },
  {
   "cell_type": "code",
   "execution_count": null,
   "id": "24ca4e23",
   "metadata": {},
   "outputs": [],
   "source": [
    "# Write a function to count the number of vowels and consonants in a string.\n",
    "def count_vowels_consonants(s):\n",
    "    vowels = \"aeiouAEIOU\"\n",
    "    vowel_count = sum(1 for char in s if char in vowels)\n",
    "    consonant_count = len(s) - vowel_count\n",
    "    return vowel_count, consonant_count\n",
    "\n",
    "# Example usage:\n",
    "my_string = \"Hello World\"\n",
    "result = count_vowels_consonants(my_string)\n",
    "print(result)  # Output: (3, 7)\n"
   ]
  },
  {
   "cell_type": "code",
   "execution_count": null,
   "id": "a44cd127",
   "metadata": {},
   "outputs": [],
   "source": []
  }
 ],
 "metadata": {
  "kernelspec": {
   "display_name": "Python 3 (ipykernel)",
   "language": "python",
   "name": "python3"
  },
  "language_info": {
   "codemirror_mode": {
    "name": "ipython",
    "version": 3
   },
   "file_extension": ".py",
   "mimetype": "text/x-python",
   "name": "python",
   "nbconvert_exporter": "python",
   "pygments_lexer": "ipython3",
   "version": "3.9.13"
  }
 },
 "nbformat": 4,
 "nbformat_minor": 5
}
