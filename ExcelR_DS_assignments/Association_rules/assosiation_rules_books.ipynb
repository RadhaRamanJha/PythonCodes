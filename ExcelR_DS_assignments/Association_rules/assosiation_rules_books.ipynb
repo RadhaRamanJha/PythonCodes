{
 "cells": [
  {
   "cell_type": "code",
   "execution_count": 43,
   "id": "97e069c1",
   "metadata": {},
   "outputs": [],
   "source": [
    "import warnings\n",
    "warnings.filterwarnings(action='ignore')"
   ]
  },
  {
   "cell_type": "code",
   "execution_count": 2,
   "id": "ca112516",
   "metadata": {},
   "outputs": [],
   "source": [
    "#import pandas and numpy libraries\n",
    "import pandas as pd\n",
    "import numpy as np\n",
    "## Libraries to establish assosiation rule\n",
    "from mlxtend.preprocessing import TransactionEncoder\n",
    "from mlxtend.frequent_patterns import apriori\n",
    "from mlxtend.frequent_patterns import association_rules\n",
    "## Visualiztion Library Imports\n",
    "import matplotlib\n",
    "import matplotlib.pyplot as plt\n",
    "%matplotlib inline\n",
    "import seaborn as sns"
   ]
  },
  {
   "cell_type": "code",
   "execution_count": 3,
   "id": "5b693455",
   "metadata": {},
   "outputs": [],
   "source": [
    "books = pd.read_csv(\"book.csv\")"
   ]
  },
  {
   "cell_type": "code",
   "execution_count": 4,
   "id": "c90095c7",
   "metadata": {},
   "outputs": [
    {
     "data": {
      "text/html": [
       "<div>\n",
       "<style scoped>\n",
       "    .dataframe tbody tr th:only-of-type {\n",
       "        vertical-align: middle;\n",
       "    }\n",
       "\n",
       "    .dataframe tbody tr th {\n",
       "        vertical-align: top;\n",
       "    }\n",
       "\n",
       "    .dataframe thead th {\n",
       "        text-align: right;\n",
       "    }\n",
       "</style>\n",
       "<table border=\"1\" class=\"dataframe\">\n",
       "  <thead>\n",
       "    <tr style=\"text-align: right;\">\n",
       "      <th></th>\n",
       "      <th>ChildBks</th>\n",
       "      <th>YouthBks</th>\n",
       "      <th>CookBks</th>\n",
       "      <th>DoItYBks</th>\n",
       "      <th>RefBks</th>\n",
       "      <th>ArtBks</th>\n",
       "      <th>GeogBks</th>\n",
       "      <th>ItalCook</th>\n",
       "      <th>ItalAtlas</th>\n",
       "      <th>ItalArt</th>\n",
       "      <th>Florence</th>\n",
       "    </tr>\n",
       "  </thead>\n",
       "  <tbody>\n",
       "    <tr>\n",
       "      <th>0</th>\n",
       "      <td>0</td>\n",
       "      <td>1</td>\n",
       "      <td>0</td>\n",
       "      <td>1</td>\n",
       "      <td>0</td>\n",
       "      <td>0</td>\n",
       "      <td>1</td>\n",
       "      <td>0</td>\n",
       "      <td>0</td>\n",
       "      <td>0</td>\n",
       "      <td>0</td>\n",
       "    </tr>\n",
       "    <tr>\n",
       "      <th>1</th>\n",
       "      <td>1</td>\n",
       "      <td>0</td>\n",
       "      <td>0</td>\n",
       "      <td>0</td>\n",
       "      <td>0</td>\n",
       "      <td>0</td>\n",
       "      <td>0</td>\n",
       "      <td>0</td>\n",
       "      <td>0</td>\n",
       "      <td>0</td>\n",
       "      <td>0</td>\n",
       "    </tr>\n",
       "    <tr>\n",
       "      <th>2</th>\n",
       "      <td>0</td>\n",
       "      <td>0</td>\n",
       "      <td>0</td>\n",
       "      <td>0</td>\n",
       "      <td>0</td>\n",
       "      <td>0</td>\n",
       "      <td>0</td>\n",
       "      <td>0</td>\n",
       "      <td>0</td>\n",
       "      <td>0</td>\n",
       "      <td>0</td>\n",
       "    </tr>\n",
       "    <tr>\n",
       "      <th>3</th>\n",
       "      <td>1</td>\n",
       "      <td>1</td>\n",
       "      <td>1</td>\n",
       "      <td>0</td>\n",
       "      <td>1</td>\n",
       "      <td>0</td>\n",
       "      <td>1</td>\n",
       "      <td>0</td>\n",
       "      <td>0</td>\n",
       "      <td>0</td>\n",
       "      <td>0</td>\n",
       "    </tr>\n",
       "    <tr>\n",
       "      <th>4</th>\n",
       "      <td>0</td>\n",
       "      <td>0</td>\n",
       "      <td>1</td>\n",
       "      <td>0</td>\n",
       "      <td>0</td>\n",
       "      <td>0</td>\n",
       "      <td>1</td>\n",
       "      <td>0</td>\n",
       "      <td>0</td>\n",
       "      <td>0</td>\n",
       "      <td>0</td>\n",
       "    </tr>\n",
       "  </tbody>\n",
       "</table>\n",
       "</div>"
      ],
      "text/plain": [
       "   ChildBks  YouthBks  CookBks  DoItYBks  RefBks  ArtBks  GeogBks  ItalCook  \\\n",
       "0         0         1        0         1       0       0        1         0   \n",
       "1         1         0        0         0       0       0        0         0   \n",
       "2         0         0        0         0       0       0        0         0   \n",
       "3         1         1        1         0       1       0        1         0   \n",
       "4         0         0        1         0       0       0        1         0   \n",
       "\n",
       "   ItalAtlas  ItalArt  Florence  \n",
       "0          0        0         0  \n",
       "1          0        0         0  \n",
       "2          0        0         0  \n",
       "3          0        0         0  \n",
       "4          0        0         0  "
      ]
     },
     "execution_count": 4,
     "metadata": {},
     "output_type": "execute_result"
    }
   ],
   "source": [
    "books.head()"
   ]
  },
  {
   "cell_type": "code",
   "execution_count": 5,
   "id": "203c3fe6",
   "metadata": {},
   "outputs": [
    {
     "data": {
      "text/plain": [
       "(2000, 11)"
      ]
     },
     "execution_count": 5,
     "metadata": {},
     "output_type": "execute_result"
    }
   ],
   "source": [
    "books.shape"
   ]
  },
  {
   "cell_type": "code",
   "execution_count": 6,
   "id": "951a98f6",
   "metadata": {},
   "outputs": [
    {
     "data": {
      "text/plain": [
       "ChildBks     int64\n",
       "YouthBks     int64\n",
       "CookBks      int64\n",
       "DoItYBks     int64\n",
       "RefBks       int64\n",
       "ArtBks       int64\n",
       "GeogBks      int64\n",
       "ItalCook     int64\n",
       "ItalAtlas    int64\n",
       "ItalArt      int64\n",
       "Florence     int64\n",
       "dtype: object"
      ]
     },
     "execution_count": 6,
     "metadata": {},
     "output_type": "execute_result"
    }
   ],
   "source": [
    "books.dtypes"
   ]
  },
  {
   "cell_type": "code",
   "execution_count": 7,
   "id": "95f5b28a",
   "metadata": {
    "scrolled": true
   },
   "outputs": [
    {
     "data": {
      "text/plain": [
       "['ChildBks',\n",
       " 'YouthBks',\n",
       " 'CookBks',\n",
       " 'DoItYBks',\n",
       " 'RefBks',\n",
       " 'ArtBks',\n",
       " 'GeogBks',\n",
       " 'ItalCook',\n",
       " 'ItalAtlas',\n",
       " 'ItalArt',\n",
       " 'Florence']"
      ]
     },
     "execution_count": 7,
     "metadata": {},
     "output_type": "execute_result"
    }
   ],
   "source": [
    "book_types = list(books.columns)\n",
    "book_types"
   ]
  },
  {
   "cell_type": "markdown",
   "id": "0041bb0c",
   "metadata": {},
   "source": [
    "## Changing the data type into bool type"
   ]
  },
  {
   "cell_type": "code",
   "execution_count": 8,
   "id": "936cccdb",
   "metadata": {},
   "outputs": [
    {
     "data": {
      "text/html": [
       "<div>\n",
       "<style scoped>\n",
       "    .dataframe tbody tr th:only-of-type {\n",
       "        vertical-align: middle;\n",
       "    }\n",
       "\n",
       "    .dataframe tbody tr th {\n",
       "        vertical-align: top;\n",
       "    }\n",
       "\n",
       "    .dataframe thead th {\n",
       "        text-align: right;\n",
       "    }\n",
       "</style>\n",
       "<table border=\"1\" class=\"dataframe\">\n",
       "  <thead>\n",
       "    <tr style=\"text-align: right;\">\n",
       "      <th></th>\n",
       "      <th>ChildBks</th>\n",
       "      <th>YouthBks</th>\n",
       "      <th>CookBks</th>\n",
       "      <th>DoItYBks</th>\n",
       "      <th>RefBks</th>\n",
       "      <th>ArtBks</th>\n",
       "      <th>GeogBks</th>\n",
       "      <th>ItalCook</th>\n",
       "      <th>ItalAtlas</th>\n",
       "      <th>ItalArt</th>\n",
       "      <th>Florence</th>\n",
       "    </tr>\n",
       "  </thead>\n",
       "  <tbody>\n",
       "    <tr>\n",
       "      <th>0</th>\n",
       "      <td>False</td>\n",
       "      <td>True</td>\n",
       "      <td>False</td>\n",
       "      <td>True</td>\n",
       "      <td>False</td>\n",
       "      <td>False</td>\n",
       "      <td>True</td>\n",
       "      <td>False</td>\n",
       "      <td>False</td>\n",
       "      <td>False</td>\n",
       "      <td>False</td>\n",
       "    </tr>\n",
       "    <tr>\n",
       "      <th>1</th>\n",
       "      <td>True</td>\n",
       "      <td>False</td>\n",
       "      <td>False</td>\n",
       "      <td>False</td>\n",
       "      <td>False</td>\n",
       "      <td>False</td>\n",
       "      <td>False</td>\n",
       "      <td>False</td>\n",
       "      <td>False</td>\n",
       "      <td>False</td>\n",
       "      <td>False</td>\n",
       "    </tr>\n",
       "    <tr>\n",
       "      <th>2</th>\n",
       "      <td>False</td>\n",
       "      <td>False</td>\n",
       "      <td>False</td>\n",
       "      <td>False</td>\n",
       "      <td>False</td>\n",
       "      <td>False</td>\n",
       "      <td>False</td>\n",
       "      <td>False</td>\n",
       "      <td>False</td>\n",
       "      <td>False</td>\n",
       "      <td>False</td>\n",
       "    </tr>\n",
       "  </tbody>\n",
       "</table>\n",
       "</div>"
      ],
      "text/plain": [
       "   ChildBks  YouthBks  CookBks  DoItYBks  RefBks  ArtBks  GeogBks  ItalCook  \\\n",
       "0     False      True    False      True   False   False     True     False   \n",
       "1      True     False    False     False   False   False    False     False   \n",
       "2     False     False    False     False   False   False    False     False   \n",
       "\n",
       "   ItalAtlas  ItalArt  Florence  \n",
       "0      False    False     False  \n",
       "1      False    False     False  \n",
       "2      False    False     False  "
      ]
     },
     "execution_count": 8,
     "metadata": {},
     "output_type": "execute_result"
    }
   ],
   "source": [
    "data = books.iloc[:].astype('bool')\n",
    "data.head(3)"
   ]
  },
  {
   "cell_type": "code",
   "execution_count": 9,
   "id": "feedbe95",
   "metadata": {},
   "outputs": [
    {
     "data": {
      "text/plain": [
       "Index(['ChildBks', 'YouthBks', 'CookBks', 'DoItYBks', 'RefBks', 'ArtBks',\n",
       "       'GeogBks', 'ItalCook', 'ItalAtlas', 'ItalArt', 'Florence'],\n",
       "      dtype='object')"
      ]
     },
     "execution_count": 9,
     "metadata": {},
     "output_type": "execute_result"
    }
   ],
   "source": [
    "data.columns"
   ]
  },
  {
   "cell_type": "code",
   "execution_count": 10,
   "id": "2614c90b",
   "metadata": {},
   "outputs": [
    {
     "data": {
      "text/plain": [
       "ChildBks     bool\n",
       "YouthBks     bool\n",
       "CookBks      bool\n",
       "DoItYBks     bool\n",
       "RefBks       bool\n",
       "ArtBks       bool\n",
       "GeogBks      bool\n",
       "ItalCook     bool\n",
       "ItalAtlas    bool\n",
       "ItalArt      bool\n",
       "Florence     bool\n",
       "dtype: object"
      ]
     },
     "execution_count": 10,
     "metadata": {},
     "output_type": "execute_result"
    }
   ],
   "source": [
    "data.dtypes"
   ]
  },
  {
   "cell_type": "markdown",
   "id": "4b323550",
   "metadata": {},
   "source": [
    "# Data Mining to Identify rules"
   ]
  },
  {
   "cell_type": "markdown",
   "id": "1db41125",
   "metadata": {},
   "source": [
    "## Frequently Bought Item list :- \n",
    "+ We have records of a total = 2000 tranctions.\n",
    "+ 1. For our evaluation we shall consider items corrosponding to every 500th Purchases.\n",
    "+ Hence the support value for Data Mining shall be 0.25"
   ]
  },
  {
   "cell_type": "code",
   "execution_count": 11,
   "id": "e9415f6a",
   "metadata": {},
   "outputs": [],
   "source": [
    "freq_25 = apriori(data,min_support=0.25,use_colnames=True) # Items corrosponding to minimum 500 Purchases"
   ]
  },
  {
   "cell_type": "markdown",
   "id": "28c27de5",
   "metadata": {},
   "source": [
    "+ Item sets for min_support = 0.25"
   ]
  },
  {
   "cell_type": "code",
   "execution_count": 44,
   "id": "f92a7916",
   "metadata": {},
   "outputs": [
    {
     "data": {
      "image/png": "[encoded data removed]",
      "text/plain": [
       "<Figure size 1000x800 with 1 Axes>"
      ]
     },
     "metadata": {},
     "output_type": "display_data"
    }
   ],
   "source": [
    "import squarify\n",
    "plt.figure(figsize=(10,8))\n",
    "squarify.plot(sizes =freq_25['support'],label=freq_25['itemsets'].apply(lambda x: ', '.join(list(x))),alpha=0.8)\n",
    "plt.title('Tree Map for every 500th Purchases')\n",
    "plt.axis('off')\n",
    "plt.show()"
   ]
  },
  {
   "cell_type": "markdown",
   "id": "a1334aba",
   "metadata": {},
   "source": [
    "## For support = 0.25 and confidence = 0.6"
   ]
  },
  {
   "cell_type": "code",
   "execution_count": 13,
   "id": "96fc966b",
   "metadata": {},
   "outputs": [
    {
     "data": {
      "text/html": [
       "<div>\n",
       "<style scoped>\n",
       "    .dataframe tbody tr th:only-of-type {\n",
       "        vertical-align: middle;\n",
       "    }\n",
       "\n",
       "    .dataframe tbody tr th {\n",
       "        vertical-align: top;\n",
       "    }\n",
       "\n",
       "    .dataframe thead th {\n",
       "        text-align: right;\n",
       "    }\n",
       "</style>\n",
       "<table border=\"1\" class=\"dataframe\">\n",
       "  <thead>\n",
       "    <tr style=\"text-align: right;\">\n",
       "      <th></th>\n",
       "      <th>antecedents</th>\n",
       "      <th>consequents</th>\n",
       "      <th>antecedent support</th>\n",
       "      <th>consequent support</th>\n",
       "      <th>support</th>\n",
       "      <th>confidence</th>\n",
       "      <th>lift</th>\n",
       "      <th>leverage</th>\n",
       "      <th>conviction</th>\n",
       "      <th>zhangs_metric</th>\n",
       "    </tr>\n",
       "  </thead>\n",
       "  <tbody>\n",
       "    <tr>\n",
       "      <th>0</th>\n",
       "      <td>(ChildBks)</td>\n",
       "      <td>(CookBks)</td>\n",
       "      <td>0.423</td>\n",
       "      <td>0.431</td>\n",
       "      <td>0.256</td>\n",
       "      <td>0.605201</td>\n",
       "      <td>1.404179</td>\n",
       "      <td>0.073687</td>\n",
       "      <td>1.44124</td>\n",
       "      <td>0.498856</td>\n",
       "    </tr>\n",
       "  </tbody>\n",
       "</table>\n",
       "</div>"
      ],
      "text/plain": [
       "  antecedents consequents  antecedent support  consequent support  support  \\\n",
       "0  (ChildBks)   (CookBks)               0.423               0.431    0.256   \n",
       "\n",
       "   confidence      lift  leverage  conviction  zhangs_metric  \n",
       "0    0.605201  1.404179  0.073687     1.44124       0.498856  "
      ]
     },
     "execution_count": 13,
     "metadata": {},
     "output_type": "execute_result"
    }
   ],
   "source": [
    "rules_25 = association_rules(freq_25,min_threshold=0.6)\n",
    "rules_25"
   ]
  },
  {
   "cell_type": "markdown",
   "id": "8e1d3039",
   "metadata": {},
   "source": [
    "### Venn-Diagram for the Assosiation Rule Found :- "
   ]
  },
  {
   "cell_type": "code",
   "execution_count": 14,
   "id": "18d8dede",
   "metadata": {},
   "outputs": [
    {
     "data": {
      "image/png": "[encoded data removed]",
      "text/plain": [
       "<Figure size 800x600 with 1 Axes>"
      ]
     },
     "metadata": {},
     "output_type": "display_data"
    }
   ],
   "source": [
    "from matplotlib_venn import venn2\n",
    "plt.figure(figsize=(8, 6))\n",
    "supports = [2000*.423,2000*0.431,2000*0.256] ## Total number of books bought = 2000*support (for each case)\n",
    "labels = ['ChildBks','CookBks']\n",
    "venn2(subsets=supports,set_labels=labels)\n",
    "plt.title('Relationship :- Child books and Cook Book Sale')\n",
    "plt.show()"
   ]
  },
  {
   "cell_type": "markdown",
   "id": "e02f684a",
   "metadata": {},
   "source": [
    "## The Rule that can be concluded from the above analysis considering the magnitude of \n",
    "##### Minimum Support = 0.25, Maximum confidence = 0.6 and lift = 1.404179 is :- \n",
    "+ The Sales of Child Books imply the high likelyhood of sale of Cook Books"
   ]
  },
  {
   "cell_type": "markdown",
   "id": "b7259983",
   "metadata": {},
   "source": [
    "## 2. We evaluate every 400th Transaction"
   ]
  },
  {
   "cell_type": "code",
   "execution_count": 15,
   "id": "3bbe8388",
   "metadata": {},
   "outputs": [],
   "source": [
    "freq_20 = apriori(df = data, min_support=0.2,use_colnames=True)"
   ]
  },
  {
   "cell_type": "code",
   "execution_count": 16,
   "id": "453436d9",
   "metadata": {},
   "outputs": [
    {
     "data": {
      "text/html": [
       "<div>\n",
       "<style scoped>\n",
       "    .dataframe tbody tr th:only-of-type {\n",
       "        vertical-align: middle;\n",
       "    }\n",
       "\n",
       "    .dataframe tbody tr th {\n",
       "        vertical-align: top;\n",
       "    }\n",
       "\n",
       "    .dataframe thead th {\n",
       "        text-align: right;\n",
       "    }\n",
       "</style>\n",
       "<table border=\"1\" class=\"dataframe\">\n",
       "  <thead>\n",
       "    <tr style=\"text-align: right;\">\n",
       "      <th></th>\n",
       "      <th>support</th>\n",
       "      <th>itemsets</th>\n",
       "    </tr>\n",
       "  </thead>\n",
       "  <tbody>\n",
       "    <tr>\n",
       "      <th>0</th>\n",
       "      <td>0.4230</td>\n",
       "      <td>(ChildBks)</td>\n",
       "    </tr>\n",
       "    <tr>\n",
       "      <th>1</th>\n",
       "      <td>0.2475</td>\n",
       "      <td>(YouthBks)</td>\n",
       "    </tr>\n",
       "    <tr>\n",
       "      <th>2</th>\n",
       "      <td>0.4310</td>\n",
       "      <td>(CookBks)</td>\n",
       "    </tr>\n",
       "    <tr>\n",
       "      <th>3</th>\n",
       "      <td>0.2820</td>\n",
       "      <td>(DoItYBks)</td>\n",
       "    </tr>\n",
       "    <tr>\n",
       "      <th>4</th>\n",
       "      <td>0.2145</td>\n",
       "      <td>(RefBks)</td>\n",
       "    </tr>\n",
       "    <tr>\n",
       "      <th>5</th>\n",
       "      <td>0.2410</td>\n",
       "      <td>(ArtBks)</td>\n",
       "    </tr>\n",
       "    <tr>\n",
       "      <th>6</th>\n",
       "      <td>0.2760</td>\n",
       "      <td>(GeogBks)</td>\n",
       "    </tr>\n",
       "    <tr>\n",
       "      <th>7</th>\n",
       "      <td>0.2560</td>\n",
       "      <td>(ChildBks, CookBks)</td>\n",
       "    </tr>\n",
       "  </tbody>\n",
       "</table>\n",
       "</div>"
      ],
      "text/plain": [
       "   support             itemsets\n",
       "0   0.4230           (ChildBks)\n",
       "1   0.2475           (YouthBks)\n",
       "2   0.4310            (CookBks)\n",
       "3   0.2820           (DoItYBks)\n",
       "4   0.2145             (RefBks)\n",
       "5   0.2410             (ArtBks)\n",
       "6   0.2760            (GeogBks)\n",
       "7   0.2560  (ChildBks, CookBks)"
      ]
     },
     "execution_count": 16,
     "metadata": {},
     "output_type": "execute_result"
    }
   ],
   "source": [
    "freq_20"
   ]
  },
  {
   "cell_type": "code",
   "execution_count": 45,
   "id": "7ce88692",
   "metadata": {},
   "outputs": [
    {
     "data": {
      "image/png": "[encoded data removed]",
      "text/plain": [
       "<Figure size 1000x800 with 1 Axes>"
      ]
     },
     "metadata": {},
     "output_type": "display_data"
    }
   ],
   "source": [
    "plt.figure(figsize=(10,8))\n",
    "squarify.plot(sizes =freq_20['support'],label=freq_20['itemsets'].apply(lambda x:\" ,\".join(list(x))),alpha = 0.8)\n",
    "plt.title(\"Frequent Itemset for every 400th Transaction\")\n",
    "plt.axis('off')\n",
    "plt.show()"
   ]
  },
  {
   "cell_type": "code",
   "execution_count": 18,
   "id": "49dc394a",
   "metadata": {},
   "outputs": [
    {
     "data": {
      "text/html": [
       "<div>\n",
       "<style scoped>\n",
       "    .dataframe tbody tr th:only-of-type {\n",
       "        vertical-align: middle;\n",
       "    }\n",
       "\n",
       "    .dataframe tbody tr th {\n",
       "        vertical-align: top;\n",
       "    }\n",
       "\n",
       "    .dataframe thead th {\n",
       "        text-align: right;\n",
       "    }\n",
       "</style>\n",
       "<table border=\"1\" class=\"dataframe\">\n",
       "  <thead>\n",
       "    <tr style=\"text-align: right;\">\n",
       "      <th></th>\n",
       "      <th>antecedents</th>\n",
       "      <th>consequents</th>\n",
       "      <th>antecedent support</th>\n",
       "      <th>consequent support</th>\n",
       "      <th>support</th>\n",
       "      <th>confidence</th>\n",
       "      <th>lift</th>\n",
       "      <th>leverage</th>\n",
       "      <th>conviction</th>\n",
       "      <th>zhangs_metric</th>\n",
       "    </tr>\n",
       "  </thead>\n",
       "  <tbody>\n",
       "    <tr>\n",
       "      <th>0</th>\n",
       "      <td>(ChildBks)</td>\n",
       "      <td>(CookBks)</td>\n",
       "      <td>0.423</td>\n",
       "      <td>0.431</td>\n",
       "      <td>0.256</td>\n",
       "      <td>0.605201</td>\n",
       "      <td>1.404179</td>\n",
       "      <td>0.073687</td>\n",
       "      <td>1.44124</td>\n",
       "      <td>0.498856</td>\n",
       "    </tr>\n",
       "  </tbody>\n",
       "</table>\n",
       "</div>"
      ],
      "text/plain": [
       "  antecedents consequents  antecedent support  consequent support  support  \\\n",
       "0  (ChildBks)   (CookBks)               0.423               0.431    0.256   \n",
       "\n",
       "   confidence      lift  leverage  conviction  zhangs_metric  \n",
       "0    0.605201  1.404179  0.073687     1.44124       0.498856  "
      ]
     },
     "execution_count": 18,
     "metadata": {},
     "output_type": "execute_result"
    }
   ],
   "source": [
    "rule_20 = association_rules(freq_20,min_threshold=0.6)\n",
    "rule_20"
   ]
  },
  {
   "cell_type": "markdown",
   "id": "e79532ca",
   "metadata": {},
   "source": [
    "## It's clear that no new rule will be found here. Hence leaving this analysis"
   ]
  },
  {
   "cell_type": "markdown",
   "id": "34a51b63",
   "metadata": {},
   "source": [
    "## 3. we explore every 300th Transactions i.e. the min_support = 0.15"
   ]
  },
  {
   "cell_type": "code",
   "execution_count": 19,
   "id": "f56f198e",
   "metadata": {},
   "outputs": [],
   "source": [
    "freq_15 = apriori(data, min_support= 0.15, use_colnames=True)"
   ]
  },
  {
   "cell_type": "code",
   "execution_count": 46,
   "id": "7e77c4b7",
   "metadata": {},
   "outputs": [
    {
     "data": {
      "image/png": "[encoded data removed]",
      "text/plain": [
       "<Figure size 1000x800 with 1 Axes>"
      ]
     },
     "metadata": {},
     "output_type": "display_data"
    }
   ],
   "source": [
    "plt.figure(figsize=(10,8))\n",
    "squarify.plot(freq_15['support'], label = freq_15['itemsets'].apply(lambda x: \" ,\".join(list(x))))\n",
    "plt.title(\"Most Frequent List for Every 300th Transactions\")\n",
    "plt.axis(\"off\")\n",
    "plt.show()"
   ]
  },
  {
   "cell_type": "markdown",
   "id": "b4107108",
   "metadata": {},
   "source": [
    "## From the Treemap we can see that there are 11 possible assosiation rules for this support value. So in order to select the most relevent assosiation rule :- "
   ]
  },
  {
   "cell_type": "markdown",
   "id": "b76c0274",
   "metadata": {},
   "source": [
    "+ Confidence = 0.7 and lift > 1.65"
   ]
  },
  {
   "cell_type": "code",
   "execution_count": 21,
   "id": "8d0e8087",
   "metadata": {},
   "outputs": [],
   "source": [
    "rule_15 = association_rules(freq_15,metric='lift',min_threshold=1.65)"
   ]
  },
  {
   "cell_type": "code",
   "execution_count": 22,
   "id": "29b2c334",
   "metadata": {
    "scrolled": true
   },
   "outputs": [],
   "source": [
    "rule_15 = rule_15[rule_15['confidence']>=0.7]"
   ]
  },
  {
   "cell_type": "code",
   "execution_count": 23,
   "id": "ee44355c",
   "metadata": {},
   "outputs": [
    {
     "data": {
      "text/html": [
       "<div>\n",
       "<style scoped>\n",
       "    .dataframe tbody tr th:only-of-type {\n",
       "        vertical-align: middle;\n",
       "    }\n",
       "\n",
       "    .dataframe tbody tr th {\n",
       "        vertical-align: top;\n",
       "    }\n",
       "\n",
       "    .dataframe thead th {\n",
       "        text-align: right;\n",
       "    }\n",
       "</style>\n",
       "<table border=\"1\" class=\"dataframe\">\n",
       "  <thead>\n",
       "    <tr style=\"text-align: right;\">\n",
       "      <th></th>\n",
       "      <th>antecedents</th>\n",
       "      <th>consequents</th>\n",
       "      <th>antecedent support</th>\n",
       "      <th>consequent support</th>\n",
       "      <th>support</th>\n",
       "      <th>confidence</th>\n",
       "      <th>lift</th>\n",
       "      <th>leverage</th>\n",
       "      <th>conviction</th>\n",
       "      <th>zhangs_metric</th>\n",
       "    </tr>\n",
       "  </thead>\n",
       "  <tbody>\n",
       "    <tr>\n",
       "      <th>0</th>\n",
       "      <td>(RefBks)</td>\n",
       "      <td>(ChildBks)</td>\n",
       "      <td>0.2145</td>\n",
       "      <td>0.423</td>\n",
       "      <td>0.1515</td>\n",
       "      <td>0.706294</td>\n",
       "      <td>1.669725</td>\n",
       "      <td>0.060767</td>\n",
       "      <td>1.964548</td>\n",
       "      <td>0.510629</td>\n",
       "    </tr>\n",
       "    <tr>\n",
       "      <th>3</th>\n",
       "      <td>(GeogBks)</td>\n",
       "      <td>(ChildBks)</td>\n",
       "      <td>0.2760</td>\n",
       "      <td>0.423</td>\n",
       "      <td>0.1950</td>\n",
       "      <td>0.706522</td>\n",
       "      <td>1.670264</td>\n",
       "      <td>0.078252</td>\n",
       "      <td>1.966074</td>\n",
       "      <td>0.554271</td>\n",
       "    </tr>\n",
       "  </tbody>\n",
       "</table>\n",
       "</div>"
      ],
      "text/plain": [
       "  antecedents consequents  antecedent support  consequent support  support  \\\n",
       "0    (RefBks)  (ChildBks)              0.2145               0.423   0.1515   \n",
       "3   (GeogBks)  (ChildBks)              0.2760               0.423   0.1950   \n",
       "\n",
       "   confidence      lift  leverage  conviction  zhangs_metric  \n",
       "0    0.706294  1.669725  0.060767    1.964548       0.510629  \n",
       "3    0.706522  1.670264  0.078252    1.966074       0.554271  "
      ]
     },
     "execution_count": 23,
     "metadata": {},
     "output_type": "execute_result"
    }
   ],
   "source": [
    "rule_15"
   ]
  },
  {
   "cell_type": "markdown",
   "id": "409b98b2",
   "metadata": {},
   "source": [
    "### 1. Venn Diagram for the 'RefBks' and 'ChildBks'"
   ]
  },
  {
   "cell_type": "code",
   "execution_count": 24,
   "id": "2d245824",
   "metadata": {},
   "outputs": [
    {
     "data": {
      "image/png": "[encoded data removed]",
      "text/plain": [
       "<Figure size 800x600 with 1 Axes>"
      ]
     },
     "metadata": {},
     "output_type": "display_data"
    }
   ],
   "source": [
    "plt.figure(figsize=(8, 6))\n",
    "supports = [2000*0.2145,2000*0.423,2000*0.1515] ## Total number of books bought = 2000*support\n",
    "labels = ['RefBks','ChildBks']\n",
    "venn2(subsets=supports,set_labels=labels)\n",
    "plt.title('Relationship :- RefBks, Child books')\n",
    "plt.show()"
   ]
  },
  {
   "cell_type": "markdown",
   "id": "507edd7a",
   "metadata": {},
   "source": [
    "### 2. Venn Diagram for the 'GeogBks' and 'ChildBks'"
   ]
  },
  {
   "cell_type": "code",
   "execution_count": 25,
   "id": "1a7c5a74",
   "metadata": {},
   "outputs": [
    {
     "data": {
      "image/png": "[encoded data removed]",
      "text/plain": [
       "<Figure size 800x600 with 1 Axes>"
      ]
     },
     "metadata": {},
     "output_type": "display_data"
    }
   ],
   "source": [
    "plt.figure(figsize=(8, 6))\n",
    "supports = [2000*0.2760,2000*0.423,2000*0.1950] ## Total number of books bought = 2000*support\n",
    "labels = ['GeogBks','ChildBks']\n",
    "venn2(subsets=supports,set_labels=labels)\n",
    "plt.title('Relationship :- GeogBks, Child books')\n",
    "plt.show()"
   ]
  },
  {
   "cell_type": "markdown",
   "id": "b0264323",
   "metadata": {},
   "source": [
    "## 4. We explore every 200th Transactions :- i.e. min_support = 0.10\n",
    "+ We already have 3 rules for one antecedent now we explore rules with atleast two antecedents"
   ]
  },
  {
   "cell_type": "code",
   "execution_count": 26,
   "id": "07b69f03",
   "metadata": {},
   "outputs": [],
   "source": [
    "freq_10 = apriori(data,min_support = 0.10, use_colnames=True)"
   ]
  },
  {
   "cell_type": "markdown",
   "id": "ef0044e4",
   "metadata": {},
   "source": [
    "## Selection of relevent association rules"
   ]
  },
  {
   "cell_type": "code",
   "execution_count": 27,
   "id": "7c76ac9b",
   "metadata": {},
   "outputs": [
    {
     "data": {
      "text/html": [
       "<div>\n",
       "<style scoped>\n",
       "    .dataframe tbody tr th:only-of-type {\n",
       "        vertical-align: middle;\n",
       "    }\n",
       "\n",
       "    .dataframe tbody tr th {\n",
       "        vertical-align: top;\n",
       "    }\n",
       "\n",
       "    .dataframe thead th {\n",
       "        text-align: right;\n",
       "    }\n",
       "</style>\n",
       "<table border=\"1\" class=\"dataframe\">\n",
       "  <thead>\n",
       "    <tr style=\"text-align: right;\">\n",
       "      <th></th>\n",
       "      <th>antecedents</th>\n",
       "      <th>consequents</th>\n",
       "      <th>antecedent support</th>\n",
       "      <th>consequent support</th>\n",
       "      <th>support</th>\n",
       "      <th>confidence</th>\n",
       "      <th>lift</th>\n",
       "      <th>leverage</th>\n",
       "      <th>conviction</th>\n",
       "      <th>zhangs_metric</th>\n",
       "      <th>antecedents_length</th>\n",
       "    </tr>\n",
       "  </thead>\n",
       "  <tbody>\n",
       "    <tr>\n",
       "      <th>0</th>\n",
       "      <td>(ChildBks)</td>\n",
       "      <td>(YouthBks)</td>\n",
       "      <td>0.4230</td>\n",
       "      <td>0.2475</td>\n",
       "      <td>0.1650</td>\n",
       "      <td>0.390071</td>\n",
       "      <td>1.576044</td>\n",
       "      <td>0.060308</td>\n",
       "      <td>1.233750</td>\n",
       "      <td>0.633449</td>\n",
       "      <td>1</td>\n",
       "    </tr>\n",
       "    <tr>\n",
       "      <th>1</th>\n",
       "      <td>(YouthBks)</td>\n",
       "      <td>(ChildBks)</td>\n",
       "      <td>0.2475</td>\n",
       "      <td>0.4230</td>\n",
       "      <td>0.1650</td>\n",
       "      <td>0.666667</td>\n",
       "      <td>1.576044</td>\n",
       "      <td>0.060308</td>\n",
       "      <td>1.731000</td>\n",
       "      <td>0.485714</td>\n",
       "      <td>1</td>\n",
       "    </tr>\n",
       "    <tr>\n",
       "      <th>2</th>\n",
       "      <td>(ChildBks)</td>\n",
       "      <td>(CookBks)</td>\n",
       "      <td>0.4230</td>\n",
       "      <td>0.4310</td>\n",
       "      <td>0.2560</td>\n",
       "      <td>0.605201</td>\n",
       "      <td>1.404179</td>\n",
       "      <td>0.073687</td>\n",
       "      <td>1.441240</td>\n",
       "      <td>0.498856</td>\n",
       "      <td>1</td>\n",
       "    </tr>\n",
       "    <tr>\n",
       "      <th>3</th>\n",
       "      <td>(CookBks)</td>\n",
       "      <td>(ChildBks)</td>\n",
       "      <td>0.4310</td>\n",
       "      <td>0.4230</td>\n",
       "      <td>0.2560</td>\n",
       "      <td>0.593968</td>\n",
       "      <td>1.404179</td>\n",
       "      <td>0.073687</td>\n",
       "      <td>1.421069</td>\n",
       "      <td>0.505870</td>\n",
       "      <td>1</td>\n",
       "    </tr>\n",
       "    <tr>\n",
       "      <th>4</th>\n",
       "      <td>(DoItYBks)</td>\n",
       "      <td>(ChildBks)</td>\n",
       "      <td>0.2820</td>\n",
       "      <td>0.4230</td>\n",
       "      <td>0.1840</td>\n",
       "      <td>0.652482</td>\n",
       "      <td>1.542511</td>\n",
       "      <td>0.064714</td>\n",
       "      <td>1.660347</td>\n",
       "      <td>0.489842</td>\n",
       "      <td>1</td>\n",
       "    </tr>\n",
       "    <tr>\n",
       "      <th>...</th>\n",
       "      <td>...</td>\n",
       "      <td>...</td>\n",
       "      <td>...</td>\n",
       "      <td>...</td>\n",
       "      <td>...</td>\n",
       "      <td>...</td>\n",
       "      <td>...</td>\n",
       "      <td>...</td>\n",
       "      <td>...</td>\n",
       "      <td>...</td>\n",
       "      <td>...</td>\n",
       "    </tr>\n",
       "    <tr>\n",
       "      <th>95</th>\n",
       "      <td>(CookBks, GeogBks)</td>\n",
       "      <td>(ArtBks)</td>\n",
       "      <td>0.1925</td>\n",
       "      <td>0.2410</td>\n",
       "      <td>0.1035</td>\n",
       "      <td>0.537662</td>\n",
       "      <td>2.230964</td>\n",
       "      <td>0.057107</td>\n",
       "      <td>1.641657</td>\n",
       "      <td>0.683298</td>\n",
       "      <td>2</td>\n",
       "    </tr>\n",
       "    <tr>\n",
       "      <th>96</th>\n",
       "      <td>(ArtBks, GeogBks)</td>\n",
       "      <td>(CookBks)</td>\n",
       "      <td>0.1275</td>\n",
       "      <td>0.4310</td>\n",
       "      <td>0.1035</td>\n",
       "      <td>0.811765</td>\n",
       "      <td>1.883445</td>\n",
       "      <td>0.048547</td>\n",
       "      <td>3.022812</td>\n",
       "      <td>0.537602</td>\n",
       "      <td>2</td>\n",
       "    </tr>\n",
       "    <tr>\n",
       "      <th>97</th>\n",
       "      <td>(CookBks)</td>\n",
       "      <td>(ArtBks, GeogBks)</td>\n",
       "      <td>0.4310</td>\n",
       "      <td>0.1275</td>\n",
       "      <td>0.1035</td>\n",
       "      <td>0.240139</td>\n",
       "      <td>1.883445</td>\n",
       "      <td>0.048547</td>\n",
       "      <td>1.148237</td>\n",
       "      <td>0.824355</td>\n",
       "      <td>1</td>\n",
       "    </tr>\n",
       "    <tr>\n",
       "      <th>98</th>\n",
       "      <td>(ArtBks)</td>\n",
       "      <td>(CookBks, GeogBks)</td>\n",
       "      <td>0.2410</td>\n",
       "      <td>0.1925</td>\n",
       "      <td>0.1035</td>\n",
       "      <td>0.429461</td>\n",
       "      <td>2.230964</td>\n",
       "      <td>0.057107</td>\n",
       "      <td>1.415327</td>\n",
       "      <td>0.726961</td>\n",
       "      <td>1</td>\n",
       "    </tr>\n",
       "    <tr>\n",
       "      <th>99</th>\n",
       "      <td>(GeogBks)</td>\n",
       "      <td>(CookBks, ArtBks)</td>\n",
       "      <td>0.2760</td>\n",
       "      <td>0.1670</td>\n",
       "      <td>0.1035</td>\n",
       "      <td>0.375000</td>\n",
       "      <td>2.245509</td>\n",
       "      <td>0.057408</td>\n",
       "      <td>1.332800</td>\n",
       "      <td>0.766114</td>\n",
       "      <td>1</td>\n",
       "    </tr>\n",
       "  </tbody>\n",
       "</table>\n",
       "<p>100 rows × 11 columns</p>\n",
       "</div>"
      ],
      "text/plain": [
       "           antecedents         consequents  antecedent support  \\\n",
       "0           (ChildBks)          (YouthBks)              0.4230   \n",
       "1           (YouthBks)          (ChildBks)              0.2475   \n",
       "2           (ChildBks)           (CookBks)              0.4230   \n",
       "3            (CookBks)          (ChildBks)              0.4310   \n",
       "4           (DoItYBks)          (ChildBks)              0.2820   \n",
       "..                 ...                 ...                 ...   \n",
       "95  (CookBks, GeogBks)            (ArtBks)              0.1925   \n",
       "96   (ArtBks, GeogBks)           (CookBks)              0.1275   \n",
       "97           (CookBks)   (ArtBks, GeogBks)              0.4310   \n",
       "98            (ArtBks)  (CookBks, GeogBks)              0.2410   \n",
       "99           (GeogBks)   (CookBks, ArtBks)              0.2760   \n",
       "\n",
       "    consequent support  support  confidence      lift  leverage  conviction  \\\n",
       "0               0.2475   0.1650    0.390071  1.576044  0.060308    1.233750   \n",
       "1               0.4230   0.1650    0.666667  1.576044  0.060308    1.731000   \n",
       "2               0.4310   0.2560    0.605201  1.404179  0.073687    1.441240   \n",
       "3               0.4230   0.2560    0.593968  1.404179  0.073687    1.421069   \n",
       "4               0.4230   0.1840    0.652482  1.542511  0.064714    1.660347   \n",
       "..                 ...      ...         ...       ...       ...         ...   \n",
       "95              0.2410   0.1035    0.537662  2.230964  0.057107    1.641657   \n",
       "96              0.4310   0.1035    0.811765  1.883445  0.048547    3.022812   \n",
       "97              0.1275   0.1035    0.240139  1.883445  0.048547    1.148237   \n",
       "98              0.1925   0.1035    0.429461  2.230964  0.057107    1.415327   \n",
       "99              0.1670   0.1035    0.375000  2.245509  0.057408    1.332800   \n",
       "\n",
       "    zhangs_metric  antecedents_length  \n",
       "0        0.633449                   1  \n",
       "1        0.485714                   1  \n",
       "2        0.498856                   1  \n",
       "3        0.505870                   1  \n",
       "4        0.489842                   1  \n",
       "..            ...                 ...  \n",
       "95       0.683298                   2  \n",
       "96       0.537602                   2  \n",
       "97       0.824355                   1  \n",
       "98       0.726961                   1  \n",
       "99       0.766114                   1  \n",
       "\n",
       "[100 rows x 11 columns]"
      ]
     },
     "execution_count": 27,
     "metadata": {},
     "output_type": "execute_result"
    }
   ],
   "source": [
    "rule_10 = association_rules(df = freq_10,metric='lift',min_threshold = 1.2)\n",
    "rule_10['antecedents_length'] = rule_10['antecedents'].apply(lambda x:len(x))\n",
    "rule_10"
   ]
  },
  {
   "cell_type": "code",
   "execution_count": 33,
   "id": "3d4d8acc",
   "metadata": {},
   "outputs": [
    {
     "data": {
      "text/html": [
       "<div>\n",
       "<style scoped>\n",
       "    .dataframe tbody tr th:only-of-type {\n",
       "        vertical-align: middle;\n",
       "    }\n",
       "\n",
       "    .dataframe tbody tr th {\n",
       "        vertical-align: top;\n",
       "    }\n",
       "\n",
       "    .dataframe thead th {\n",
       "        text-align: right;\n",
       "    }\n",
       "</style>\n",
       "<table border=\"1\" class=\"dataframe\">\n",
       "  <thead>\n",
       "    <tr style=\"text-align: right;\">\n",
       "      <th></th>\n",
       "      <th>antecedents</th>\n",
       "      <th>consequents</th>\n",
       "      <th>antecedent support</th>\n",
       "      <th>consequent support</th>\n",
       "      <th>support</th>\n",
       "      <th>confidence</th>\n",
       "      <th>lift</th>\n",
       "      <th>leverage</th>\n",
       "      <th>conviction</th>\n",
       "      <th>zhangs_metric</th>\n",
       "      <th>antecedents_length</th>\n",
       "    </tr>\n",
       "  </thead>\n",
       "  <tbody>\n",
       "    <tr>\n",
       "      <th>83</th>\n",
       "      <td>(DoItYBks, ArtBks)</td>\n",
       "      <td>(CookBks)</td>\n",
       "      <td>0.1235</td>\n",
       "      <td>0.431</td>\n",
       "      <td>0.1015</td>\n",
       "      <td>0.821862</td>\n",
       "      <td>1.906873</td>\n",
       "      <td>0.048272</td>\n",
       "      <td>3.194159</td>\n",
       "      <td>0.542591</td>\n",
       "      <td>2</td>\n",
       "    </tr>\n",
       "    <tr>\n",
       "      <th>89</th>\n",
       "      <td>(DoItYBks, GeogBks)</td>\n",
       "      <td>(CookBks)</td>\n",
       "      <td>0.1325</td>\n",
       "      <td>0.431</td>\n",
       "      <td>0.1085</td>\n",
       "      <td>0.818868</td>\n",
       "      <td>1.899926</td>\n",
       "      <td>0.051392</td>\n",
       "      <td>3.141354</td>\n",
       "      <td>0.546010</td>\n",
       "      <td>2</td>\n",
       "    </tr>\n",
       "    <tr>\n",
       "      <th>96</th>\n",
       "      <td>(ArtBks, GeogBks)</td>\n",
       "      <td>(CookBks)</td>\n",
       "      <td>0.1275</td>\n",
       "      <td>0.431</td>\n",
       "      <td>0.1035</td>\n",
       "      <td>0.811765</td>\n",
       "      <td>1.883445</td>\n",
       "      <td>0.048547</td>\n",
       "      <td>3.022812</td>\n",
       "      <td>0.537602</td>\n",
       "      <td>2</td>\n",
       "    </tr>\n",
       "  </tbody>\n",
       "</table>\n",
       "</div>"
      ],
      "text/plain": [
       "            antecedents consequents  antecedent support  consequent support  \\\n",
       "83   (DoItYBks, ArtBks)   (CookBks)              0.1235               0.431   \n",
       "89  (DoItYBks, GeogBks)   (CookBks)              0.1325               0.431   \n",
       "96    (ArtBks, GeogBks)   (CookBks)              0.1275               0.431   \n",
       "\n",
       "    support  confidence      lift  leverage  conviction  zhangs_metric  \\\n",
       "83   0.1015    0.821862  1.906873  0.048272    3.194159       0.542591   \n",
       "89   0.1085    0.818868  1.899926  0.051392    3.141354       0.546010   \n",
       "96   0.1035    0.811765  1.883445  0.048547    3.022812       0.537602   \n",
       "\n",
       "    antecedents_length  \n",
       "83                   2  \n",
       "89                   2  \n",
       "96                   2  "
      ]
     },
     "execution_count": 33,
     "metadata": {},
     "output_type": "execute_result"
    }
   ],
   "source": [
    "rule_10 = rule_10[ (rule_10['antecedents_length'] >= 2) &\n",
    "       (rule_10['confidence'] > 0.81) &\n",
    "       (rule_10['lift'] > 1.65) ]\n",
    "rule_10"
   ]
  },
  {
   "cell_type": "markdown",
   "id": "8d7e9670",
   "metadata": {},
   "source": [
    "### Since the 'antecedent support' is much less as compare to the 'consequent support' we only select the rule with maximum lift"
   ]
  },
  {
   "cell_type": "code",
   "execution_count": 34,
   "id": "955069ae",
   "metadata": {
    "scrolled": true
   },
   "outputs": [
    {
     "data": {
      "text/html": [
       "<div>\n",
       "<style scoped>\n",
       "    .dataframe tbody tr th:only-of-type {\n",
       "        vertical-align: middle;\n",
       "    }\n",
       "\n",
       "    .dataframe tbody tr th {\n",
       "        vertical-align: top;\n",
       "    }\n",
       "\n",
       "    .dataframe thead th {\n",
       "        text-align: right;\n",
       "    }\n",
       "</style>\n",
       "<table border=\"1\" class=\"dataframe\">\n",
       "  <thead>\n",
       "    <tr style=\"text-align: right;\">\n",
       "      <th></th>\n",
       "      <th>antecedents</th>\n",
       "      <th>consequents</th>\n",
       "      <th>antecedent support</th>\n",
       "      <th>consequent support</th>\n",
       "      <th>support</th>\n",
       "      <th>confidence</th>\n",
       "      <th>lift</th>\n",
       "      <th>leverage</th>\n",
       "      <th>conviction</th>\n",
       "      <th>zhangs_metric</th>\n",
       "      <th>antecedents_length</th>\n",
       "    </tr>\n",
       "  </thead>\n",
       "  <tbody>\n",
       "    <tr>\n",
       "      <th>83</th>\n",
       "      <td>(DoItYBks, ArtBks)</td>\n",
       "      <td>(CookBks)</td>\n",
       "      <td>0.1235</td>\n",
       "      <td>0.431</td>\n",
       "      <td>0.1015</td>\n",
       "      <td>0.821862</td>\n",
       "      <td>1.906873</td>\n",
       "      <td>0.048272</td>\n",
       "      <td>3.194159</td>\n",
       "      <td>0.542591</td>\n",
       "      <td>2</td>\n",
       "    </tr>\n",
       "  </tbody>\n",
       "</table>\n",
       "</div>"
      ],
      "text/plain": [
       "           antecedents consequents  antecedent support  consequent support  \\\n",
       "83  (DoItYBks, ArtBks)   (CookBks)              0.1235               0.431   \n",
       "\n",
       "    support  confidence      lift  leverage  conviction  zhangs_metric  \\\n",
       "83   0.1015    0.821862  1.906873  0.048272    3.194159       0.542591   \n",
       "\n",
       "    antecedents_length  \n",
       "83                   2  "
      ]
     },
     "execution_count": 34,
     "metadata": {},
     "output_type": "execute_result"
    }
   ],
   "source": [
    "rule_10 = rule_10[ (rule_10['antecedents_length'] >= 2) &\n",
    "       (rule_10['confidence'] > 0.81) &\n",
    "       (rule_10['lift'] > 1.9) ]\n",
    "rule_10"
   ]
  },
  {
   "cell_type": "markdown",
   "id": "b83055c4",
   "metadata": {},
   "source": [
    "### We can see that eventhough the 'antecedent support' is not too high. A very high value of 'confidence' and  'lift' value indicate that the mentioned assosiation relationship worths the consideration"
   ]
  },
  {
   "cell_type": "markdown",
   "id": "95d28f82",
   "metadata": {},
   "source": [
    "## Conclusion :- \n",
    "+ The Rules obtained from above data mining are :-"
   ]
  },
  {
   "cell_type": "code",
   "execution_count": 40,
   "id": "0a65beac",
   "metadata": {},
   "outputs": [
    {
     "data": {
      "text/html": [
       "<div>\n",
       "<style scoped>\n",
       "    .dataframe tbody tr th:only-of-type {\n",
       "        vertical-align: middle;\n",
       "    }\n",
       "\n",
       "    .dataframe tbody tr th {\n",
       "        vertical-align: top;\n",
       "    }\n",
       "\n",
       "    .dataframe thead th {\n",
       "        text-align: right;\n",
       "    }\n",
       "</style>\n",
       "<table border=\"1\" class=\"dataframe\">\n",
       "  <thead>\n",
       "    <tr style=\"text-align: right;\">\n",
       "      <th></th>\n",
       "      <th>antecedents</th>\n",
       "      <th>consequents</th>\n",
       "      <th>antecedent support</th>\n",
       "      <th>consequent support</th>\n",
       "      <th>support</th>\n",
       "      <th>confidence</th>\n",
       "      <th>lift</th>\n",
       "      <th>leverage</th>\n",
       "      <th>conviction</th>\n",
       "      <th>zhangs_metric</th>\n",
       "    </tr>\n",
       "  </thead>\n",
       "  <tbody>\n",
       "    <tr>\n",
       "      <th>0</th>\n",
       "      <td>(ChildBks)</td>\n",
       "      <td>(CookBks)</td>\n",
       "      <td>0.423</td>\n",
       "      <td>0.431</td>\n",
       "      <td>0.256</td>\n",
       "      <td>0.605201</td>\n",
       "      <td>1.404179</td>\n",
       "      <td>0.073687</td>\n",
       "      <td>1.44124</td>\n",
       "      <td>0.498856</td>\n",
       "    </tr>\n",
       "  </tbody>\n",
       "</table>\n",
       "</div>"
      ],
      "text/plain": [
       "  antecedents consequents  antecedent support  consequent support  support  \\\n",
       "0  (ChildBks)   (CookBks)               0.423               0.431    0.256   \n",
       "\n",
       "   confidence      lift  leverage  conviction  zhangs_metric  \n",
       "0    0.605201  1.404179  0.073687     1.44124       0.498856  "
      ]
     },
     "execution_count": 40,
     "metadata": {},
     "output_type": "execute_result"
    }
   ],
   "source": [
    "rules_25"
   ]
  },
  {
   "cell_type": "markdown",
   "id": "81d8ca07",
   "metadata": {},
   "source": [
    "## This rule is selected because :-\n",
    "+ Out of Total 846 purchaces of 'Childbks' 512 Purchases also included Purchase of 'CookBks' "
   ]
  },
  {
   "cell_type": "code",
   "execution_count": 41,
   "id": "6b310da8",
   "metadata": {},
   "outputs": [
    {
     "data": {
      "text/html": [
       "<div>\n",
       "<style scoped>\n",
       "    .dataframe tbody tr th:only-of-type {\n",
       "        vertical-align: middle;\n",
       "    }\n",
       "\n",
       "    .dataframe tbody tr th {\n",
       "        vertical-align: top;\n",
       "    }\n",
       "\n",
       "    .dataframe thead th {\n",
       "        text-align: right;\n",
       "    }\n",
       "</style>\n",
       "<table border=\"1\" class=\"dataframe\">\n",
       "  <thead>\n",
       "    <tr style=\"text-align: right;\">\n",
       "      <th></th>\n",
       "      <th>antecedents</th>\n",
       "      <th>consequents</th>\n",
       "      <th>antecedent support</th>\n",
       "      <th>consequent support</th>\n",
       "      <th>support</th>\n",
       "      <th>confidence</th>\n",
       "      <th>lift</th>\n",
       "      <th>leverage</th>\n",
       "      <th>conviction</th>\n",
       "      <th>zhangs_metric</th>\n",
       "    </tr>\n",
       "  </thead>\n",
       "  <tbody>\n",
       "    <tr>\n",
       "      <th>0</th>\n",
       "      <td>(RefBks)</td>\n",
       "      <td>(ChildBks)</td>\n",
       "      <td>0.2145</td>\n",
       "      <td>0.423</td>\n",
       "      <td>0.1515</td>\n",
       "      <td>0.706294</td>\n",
       "      <td>1.669725</td>\n",
       "      <td>0.060767</td>\n",
       "      <td>1.964548</td>\n",
       "      <td>0.510629</td>\n",
       "    </tr>\n",
       "    <tr>\n",
       "      <th>3</th>\n",
       "      <td>(GeogBks)</td>\n",
       "      <td>(ChildBks)</td>\n",
       "      <td>0.2760</td>\n",
       "      <td>0.423</td>\n",
       "      <td>0.1950</td>\n",
       "      <td>0.706522</td>\n",
       "      <td>1.670264</td>\n",
       "      <td>0.078252</td>\n",
       "      <td>1.966074</td>\n",
       "      <td>0.554271</td>\n",
       "    </tr>\n",
       "  </tbody>\n",
       "</table>\n",
       "</div>"
      ],
      "text/plain": [
       "  antecedents consequents  antecedent support  consequent support  support  \\\n",
       "0    (RefBks)  (ChildBks)              0.2145               0.423   0.1515   \n",
       "3   (GeogBks)  (ChildBks)              0.2760               0.423   0.1950   \n",
       "\n",
       "   confidence      lift  leverage  conviction  zhangs_metric  \n",
       "0    0.706294  1.669725  0.060767    1.964548       0.510629  \n",
       "3    0.706522  1.670264  0.078252    1.966074       0.554271  "
      ]
     },
     "execution_count": 41,
     "metadata": {},
     "output_type": "execute_result"
    }
   ],
   "source": [
    "rule_15"
   ]
  },
  {
   "cell_type": "markdown",
   "id": "13ded344",
   "metadata": {},
   "source": [
    "## This rule is selected because :-\n",
    "+ Out of Total 429 purchaces of 'RefBks' 303 Purchases were included Purchase of 'ChildBks' and \n",
    "+ Out of Total 552 purchaces of 'GeogBks' 390 Purchases were included Purchase of 'ChildBks'"
   ]
  },
  {
   "cell_type": "code",
   "execution_count": 42,
   "id": "f98c6510",
   "metadata": {},
   "outputs": [
    {
     "data": {
      "text/html": [
       "<div>\n",
       "<style scoped>\n",
       "    .dataframe tbody tr th:only-of-type {\n",
       "        vertical-align: middle;\n",
       "    }\n",
       "\n",
       "    .dataframe tbody tr th {\n",
       "        vertical-align: top;\n",
       "    }\n",
       "\n",
       "    .dataframe thead th {\n",
       "        text-align: right;\n",
       "    }\n",
       "</style>\n",
       "<table border=\"1\" class=\"dataframe\">\n",
       "  <thead>\n",
       "    <tr style=\"text-align: right;\">\n",
       "      <th></th>\n",
       "      <th>antecedents</th>\n",
       "      <th>consequents</th>\n",
       "      <th>antecedent support</th>\n",
       "      <th>consequent support</th>\n",
       "      <th>support</th>\n",
       "      <th>confidence</th>\n",
       "      <th>lift</th>\n",
       "      <th>leverage</th>\n",
       "      <th>conviction</th>\n",
       "      <th>zhangs_metric</th>\n",
       "      <th>antecedents_length</th>\n",
       "    </tr>\n",
       "  </thead>\n",
       "  <tbody>\n",
       "    <tr>\n",
       "      <th>83</th>\n",
       "      <td>(DoItYBks, ArtBks)</td>\n",
       "      <td>(CookBks)</td>\n",
       "      <td>0.1235</td>\n",
       "      <td>0.431</td>\n",
       "      <td>0.1015</td>\n",
       "      <td>0.821862</td>\n",
       "      <td>1.906873</td>\n",
       "      <td>0.048272</td>\n",
       "      <td>3.194159</td>\n",
       "      <td>0.542591</td>\n",
       "      <td>2</td>\n",
       "    </tr>\n",
       "  </tbody>\n",
       "</table>\n",
       "</div>"
      ],
      "text/plain": [
       "           antecedents consequents  antecedent support  consequent support  \\\n",
       "83  (DoItYBks, ArtBks)   (CookBks)              0.1235               0.431   \n",
       "\n",
       "    support  confidence      lift  leverage  conviction  zhangs_metric  \\\n",
       "83   0.1015    0.821862  1.906873  0.048272    3.194159       0.542591   \n",
       "\n",
       "    antecedents_length  \n",
       "83                   2  "
      ]
     },
     "execution_count": 42,
     "metadata": {},
     "output_type": "execute_result"
    }
   ],
   "source": [
    "rule_10"
   ]
  },
  {
   "cell_type": "markdown",
   "id": "6f8f15d4",
   "metadata": {},
   "source": [
    "## This rule is selected because :-\n",
    "+ Out of Total 247 purchaces of 'DoItYBks and ArtBks' 203 Purchases also included Purchase of 'CookBks' "
   ]
  }
 ],
 "metadata": {
  "kernelspec": {
   "display_name": "Python 3 (ipykernel)",
   "language": "python",
   "name": "python3"
  },
  "language_info": {
   "codemirror_mode": {
    "name": "ipython",
    "version": 3
   },
   "file_extension": ".py",
   "mimetype": "text/x-python",
   "name": "python",
   "nbconvert_exporter": "python",
   "pygments_lexer": "ipython3",
   "version": "3.11.3"
  }
 },
 "nbformat": 4,
 "nbformat_minor": 5
}
