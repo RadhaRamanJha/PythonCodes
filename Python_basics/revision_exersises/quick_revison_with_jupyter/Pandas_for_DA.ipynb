{
 "cells": [
  {
   "cell_type": "code",
   "execution_count": 1,
   "id": "87ca216d",
   "metadata": {},
   "outputs": [],
   "source": [
    "import pandas as pd\n",
    "import numpy as np"
   ]
  },
  {
   "cell_type": "code",
   "execution_count": null,
   "id": "410a0180",
   "metadata": {},
   "outputs": [],
   "source": [
    "# dir(pd)"
   ]
  },
  {
   "cell_type": "markdown",
   "id": "c4e5e60c",
   "metadata": {},
   "source": [
    "### Making a DataFrame from List of List\n",
    "Syntax - pd.DataFrame(\n",
    "    data=None,\n",
    "    index: 'Axes | None' = None,\n",
    "    columns: 'Axes | None' = None,\n",
    "    dtype: 'Dtype | None' = None,\n",
    "    copy: 'bool | None' = None,\n",
    ") -> 'None'"
   ]
  },
  {
   "cell_type": "code",
   "execution_count": 2,
   "id": "5cfa382c",
   "metadata": {},
   "outputs": [],
   "source": [
    "e1_data = [\n",
    "    [100,'Tom','Mgr'],\n",
    "    [200,'Mary','Pgmr'],\n",
    "    [300,'Jon','Clrk']\n",
    "]"
   ]
  },
  {
   "cell_type": "code",
   "execution_count": 3,
   "id": "71be41ec",
   "metadata": {},
   "outputs": [],
   "source": [
    "emp_df = pd.DataFrame(data = e1_data)"
   ]
  },
  {
   "cell_type": "code",
   "execution_count": 4,
   "id": "4bb5d5eb",
   "metadata": {},
   "outputs": [
    {
     "name": "stdout",
     "output_type": "stream",
     "text": [
      "     0     1     2\n",
      "0  100   Tom   Mgr\n",
      "1  200  Mary  Pgmr\n",
      "2  300   Jon  Clrk\n"
     ]
    }
   ],
   "source": [
    "print(emp_df)"
   ]
  },
  {
   "cell_type": "code",
   "execution_count": 5,
   "id": "f0277d98",
   "metadata": {},
   "outputs": [],
   "source": [
    "emp_df2 = pd.DataFrame(data = e1_data, columns = ['Eid','Ename','Job'])"
   ]
  },
  {
   "cell_type": "code",
   "execution_count": 6,
   "id": "28338263",
   "metadata": {},
   "outputs": [
    {
     "name": "stdout",
     "output_type": "stream",
     "text": [
      "   Eid Ename   Job\n",
      "0  100   Tom   Mgr\n",
      "1  200  Mary  Pgmr\n",
      "2  300   Jon  Clrk\n"
     ]
    }
   ],
   "source": [
    "print(emp_df2)"
   ]
  },
  {
   "cell_type": "code",
   "execution_count": 11,
   "id": "dc82861c",
   "metadata": {},
   "outputs": [],
   "source": [
    "emp_df3 = pd.DataFrame(data = e1_data, columns = ['Eid','Ename','Job'], index = ['E1','E2','E3'] )"
   ]
  },
  {
   "cell_type": "code",
   "execution_count": 9,
   "id": "704140f7",
   "metadata": {},
   "outputs": [
    {
     "name": "stdout",
     "output_type": "stream",
     "text": [
      "    Eid Ename   Job\n",
      "E1  100   Tom   Mgr\n",
      "E2  200  Mary  Pgmr\n",
      "E3  300   Jon  Clrk\n"
     ]
    }
   ],
   "source": [
    "print(emp_df3)"
   ]
  },
  {
   "cell_type": "code",
   "execution_count": 10,
   "id": "ad16ec08",
   "metadata": {},
   "outputs": [
    {
     "data": {
      "text/plain": [
       "pandas.core.frame.DataFrame"
      ]
     },
     "execution_count": 10,
     "metadata": {},
     "output_type": "execute_result"
    }
   ],
   "source": [
    "type(emp_df)"
   ]
  },
  {
   "cell_type": "markdown",
   "id": "eaf5bbdb",
   "metadata": {},
   "source": [
    "## Creating Same DataFrame using dictionary "
   ]
  },
  {
   "cell_type": "code",
   "execution_count": 12,
   "id": "af37eb86",
   "metadata": {},
   "outputs": [],
   "source": [
    "e2_data = {\n",
    "    'Eid':[100,200,300],\n",
    "    'EName':['Tom','Mary','Jon'],\n",
    "    'Job':['Mgr','Pgmr',\"clrk\"]    \n",
    "          }"
   ]
  },
  {
   "cell_type": "code",
   "execution_count": 13,
   "id": "54a43fc4",
   "metadata": {},
   "outputs": [],
   "source": [
    "edict_df = pd.DataFrame(e2_data, index = ['E1','E2','E3'])"
   ]
  },
  {
   "cell_type": "code",
   "execution_count": 14,
   "id": "d90ad88a",
   "metadata": {},
   "outputs": [
    {
     "data": {
      "text/html": [
       "<div>\n",
       "<style scoped>\n",
       "    .dataframe tbody tr th:only-of-type {\n",
       "        vertical-align: middle;\n",
       "    }\n",
       "\n",
       "    .dataframe tbody tr th {\n",
       "        vertical-align: top;\n",
       "    }\n",
       "\n",
       "    .dataframe thead th {\n",
       "        text-align: right;\n",
       "    }\n",
       "</style>\n",
       "<table border=\"1\" class=\"dataframe\">\n",
       "  <thead>\n",
       "    <tr style=\"text-align: right;\">\n",
       "      <th></th>\n",
       "      <th>Eid</th>\n",
       "      <th>EName</th>\n",
       "      <th>Job</th>\n",
       "    </tr>\n",
       "  </thead>\n",
       "  <tbody>\n",
       "    <tr>\n",
       "      <th>E1</th>\n",
       "      <td>100</td>\n",
       "      <td>Tom</td>\n",
       "      <td>Mgr</td>\n",
       "    </tr>\n",
       "    <tr>\n",
       "      <th>E2</th>\n",
       "      <td>200</td>\n",
       "      <td>Mary</td>\n",
       "      <td>Pgmr</td>\n",
       "    </tr>\n",
       "    <tr>\n",
       "      <th>E3</th>\n",
       "      <td>300</td>\n",
       "      <td>Jon</td>\n",
       "      <td>clrk</td>\n",
       "    </tr>\n",
       "  </tbody>\n",
       "</table>\n",
       "</div>"
      ],
      "text/plain": [
       "    Eid EName   Job\n",
       "E1  100   Tom   Mgr\n",
       "E2  200  Mary  Pgmr\n",
       "E3  300   Jon  clrk"
      ]
     },
     "execution_count": 14,
     "metadata": {},
     "output_type": "execute_result"
    }
   ],
   "source": [
    "edict_df"
   ]
  },
  {
   "cell_type": "code",
   "execution_count": 15,
   "id": "2653aae2",
   "metadata": {},
   "outputs": [
    {
     "data": {
      "text/plain": [
       "pandas.core.frame.DataFrame"
      ]
     },
     "execution_count": 15,
     "metadata": {},
     "output_type": "execute_result"
    }
   ],
   "source": [
    "type(edict_df)"
   ]
  },
  {
   "cell_type": "markdown",
   "id": "7c283277",
   "metadata": {},
   "source": [
    "### Load Data From a .csv file \n",
    "using the method \n",
    "#### pd.read_csv()"
   ]
  },
  {
   "cell_type": "code",
   "execution_count": 16,
   "id": "3bcabe94",
   "metadata": {},
   "outputs": [],
   "source": [
    "univ = pd.read_csv('datasets/Universities.csv')"
   ]
  },
  {
   "cell_type": "code",
   "execution_count": 17,
   "id": "0c84ad0c",
   "metadata": {},
   "outputs": [
    {
     "data": {
      "text/html": [
       "<div>\n",
       "<style scoped>\n",
       "    .dataframe tbody tr th:only-of-type {\n",
       "        vertical-align: middle;\n",
       "    }\n",
       "\n",
       "    .dataframe tbody tr th {\n",
       "        vertical-align: top;\n",
       "    }\n",
       "\n",
       "    .dataframe thead th {\n",
       "        text-align: right;\n",
       "    }\n",
       "</style>\n",
       "<table border=\"1\" class=\"dataframe\">\n",
       "  <thead>\n",
       "    <tr style=\"text-align: right;\">\n",
       "      <th></th>\n",
       "      <th>Univ</th>\n",
       "      <th>SAT</th>\n",
       "      <th>Top10</th>\n",
       "      <th>Accept</th>\n",
       "      <th>SFRatio</th>\n",
       "      <th>Expenses</th>\n",
       "      <th>GradRate</th>\n",
       "    </tr>\n",
       "  </thead>\n",
       "  <tbody>\n",
       "    <tr>\n",
       "      <th>0</th>\n",
       "      <td>Brown</td>\n",
       "      <td>1310</td>\n",
       "      <td>89</td>\n",
       "      <td>22</td>\n",
       "      <td>13</td>\n",
       "      <td>22704</td>\n",
       "      <td>94</td>\n",
       "    </tr>\n",
       "    <tr>\n",
       "      <th>1</th>\n",
       "      <td>CalTech</td>\n",
       "      <td>1415</td>\n",
       "      <td>100</td>\n",
       "      <td>25</td>\n",
       "      <td>6</td>\n",
       "      <td>63575</td>\n",
       "      <td>81</td>\n",
       "    </tr>\n",
       "    <tr>\n",
       "      <th>2</th>\n",
       "      <td>CMU</td>\n",
       "      <td>1260</td>\n",
       "      <td>62</td>\n",
       "      <td>59</td>\n",
       "      <td>9</td>\n",
       "      <td>25026</td>\n",
       "      <td>72</td>\n",
       "    </tr>\n",
       "    <tr>\n",
       "      <th>3</th>\n",
       "      <td>Columbia</td>\n",
       "      <td>1310</td>\n",
       "      <td>76</td>\n",
       "      <td>24</td>\n",
       "      <td>12</td>\n",
       "      <td>31510</td>\n",
       "      <td>88</td>\n",
       "    </tr>\n",
       "    <tr>\n",
       "      <th>4</th>\n",
       "      <td>Cornell</td>\n",
       "      <td>1280</td>\n",
       "      <td>83</td>\n",
       "      <td>33</td>\n",
       "      <td>13</td>\n",
       "      <td>21864</td>\n",
       "      <td>90</td>\n",
       "    </tr>\n",
       "    <tr>\n",
       "      <th>5</th>\n",
       "      <td>Dartmouth</td>\n",
       "      <td>1340</td>\n",
       "      <td>89</td>\n",
       "      <td>23</td>\n",
       "      <td>10</td>\n",
       "      <td>32162</td>\n",
       "      <td>95</td>\n",
       "    </tr>\n",
       "    <tr>\n",
       "      <th>6</th>\n",
       "      <td>Duke</td>\n",
       "      <td>1315</td>\n",
       "      <td>90</td>\n",
       "      <td>30</td>\n",
       "      <td>12</td>\n",
       "      <td>31585</td>\n",
       "      <td>95</td>\n",
       "    </tr>\n",
       "    <tr>\n",
       "      <th>7</th>\n",
       "      <td>Georgetown</td>\n",
       "      <td>1255</td>\n",
       "      <td>74</td>\n",
       "      <td>24</td>\n",
       "      <td>12</td>\n",
       "      <td>20126</td>\n",
       "      <td>92</td>\n",
       "    </tr>\n",
       "    <tr>\n",
       "      <th>8</th>\n",
       "      <td>Harvard</td>\n",
       "      <td>1400</td>\n",
       "      <td>91</td>\n",
       "      <td>14</td>\n",
       "      <td>11</td>\n",
       "      <td>39525</td>\n",
       "      <td>97</td>\n",
       "    </tr>\n",
       "    <tr>\n",
       "      <th>9</th>\n",
       "      <td>JohnsHopkins</td>\n",
       "      <td>1305</td>\n",
       "      <td>75</td>\n",
       "      <td>44</td>\n",
       "      <td>7</td>\n",
       "      <td>58691</td>\n",
       "      <td>87</td>\n",
       "    </tr>\n",
       "    <tr>\n",
       "      <th>10</th>\n",
       "      <td>MIT</td>\n",
       "      <td>1380</td>\n",
       "      <td>94</td>\n",
       "      <td>30</td>\n",
       "      <td>10</td>\n",
       "      <td>34870</td>\n",
       "      <td>91</td>\n",
       "    </tr>\n",
       "    <tr>\n",
       "      <th>11</th>\n",
       "      <td>Northwestern</td>\n",
       "      <td>1260</td>\n",
       "      <td>85</td>\n",
       "      <td>39</td>\n",
       "      <td>11</td>\n",
       "      <td>28052</td>\n",
       "      <td>89</td>\n",
       "    </tr>\n",
       "    <tr>\n",
       "      <th>12</th>\n",
       "      <td>NotreDame</td>\n",
       "      <td>1255</td>\n",
       "      <td>81</td>\n",
       "      <td>42</td>\n",
       "      <td>13</td>\n",
       "      <td>15122</td>\n",
       "      <td>94</td>\n",
       "    </tr>\n",
       "    <tr>\n",
       "      <th>13</th>\n",
       "      <td>PennState</td>\n",
       "      <td>1081</td>\n",
       "      <td>38</td>\n",
       "      <td>54</td>\n",
       "      <td>18</td>\n",
       "      <td>10185</td>\n",
       "      <td>80</td>\n",
       "    </tr>\n",
       "    <tr>\n",
       "      <th>14</th>\n",
       "      <td>Princeton</td>\n",
       "      <td>1375</td>\n",
       "      <td>91</td>\n",
       "      <td>14</td>\n",
       "      <td>8</td>\n",
       "      <td>30220</td>\n",
       "      <td>95</td>\n",
       "    </tr>\n",
       "    <tr>\n",
       "      <th>15</th>\n",
       "      <td>Purdue</td>\n",
       "      <td>1005</td>\n",
       "      <td>28</td>\n",
       "      <td>90</td>\n",
       "      <td>19</td>\n",
       "      <td>9066</td>\n",
       "      <td>69</td>\n",
       "    </tr>\n",
       "    <tr>\n",
       "      <th>16</th>\n",
       "      <td>Stanford</td>\n",
       "      <td>1360</td>\n",
       "      <td>90</td>\n",
       "      <td>20</td>\n",
       "      <td>12</td>\n",
       "      <td>36450</td>\n",
       "      <td>93</td>\n",
       "    </tr>\n",
       "    <tr>\n",
       "      <th>17</th>\n",
       "      <td>TexasA&amp;M</td>\n",
       "      <td>1075</td>\n",
       "      <td>49</td>\n",
       "      <td>67</td>\n",
       "      <td>25</td>\n",
       "      <td>8704</td>\n",
       "      <td>67</td>\n",
       "    </tr>\n",
       "    <tr>\n",
       "      <th>18</th>\n",
       "      <td>UCBerkeley</td>\n",
       "      <td>1240</td>\n",
       "      <td>95</td>\n",
       "      <td>40</td>\n",
       "      <td>17</td>\n",
       "      <td>15140</td>\n",
       "      <td>78</td>\n",
       "    </tr>\n",
       "    <tr>\n",
       "      <th>19</th>\n",
       "      <td>UChicago</td>\n",
       "      <td>1290</td>\n",
       "      <td>75</td>\n",
       "      <td>50</td>\n",
       "      <td>13</td>\n",
       "      <td>38380</td>\n",
       "      <td>87</td>\n",
       "    </tr>\n",
       "    <tr>\n",
       "      <th>20</th>\n",
       "      <td>UMichigan</td>\n",
       "      <td>1180</td>\n",
       "      <td>65</td>\n",
       "      <td>68</td>\n",
       "      <td>16</td>\n",
       "      <td>15470</td>\n",
       "      <td>85</td>\n",
       "    </tr>\n",
       "    <tr>\n",
       "      <th>21</th>\n",
       "      <td>UPenn</td>\n",
       "      <td>1285</td>\n",
       "      <td>80</td>\n",
       "      <td>36</td>\n",
       "      <td>11</td>\n",
       "      <td>27553</td>\n",
       "      <td>90</td>\n",
       "    </tr>\n",
       "    <tr>\n",
       "      <th>22</th>\n",
       "      <td>UVA</td>\n",
       "      <td>1225</td>\n",
       "      <td>77</td>\n",
       "      <td>44</td>\n",
       "      <td>14</td>\n",
       "      <td>13349</td>\n",
       "      <td>92</td>\n",
       "    </tr>\n",
       "    <tr>\n",
       "      <th>23</th>\n",
       "      <td>UWisconsin</td>\n",
       "      <td>1085</td>\n",
       "      <td>40</td>\n",
       "      <td>69</td>\n",
       "      <td>15</td>\n",
       "      <td>11857</td>\n",
       "      <td>71</td>\n",
       "    </tr>\n",
       "    <tr>\n",
       "      <th>24</th>\n",
       "      <td>Yale</td>\n",
       "      <td>1375</td>\n",
       "      <td>95</td>\n",
       "      <td>19</td>\n",
       "      <td>11</td>\n",
       "      <td>43514</td>\n",
       "      <td>96</td>\n",
       "    </tr>\n",
       "  </tbody>\n",
       "</table>\n",
       "</div>"
      ],
      "text/plain": [
       "            Univ   SAT  Top10  Accept  SFRatio  Expenses  GradRate\n",
       "0          Brown  1310     89      22       13     22704        94\n",
       "1        CalTech  1415    100      25        6     63575        81\n",
       "2            CMU  1260     62      59        9     25026        72\n",
       "3       Columbia  1310     76      24       12     31510        88\n",
       "4        Cornell  1280     83      33       13     21864        90\n",
       "5      Dartmouth  1340     89      23       10     32162        95\n",
       "6           Duke  1315     90      30       12     31585        95\n",
       "7     Georgetown  1255     74      24       12     20126        92\n",
       "8        Harvard  1400     91      14       11     39525        97\n",
       "9   JohnsHopkins  1305     75      44        7     58691        87\n",
       "10           MIT  1380     94      30       10     34870        91\n",
       "11  Northwestern  1260     85      39       11     28052        89\n",
       "12     NotreDame  1255     81      42       13     15122        94\n",
       "13     PennState  1081     38      54       18     10185        80\n",
       "14     Princeton  1375     91      14        8     30220        95\n",
       "15        Purdue  1005     28      90       19      9066        69\n",
       "16      Stanford  1360     90      20       12     36450        93\n",
       "17      TexasA&M  1075     49      67       25      8704        67\n",
       "18    UCBerkeley  1240     95      40       17     15140        78\n",
       "19      UChicago  1290     75      50       13     38380        87\n",
       "20     UMichigan  1180     65      68       16     15470        85\n",
       "21         UPenn  1285     80      36       11     27553        90\n",
       "22           UVA  1225     77      44       14     13349        92\n",
       "23    UWisconsin  1085     40      69       15     11857        71\n",
       "24          Yale  1375     95      19       11     43514        96"
      ]
     },
     "execution_count": 17,
     "metadata": {},
     "output_type": "execute_result"
    }
   ],
   "source": [
    "univ"
   ]
  },
  {
   "cell_type": "markdown",
   "id": "21582245",
   "metadata": {},
   "source": [
    "## Examine the Data"
   ]
  },
  {
   "cell_type": "code",
   "execution_count": 19,
   "id": "486c7366",
   "metadata": {},
   "outputs": [
    {
     "data": {
      "text/plain": [
       "pandas.core.frame.DataFrame"
      ]
     },
     "execution_count": 19,
     "metadata": {},
     "output_type": "execute_result"
    }
   ],
   "source": [
    "type(univ)"
   ]
  },
  {
   "cell_type": "markdown",
   "id": "623014b0",
   "metadata": {},
   "source": [
    "#### First 3 Records"
   ]
  },
  {
   "cell_type": "code",
   "execution_count": 20,
   "id": "d51ada6d",
   "metadata": {},
   "outputs": [
    {
     "data": {
      "text/html": [
       "<div>\n",
       "<style scoped>\n",
       "    .dataframe tbody tr th:only-of-type {\n",
       "        vertical-align: middle;\n",
       "    }\n",
       "\n",
       "    .dataframe tbody tr th {\n",
       "        vertical-align: top;\n",
       "    }\n",
       "\n",
       "    .dataframe thead th {\n",
       "        text-align: right;\n",
       "    }\n",
       "</style>\n",
       "<table border=\"1\" class=\"dataframe\">\n",
       "  <thead>\n",
       "    <tr style=\"text-align: right;\">\n",
       "      <th></th>\n",
       "      <th>Univ</th>\n",
       "      <th>SAT</th>\n",
       "      <th>Top10</th>\n",
       "      <th>Accept</th>\n",
       "      <th>SFRatio</th>\n",
       "      <th>Expenses</th>\n",
       "      <th>GradRate</th>\n",
       "    </tr>\n",
       "  </thead>\n",
       "  <tbody>\n",
       "    <tr>\n",
       "      <th>0</th>\n",
       "      <td>Brown</td>\n",
       "      <td>1310</td>\n",
       "      <td>89</td>\n",
       "      <td>22</td>\n",
       "      <td>13</td>\n",
       "      <td>22704</td>\n",
       "      <td>94</td>\n",
       "    </tr>\n",
       "    <tr>\n",
       "      <th>1</th>\n",
       "      <td>CalTech</td>\n",
       "      <td>1415</td>\n",
       "      <td>100</td>\n",
       "      <td>25</td>\n",
       "      <td>6</td>\n",
       "      <td>63575</td>\n",
       "      <td>81</td>\n",
       "    </tr>\n",
       "    <tr>\n",
       "      <th>2</th>\n",
       "      <td>CMU</td>\n",
       "      <td>1260</td>\n",
       "      <td>62</td>\n",
       "      <td>59</td>\n",
       "      <td>9</td>\n",
       "      <td>25026</td>\n",
       "      <td>72</td>\n",
       "    </tr>\n",
       "  </tbody>\n",
       "</table>\n",
       "</div>"
      ],
      "text/plain": [
       "      Univ   SAT  Top10  Accept  SFRatio  Expenses  GradRate\n",
       "0    Brown  1310     89      22       13     22704        94\n",
       "1  CalTech  1415    100      25        6     63575        81\n",
       "2      CMU  1260     62      59        9     25026        72"
      ]
     },
     "execution_count": 20,
     "metadata": {},
     "output_type": "execute_result"
    }
   ],
   "source": [
    "univ.head(3)"
   ]
  },
  {
   "cell_type": "markdown",
   "id": "abe1f904",
   "metadata": {},
   "source": [
    "#### Last 3 Records"
   ]
  },
  {
   "cell_type": "code",
   "execution_count": 21,
   "id": "3f5b5f98",
   "metadata": {},
   "outputs": [
    {
     "data": {
      "text/html": [
       "<div>\n",
       "<style scoped>\n",
       "    .dataframe tbody tr th:only-of-type {\n",
       "        vertical-align: middle;\n",
       "    }\n",
       "\n",
       "    .dataframe tbody tr th {\n",
       "        vertical-align: top;\n",
       "    }\n",
       "\n",
       "    .dataframe thead th {\n",
       "        text-align: right;\n",
       "    }\n",
       "</style>\n",
       "<table border=\"1\" class=\"dataframe\">\n",
       "  <thead>\n",
       "    <tr style=\"text-align: right;\">\n",
       "      <th></th>\n",
       "      <th>Univ</th>\n",
       "      <th>SAT</th>\n",
       "      <th>Top10</th>\n",
       "      <th>Accept</th>\n",
       "      <th>SFRatio</th>\n",
       "      <th>Expenses</th>\n",
       "      <th>GradRate</th>\n",
       "    </tr>\n",
       "  </thead>\n",
       "  <tbody>\n",
       "    <tr>\n",
       "      <th>22</th>\n",
       "      <td>UVA</td>\n",
       "      <td>1225</td>\n",
       "      <td>77</td>\n",
       "      <td>44</td>\n",
       "      <td>14</td>\n",
       "      <td>13349</td>\n",
       "      <td>92</td>\n",
       "    </tr>\n",
       "    <tr>\n",
       "      <th>23</th>\n",
       "      <td>UWisconsin</td>\n",
       "      <td>1085</td>\n",
       "      <td>40</td>\n",
       "      <td>69</td>\n",
       "      <td>15</td>\n",
       "      <td>11857</td>\n",
       "      <td>71</td>\n",
       "    </tr>\n",
       "    <tr>\n",
       "      <th>24</th>\n",
       "      <td>Yale</td>\n",
       "      <td>1375</td>\n",
       "      <td>95</td>\n",
       "      <td>19</td>\n",
       "      <td>11</td>\n",
       "      <td>43514</td>\n",
       "      <td>96</td>\n",
       "    </tr>\n",
       "  </tbody>\n",
       "</table>\n",
       "</div>"
      ],
      "text/plain": [
       "          Univ   SAT  Top10  Accept  SFRatio  Expenses  GradRate\n",
       "22         UVA  1225     77      44       14     13349        92\n",
       "23  UWisconsin  1085     40      69       15     11857        71\n",
       "24        Yale  1375     95      19       11     43514        96"
      ]
     },
     "execution_count": 21,
     "metadata": {},
     "output_type": "execute_result"
    }
   ],
   "source": [
    "univ.tail(3)"
   ]
  },
  {
   "cell_type": "markdown",
   "id": "b0c8ede4",
   "metadata": {},
   "source": [
    "### To get the genral information about the DataFrame"
   ]
  },
  {
   "cell_type": "code",
   "execution_count": 22,
   "id": "23b75fe4",
   "metadata": {},
   "outputs": [
    {
     "name": "stdout",
     "output_type": "stream",
     "text": [
      "<class 'pandas.core.frame.DataFrame'>\n",
      "RangeIndex: 25 entries, 0 to 24\n",
      "Data columns (total 7 columns):\n",
      " #   Column    Non-Null Count  Dtype \n",
      "---  ------    --------------  ----- \n",
      " 0   Univ      25 non-null     object\n",
      " 1   SAT       25 non-null     int64 \n",
      " 2   Top10     25 non-null     int64 \n",
      " 3   Accept    25 non-null     int64 \n",
      " 4   SFRatio   25 non-null     int64 \n",
      " 5   Expenses  25 non-null     int64 \n",
      " 6   GradRate  25 non-null     int64 \n",
      "dtypes: int64(6), object(1)\n",
      "memory usage: 1.5+ KB\n"
     ]
    }
   ],
   "source": [
    "univ.info()"
   ]
  },
  {
   "cell_type": "markdown",
   "id": "546a1644",
   "metadata": {},
   "source": [
    "#### Gives the Description of Numerical columns of DataFrame which includes :-\n",
    "1. count - The number of not-empty values.\n",
    "2. mean - The average (mean) value. \n",
    "3. std - The standard deviation. \n",
    "4. min - the minimum value.\n",
    "5. 25% - The 25% percentile.\n",
    "6. 50% - The 50% percentile. \n",
    "7. 75% - The 75% percentile.\n",
    "8. max - the maximum value."
   ]
  },
  {
   "cell_type": "code",
   "execution_count": 24,
   "id": "65228eeb",
   "metadata": {},
   "outputs": [
    {
     "name": "stdout",
     "output_type": "stream",
     "text": [
      "               SAT       Top10     Accept   SFRatio      Expenses   GradRate\n",
      "count    25.000000   25.000000  25.000000  25.00000     25.000000  25.000000\n",
      "mean   1266.440000   76.480000  39.200000  12.72000  27388.000000  86.720000\n",
      "std     108.359771   19.433905  19.727308   4.06735  14424.883165   9.057778\n",
      "min    1005.000000   28.000000  14.000000   6.00000   8704.000000  67.000000\n",
      "25%    1240.000000   74.000000  24.000000  11.00000  15140.000000  81.000000\n",
      "50%    1285.000000   81.000000  36.000000  12.00000  27553.000000  90.000000\n",
      "75%    1340.000000   90.000000  50.000000  14.00000  34870.000000  94.000000\n",
      "max    1415.000000  100.000000  90.000000  25.00000  63575.000000  97.000000\n"
     ]
    }
   ],
   "source": [
    "print(univ.describe())"
   ]
  },
  {
   "cell_type": "code",
   "execution_count": 25,
   "id": "9cb6c7c1",
   "metadata": {},
   "outputs": [],
   "source": [
    "udf = pd.read_csv('datasets/Universities.csv',index_col = 'Univ')"
   ]
  },
  {
   "cell_type": "code",
   "execution_count": 27,
   "id": "cba2ae3a",
   "metadata": {
    "scrolled": true
   },
   "outputs": [
    {
     "name": "stdout",
     "output_type": "stream",
     "text": [
      "               SAT  Top10  Accept  SFRatio  Expenses  GradRate\n",
      "Univ                                                          \n",
      "Brown         1310     89      22       13     22704        94\n",
      "CalTech       1415    100      25        6     63575        81\n",
      "CMU           1260     62      59        9     25026        72\n",
      "Columbia      1310     76      24       12     31510        88\n",
      "Cornell       1280     83      33       13     21864        90\n",
      "Dartmouth     1340     89      23       10     32162        95\n",
      "Duke          1315     90      30       12     31585        95\n",
      "Georgetown    1255     74      24       12     20126        92\n",
      "Harvard       1400     91      14       11     39525        97\n",
      "JohnsHopkins  1305     75      44        7     58691        87\n",
      "MIT           1380     94      30       10     34870        91\n",
      "Northwestern  1260     85      39       11     28052        89\n",
      "NotreDame     1255     81      42       13     15122        94\n",
      "PennState     1081     38      54       18     10185        80\n",
      "Princeton     1375     91      14        8     30220        95\n",
      "Purdue        1005     28      90       19      9066        69\n",
      "Stanford      1360     90      20       12     36450        93\n",
      "TexasA&M      1075     49      67       25      8704        67\n",
      "UCBerkeley    1240     95      40       17     15140        78\n",
      "UChicago      1290     75      50       13     38380        87\n",
      "UMichigan     1180     65      68       16     15470        85\n",
      "UPenn         1285     80      36       11     27553        90\n",
      "UVA           1225     77      44       14     13349        92\n",
      "UWisconsin    1085     40      69       15     11857        71\n",
      "Yale          1375     95      19       11     43514        96\n"
     ]
    }
   ],
   "source": [
    "print(udf)"
   ]
  },
  {
   "cell_type": "code",
   "execution_count": 28,
   "id": "58f8b792",
   "metadata": {},
   "outputs": [
    {
     "name": "stdout",
     "output_type": "stream",
     "text": [
      "Index(['SAT', 'Top10', 'Accept', 'SFRatio', 'Expenses', 'GradRate'], dtype='object')\n"
     ]
    }
   ],
   "source": [
    "print(udf.columns)"
   ]
  },
  {
   "cell_type": "markdown",
   "id": "8d974be5",
   "metadata": {},
   "source": [
    "### Access Data"
   ]
  },
  {
   "cell_type": "markdown",
   "id": "a8b83f8d",
   "metadata": {},
   "source": [
    "### access rows of the DataFrame"
   ]
  },
  {
   "cell_type": "code",
   "execution_count": 29,
   "id": "4b45263b",
   "metadata": {},
   "outputs": [
    {
     "data": {
      "text/plain": [
       "SAT          1360\n",
       "Top10          90\n",
       "Accept         20\n",
       "SFRatio        12\n",
       "Expenses    36450\n",
       "GradRate       93\n",
       "Name: Stanford, dtype: int64"
      ]
     },
     "execution_count": 29,
     "metadata": {},
     "output_type": "execute_result"
    }
   ],
   "source": [
    "udf.loc['Stanford']"
   ]
  },
  {
   "cell_type": "markdown",
   "id": "1b57ee5c",
   "metadata": {},
   "source": [
    "### To know at which location within the index list, a particular index is located :- The similar way works for columns too "
   ]
  },
  {
   "cell_type": "code",
   "execution_count": 38,
   "id": "ca5d454b",
   "metadata": {},
   "outputs": [
    {
     "data": {
      "text/plain": [
       "16"
      ]
     },
     "execution_count": 38,
     "metadata": {},
     "output_type": "execute_result"
    }
   ],
   "source": [
    "udf.index.get_loc('Stanford')"
   ]
  },
  {
   "cell_type": "code",
   "execution_count": 39,
   "id": "0bb3fb7d",
   "metadata": {},
   "outputs": [
    {
     "data": {
      "text/plain": [
       "SAT          1360\n",
       "Top10          90\n",
       "Accept         20\n",
       "SFRatio        12\n",
       "Expenses    36450\n",
       "GradRate       93\n",
       "Name: Stanford, dtype: int64"
      ]
     },
     "execution_count": 39,
     "metadata": {},
     "output_type": "execute_result"
    }
   ],
   "source": [
    "udf.iloc[udf.index.get_loc('Stanford')]"
   ]
  },
  {
   "cell_type": "code",
   "execution_count": 40,
   "id": "d14463ea",
   "metadata": {},
   "outputs": [
    {
     "data": {
      "text/html": [
       "<div>\n",
       "<style scoped>\n",
       "    .dataframe tbody tr th:only-of-type {\n",
       "        vertical-align: middle;\n",
       "    }\n",
       "\n",
       "    .dataframe tbody tr th {\n",
       "        vertical-align: top;\n",
       "    }\n",
       "\n",
       "    .dataframe thead th {\n",
       "        text-align: right;\n",
       "    }\n",
       "</style>\n",
       "<table border=\"1\" class=\"dataframe\">\n",
       "  <thead>\n",
       "    <tr style=\"text-align: right;\">\n",
       "      <th></th>\n",
       "      <th>SAT</th>\n",
       "      <th>Top10</th>\n",
       "      <th>Accept</th>\n",
       "      <th>SFRatio</th>\n",
       "      <th>Expenses</th>\n",
       "      <th>GradRate</th>\n",
       "    </tr>\n",
       "    <tr>\n",
       "      <th>Univ</th>\n",
       "      <th></th>\n",
       "      <th></th>\n",
       "      <th></th>\n",
       "      <th></th>\n",
       "      <th></th>\n",
       "      <th></th>\n",
       "    </tr>\n",
       "  </thead>\n",
       "  <tbody>\n",
       "    <tr>\n",
       "      <th>CMU</th>\n",
       "      <td>1260</td>\n",
       "      <td>62</td>\n",
       "      <td>59</td>\n",
       "      <td>9</td>\n",
       "      <td>25026</td>\n",
       "      <td>72</td>\n",
       "    </tr>\n",
       "    <tr>\n",
       "      <th>Columbia</th>\n",
       "      <td>1310</td>\n",
       "      <td>76</td>\n",
       "      <td>24</td>\n",
       "      <td>12</td>\n",
       "      <td>31510</td>\n",
       "      <td>88</td>\n",
       "    </tr>\n",
       "    <tr>\n",
       "      <th>Cornell</th>\n",
       "      <td>1280</td>\n",
       "      <td>83</td>\n",
       "      <td>33</td>\n",
       "      <td>13</td>\n",
       "      <td>21864</td>\n",
       "      <td>90</td>\n",
       "    </tr>\n",
       "    <tr>\n",
       "      <th>Dartmouth</th>\n",
       "      <td>1340</td>\n",
       "      <td>89</td>\n",
       "      <td>23</td>\n",
       "      <td>10</td>\n",
       "      <td>32162</td>\n",
       "      <td>95</td>\n",
       "    </tr>\n",
       "    <tr>\n",
       "      <th>Duke</th>\n",
       "      <td>1315</td>\n",
       "      <td>90</td>\n",
       "      <td>30</td>\n",
       "      <td>12</td>\n",
       "      <td>31585</td>\n",
       "      <td>95</td>\n",
       "    </tr>\n",
       "  </tbody>\n",
       "</table>\n",
       "</div>"
      ],
      "text/plain": [
       "            SAT  Top10  Accept  SFRatio  Expenses  GradRate\n",
       "Univ                                                       \n",
       "CMU        1260     62      59        9     25026        72\n",
       "Columbia   1310     76      24       12     31510        88\n",
       "Cornell    1280     83      33       13     21864        90\n",
       "Dartmouth  1340     89      23       10     32162        95\n",
       "Duke       1315     90      30       12     31585        95"
      ]
     },
     "execution_count": 40,
     "metadata": {},
     "output_type": "execute_result"
    }
   ],
   "source": [
    "udf.iloc[2:7]"
   ]
  },
  {
   "cell_type": "code",
   "execution_count": 41,
   "id": "6950fa83",
   "metadata": {},
   "outputs": [
    {
     "data": {
      "text/html": [
       "<div>\n",
       "<style scoped>\n",
       "    .dataframe tbody tr th:only-of-type {\n",
       "        vertical-align: middle;\n",
       "    }\n",
       "\n",
       "    .dataframe tbody tr th {\n",
       "        vertical-align: top;\n",
       "    }\n",
       "\n",
       "    .dataframe thead th {\n",
       "        text-align: right;\n",
       "    }\n",
       "</style>\n",
       "<table border=\"1\" class=\"dataframe\">\n",
       "  <thead>\n",
       "    <tr style=\"text-align: right;\">\n",
       "      <th></th>\n",
       "      <th>SAT</th>\n",
       "      <th>Top10</th>\n",
       "      <th>Accept</th>\n",
       "      <th>SFRatio</th>\n",
       "      <th>Expenses</th>\n",
       "      <th>GradRate</th>\n",
       "    </tr>\n",
       "    <tr>\n",
       "      <th>Univ</th>\n",
       "      <th></th>\n",
       "      <th></th>\n",
       "      <th></th>\n",
       "      <th></th>\n",
       "      <th></th>\n",
       "      <th></th>\n",
       "    </tr>\n",
       "  </thead>\n",
       "  <tbody>\n",
       "    <tr>\n",
       "      <th>CMU</th>\n",
       "      <td>1260</td>\n",
       "      <td>62</td>\n",
       "      <td>59</td>\n",
       "      <td>9</td>\n",
       "      <td>25026</td>\n",
       "      <td>72</td>\n",
       "    </tr>\n",
       "    <tr>\n",
       "      <th>Columbia</th>\n",
       "      <td>1310</td>\n",
       "      <td>76</td>\n",
       "      <td>24</td>\n",
       "      <td>12</td>\n",
       "      <td>31510</td>\n",
       "      <td>88</td>\n",
       "    </tr>\n",
       "    <tr>\n",
       "      <th>Cornell</th>\n",
       "      <td>1280</td>\n",
       "      <td>83</td>\n",
       "      <td>33</td>\n",
       "      <td>13</td>\n",
       "      <td>21864</td>\n",
       "      <td>90</td>\n",
       "    </tr>\n",
       "    <tr>\n",
       "      <th>Dartmouth</th>\n",
       "      <td>1340</td>\n",
       "      <td>89</td>\n",
       "      <td>23</td>\n",
       "      <td>10</td>\n",
       "      <td>32162</td>\n",
       "      <td>95</td>\n",
       "    </tr>\n",
       "    <tr>\n",
       "      <th>Duke</th>\n",
       "      <td>1315</td>\n",
       "      <td>90</td>\n",
       "      <td>30</td>\n",
       "      <td>12</td>\n",
       "      <td>31585</td>\n",
       "      <td>95</td>\n",
       "    </tr>\n",
       "  </tbody>\n",
       "</table>\n",
       "</div>"
      ],
      "text/plain": [
       "            SAT  Top10  Accept  SFRatio  Expenses  GradRate\n",
       "Univ                                                       \n",
       "CMU        1260     62      59        9     25026        72\n",
       "Columbia   1310     76      24       12     31510        88\n",
       "Cornell    1280     83      33       13     21864        90\n",
       "Dartmouth  1340     89      23       10     32162        95\n",
       "Duke       1315     90      30       12     31585        95"
      ]
     },
     "execution_count": 41,
     "metadata": {},
     "output_type": "execute_result"
    }
   ],
   "source": [
    "udf.loc['CMU':'Duke']"
   ]
  },
  {
   "cell_type": "code",
   "execution_count": 48,
   "id": "d42dee6a",
   "metadata": {},
   "outputs": [],
   "source": [
    "# dir(pd.DataFrame)"
   ]
  },
  {
   "cell_type": "markdown",
   "id": "b982d20e",
   "metadata": {},
   "source": [
    "### Boolean Selection :- Condition based selection"
   ]
  },
  {
   "cell_type": "code",
   "execution_count": 49,
   "id": "4b111c51",
   "metadata": {},
   "outputs": [],
   "source": [
    "condition = udf['Expenses']>40000"
   ]
  },
  {
   "cell_type": "markdown",
   "id": "b778c200",
   "metadata": {},
   "source": [
    "#### Only those entries are returned which True values corrosponding to the condition"
   ]
  },
  {
   "cell_type": "code",
   "execution_count": 50,
   "id": "0f7d84b4",
   "metadata": {},
   "outputs": [
    {
     "data": {
      "text/html": [
       "<div>\n",
       "<style scoped>\n",
       "    .dataframe tbody tr th:only-of-type {\n",
       "        vertical-align: middle;\n",
       "    }\n",
       "\n",
       "    .dataframe tbody tr th {\n",
       "        vertical-align: top;\n",
       "    }\n",
       "\n",
       "    .dataframe thead th {\n",
       "        text-align: right;\n",
       "    }\n",
       "</style>\n",
       "<table border=\"1\" class=\"dataframe\">\n",
       "  <thead>\n",
       "    <tr style=\"text-align: right;\">\n",
       "      <th></th>\n",
       "      <th>SAT</th>\n",
       "      <th>Top10</th>\n",
       "      <th>Accept</th>\n",
       "      <th>SFRatio</th>\n",
       "      <th>Expenses</th>\n",
       "      <th>GradRate</th>\n",
       "    </tr>\n",
       "    <tr>\n",
       "      <th>Univ</th>\n",
       "      <th></th>\n",
       "      <th></th>\n",
       "      <th></th>\n",
       "      <th></th>\n",
       "      <th></th>\n",
       "      <th></th>\n",
       "    </tr>\n",
       "  </thead>\n",
       "  <tbody>\n",
       "    <tr>\n",
       "      <th>CalTech</th>\n",
       "      <td>1415</td>\n",
       "      <td>100</td>\n",
       "      <td>25</td>\n",
       "      <td>6</td>\n",
       "      <td>63575</td>\n",
       "      <td>81</td>\n",
       "    </tr>\n",
       "    <tr>\n",
       "      <th>JohnsHopkins</th>\n",
       "      <td>1305</td>\n",
       "      <td>75</td>\n",
       "      <td>44</td>\n",
       "      <td>7</td>\n",
       "      <td>58691</td>\n",
       "      <td>87</td>\n",
       "    </tr>\n",
       "    <tr>\n",
       "      <th>Yale</th>\n",
       "      <td>1375</td>\n",
       "      <td>95</td>\n",
       "      <td>19</td>\n",
       "      <td>11</td>\n",
       "      <td>43514</td>\n",
       "      <td>96</td>\n",
       "    </tr>\n",
       "  </tbody>\n",
       "</table>\n",
       "</div>"
      ],
      "text/plain": [
       "               SAT  Top10  Accept  SFRatio  Expenses  GradRate\n",
       "Univ                                                          \n",
       "CalTech       1415    100      25        6     63575        81\n",
       "JohnsHopkins  1305     75      44        7     58691        87\n",
       "Yale          1375     95      19       11     43514        96"
      ]
     },
     "execution_count": 50,
     "metadata": {},
     "output_type": "execute_result"
    }
   ],
   "source": [
    "udf[condition]"
   ]
  },
  {
   "cell_type": "markdown",
   "id": "e80d2517",
   "metadata": {},
   "source": [
    "#### Selection can also be based on 2 or more conditions, but they have to be combined using the 'Binary operations :- \n",
    "### a. & :- for and \n",
    "### b. | :- for or"
   ]
  },
  {
   "cell_type": "code",
   "execution_count": 51,
   "id": "4f26ab9c",
   "metadata": {},
   "outputs": [],
   "source": [
    "condition1 = (udf['Expenses']>40000) & (udf['Top10'] > 90)"
   ]
  },
  {
   "cell_type": "code",
   "execution_count": 52,
   "id": "5deca357",
   "metadata": {},
   "outputs": [
    {
     "data": {
      "text/html": [
       "<div>\n",
       "<style scoped>\n",
       "    .dataframe tbody tr th:only-of-type {\n",
       "        vertical-align: middle;\n",
       "    }\n",
       "\n",
       "    .dataframe tbody tr th {\n",
       "        vertical-align: top;\n",
       "    }\n",
       "\n",
       "    .dataframe thead th {\n",
       "        text-align: right;\n",
       "    }\n",
       "</style>\n",
       "<table border=\"1\" class=\"dataframe\">\n",
       "  <thead>\n",
       "    <tr style=\"text-align: right;\">\n",
       "      <th></th>\n",
       "      <th>SAT</th>\n",
       "      <th>Top10</th>\n",
       "      <th>Accept</th>\n",
       "      <th>SFRatio</th>\n",
       "      <th>Expenses</th>\n",
       "      <th>GradRate</th>\n",
       "    </tr>\n",
       "    <tr>\n",
       "      <th>Univ</th>\n",
       "      <th></th>\n",
       "      <th></th>\n",
       "      <th></th>\n",
       "      <th></th>\n",
       "      <th></th>\n",
       "      <th></th>\n",
       "    </tr>\n",
       "  </thead>\n",
       "  <tbody>\n",
       "    <tr>\n",
       "      <th>CalTech</th>\n",
       "      <td>1415</td>\n",
       "      <td>100</td>\n",
       "      <td>25</td>\n",
       "      <td>6</td>\n",
       "      <td>63575</td>\n",
       "      <td>81</td>\n",
       "    </tr>\n",
       "    <tr>\n",
       "      <th>Yale</th>\n",
       "      <td>1375</td>\n",
       "      <td>95</td>\n",
       "      <td>19</td>\n",
       "      <td>11</td>\n",
       "      <td>43514</td>\n",
       "      <td>96</td>\n",
       "    </tr>\n",
       "  </tbody>\n",
       "</table>\n",
       "</div>"
      ],
      "text/plain": [
       "          SAT  Top10  Accept  SFRatio  Expenses  GradRate\n",
       "Univ                                                     \n",
       "CalTech  1415    100      25        6     63575        81\n",
       "Yale     1375     95      19       11     43514        96"
      ]
     },
     "execution_count": 52,
     "metadata": {},
     "output_type": "execute_result"
    }
   ],
   "source": [
    "udf[condition1]"
   ]
  },
  {
   "cell_type": "code",
   "execution_count": 53,
   "id": "18c65279",
   "metadata": {},
   "outputs": [],
   "source": [
    "condition2 = (udf['Expenses']>40000) | (udf['Top10'] > 90)"
   ]
  },
  {
   "cell_type": "code",
   "execution_count": 54,
   "id": "34a178ac",
   "metadata": {},
   "outputs": [
    {
     "data": {
      "text/html": [
       "<div>\n",
       "<style scoped>\n",
       "    .dataframe tbody tr th:only-of-type {\n",
       "        vertical-align: middle;\n",
       "    }\n",
       "\n",
       "    .dataframe tbody tr th {\n",
       "        vertical-align: top;\n",
       "    }\n",
       "\n",
       "    .dataframe thead th {\n",
       "        text-align: right;\n",
       "    }\n",
       "</style>\n",
       "<table border=\"1\" class=\"dataframe\">\n",
       "  <thead>\n",
       "    <tr style=\"text-align: right;\">\n",
       "      <th></th>\n",
       "      <th>SAT</th>\n",
       "      <th>Top10</th>\n",
       "      <th>Accept</th>\n",
       "      <th>SFRatio</th>\n",
       "      <th>Expenses</th>\n",
       "      <th>GradRate</th>\n",
       "    </tr>\n",
       "    <tr>\n",
       "      <th>Univ</th>\n",
       "      <th></th>\n",
       "      <th></th>\n",
       "      <th></th>\n",
       "      <th></th>\n",
       "      <th></th>\n",
       "      <th></th>\n",
       "    </tr>\n",
       "  </thead>\n",
       "  <tbody>\n",
       "    <tr>\n",
       "      <th>CalTech</th>\n",
       "      <td>1415</td>\n",
       "      <td>100</td>\n",
       "      <td>25</td>\n",
       "      <td>6</td>\n",
       "      <td>63575</td>\n",
       "      <td>81</td>\n",
       "    </tr>\n",
       "    <tr>\n",
       "      <th>Harvard</th>\n",
       "      <td>1400</td>\n",
       "      <td>91</td>\n",
       "      <td>14</td>\n",
       "      <td>11</td>\n",
       "      <td>39525</td>\n",
       "      <td>97</td>\n",
       "    </tr>\n",
       "    <tr>\n",
       "      <th>JohnsHopkins</th>\n",
       "      <td>1305</td>\n",
       "      <td>75</td>\n",
       "      <td>44</td>\n",
       "      <td>7</td>\n",
       "      <td>58691</td>\n",
       "      <td>87</td>\n",
       "    </tr>\n",
       "    <tr>\n",
       "      <th>MIT</th>\n",
       "      <td>1380</td>\n",
       "      <td>94</td>\n",
       "      <td>30</td>\n",
       "      <td>10</td>\n",
       "      <td>34870</td>\n",
       "      <td>91</td>\n",
       "    </tr>\n",
       "    <tr>\n",
       "      <th>Princeton</th>\n",
       "      <td>1375</td>\n",
       "      <td>91</td>\n",
       "      <td>14</td>\n",
       "      <td>8</td>\n",
       "      <td>30220</td>\n",
       "      <td>95</td>\n",
       "    </tr>\n",
       "    <tr>\n",
       "      <th>UCBerkeley</th>\n",
       "      <td>1240</td>\n",
       "      <td>95</td>\n",
       "      <td>40</td>\n",
       "      <td>17</td>\n",
       "      <td>15140</td>\n",
       "      <td>78</td>\n",
       "    </tr>\n",
       "    <tr>\n",
       "      <th>Yale</th>\n",
       "      <td>1375</td>\n",
       "      <td>95</td>\n",
       "      <td>19</td>\n",
       "      <td>11</td>\n",
       "      <td>43514</td>\n",
       "      <td>96</td>\n",
       "    </tr>\n",
       "  </tbody>\n",
       "</table>\n",
       "</div>"
      ],
      "text/plain": [
       "               SAT  Top10  Accept  SFRatio  Expenses  GradRate\n",
       "Univ                                                          \n",
       "CalTech       1415    100      25        6     63575        81\n",
       "Harvard       1400     91      14       11     39525        97\n",
       "JohnsHopkins  1305     75      44        7     58691        87\n",
       "MIT           1380     94      30       10     34870        91\n",
       "Princeton     1375     91      14        8     30220        95\n",
       "UCBerkeley    1240     95      40       17     15140        78\n",
       "Yale          1375     95      19       11     43514        96"
      ]
     },
     "execution_count": 54,
     "metadata": {},
     "output_type": "execute_result"
    }
   ],
   "source": [
    "udf[condition2]"
   ]
  },
  {
   "cell_type": "markdown",
   "id": "7ba77d03",
   "metadata": {},
   "source": [
    "### Accessing Columns "
   ]
  },
  {
   "cell_type": "markdown",
   "id": "7a9b10a7",
   "metadata": {},
   "source": [
    "#### 1.access all the entries for a single column by column label"
   ]
  },
  {
   "cell_type": "code",
   "execution_count": 55,
   "id": "924f5712",
   "metadata": {},
   "outputs": [
    {
     "data": {
      "text/plain": [
       "Univ\n",
       "Brown           1310\n",
       "CalTech         1415\n",
       "CMU             1260\n",
       "Columbia        1310\n",
       "Cornell         1280\n",
       "Dartmouth       1340\n",
       "Duke            1315\n",
       "Georgetown      1255\n",
       "Harvard         1400\n",
       "JohnsHopkins    1305\n",
       "MIT             1380\n",
       "Northwestern    1260\n",
       "NotreDame       1255\n",
       "PennState       1081\n",
       "Princeton       1375\n",
       "Purdue          1005\n",
       "Stanford        1360\n",
       "TexasA&M        1075\n",
       "UCBerkeley      1240\n",
       "UChicago        1290\n",
       "UMichigan       1180\n",
       "UPenn           1285\n",
       "UVA             1225\n",
       "UWisconsin      1085\n",
       "Yale            1375\n",
       "Name: SAT, dtype: int64"
      ]
     },
     "execution_count": 55,
     "metadata": {},
     "output_type": "execute_result"
    }
   ],
   "source": [
    "udf['SAT']"
   ]
  },
  {
   "cell_type": "markdown",
   "id": "ba822dcb",
   "metadata": {},
   "source": [
    "#### 2.Access all the entries two or more than two columns by column labels"
   ]
  },
  {
   "cell_type": "code",
   "execution_count": 56,
   "id": "c862b69a",
   "metadata": {},
   "outputs": [
    {
     "data": {
      "text/html": [
       "<div>\n",
       "<style scoped>\n",
       "    .dataframe tbody tr th:only-of-type {\n",
       "        vertical-align: middle;\n",
       "    }\n",
       "\n",
       "    .dataframe tbody tr th {\n",
       "        vertical-align: top;\n",
       "    }\n",
       "\n",
       "    .dataframe thead th {\n",
       "        text-align: right;\n",
       "    }\n",
       "</style>\n",
       "<table border=\"1\" class=\"dataframe\">\n",
       "  <thead>\n",
       "    <tr style=\"text-align: right;\">\n",
       "      <th></th>\n",
       "      <th>SAT</th>\n",
       "      <th>Expenses</th>\n",
       "    </tr>\n",
       "    <tr>\n",
       "      <th>Univ</th>\n",
       "      <th></th>\n",
       "      <th></th>\n",
       "    </tr>\n",
       "  </thead>\n",
       "  <tbody>\n",
       "    <tr>\n",
       "      <th>Brown</th>\n",
       "      <td>1310</td>\n",
       "      <td>22704</td>\n",
       "    </tr>\n",
       "    <tr>\n",
       "      <th>CalTech</th>\n",
       "      <td>1415</td>\n",
       "      <td>63575</td>\n",
       "    </tr>\n",
       "    <tr>\n",
       "      <th>CMU</th>\n",
       "      <td>1260</td>\n",
       "      <td>25026</td>\n",
       "    </tr>\n",
       "    <tr>\n",
       "      <th>Columbia</th>\n",
       "      <td>1310</td>\n",
       "      <td>31510</td>\n",
       "    </tr>\n",
       "    <tr>\n",
       "      <th>Cornell</th>\n",
       "      <td>1280</td>\n",
       "      <td>21864</td>\n",
       "    </tr>\n",
       "    <tr>\n",
       "      <th>Dartmouth</th>\n",
       "      <td>1340</td>\n",
       "      <td>32162</td>\n",
       "    </tr>\n",
       "    <tr>\n",
       "      <th>Duke</th>\n",
       "      <td>1315</td>\n",
       "      <td>31585</td>\n",
       "    </tr>\n",
       "    <tr>\n",
       "      <th>Georgetown</th>\n",
       "      <td>1255</td>\n",
       "      <td>20126</td>\n",
       "    </tr>\n",
       "    <tr>\n",
       "      <th>Harvard</th>\n",
       "      <td>1400</td>\n",
       "      <td>39525</td>\n",
       "    </tr>\n",
       "    <tr>\n",
       "      <th>JohnsHopkins</th>\n",
       "      <td>1305</td>\n",
       "      <td>58691</td>\n",
       "    </tr>\n",
       "    <tr>\n",
       "      <th>MIT</th>\n",
       "      <td>1380</td>\n",
       "      <td>34870</td>\n",
       "    </tr>\n",
       "    <tr>\n",
       "      <th>Northwestern</th>\n",
       "      <td>1260</td>\n",
       "      <td>28052</td>\n",
       "    </tr>\n",
       "    <tr>\n",
       "      <th>NotreDame</th>\n",
       "      <td>1255</td>\n",
       "      <td>15122</td>\n",
       "    </tr>\n",
       "    <tr>\n",
       "      <th>PennState</th>\n",
       "      <td>1081</td>\n",
       "      <td>10185</td>\n",
       "    </tr>\n",
       "    <tr>\n",
       "      <th>Princeton</th>\n",
       "      <td>1375</td>\n",
       "      <td>30220</td>\n",
       "    </tr>\n",
       "    <tr>\n",
       "      <th>Purdue</th>\n",
       "      <td>1005</td>\n",
       "      <td>9066</td>\n",
       "    </tr>\n",
       "    <tr>\n",
       "      <th>Stanford</th>\n",
       "      <td>1360</td>\n",
       "      <td>36450</td>\n",
       "    </tr>\n",
       "    <tr>\n",
       "      <th>TexasA&amp;M</th>\n",
       "      <td>1075</td>\n",
       "      <td>8704</td>\n",
       "    </tr>\n",
       "    <tr>\n",
       "      <th>UCBerkeley</th>\n",
       "      <td>1240</td>\n",
       "      <td>15140</td>\n",
       "    </tr>\n",
       "    <tr>\n",
       "      <th>UChicago</th>\n",
       "      <td>1290</td>\n",
       "      <td>38380</td>\n",
       "    </tr>\n",
       "    <tr>\n",
       "      <th>UMichigan</th>\n",
       "      <td>1180</td>\n",
       "      <td>15470</td>\n",
       "    </tr>\n",
       "    <tr>\n",
       "      <th>UPenn</th>\n",
       "      <td>1285</td>\n",
       "      <td>27553</td>\n",
       "    </tr>\n",
       "    <tr>\n",
       "      <th>UVA</th>\n",
       "      <td>1225</td>\n",
       "      <td>13349</td>\n",
       "    </tr>\n",
       "    <tr>\n",
       "      <th>UWisconsin</th>\n",
       "      <td>1085</td>\n",
       "      <td>11857</td>\n",
       "    </tr>\n",
       "    <tr>\n",
       "      <th>Yale</th>\n",
       "      <td>1375</td>\n",
       "      <td>43514</td>\n",
       "    </tr>\n",
       "  </tbody>\n",
       "</table>\n",
       "</div>"
      ],
      "text/plain": [
       "               SAT  Expenses\n",
       "Univ                        \n",
       "Brown         1310     22704\n",
       "CalTech       1415     63575\n",
       "CMU           1260     25026\n",
       "Columbia      1310     31510\n",
       "Cornell       1280     21864\n",
       "Dartmouth     1340     32162\n",
       "Duke          1315     31585\n",
       "Georgetown    1255     20126\n",
       "Harvard       1400     39525\n",
       "JohnsHopkins  1305     58691\n",
       "MIT           1380     34870\n",
       "Northwestern  1260     28052\n",
       "NotreDame     1255     15122\n",
       "PennState     1081     10185\n",
       "Princeton     1375     30220\n",
       "Purdue        1005      9066\n",
       "Stanford      1360     36450\n",
       "TexasA&M      1075      8704\n",
       "UCBerkeley    1240     15140\n",
       "UChicago      1290     38380\n",
       "UMichigan     1180     15470\n",
       "UPenn         1285     27553\n",
       "UVA           1225     13349\n",
       "UWisconsin    1085     11857\n",
       "Yale          1375     43514"
      ]
     },
     "execution_count": 56,
     "metadata": {},
     "output_type": "execute_result"
    }
   ],
   "source": [
    "udf[['SAT','Expenses']]"
   ]
  },
  {
   "cell_type": "markdown",
   "id": "9bf95ef7",
   "metadata": {},
   "source": [
    "#### 3.Access The specific columns for a particular row by it's location in index and columns list using iloc()"
   ]
  },
  {
   "cell_type": "code",
   "execution_count": 59,
   "id": "644a0cd7",
   "metadata": {},
   "outputs": [
    {
     "data": {
      "text/plain": [
       "Accept      59\n",
       "SFRatio      9\n",
       "GradRate    72\n",
       "Name: CMU, dtype: int64"
      ]
     },
     "execution_count": 59,
     "metadata": {},
     "output_type": "execute_result"
    }
   ],
   "source": [
    "udf.iloc[2,[2,3,5]]"
   ]
  },
  {
   "cell_type": "markdown",
   "id": "ab7c5f05",
   "metadata": {},
   "source": [
    "#### 4.Access Specific specific rows and columns by its position using ' iloc() '"
   ]
  },
  {
   "cell_type": "code",
   "execution_count": 60,
   "id": "5920c0bd",
   "metadata": {},
   "outputs": [
    {
     "data": {
      "text/html": [
       "<div>\n",
       "<style scoped>\n",
       "    .dataframe tbody tr th:only-of-type {\n",
       "        vertical-align: middle;\n",
       "    }\n",
       "\n",
       "    .dataframe tbody tr th {\n",
       "        vertical-align: top;\n",
       "    }\n",
       "\n",
       "    .dataframe thead th {\n",
       "        text-align: right;\n",
       "    }\n",
       "</style>\n",
       "<table border=\"1\" class=\"dataframe\">\n",
       "  <thead>\n",
       "    <tr style=\"text-align: right;\">\n",
       "      <th></th>\n",
       "      <th>Accept</th>\n",
       "      <th>SFRatio</th>\n",
       "      <th>GradRate</th>\n",
       "    </tr>\n",
       "    <tr>\n",
       "      <th>Univ</th>\n",
       "      <th></th>\n",
       "      <th></th>\n",
       "      <th></th>\n",
       "    </tr>\n",
       "  </thead>\n",
       "  <tbody>\n",
       "    <tr>\n",
       "      <th>CMU</th>\n",
       "      <td>59</td>\n",
       "      <td>9</td>\n",
       "      <td>72</td>\n",
       "    </tr>\n",
       "    <tr>\n",
       "      <th>Columbia</th>\n",
       "      <td>24</td>\n",
       "      <td>12</td>\n",
       "      <td>88</td>\n",
       "    </tr>\n",
       "    <tr>\n",
       "      <th>Cornell</th>\n",
       "      <td>33</td>\n",
       "      <td>13</td>\n",
       "      <td>90</td>\n",
       "    </tr>\n",
       "  </tbody>\n",
       "</table>\n",
       "</div>"
      ],
      "text/plain": [
       "          Accept  SFRatio  GradRate\n",
       "Univ                               \n",
       "CMU           59        9        72\n",
       "Columbia      24       12        88\n",
       "Cornell       33       13        90"
      ]
     },
     "execution_count": 60,
     "metadata": {},
     "output_type": "execute_result"
    }
   ],
   "source": [
    "udf.iloc[[2,3,4],[2,3,5]]"
   ]
  },
  {
   "cell_type": "markdown",
   "id": "1f6bcd05",
   "metadata": {},
   "source": [
    "#### 5.Access specific columns for all the entries in the DataFrame"
   ]
  },
  {
   "cell_type": "code",
   "execution_count": 58,
   "id": "c72927b3",
   "metadata": {},
   "outputs": [
    {
     "data": {
      "text/html": [
       "<div>\n",
       "<style scoped>\n",
       "    .dataframe tbody tr th:only-of-type {\n",
       "        vertical-align: middle;\n",
       "    }\n",
       "\n",
       "    .dataframe tbody tr th {\n",
       "        vertical-align: top;\n",
       "    }\n",
       "\n",
       "    .dataframe thead th {\n",
       "        text-align: right;\n",
       "    }\n",
       "</style>\n",
       "<table border=\"1\" class=\"dataframe\">\n",
       "  <thead>\n",
       "    <tr style=\"text-align: right;\">\n",
       "      <th></th>\n",
       "      <th>Accept</th>\n",
       "      <th>SFRatio</th>\n",
       "      <th>GradRate</th>\n",
       "    </tr>\n",
       "    <tr>\n",
       "      <th>Univ</th>\n",
       "      <th></th>\n",
       "      <th></th>\n",
       "      <th></th>\n",
       "    </tr>\n",
       "  </thead>\n",
       "  <tbody>\n",
       "    <tr>\n",
       "      <th>Brown</th>\n",
       "      <td>22</td>\n",
       "      <td>13</td>\n",
       "      <td>94</td>\n",
       "    </tr>\n",
       "    <tr>\n",
       "      <th>CalTech</th>\n",
       "      <td>25</td>\n",
       "      <td>6</td>\n",
       "      <td>81</td>\n",
       "    </tr>\n",
       "    <tr>\n",
       "      <th>CMU</th>\n",
       "      <td>59</td>\n",
       "      <td>9</td>\n",
       "      <td>72</td>\n",
       "    </tr>\n",
       "    <tr>\n",
       "      <th>Columbia</th>\n",
       "      <td>24</td>\n",
       "      <td>12</td>\n",
       "      <td>88</td>\n",
       "    </tr>\n",
       "    <tr>\n",
       "      <th>Cornell</th>\n",
       "      <td>33</td>\n",
       "      <td>13</td>\n",
       "      <td>90</td>\n",
       "    </tr>\n",
       "    <tr>\n",
       "      <th>Dartmouth</th>\n",
       "      <td>23</td>\n",
       "      <td>10</td>\n",
       "      <td>95</td>\n",
       "    </tr>\n",
       "    <tr>\n",
       "      <th>Duke</th>\n",
       "      <td>30</td>\n",
       "      <td>12</td>\n",
       "      <td>95</td>\n",
       "    </tr>\n",
       "    <tr>\n",
       "      <th>Georgetown</th>\n",
       "      <td>24</td>\n",
       "      <td>12</td>\n",
       "      <td>92</td>\n",
       "    </tr>\n",
       "    <tr>\n",
       "      <th>Harvard</th>\n",
       "      <td>14</td>\n",
       "      <td>11</td>\n",
       "      <td>97</td>\n",
       "    </tr>\n",
       "    <tr>\n",
       "      <th>JohnsHopkins</th>\n",
       "      <td>44</td>\n",
       "      <td>7</td>\n",
       "      <td>87</td>\n",
       "    </tr>\n",
       "    <tr>\n",
       "      <th>MIT</th>\n",
       "      <td>30</td>\n",
       "      <td>10</td>\n",
       "      <td>91</td>\n",
       "    </tr>\n",
       "    <tr>\n",
       "      <th>Northwestern</th>\n",
       "      <td>39</td>\n",
       "      <td>11</td>\n",
       "      <td>89</td>\n",
       "    </tr>\n",
       "    <tr>\n",
       "      <th>NotreDame</th>\n",
       "      <td>42</td>\n",
       "      <td>13</td>\n",
       "      <td>94</td>\n",
       "    </tr>\n",
       "    <tr>\n",
       "      <th>PennState</th>\n",
       "      <td>54</td>\n",
       "      <td>18</td>\n",
       "      <td>80</td>\n",
       "    </tr>\n",
       "    <tr>\n",
       "      <th>Princeton</th>\n",
       "      <td>14</td>\n",
       "      <td>8</td>\n",
       "      <td>95</td>\n",
       "    </tr>\n",
       "    <tr>\n",
       "      <th>Purdue</th>\n",
       "      <td>90</td>\n",
       "      <td>19</td>\n",
       "      <td>69</td>\n",
       "    </tr>\n",
       "    <tr>\n",
       "      <th>Stanford</th>\n",
       "      <td>20</td>\n",
       "      <td>12</td>\n",
       "      <td>93</td>\n",
       "    </tr>\n",
       "    <tr>\n",
       "      <th>TexasA&amp;M</th>\n",
       "      <td>67</td>\n",
       "      <td>25</td>\n",
       "      <td>67</td>\n",
       "    </tr>\n",
       "    <tr>\n",
       "      <th>UCBerkeley</th>\n",
       "      <td>40</td>\n",
       "      <td>17</td>\n",
       "      <td>78</td>\n",
       "    </tr>\n",
       "    <tr>\n",
       "      <th>UChicago</th>\n",
       "      <td>50</td>\n",
       "      <td>13</td>\n",
       "      <td>87</td>\n",
       "    </tr>\n",
       "    <tr>\n",
       "      <th>UMichigan</th>\n",
       "      <td>68</td>\n",
       "      <td>16</td>\n",
       "      <td>85</td>\n",
       "    </tr>\n",
       "    <tr>\n",
       "      <th>UPenn</th>\n",
       "      <td>36</td>\n",
       "      <td>11</td>\n",
       "      <td>90</td>\n",
       "    </tr>\n",
       "    <tr>\n",
       "      <th>UVA</th>\n",
       "      <td>44</td>\n",
       "      <td>14</td>\n",
       "      <td>92</td>\n",
       "    </tr>\n",
       "    <tr>\n",
       "      <th>UWisconsin</th>\n",
       "      <td>69</td>\n",
       "      <td>15</td>\n",
       "      <td>71</td>\n",
       "    </tr>\n",
       "    <tr>\n",
       "      <th>Yale</th>\n",
       "      <td>19</td>\n",
       "      <td>11</td>\n",
       "      <td>96</td>\n",
       "    </tr>\n",
       "  </tbody>\n",
       "</table>\n",
       "</div>"
      ],
      "text/plain": [
       "              Accept  SFRatio  GradRate\n",
       "Univ                                   \n",
       "Brown             22       13        94\n",
       "CalTech           25        6        81\n",
       "CMU               59        9        72\n",
       "Columbia          24       12        88\n",
       "Cornell           33       13        90\n",
       "Dartmouth         23       10        95\n",
       "Duke              30       12        95\n",
       "Georgetown        24       12        92\n",
       "Harvard           14       11        97\n",
       "JohnsHopkins      44        7        87\n",
       "MIT               30       10        91\n",
       "Northwestern      39       11        89\n",
       "NotreDame         42       13        94\n",
       "PennState         54       18        80\n",
       "Princeton         14        8        95\n",
       "Purdue            90       19        69\n",
       "Stanford          20       12        93\n",
       "TexasA&M          67       25        67\n",
       "UCBerkeley        40       17        78\n",
       "UChicago          50       13        87\n",
       "UMichigan         68       16        85\n",
       "UPenn             36       11        90\n",
       "UVA               44       14        92\n",
       "UWisconsin        69       15        71\n",
       "Yale              19       11        96"
      ]
     },
     "execution_count": 58,
     "metadata": {},
     "output_type": "execute_result"
    }
   ],
   "source": [
    "udf.iloc[:,[2,3,5]]"
   ]
  },
  {
   "cell_type": "markdown",
   "id": "428261ad",
   "metadata": {},
   "source": [
    "### 6.access all the entries for a single column by column position usng iloc "
   ]
  },
  {
   "cell_type": "code",
   "execution_count": 61,
   "id": "4d8b7974",
   "metadata": {
    "scrolled": true
   },
   "outputs": [
    {
     "data": {
      "text/plain": [
       "Univ\n",
       "Brown           22\n",
       "CalTech         25\n",
       "CMU             59\n",
       "Columbia        24\n",
       "Cornell         33\n",
       "Dartmouth       23\n",
       "Duke            30\n",
       "Georgetown      24\n",
       "Harvard         14\n",
       "JohnsHopkins    44\n",
       "MIT             30\n",
       "Northwestern    39\n",
       "NotreDame       42\n",
       "PennState       54\n",
       "Princeton       14\n",
       "Purdue          90\n",
       "Stanford        20\n",
       "TexasA&M        67\n",
       "UCBerkeley      40\n",
       "UChicago        50\n",
       "UMichigan       68\n",
       "UPenn           36\n",
       "UVA             44\n",
       "UWisconsin      69\n",
       "Yale            19\n",
       "Name: Accept, dtype: int64"
      ]
     },
     "execution_count": 61,
     "metadata": {},
     "output_type": "execute_result"
    }
   ],
   "source": [
    "udf.iloc[:,2]"
   ]
  },
  {
   "cell_type": "markdown",
   "id": "ff7738a0",
   "metadata": {},
   "source": [
    "## Cleaning Data\n",
    "1. Look for Null Value\n",
    "-- Ways handling null value\n",
    "\n",
    "\n",
    "a. Delete nulls :- Last option\n",
    "\n",
    "\n",
    "b. Imputation :- Replacing Nulls \n",
    "How to handle 'null' values, generally\n",
    "- for numerical value replace it with 'average' values\n",
    "- for categorical values replace it with 'mode' values i.e.Most Probable Values\n",
    "2. Look for Duplicates Value\n",
    "3. Rename column\n",
    "4. Change Data Types"
   ]
  },
  {
   "cell_type": "markdown",
   "id": "6e73df54",
   "metadata": {},
   "source": [
    "### Handling Null"
   ]
  },
  {
   "cell_type": "markdown",
   "id": "39c69a63",
   "metadata": {},
   "source": [
    "### In Pandas to use null we have to use np.nan"
   ]
  },
  {
   "cell_type": "code",
   "execution_count": null,
   "id": "da390b41",
   "metadata": {},
   "outputs": [],
   "source": [
    "dnull = [[1,2,3,'M',7],[np.nan,6,7,8,8],[np.nan,5,6,'M',7],\n",
    "         [8,np.nan,9,'F',10],[np.nan,np.nan,np.nan,'M',11]\n",
    "        ]"
   ]
  },
  {
   "cell_type": "code",
   "execution_count": null,
   "id": "289ef32b",
   "metadata": {},
   "outputs": [],
   "source": [
    "dframe = pd.DataFrame(dnull,columns = ['a','b','c','d','e'])"
   ]
  },
  {
   "cell_type": "code",
   "execution_count": null,
   "id": "d34ee0f5",
   "metadata": {},
   "outputs": [],
   "source": [
    "dframe"
   ]
  },
  {
   "cell_type": "markdown",
   "id": "f7e00787",
   "metadata": {},
   "source": [
    "### Drop records with null values"
   ]
  },
  {
   "cell_type": "markdown",
   "id": "8cc90216",
   "metadata": {},
   "source": [
    "#### Default drop 'na' is along the row "
   ]
  },
  {
   "cell_type": "code",
   "execution_count": null,
   "id": "895136a7",
   "metadata": {},
   "outputs": [],
   "source": [
    "dframe.dropna()"
   ]
  },
  {
   "cell_type": "markdown",
   "id": "e5a8a9f8",
   "metadata": {},
   "source": [
    "#### To drop along columns we have to specify axis = 1"
   ]
  },
  {
   "cell_type": "code",
   "execution_count": null,
   "id": "5ba78113",
   "metadata": {},
   "outputs": [],
   "source": [
    "dframe.dropna(axis = 1)"
   ]
  },
  {
   "cell_type": "markdown",
   "id": "1b205ae7",
   "metadata": {},
   "source": [
    "## To Change orignal data Frame we have to use (inplace = True)"
   ]
  },
  {
   "cell_type": "code",
   "execution_count": null,
   "id": "9d45d4bd",
   "metadata": {},
   "outputs": [],
   "source": [
    "dframe.dropna(axis = 1, inplace = True)"
   ]
  },
  {
   "cell_type": "code",
   "execution_count": null,
   "id": "7cd34da5",
   "metadata": {},
   "outputs": [],
   "source": [
    "dframe"
   ]
  },
  {
   "cell_type": "markdown",
   "id": "a7888f17",
   "metadata": {},
   "source": [
    "### To have both the orignal DataFrame and DataFrame with dropped null value"
   ]
  },
  {
   "cell_type": "code",
   "execution_count": null,
   "id": "e484dca1",
   "metadata": {},
   "outputs": [],
   "source": [
    "dframe = pd.DataFrame(dnull, columns = ['a','b','c','d','e'])"
   ]
  },
  {
   "cell_type": "code",
   "execution_count": null,
   "id": "3d890551",
   "metadata": {},
   "outputs": [],
   "source": [
    "dnona = dframe.dropna()"
   ]
  },
  {
   "cell_type": "code",
   "execution_count": null,
   "id": "2713ef36",
   "metadata": {},
   "outputs": [],
   "source": [
    "dframe"
   ]
  },
  {
   "cell_type": "code",
   "execution_count": null,
   "id": "9439c6ab",
   "metadata": {},
   "outputs": [],
   "source": [
    "dnona"
   ]
  },
  {
   "cell_type": "markdown",
   "id": "cead79c3",
   "metadata": {},
   "source": [
    "## Replace null Values"
   ]
  },
  {
   "cell_type": "markdown",
   "id": "dab8c8dd",
   "metadata": {},
   "source": [
    "### 1.Rarely Used"
   ]
  },
  {
   "cell_type": "code",
   "execution_count": null,
   "id": "7f52e60a",
   "metadata": {},
   "outputs": [],
   "source": [
    "dframe.fillna(0)"
   ]
  },
  {
   "cell_type": "markdown",
   "id": "3cee7e3c",
   "metadata": {},
   "source": [
    "### use Dictionary to replace column specific null value"
   ]
  },
  {
   "cell_type": "code",
   "execution_count": null,
   "id": "ceb13019",
   "metadata": {},
   "outputs": [],
   "source": [
    "dframe.fillna(\n",
    "    {'a':10,'b':100,'c':1000,'e':10000}\n",
    ")"
   ]
  },
  {
   "cell_type": "markdown",
   "id": "c6516a59",
   "metadata": {},
   "source": [
    "### Use mean() for numerical columns"
   ]
  },
  {
   "cell_type": "code",
   "execution_count": null,
   "id": "29fd95be",
   "metadata": {},
   "outputs": [],
   "source": [
    "avg_a = dframe['a'].mean()"
   ]
  },
  {
   "cell_type": "code",
   "execution_count": null,
   "id": "ec424057",
   "metadata": {},
   "outputs": [],
   "source": [
    "avg_b = dframe['b'].mean()"
   ]
  },
  {
   "cell_type": "code",
   "execution_count": null,
   "id": "933f31e5",
   "metadata": {},
   "outputs": [],
   "source": [
    "avg_c = dframe['c'].mean()"
   ]
  },
  {
   "cell_type": "code",
   "execution_count": null,
   "id": "6b93155f",
   "metadata": {},
   "outputs": [],
   "source": [
    "avg_a,avg_b,avg_c"
   ]
  },
  {
   "cell_type": "code",
   "execution_count": null,
   "id": "27731a3c",
   "metadata": {},
   "outputs": [],
   "source": [
    "dframe.fillna(\n",
    "    {'a':avg_a,'b':avg_b,'c':avg_c}\n",
    ")"
   ]
  },
  {
   "cell_type": "markdown",
   "id": "244cd0dd",
   "metadata": {},
   "source": [
    "### Use mode() - most frequently occuring for character column"
   ]
  },
  {
   "cell_type": "code",
   "execution_count": null,
   "id": "73376e85",
   "metadata": {},
   "outputs": [],
   "source": [
    "dframe['d'].mode()"
   ]
  },
  {
   "cell_type": "code",
   "execution_count": null,
   "id": "7899405b",
   "metadata": {},
   "outputs": [],
   "source": [
    "mode_d = dframe['d'].mode()[0]"
   ]
  },
  {
   "cell_type": "code",
   "execution_count": null,
   "id": "d43e64ee",
   "metadata": {},
   "outputs": [],
   "source": [
    "dframe.fillna(\n",
    "    {'d':mode_d},\n",
    "    #inplace=True\n",
    ")"
   ]
  },
  {
   "cell_type": "markdown",
   "id": "7472360d",
   "metadata": {},
   "source": [
    "## Droping a Column -- Label has to be specified "
   ]
  },
  {
   "cell_type": "code",
   "execution_count": null,
   "id": "d8a84cbe",
   "metadata": {},
   "outputs": [],
   "source": [
    "d1= [[1,2,3],[4,5,6],[7,8,9]]"
   ]
  },
  {
   "cell_type": "code",
   "execution_count": null,
   "id": "2cae8a3b",
   "metadata": {},
   "outputs": [],
   "source": [
    "df = pd.DataFrame(d1,columns = ['pop','year','num'], index = ['SF',\"LA\",\"NY\"])"
   ]
  },
  {
   "cell_type": "code",
   "execution_count": null,
   "id": "a19b5faf",
   "metadata": {},
   "outputs": [],
   "source": [
    "df"
   ]
  },
  {
   "cell_type": "markdown",
   "id": "5c9c7a15",
   "metadata": {},
   "source": [
    "### Drop row"
   ]
  },
  {
   "cell_type": "code",
   "execution_count": null,
   "id": "3ed27dcc",
   "metadata": {},
   "outputs": [],
   "source": [
    "df.drop('LA')"
   ]
  },
  {
   "cell_type": "markdown",
   "id": "04186db2",
   "metadata": {},
   "source": [
    "## Drop column"
   ]
  },
  {
   "cell_type": "code",
   "execution_count": null,
   "id": "c66f1343",
   "metadata": {},
   "outputs": [],
   "source": [
    "df.drop('year',axis = 1)"
   ]
  },
  {
   "cell_type": "markdown",
   "id": "2683dac6",
   "metadata": {},
   "source": [
    "### To make anyone of above permanent to DataFrame use \n",
    "(inplace = True)"
   ]
  },
  {
   "cell_type": "code",
   "execution_count": null,
   "id": "67f3d230",
   "metadata": {},
   "outputs": [],
   "source": [
    "df_withoutnull = df.copy()"
   ]
  },
  {
   "cell_type": "markdown",
   "id": "c7e86191",
   "metadata": {},
   "source": [
    "## Duplicates"
   ]
  },
  {
   "cell_type": "code",
   "execution_count": null,
   "id": "312f7ad9",
   "metadata": {},
   "outputs": [],
   "source": [
    "ddup = pd.DataFrame({'col1':['A','A','B','B','B'],'col2':[2,2,2,3,3]})"
   ]
  },
  {
   "cell_type": "code",
   "execution_count": null,
   "id": "251ff592",
   "metadata": {},
   "outputs": [],
   "source": [
    "ddup"
   ]
  },
  {
   "cell_type": "markdown",
   "id": "159470db",
   "metadata": {},
   "source": [
    "### Mark record Duplicate or Not"
   ]
  },
  {
   "cell_type": "code",
   "execution_count": null,
   "id": "2030dffa",
   "metadata": {},
   "outputs": [],
   "source": [
    "ddup.duplicated()"
   ]
  },
  {
   "cell_type": "markdown",
   "id": "6f440c0d",
   "metadata": {},
   "source": [
    "## Drops the Duplicates"
   ]
  },
  {
   "cell_type": "code",
   "execution_count": null,
   "id": "a6f683fd",
   "metadata": {},
   "outputs": [],
   "source": [
    "ddup.drop_duplicates()"
   ]
  },
  {
   "cell_type": "markdown",
   "id": "a3000634",
   "metadata": {},
   "source": [
    "### inplace modification"
   ]
  },
  {
   "cell_type": "code",
   "execution_count": null,
   "id": "d812726c",
   "metadata": {},
   "outputs": [],
   "source": [
    "ddup.drop_duplicates(inplace = True)"
   ]
  },
  {
   "cell_type": "code",
   "execution_count": null,
   "id": "61b79daa",
   "metadata": {},
   "outputs": [],
   "source": [
    "ddup"
   ]
  },
  {
   "cell_type": "markdown",
   "id": "d0199677",
   "metadata": {},
   "source": [
    "### Rename Columns"
   ]
  },
  {
   "cell_type": "code",
   "execution_count": null,
   "id": "7cbb497f",
   "metadata": {},
   "outputs": [],
   "source": [
    "df = pd.DataFrame(d1,columns = ['pop','year','num'], index = ['SF',\"LA\",\"NY\"])"
   ]
  },
  {
   "cell_type": "code",
   "execution_count": null,
   "id": "d5335ad8",
   "metadata": {},
   "outputs": [],
   "source": [
    "df.rename(columns = {'pop':'popu','num':'count'},inplace=True)"
   ]
  },
  {
   "cell_type": "code",
   "execution_count": null,
   "id": "946647fe",
   "metadata": {},
   "outputs": [],
   "source": [
    "df"
   ]
  },
  {
   "cell_type": "markdown",
   "id": "17d34eed",
   "metadata": {},
   "source": [
    "# Data Analysis"
   ]
  },
  {
   "cell_type": "code",
   "execution_count": null,
   "id": "87c56332",
   "metadata": {},
   "outputs": [],
   "source": [
    "d1 = [[1,2,3],[4,5,6]]"
   ]
  },
  {
   "cell_type": "code",
   "execution_count": null,
   "id": "236c62e6",
   "metadata": {},
   "outputs": [],
   "source": [
    "df1 = pd.DataFrame(d1,columns = ['a','b','c'])"
   ]
  },
  {
   "cell_type": "code",
   "execution_count": null,
   "id": "03a06583",
   "metadata": {},
   "outputs": [],
   "source": [
    "df1"
   ]
  },
  {
   "cell_type": "code",
   "execution_count": null,
   "id": "5bcd5234",
   "metadata": {},
   "outputs": [],
   "source": [
    "d2 = [[10,20,30],[40,50,60]]"
   ]
  },
  {
   "cell_type": "code",
   "execution_count": null,
   "id": "3b22bc28",
   "metadata": {},
   "outputs": [],
   "source": [
    "df2 = pd.DataFrame(d2,columns = ['e','f','g'])"
   ]
  },
  {
   "cell_type": "code",
   "execution_count": null,
   "id": "e1d72538",
   "metadata": {},
   "outputs": [],
   "source": [
    "df2"
   ]
  },
  {
   "cell_type": "code",
   "execution_count": null,
   "id": "1648c2d2",
   "metadata": {},
   "outputs": [],
   "source": [
    "d3 = [[110,220,330],[440,550,660]]"
   ]
  },
  {
   "cell_type": "code",
   "execution_count": null,
   "id": "c6d6a805",
   "metadata": {},
   "outputs": [],
   "source": [
    "df3 = pd.DataFrame(d3,columns = ['a','b','c'])"
   ]
  },
  {
   "cell_type": "code",
   "execution_count": null,
   "id": "e54cb86c",
   "metadata": {},
   "outputs": [],
   "source": [
    "df3"
   ]
  },
  {
   "cell_type": "markdown",
   "id": "a9cb4e9a",
   "metadata": {},
   "source": [
    "### concat()"
   ]
  },
  {
   "cell_type": "code",
   "execution_count": null,
   "id": "c5a6908e",
   "metadata": {},
   "outputs": [],
   "source": [
    "pd.concat((df1,df3))"
   ]
  },
  {
   "cell_type": "markdown",
   "id": "a8dec2dd",
   "metadata": {},
   "source": [
    "## join() :- equivalent to merge in Database (SqL)"
   ]
  },
  {
   "cell_type": "code",
   "execution_count": null,
   "id": "7998791e",
   "metadata": {},
   "outputs": [],
   "source": [
    "df1.join(df2)"
   ]
  },
  {
   "cell_type": "markdown",
   "id": "2d017463",
   "metadata": {},
   "source": [
    "# Merge()"
   ]
  },
  {
   "cell_type": "code",
   "execution_count": null,
   "id": "68842494",
   "metadata": {},
   "outputs": [],
   "source": [
    "d2 = {\n",
    "    'movieid':[1,2,3,4],\n",
    "    'name' : ['Tom','Tim','Jan','Jin'],\n",
    "    'movieid':[1,np.nan,3,5]\n",
    "    \n",
    "     }"
   ]
  },
  {
   "cell_type": "markdown",
   "id": "10a600a4",
   "metadata": {},
   "source": [
    "## Groupby()"
   ]
  },
  {
   "cell_type": "code",
   "execution_count": null,
   "id": "1a1dca60",
   "metadata": {},
   "outputs": [],
   "source": [
    "sal = pd.read_csv('datasets/Salaries.csv')"
   ]
  },
  {
   "cell_type": "code",
   "execution_count": null,
   "id": "209a6308",
   "metadata": {},
   "outputs": [],
   "source": [
    "sal.head()"
   ]
  },
  {
   "cell_type": "code",
   "execution_count": null,
   "id": "c6d0f34f",
   "metadata": {},
   "outputs": [],
   "source": [
    "sal['rank'].unique()"
   ]
  },
  {
   "cell_type": "code",
   "execution_count": null,
   "id": "0a62e721",
   "metadata": {},
   "outputs": [],
   "source": [
    "sal['rank'].value_counts()"
   ]
  },
  {
   "cell_type": "code",
   "execution_count": null,
   "id": "b3ab6920",
   "metadata": {},
   "outputs": [],
   "source": [
    "sal['sex'].value_counts()"
   ]
  },
  {
   "cell_type": "code",
   "execution_count": null,
   "id": "f88b3721",
   "metadata": {},
   "outputs": [],
   "source": [
    "grp = sal.groupby('rank')"
   ]
  },
  {
   "cell_type": "code",
   "execution_count": null,
   "id": "d9c5a531",
   "metadata": {},
   "outputs": [],
   "source": [
    "for x,y in grp:\n",
    "    print(x)\n",
    "    print('_'*50)"
   ]
  },
  {
   "cell_type": "code",
   "execution_count": null,
   "id": "daee4860",
   "metadata": {},
   "outputs": [],
   "source": [
    "for x,y in grp:\n",
    "    print(x)\n",
    "    print(y)\n",
    "    print('_'*55)"
   ]
  },
  {
   "cell_type": "code",
   "execution_count": null,
   "id": "6ebc603a",
   "metadata": {},
   "outputs": [],
   "source": [
    "grp.get_group('AssocProf')"
   ]
  },
  {
   "cell_type": "code",
   "execution_count": null,
   "id": "c99326a7",
   "metadata": {},
   "outputs": [],
   "source": [
    "grp.agg('mean').round(2)"
   ]
  },
  {
   "cell_type": "code",
   "execution_count": null,
   "id": "b05ac18c",
   "metadata": {},
   "outputs": [],
   "source": [
    "grp.agg('mean','min','max').round(2)"
   ]
  },
  {
   "cell_type": "code",
   "execution_count": null,
   "id": "2b90ce10",
   "metadata": {},
   "outputs": [],
   "source": [
    "sal_nr = sal[['rank','phd','salary','service']]"
   ]
  },
  {
   "cell_type": "code",
   "execution_count": null,
   "id": "d39af17d",
   "metadata": {},
   "outputs": [],
   "source": [
    "sal_nr.head()"
   ]
  },
  {
   "cell_type": "code",
   "execution_count": null,
   "id": "cf3f9933",
   "metadata": {},
   "outputs": [],
   "source": [
    "grp_nr =sal_nr.groupby('rank')"
   ]
  },
  {
   "cell_type": "code",
   "execution_count": null,
   "id": "361fb698",
   "metadata": {},
   "outputs": [],
   "source": [
    "grp_nr.agg('mean').round(2)"
   ]
  },
  {
   "cell_type": "code",
   "execution_count": null,
   "id": "3504ec3c",
   "metadata": {},
   "outputs": [],
   "source": [
    "grp_nr.agg('mean','min','max').round(2)"
   ]
  },
  {
   "cell_type": "markdown",
   "id": "c18bd542",
   "metadata": {},
   "source": [
    "## Sorting Records"
   ]
  },
  {
   "cell_type": "code",
   "execution_count": null,
   "id": "7d342dbc",
   "metadata": {},
   "outputs": [],
   "source": [
    "udf.head()"
   ]
  },
  {
   "cell_type": "code",
   "execution_count": null,
   "id": "9f845da3",
   "metadata": {},
   "outputs": [],
   "source": [
    "udf['Expenses']"
   ]
  },
  {
   "cell_type": "code",
   "execution_count": null,
   "id": "f7ff1d31",
   "metadata": {},
   "outputs": [],
   "source": [
    "udf['Expenses'].sort_values(ascending=False)"
   ]
  },
  {
   "cell_type": "code",
   "execution_count": null,
   "id": "8502f8bf",
   "metadata": {},
   "outputs": [],
   "source": [
    "udf['Expenses'].sort_index(ascending=False)"
   ]
  },
  {
   "cell_type": "code",
   "execution_count": null,
   "id": "0788be98",
   "metadata": {},
   "outputs": [],
   "source": [
    "udf.sort_values(by='Expenses', ascending = False)"
   ]
  },
  {
   "cell_type": "code",
   "execution_count": null,
   "id": "baed36fd",
   "metadata": {},
   "outputs": [],
   "source": [
    "sal.sort_values(['rank','sex'], ascending = [False,False])"
   ]
  },
  {
   "cell_type": "code",
   "execution_count": null,
   "id": "9ba3cf40",
   "metadata": {},
   "outputs": [],
   "source": []
  }
 ],
 "metadata": {
  "kernelspec": {
   "display_name": "Python 3 (ipykernel)",
   "language": "python",
   "name": "python3"
  },
  "language_info": {
   "codemirror_mode": {
    "name": "ipython",
    "version": 3
   },
   "file_extension": ".py",
   "mimetype": "text/x-python",
   "name": "python",
   "nbconvert_exporter": "python",
   "pygments_lexer": "ipython3",
   "version": "3.11.3"
  }
 },
 "nbformat": 4,
 "nbformat_minor": 5
}
